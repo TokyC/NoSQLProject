{
 "cells": [
  {
   "cell_type": "markdown",
   "metadata": {},
   "source": [
    "# <center> Reddit </center>"
   ]
  },
  {
   "cell_type": "markdown",
   "metadata": {},
   "source": [
    "This notebook aims to collect articles on reddit talking about crypto currency "
   ]
  },
  {
   "cell_type": "markdown",
   "metadata": {},
   "source": [
    "## Import of libraries "
   ]
  },
  {
   "cell_type": "code",
   "execution_count": 1,
   "metadata": {},
   "outputs": [],
   "source": [
    "import praw\n",
    "import pandas as pd"
   ]
  },
  {
   "cell_type": "markdown",
   "metadata": {},
   "source": [
    "# Algorithmes"
   ]
  },
  {
   "cell_type": "code",
   "execution_count": 2,
   "metadata": {},
   "outputs": [],
   "source": [
    "reddit = praw.Reddit(client_id=\"P_4F5vivJ4l-Fw\",#My client id\n",
    "                     client_secret=\"FGOVdro6W27fBX3m7ZhIPXjRoM0Zkw\",  #My client secret\n",
    "                     user_agent=\"recover_crypto\", #user agent name\n",
    "                     username = \"quentin_pierson\")     # your reddit username"
   ]
  },
  {
   "cell_type": "markdown",
   "metadata": {},
   "source": [
    "### Get the topic from the reddit"
   ]
  },
  {
   "cell_type": "code",
   "execution_count": 3,
   "metadata": {},
   "outputs": [],
   "source": [
    "subreddit = reddit.subreddit('CryptoCurrency')"
   ]
  },
  {
   "cell_type": "raw",
   "metadata": {},
   "source": [
    "Hot \n",
    "Top \n",
    "new"
   ]
  },
  {
   "cell_type": "code",
   "execution_count": 7,
   "metadata": {},
   "outputs": [],
   "source": [
    "top_subreddit = subreddit.hot(limit=300)"
   ]
  },
  {
   "cell_type": "code",
   "execution_count": 8,
   "metadata": {},
   "outputs": [],
   "source": [
    "topics_dict = { \"Title\":[], \n",
    "               \"Author\":[],\n",
    "                \"Score\":[], \n",
    "                \"Id\":[], \n",
    "                \"Url\":[], \n",
    "                \"Comms_num\": [], \n",
    "                \"Created\": [], \n",
    "                \"Body\":[]\n",
    "              }"
   ]
  },
  {
   "cell_type": "code",
   "execution_count": 9,
   "metadata": {},
   "outputs": [],
   "source": [
    "for submission in top_subreddit:\n",
    "    topics_dict[\"Title\"].append(submission.title)\n",
    "    topics_dict[\"Author\"].append(submission.author.name)\n",
    "    topics_dict[\"Score\"].append(submission.score)\n",
    "    topics_dict[\"Id\"].append(submission.id)\n",
    "    topics_dict[\"Url\"].append(submission.url)\n",
    "    topics_dict[\"Comms_num\"].append(submission.num_comments)\n",
    "    topics_dict[\"Created\"].append(submission.created)\n",
    "    topics_dict[\"Body\"].append(submission.selftext)"
   ]
  },
  {
   "cell_type": "code",
   "execution_count": 10,
   "metadata": {},
   "outputs": [],
   "source": [
    "topics_data = pd.DataFrame(topics_dict)"
   ]
  },
  {
   "cell_type": "markdown",
   "metadata": {},
   "source": [
    "## Add date to dataframe  "
   ]
  },
  {
   "cell_type": "code",
   "execution_count": 11,
   "metadata": {},
   "outputs": [],
   "source": [
    "def get_date(created):\n",
    "    return pd.datetime.fromtimestamp(created)"
   ]
  },
  {
   "cell_type": "code",
   "execution_count": 12,
   "metadata": {},
   "outputs": [
    {
     "name": "stderr",
     "output_type": "stream",
     "text": [
      "/Users/quentinpierson/env/lib/python3.7/site-packages/ipykernel_launcher.py:2: FutureWarning: The pandas.datetime class is deprecated and will be removed from pandas in a future version. Import from datetime module instead.\n",
      "  \n"
     ]
    }
   ],
   "source": [
    "_timestamp = topics_data[\"Created\"].apply(get_date)"
   ]
  },
  {
   "cell_type": "code",
   "execution_count": 13,
   "metadata": {},
   "outputs": [
    {
     "data": {
      "text/html": [
       "<div>\n",
       "<style scoped>\n",
       "    .dataframe tbody tr th:only-of-type {\n",
       "        vertical-align: middle;\n",
       "    }\n",
       "\n",
       "    .dataframe tbody tr th {\n",
       "        vertical-align: top;\n",
       "    }\n",
       "\n",
       "    .dataframe thead th {\n",
       "        text-align: right;\n",
       "    }\n",
       "</style>\n",
       "<table border=\"1\" class=\"dataframe\">\n",
       "  <thead>\n",
       "    <tr style=\"text-align: right;\">\n",
       "      <th></th>\n",
       "      <th>Title</th>\n",
       "      <th>Author</th>\n",
       "      <th>Score</th>\n",
       "      <th>Id</th>\n",
       "      <th>Url</th>\n",
       "      <th>Comms_num</th>\n",
       "      <th>Created</th>\n",
       "      <th>Body</th>\n",
       "      <th>timestamp</th>\n",
       "    </tr>\n",
       "  </thead>\n",
       "  <tbody>\n",
       "    <tr>\n",
       "      <th>0</th>\n",
       "      <td>Poor Russian Youtuber with 1.5M Subscribers Go...</td>\n",
       "      <td>Hachinicygf</td>\n",
       "      <td>2</td>\n",
       "      <td>mw9ncn</td>\n",
       "      <td>https://i.redd.it/ivbujczi5ru61.png</td>\n",
       "      <td>1</td>\n",
       "      <td>1.619140e+09</td>\n",
       "      <td></td>\n",
       "      <td>2021-04-23 03:14:09</td>\n",
       "    </tr>\n",
       "    <tr>\n",
       "      <th>1</th>\n",
       "      <td>Is Binance hard to acquire right now because t...</td>\n",
       "      <td>Jayddro</td>\n",
       "      <td>1</td>\n",
       "      <td>mw9ncm</td>\n",
       "      <td>https://www.reddit.com/r/CryptoCurrency/commen...</td>\n",
       "      <td>1</td>\n",
       "      <td>1.619140e+09</td>\n",
       "      <td>It seems weird to me that so many people are n...</td>\n",
       "      <td>2021-04-23 03:14:09</td>\n",
       "    </tr>\n",
       "    <tr>\n",
       "      <th>2</th>\n",
       "      <td>Solana is 300% up in last month and 4000% sinc...</td>\n",
       "      <td>kacperp</td>\n",
       "      <td>1</td>\n",
       "      <td>mw9n1w</td>\n",
       "      <td>https://www.reddit.com/r/CryptoCurrency/commen...</td>\n",
       "      <td>2</td>\n",
       "      <td>1.619140e+09</td>\n",
       "      <td>As i wrote in the title. Why is Solano not dis...</td>\n",
       "      <td>2021-04-23 03:13:46</td>\n",
       "    </tr>\n",
       "    <tr>\n",
       "      <th>3</th>\n",
       "      <td>The Most Likely Scenario for Bitcoin When the ...</td>\n",
       "      <td>sylsau</td>\n",
       "      <td>1</td>\n",
       "      <td>mw9n01</td>\n",
       "      <td>https://www.inbitcoinwetrust.net/the-most-like...</td>\n",
       "      <td>1</td>\n",
       "      <td>1.619140e+09</td>\n",
       "      <td></td>\n",
       "      <td>2021-04-23 03:13:43</td>\n",
       "    </tr>\n",
       "    <tr>\n",
       "      <th>4</th>\n",
       "      <td>Did I get ripped off?</td>\n",
       "      <td>Whatswrongnow7</td>\n",
       "      <td>1</td>\n",
       "      <td>mw9m09</td>\n",
       "      <td>https://www.reddit.com/r/CryptoCurrency/commen...</td>\n",
       "      <td>7</td>\n",
       "      <td>1.619140e+09</td>\n",
       "      <td>I withdrew $150 BTC from Phenex I was charged ...</td>\n",
       "      <td>2021-04-23 03:12:29</td>\n",
       "    </tr>\n",
       "    <tr>\n",
       "      <th>...</th>\n",
       "      <td>...</td>\n",
       "      <td>...</td>\n",
       "      <td>...</td>\n",
       "      <td>...</td>\n",
       "      <td>...</td>\n",
       "      <td>...</td>\n",
       "      <td>...</td>\n",
       "      <td>...</td>\n",
       "      <td>...</td>\n",
       "    </tr>\n",
       "    <tr>\n",
       "      <th>95</th>\n",
       "      <td>The Duality of Memecoins: PLEASE DIVERSIFY</td>\n",
       "      <td>IFearEars</td>\n",
       "      <td>7</td>\n",
       "      <td>mw7b6a</td>\n",
       "      <td>https://www.reddit.com/r/CryptoCurrency/commen...</td>\n",
       "      <td>23</td>\n",
       "      <td>1.619134e+09</td>\n",
       "      <td>As excited as I am to see many new investors e...</td>\n",
       "      <td>2021-04-23 01:29:48</td>\n",
       "    </tr>\n",
       "    <tr>\n",
       "      <th>96</th>\n",
       "      <td>Morgan Stanley Bitcoin Fund Draws $29.4M in 2 ...</td>\n",
       "      <td>9Oh8m8</td>\n",
       "      <td>9</td>\n",
       "      <td>mw7a67</td>\n",
       "      <td>https://www.coindesk.com/morgan-stanley-bitcoi...</td>\n",
       "      <td>5</td>\n",
       "      <td>1.619134e+09</td>\n",
       "      <td></td>\n",
       "      <td>2021-04-23 01:28:32</td>\n",
       "    </tr>\n",
       "    <tr>\n",
       "      <th>97</th>\n",
       "      <td>Venmo releases cryptocurrency trading on the p...</td>\n",
       "      <td>robot1717</td>\n",
       "      <td>5</td>\n",
       "      <td>mw79ka</td>\n",
       "      <td>https://digesttime.com/2021/04/21/venmo-releas...</td>\n",
       "      <td>10</td>\n",
       "      <td>1.619134e+09</td>\n",
       "      <td></td>\n",
       "      <td>2021-04-23 01:27:43</td>\n",
       "    </tr>\n",
       "    <tr>\n",
       "      <th>98</th>\n",
       "      <td>CoinMarketCap Earn and BinanceUS</td>\n",
       "      <td>JayCee1002</td>\n",
       "      <td>1</td>\n",
       "      <td>mw79bp</td>\n",
       "      <td>https://www.reddit.com/r/CryptoCurrency/commen...</td>\n",
       "      <td>4</td>\n",
       "      <td>1.619134e+09</td>\n",
       "      <td>I've seen a few people mention that they did t...</td>\n",
       "      <td>2021-04-23 01:27:25</td>\n",
       "    </tr>\n",
       "    <tr>\n",
       "      <th>99</th>\n",
       "      <td>Ethereum has raised its gas limit from 12M to 15M</td>\n",
       "      <td>TopWoodpecker7267</td>\n",
       "      <td>10</td>\n",
       "      <td>mw7845</td>\n",
       "      <td>https://etherscan.io/chart/gaslimit</td>\n",
       "      <td>14</td>\n",
       "      <td>1.619134e+09</td>\n",
       "      <td></td>\n",
       "      <td>2021-04-23 01:25:52</td>\n",
       "    </tr>\n",
       "  </tbody>\n",
       "</table>\n",
       "<p>100 rows × 9 columns</p>\n",
       "</div>"
      ],
      "text/plain": [
       "                                                Title             Author  \\\n",
       "0   Poor Russian Youtuber with 1.5M Subscribers Go...        Hachinicygf   \n",
       "1   Is Binance hard to acquire right now because t...            Jayddro   \n",
       "2   Solana is 300% up in last month and 4000% sinc...            kacperp   \n",
       "3   The Most Likely Scenario for Bitcoin When the ...             sylsau   \n",
       "4                               Did I get ripped off?     Whatswrongnow7   \n",
       "..                                                ...                ...   \n",
       "95         The Duality of Memecoins: PLEASE DIVERSIFY          IFearEars   \n",
       "96  Morgan Stanley Bitcoin Fund Draws $29.4M in 2 ...             9Oh8m8   \n",
       "97  Venmo releases cryptocurrency trading on the p...          robot1717   \n",
       "98                   CoinMarketCap Earn and BinanceUS         JayCee1002   \n",
       "99  Ethereum has raised its gas limit from 12M to 15M  TopWoodpecker7267   \n",
       "\n",
       "    Score      Id                                                Url  \\\n",
       "0       2  mw9ncn                https://i.redd.it/ivbujczi5ru61.png   \n",
       "1       1  mw9ncm  https://www.reddit.com/r/CryptoCurrency/commen...   \n",
       "2       1  mw9n1w  https://www.reddit.com/r/CryptoCurrency/commen...   \n",
       "3       1  mw9n01  https://www.inbitcoinwetrust.net/the-most-like...   \n",
       "4       1  mw9m09  https://www.reddit.com/r/CryptoCurrency/commen...   \n",
       "..    ...     ...                                                ...   \n",
       "95      7  mw7b6a  https://www.reddit.com/r/CryptoCurrency/commen...   \n",
       "96      9  mw7a67  https://www.coindesk.com/morgan-stanley-bitcoi...   \n",
       "97      5  mw79ka  https://digesttime.com/2021/04/21/venmo-releas...   \n",
       "98      1  mw79bp  https://www.reddit.com/r/CryptoCurrency/commen...   \n",
       "99     10  mw7845                https://etherscan.io/chart/gaslimit   \n",
       "\n",
       "    Comms_num       Created  \\\n",
       "0           1  1.619140e+09   \n",
       "1           1  1.619140e+09   \n",
       "2           2  1.619140e+09   \n",
       "3           1  1.619140e+09   \n",
       "4           7  1.619140e+09   \n",
       "..        ...           ...   \n",
       "95         23  1.619134e+09   \n",
       "96          5  1.619134e+09   \n",
       "97         10  1.619134e+09   \n",
       "98          4  1.619134e+09   \n",
       "99         14  1.619134e+09   \n",
       "\n",
       "                                                 Body           timestamp  \n",
       "0                                                     2021-04-23 03:14:09  \n",
       "1   It seems weird to me that so many people are n... 2021-04-23 03:14:09  \n",
       "2   As i wrote in the title. Why is Solano not dis... 2021-04-23 03:13:46  \n",
       "3                                                     2021-04-23 03:13:43  \n",
       "4   I withdrew $150 BTC from Phenex I was charged ... 2021-04-23 03:12:29  \n",
       "..                                                ...                 ...  \n",
       "95  As excited as I am to see many new investors e... 2021-04-23 01:29:48  \n",
       "96                                                    2021-04-23 01:28:32  \n",
       "97                                                    2021-04-23 01:27:43  \n",
       "98  I've seen a few people mention that they did t... 2021-04-23 01:27:25  \n",
       "99                                                    2021-04-23 01:25:52  \n",
       "\n",
       "[100 rows x 9 columns]"
      ]
     },
     "execution_count": 13,
     "metadata": {},
     "output_type": "execute_result"
    }
   ],
   "source": [
    "topics_data = topics_data.assign(timestamp = _timestamp)\n",
    "topics_data"
   ]
  }
 ],
 "metadata": {
  "kernelspec": {
   "display_name": "Python 3",
   "language": "python",
   "name": "python3"
  },
  "language_info": {
   "codemirror_mode": {
    "name": "ipython",
    "version": 3
   },
   "file_extension": ".py",
   "mimetype": "text/x-python",
   "name": "python",
   "nbconvert_exporter": "python",
   "pygments_lexer": "ipython3",
   "version": "3.7.4"
  }
 },
 "nbformat": 4,
 "nbformat_minor": 4
}
