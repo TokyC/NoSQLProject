{
 "cells": [
  {
   "cell_type": "markdown",
   "metadata": {},
   "source": [
    "# <center> Reddit </center>"
   ]
  },
  {
   "cell_type": "markdown",
   "metadata": {},
   "source": [
    "This notebook aims to collect articles on reddit talking about crypto currency "
   ]
  },
  {
   "cell_type": "markdown",
   "metadata": {},
   "source": [
    "## Import of libraries "
   ]
  },
  {
   "cell_type": "code",
   "execution_count": 1,
   "metadata": {},
   "outputs": [],
   "source": [
    "import praw\n",
    "import pandas as pd"
   ]
  },
  {
   "cell_type": "markdown",
   "metadata": {},
   "source": [
    "# Algorithmes"
   ]
  },
  {
   "cell_type": "code",
   "execution_count": 2,
   "metadata": {},
   "outputs": [],
   "source": [
    "reddit = praw.Reddit(client_id=\"P_4F5vivJ4l-Fw\",#My client id\n",
    "                     client_secret=\"FGOVdro6W27fBX3m7ZhIPXjRoM0Zkw\",  #My client secret\n",
    "                     user_agent=\"recover_crypto\", #user agent name\n",
    "                     username = \"quentin_pierson\")     # your reddit username"
   ]
  },
  {
   "cell_type": "markdown",
   "metadata": {},
   "source": [
    "### Get the topic from the reddit"
   ]
  },
  {
   "cell_type": "code",
   "execution_count": 3,
   "metadata": {},
   "outputs": [],
   "source": [
    "subreddit = reddit.subreddit('CryptoCurrency')"
   ]
  },
  {
   "cell_type": "code",
   "execution_count": 4,
   "metadata": {},
   "outputs": [],
   "source": [
    "top_subreddit = subreddit.hot(limit=100)"
   ]
  },
  {
   "cell_type": "code",
   "execution_count": 5,
   "metadata": {},
   "outputs": [],
   "source": [
    "topics_dict = { \"Title\":[], \n",
    "               \"Author\":[],\n",
    "                \"Score\":[], \n",
    "                \"Id\":[], \n",
    "                \"Url\":[], \n",
    "                \"Comms_num\": [], \n",
    "                \"Created\": [], \n",
    "                \"Body\":[]\n",
    "              }"
   ]
  },
  {
   "cell_type": "code",
   "execution_count": 6,
   "metadata": {},
   "outputs": [],
   "source": [
    "for submission in top_subreddit:\n",
    "    topics_dict[\"Title\"].append(submission.title)\n",
    "    topics_dict[\"Author\"].append(submission.author)\n",
    "    topics_dict[\"Score\"].append(submission.score)\n",
    "    topics_dict[\"Id\"].append(submission.id)\n",
    "    topics_dict[\"Url\"].append(submission.url)\n",
    "    topics_dict[\"Comms_num\"].append(submission.num_comments)\n",
    "    topics_dict[\"Created\"].append(submission.created)\n",
    "    topics_dict[\"Body\"].append(submission.selftext)"
   ]
  },
  {
   "cell_type": "code",
   "execution_count": 7,
   "metadata": {},
   "outputs": [],
   "source": [
    "topics_data = pd.DataFrame(topics_dict)"
   ]
  },
  {
   "cell_type": "markdown",
   "metadata": {},
   "source": [
    "## Add date to dataframe  "
   ]
  },
  {
   "cell_type": "code",
   "execution_count": 8,
   "metadata": {},
   "outputs": [],
   "source": [
    "def get_date(created):\n",
    "    return pd.datetime.fromtimestamp(created)"
   ]
  },
  {
   "cell_type": "code",
   "execution_count": 9,
   "metadata": {},
   "outputs": [
    {
     "name": "stderr",
     "output_type": "stream",
     "text": [
      "/Users/quentinpierson/env/lib/python3.7/site-packages/ipykernel_launcher.py:2: FutureWarning: The pandas.datetime class is deprecated and will be removed from pandas in a future version. Import from datetime module instead.\n",
      "  \n"
     ]
    }
   ],
   "source": [
    "_timestamp = topics_data[\"Created\"].apply(get_date)"
   ]
  },
  {
   "cell_type": "code",
   "execution_count": 10,
   "metadata": {},
   "outputs": [
    {
     "data": {
      "text/html": [
       "<div>\n",
       "<style scoped>\n",
       "    .dataframe tbody tr th:only-of-type {\n",
       "        vertical-align: middle;\n",
       "    }\n",
       "\n",
       "    .dataframe tbody tr th {\n",
       "        vertical-align: top;\n",
       "    }\n",
       "\n",
       "    .dataframe thead th {\n",
       "        text-align: right;\n",
       "    }\n",
       "</style>\n",
       "<table border=\"1\" class=\"dataframe\">\n",
       "  <thead>\n",
       "    <tr style=\"text-align: right;\">\n",
       "      <th></th>\n",
       "      <th>Title</th>\n",
       "      <th>Author</th>\n",
       "      <th>Score</th>\n",
       "      <th>Id</th>\n",
       "      <th>Url</th>\n",
       "      <th>Comms_num</th>\n",
       "      <th>Created</th>\n",
       "      <th>Body</th>\n",
       "      <th>timestamp</th>\n",
       "    </tr>\n",
       "  </thead>\n",
       "  <tbody>\n",
       "    <tr>\n",
       "      <th>0</th>\n",
       "      <td>New Moons Distribution (Round 12 Proposal)</td>\n",
       "      <td>CommunityPoints</td>\n",
       "      <td>414</td>\n",
       "      <td>mr04qf</td>\n",
       "      <td>https://www.reddit.com/r/CryptoCurrency/commen...</td>\n",
       "      <td>907</td>\n",
       "      <td>1.618463e+09</td>\n",
       "      <td>UPDATE (4/14): A bonus for voting in governanc...</td>\n",
       "      <td>2021-04-15 07:10:50</td>\n",
       "    </tr>\n",
       "    <tr>\n",
       "      <th>1</th>\n",
       "      <td>Daily Discussion - April 16, 2021 (GMT+0)</td>\n",
       "      <td>AutoModerator</td>\n",
       "      <td>183</td>\n",
       "      <td>mrrcwi</td>\n",
       "      <td>https://www.reddit.com/r/CryptoCurrency/commen...</td>\n",
       "      <td>9349</td>\n",
       "      <td>1.618560e+09</td>\n",
       "      <td>**Welcome to the Daily Discussion. Please read...</td>\n",
       "      <td>2021-04-16 10:00:25</td>\n",
       "    </tr>\n",
       "    <tr>\n",
       "      <th>2</th>\n",
       "      <td>Dogecoin is NOT a smart longterm investment. H...</td>\n",
       "      <td>EthereumDream</td>\n",
       "      <td>13236</td>\n",
       "      <td>mrkpz4</td>\n",
       "      <td>https://www.reddit.com/r/CryptoCurrency/commen...</td>\n",
       "      <td>3133</td>\n",
       "      <td>1.618540e+09</td>\n",
       "      <td>*⚜️I am NOT a financial advisor and this is NO...</td>\n",
       "      <td>2021-04-16 04:22:36</td>\n",
       "    </tr>\n",
       "    <tr>\n",
       "      <th>3</th>\n",
       "      <td>I made a crypto tracking spreadsheet with live...</td>\n",
       "      <td>Fly115</td>\n",
       "      <td>379</td>\n",
       "      <td>mrv04i</td>\n",
       "      <td>https://www.reddit.com/r/CryptoCurrency/commen...</td>\n",
       "      <td>101</td>\n",
       "      <td>1.618573e+09</td>\n",
       "      <td>Hi everyone.\\n\\nI have posted this previously ...</td>\n",
       "      <td>2021-04-16 13:35:18</td>\n",
       "    </tr>\n",
       "    <tr>\n",
       "      <th>4</th>\n",
       "      <td>Thanks to Crypto I made my first 20 Billion Do...</td>\n",
       "      <td>Klaasiker</td>\n",
       "      <td>10106</td>\n",
       "      <td>mrch2c</td>\n",
       "      <td>https://www.reddit.com/r/CryptoCurrency/commen...</td>\n",
       "      <td>856</td>\n",
       "      <td>1.618514e+09</td>\n",
       "      <td>So I started buying Crypto back in 2017. I hus...</td>\n",
       "      <td>2021-04-15 21:14:58</td>\n",
       "    </tr>\n",
       "    <tr>\n",
       "      <th>...</th>\n",
       "      <td>...</td>\n",
       "      <td>...</td>\n",
       "      <td>...</td>\n",
       "      <td>...</td>\n",
       "      <td>...</td>\n",
       "      <td>...</td>\n",
       "      <td>...</td>\n",
       "      <td>...</td>\n",
       "      <td>...</td>\n",
       "    </tr>\n",
       "    <tr>\n",
       "      <th>95</th>\n",
       "      <td>I’m sorry for my story, but I have to post today.</td>\n",
       "      <td>youngdukesilver</td>\n",
       "      <td>4</td>\n",
       "      <td>mry2qx</td>\n",
       "      <td>https://www.reddit.com/r/CryptoCurrency/commen...</td>\n",
       "      <td>22</td>\n",
       "      <td>1.618587e+09</td>\n",
       "      <td>I know this has been a reoccurring theme in th...</td>\n",
       "      <td>2021-04-16 17:22:44</td>\n",
       "    </tr>\n",
       "    <tr>\n",
       "      <th>96</th>\n",
       "      <td>Best Platform for Crypto</td>\n",
       "      <td>John_Sloth</td>\n",
       "      <td>5</td>\n",
       "      <td>mrwuc6</td>\n",
       "      <td>https://www.reddit.com/r/CryptoCurrency/commen...</td>\n",
       "      <td>21</td>\n",
       "      <td>1.618581e+09</td>\n",
       "      <td>I currently use Coinbase and have around $150 ...</td>\n",
       "      <td>2021-04-16 15:44:55</td>\n",
       "    </tr>\n",
       "    <tr>\n",
       "      <th>97</th>\n",
       "      <td>YSK: If you are a student/individual and have ...</td>\n",
       "      <td>LoLJaxk</td>\n",
       "      <td>8</td>\n",
       "      <td>mrtcjh</td>\n",
       "      <td>https://www.reddit.com/r/CryptoCurrency/commen...</td>\n",
       "      <td>13</td>\n",
       "      <td>1.618567e+09</td>\n",
       "      <td>Someone correct me if I am misunderstanding bu...</td>\n",
       "      <td>2021-04-16 11:56:40</td>\n",
       "    </tr>\n",
       "    <tr>\n",
       "      <th>98</th>\n",
       "      <td>Why do you not own a Yubikey or similar device...</td>\n",
       "      <td>Valentines450140</td>\n",
       "      <td>4</td>\n",
       "      <td>mrvr6g</td>\n",
       "      <td>https://www.reddit.com/r/CryptoCurrency/commen...</td>\n",
       "      <td>17</td>\n",
       "      <td>1.618576e+09</td>\n",
       "      <td>[Yubico.com](https://Yubico.com) sells Yubikey...</td>\n",
       "      <td>2021-04-16 14:25:20</td>\n",
       "    </tr>\n",
       "    <tr>\n",
       "      <th>99</th>\n",
       "      <td>Rothschild Investment Corp snaps up quarter of...</td>\n",
       "      <td>areyoudizzzy</td>\n",
       "      <td>8</td>\n",
       "      <td>mrt8uw</td>\n",
       "      <td>https://cointelegraph.com/news/rothschild-inve...</td>\n",
       "      <td>9</td>\n",
       "      <td>1.618567e+09</td>\n",
       "      <td></td>\n",
       "      <td>2021-04-16 11:50:21</td>\n",
       "    </tr>\n",
       "  </tbody>\n",
       "</table>\n",
       "<p>100 rows × 9 columns</p>\n",
       "</div>"
      ],
      "text/plain": [
       "                                                Title            Author  \\\n",
       "0          New Moons Distribution (Round 12 Proposal)   CommunityPoints   \n",
       "1           Daily Discussion - April 16, 2021 (GMT+0)     AutoModerator   \n",
       "2   Dogecoin is NOT a smart longterm investment. H...     EthereumDream   \n",
       "3   I made a crypto tracking spreadsheet with live...            Fly115   \n",
       "4   Thanks to Crypto I made my first 20 Billion Do...         Klaasiker   \n",
       "..                                                ...               ...   \n",
       "95  I’m sorry for my story, but I have to post today.   youngdukesilver   \n",
       "96                           Best Platform for Crypto        John_Sloth   \n",
       "97  YSK: If you are a student/individual and have ...           LoLJaxk   \n",
       "98  Why do you not own a Yubikey or similar device...  Valentines450140   \n",
       "99  Rothschild Investment Corp snaps up quarter of...      areyoudizzzy   \n",
       "\n",
       "    Score      Id                                                Url  \\\n",
       "0     414  mr04qf  https://www.reddit.com/r/CryptoCurrency/commen...   \n",
       "1     183  mrrcwi  https://www.reddit.com/r/CryptoCurrency/commen...   \n",
       "2   13236  mrkpz4  https://www.reddit.com/r/CryptoCurrency/commen...   \n",
       "3     379  mrv04i  https://www.reddit.com/r/CryptoCurrency/commen...   \n",
       "4   10106  mrch2c  https://www.reddit.com/r/CryptoCurrency/commen...   \n",
       "..    ...     ...                                                ...   \n",
       "95      4  mry2qx  https://www.reddit.com/r/CryptoCurrency/commen...   \n",
       "96      5  mrwuc6  https://www.reddit.com/r/CryptoCurrency/commen...   \n",
       "97      8  mrtcjh  https://www.reddit.com/r/CryptoCurrency/commen...   \n",
       "98      4  mrvr6g  https://www.reddit.com/r/CryptoCurrency/commen...   \n",
       "99      8  mrt8uw  https://cointelegraph.com/news/rothschild-inve...   \n",
       "\n",
       "    Comms_num       Created  \\\n",
       "0         907  1.618463e+09   \n",
       "1        9349  1.618560e+09   \n",
       "2        3133  1.618540e+09   \n",
       "3         101  1.618573e+09   \n",
       "4         856  1.618514e+09   \n",
       "..        ...           ...   \n",
       "95         22  1.618587e+09   \n",
       "96         21  1.618581e+09   \n",
       "97         13  1.618567e+09   \n",
       "98         17  1.618576e+09   \n",
       "99          9  1.618567e+09   \n",
       "\n",
       "                                                 Body           timestamp  \n",
       "0   UPDATE (4/14): A bonus for voting in governanc... 2021-04-15 07:10:50  \n",
       "1   **Welcome to the Daily Discussion. Please read... 2021-04-16 10:00:25  \n",
       "2   *⚜️I am NOT a financial advisor and this is NO... 2021-04-16 04:22:36  \n",
       "3   Hi everyone.\\n\\nI have posted this previously ... 2021-04-16 13:35:18  \n",
       "4   So I started buying Crypto back in 2017. I hus... 2021-04-15 21:14:58  \n",
       "..                                                ...                 ...  \n",
       "95  I know this has been a reoccurring theme in th... 2021-04-16 17:22:44  \n",
       "96  I currently use Coinbase and have around $150 ... 2021-04-16 15:44:55  \n",
       "97  Someone correct me if I am misunderstanding bu... 2021-04-16 11:56:40  \n",
       "98  [Yubico.com](https://Yubico.com) sells Yubikey... 2021-04-16 14:25:20  \n",
       "99                                                    2021-04-16 11:50:21  \n",
       "\n",
       "[100 rows x 9 columns]"
      ]
     },
     "execution_count": 10,
     "metadata": {},
     "output_type": "execute_result"
    }
   ],
   "source": [
    "topics_data = topics_data.assign(timestamp = _timestamp)\n",
    "topics_data"
   ]
  },
  {
   "cell_type": "code",
   "execution_count": 11,
   "metadata": {},
   "outputs": [
    {
     "data": {
      "text/plain": [
       "Title                object\n",
       "Author               object\n",
       "Score                 int64\n",
       "Id                   object\n",
       "Url                  object\n",
       "Comms_num             int64\n",
       "Created             float64\n",
       "Body                 object\n",
       "timestamp    datetime64[ns]\n",
       "dtype: object"
      ]
     },
     "execution_count": 11,
     "metadata": {},
     "output_type": "execute_result"
    }
   ],
   "source": [
    "topics_data.dtypes"
   ]
  }
 ],
 "metadata": {
  "kernelspec": {
   "display_name": "Python 3",
   "language": "python",
   "name": "python3"
  },
  "language_info": {
   "codemirror_mode": {
    "name": "ipython",
    "version": 3
   },
   "file_extension": ".py",
   "mimetype": "text/x-python",
   "name": "python",
   "nbconvert_exporter": "python",
   "pygments_lexer": "ipython3",
   "version": "3.7.4"
  }
 },
 "nbformat": 4,
 "nbformat_minor": 4
}
