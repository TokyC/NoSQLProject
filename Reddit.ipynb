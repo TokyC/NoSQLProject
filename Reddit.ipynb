{
 "cells": [
  {
   "cell_type": "markdown",
   "metadata": {},
   "source": [
    "# <center> Reddit </center>"
   ]
  },
  {
   "cell_type": "markdown",
   "metadata": {},
   "source": [
    "This notebook aims to collect articles on reddit talking about crypto currency "
   ]
  },
  {
   "cell_type": "markdown",
   "metadata": {},
   "source": [
    "## Import of libraries "
   ]
  },
  {
   "cell_type": "code",
   "execution_count": 1,
   "metadata": {},
   "outputs": [],
   "source": [
    "import praw\n",
    "import pandas as pd"
   ]
  },
  {
   "cell_type": "markdown",
   "metadata": {},
   "source": [
    "# Algorithmes"
   ]
  },
  {
   "cell_type": "code",
   "execution_count": 2,
   "metadata": {},
   "outputs": [],
   "source": [
    "reddit = praw.Reddit(client_id=\"P_4F5vivJ4l-Fw\",#My client id\n",
    "                     client_secret=\"FGOVdro6W27fBX3m7ZhIPXjRoM0Zkw\",  #My client secret\n",
    "                     user_agent=\"recover_crypto\", #user agent name\n",
    "                     username = \"quentin_pierson\")     # your reddit username"
   ]
  },
  {
   "cell_type": "markdown",
   "metadata": {},
   "source": [
    "### Get the topic from the reddit"
   ]
  },
  {
   "cell_type": "code",
   "execution_count": 3,
   "metadata": {},
   "outputs": [],
   "source": [
    "subreddit = reddit.subreddit('CryptoCurrency')"
   ]
  },
  {
   "cell_type": "raw",
   "metadata": {},
   "source": [
    "Hot \n",
    "Top \n",
    "new"
   ]
  },
  {
   "cell_type": "code",
   "execution_count": 4,
   "metadata": {},
   "outputs": [],
   "source": [
    "top_subreddit = subreddit.new(limit=100)"
   ]
  },
  {
   "cell_type": "code",
   "execution_count": 5,
   "metadata": {},
   "outputs": [],
   "source": [
    "topics_dict = { \"Title\":[], \n",
    "               \"Author\":[],\n",
    "                \"Score\":[], \n",
    "                \"Id\":[], \n",
    "                \"Url\":[], \n",
    "                \"Comms_num\": [], \n",
    "                \"Created\": [], \n",
    "                \"Body\":[]\n",
    "              }"
   ]
  },
  {
   "cell_type": "code",
   "execution_count": 6,
   "metadata": {},
   "outputs": [],
   "source": [
    "for submission in top_subreddit:\n",
    "    topics_dict[\"Title\"].append(submission.title)\n",
    "    topics_dict[\"Author\"].append(submission.author.name)\n",
    "    topics_dict[\"Score\"].append(submission.score)\n",
    "    topics_dict[\"Id\"].append(submission.id)\n",
    "    topics_dict[\"Url\"].append(submission.url)\n",
    "    topics_dict[\"Comms_num\"].append(submission.num_comments)\n",
    "    topics_dict[\"Created\"].append(submission.created)\n",
    "    topics_dict[\"Body\"].append(submission.selftext)"
   ]
  },
  {
   "cell_type": "code",
   "execution_count": 7,
   "metadata": {},
   "outputs": [],
   "source": [
    "topics_data = pd.DataFrame(topics_dict)"
   ]
  },
  {
   "cell_type": "markdown",
   "metadata": {},
   "source": [
    "## Add date to dataframe  "
   ]
  },
  {
   "cell_type": "code",
   "execution_count": 8,
   "metadata": {},
   "outputs": [],
   "source": [
    "def get_date(created):\n",
    "    return pd.datetime.fromtimestamp(created)"
   ]
  },
  {
   "cell_type": "code",
   "execution_count": 9,
   "metadata": {},
   "outputs": [
    {
     "name": "stderr",
     "output_type": "stream",
     "text": [
      "/Users/quentinpierson/env/lib/python3.7/site-packages/ipykernel_launcher.py:2: FutureWarning: The pandas.datetime class is deprecated and will be removed from pandas in a future version. Import from datetime module instead.\n",
      "  \n"
     ]
    }
   ],
   "source": [
    "_timestamp = topics_data[\"Created\"].apply(get_date)"
   ]
  },
  {
   "cell_type": "code",
   "execution_count": 10,
   "metadata": {},
   "outputs": [
    {
     "data": {
      "text/html": [
       "<div>\n",
       "<style scoped>\n",
       "    .dataframe tbody tr th:only-of-type {\n",
       "        vertical-align: middle;\n",
       "    }\n",
       "\n",
       "    .dataframe tbody tr th {\n",
       "        vertical-align: top;\n",
       "    }\n",
       "\n",
       "    .dataframe thead th {\n",
       "        text-align: right;\n",
       "    }\n",
       "</style>\n",
       "<table border=\"1\" class=\"dataframe\">\n",
       "  <thead>\n",
       "    <tr style=\"text-align: right;\">\n",
       "      <th></th>\n",
       "      <th>Title</th>\n",
       "      <th>Author</th>\n",
       "      <th>Score</th>\n",
       "      <th>Id</th>\n",
       "      <th>Url</th>\n",
       "      <th>Comms_num</th>\n",
       "      <th>Created</th>\n",
       "      <th>Body</th>\n",
       "      <th>timestamp</th>\n",
       "    </tr>\n",
       "  </thead>\n",
       "  <tbody>\n",
       "    <tr>\n",
       "      <th>0</th>\n",
       "      <td>SafeMM, The next big thing ! Launch is today 9...</td>\n",
       "      <td>SafeMoonMission</td>\n",
       "      <td>1</td>\n",
       "      <td>mw0un2</td>\n",
       "      <td>https://www.reddit.com/r/CryptoCurrency/commen...</td>\n",
       "      <td>1</td>\n",
       "      <td>1.619112e+09</td>\n",
       "      <td>Built as part of a community wide effort to cr...</td>\n",
       "      <td>2021-04-22 19:17:30</td>\n",
       "    </tr>\n",
       "    <tr>\n",
       "      <th>1</th>\n",
       "      <td>What is the way forward for crypto adoption?</td>\n",
       "      <td>auste72</td>\n",
       "      <td>2</td>\n",
       "      <td>mw0tv0</td>\n",
       "      <td>https://www.reddit.com/r/CryptoCurrency/commen...</td>\n",
       "      <td>2</td>\n",
       "      <td>1.619112e+09</td>\n",
       "      <td>With all the talk about safemoon and rugpulls ...</td>\n",
       "      <td>2021-04-22 19:15:36</td>\n",
       "    </tr>\n",
       "    <tr>\n",
       "      <th>2</th>\n",
       "      <td>Call it bad taste but I’m happy about people g...</td>\n",
       "      <td>HondaSpectrum</td>\n",
       "      <td>1</td>\n",
       "      <td>mw0ts1</td>\n",
       "      <td>https://www.reddit.com/r/CryptoCurrency/commen...</td>\n",
       "      <td>1</td>\n",
       "      <td>1.619112e+09</td>\n",
       "      <td>In a bull run where we have had to watch every...</td>\n",
       "      <td>2021-04-22 19:15:24</td>\n",
       "    </tr>\n",
       "    <tr>\n",
       "      <th>3</th>\n",
       "      <td>Crypto newbie</td>\n",
       "      <td>IIICorruptIII</td>\n",
       "      <td>1</td>\n",
       "      <td>mw0tov</td>\n",
       "      <td>https://www.reddit.com/r/CryptoCurrency/commen...</td>\n",
       "      <td>1</td>\n",
       "      <td>1.619112e+09</td>\n",
       "      <td>I recently got onto the doge hype train and wa...</td>\n",
       "      <td>2021-04-22 19:15:09</td>\n",
       "    </tr>\n",
       "    <tr>\n",
       "      <th>4</th>\n",
       "      <td>Is it againt the rules to trade awards for moons?</td>\n",
       "      <td>PandasAreFluffy</td>\n",
       "      <td>1</td>\n",
       "      <td>mw0tgs</td>\n",
       "      <td>https://www.reddit.com/r/CryptoCurrency/commen...</td>\n",
       "      <td>1</td>\n",
       "      <td>1.619112e+09</td>\n",
       "      <td>Is it againt any sort of rules to trade an awa...</td>\n",
       "      <td>2021-04-22 19:14:39</td>\n",
       "    </tr>\n",
       "    <tr>\n",
       "      <th>...</th>\n",
       "      <td>...</td>\n",
       "      <td>...</td>\n",
       "      <td>...</td>\n",
       "      <td>...</td>\n",
       "      <td>...</td>\n",
       "      <td>...</td>\n",
       "      <td>...</td>\n",
       "      <td>...</td>\n",
       "      <td>...</td>\n",
       "    </tr>\n",
       "    <tr>\n",
       "      <th>95</th>\n",
       "      <td>Mayor Scott Conger of Jacksonville, TN just sa...</td>\n",
       "      <td>chrisnsalem</td>\n",
       "      <td>8</td>\n",
       "      <td>mvyzv7</td>\n",
       "      <td>https://www.reddit.com/r/CryptoCurrency/commen...</td>\n",
       "      <td>12</td>\n",
       "      <td>1.619102e+09</td>\n",
       "      <td>First, it was the [Mayor of Miami, Francis Sua...</td>\n",
       "      <td>2021-04-22 16:41:13</td>\n",
       "    </tr>\n",
       "    <tr>\n",
       "      <th>96</th>\n",
       "      <td>Moons</td>\n",
       "      <td>JasonByl</td>\n",
       "      <td>11</td>\n",
       "      <td>mvz5cm</td>\n",
       "      <td>https://www.reddit.com/r/CryptoCurrency/commen...</td>\n",
       "      <td>42</td>\n",
       "      <td>1.619103e+09</td>\n",
       "      <td>I have been following this Reddit for a while....</td>\n",
       "      <td>2021-04-22 16:53:18</td>\n",
       "    </tr>\n",
       "    <tr>\n",
       "      <th>97</th>\n",
       "      <td>Crypto with real world utility.</td>\n",
       "      <td>curlyfridge</td>\n",
       "      <td>3</td>\n",
       "      <td>mvz517</td>\n",
       "      <td>https://www.reddit.com/r/CryptoCurrency/commen...</td>\n",
       "      <td>44</td>\n",
       "      <td>1.619103e+09</td>\n",
       "      <td>So often in this space I see vanity projects. ...</td>\n",
       "      <td>2021-04-22 16:52:33</td>\n",
       "    </tr>\n",
       "    <tr>\n",
       "      <th>98</th>\n",
       "      <td>My friend is in profit in safemoon and he is r...</td>\n",
       "      <td>samybhai</td>\n",
       "      <td>1</td>\n",
       "      <td>mvz45v</td>\n",
       "      <td>https://www.reddit.com/r/CryptoCurrency/commen...</td>\n",
       "      <td>38</td>\n",
       "      <td>1.619103e+09</td>\n",
       "      <td>I dont know why people defend dogecoin as it l...</td>\n",
       "      <td>2021-04-22 16:50:38</td>\n",
       "    </tr>\n",
       "    <tr>\n",
       "      <th>99</th>\n",
       "      <td>Why are all the crypto Youtube video thumbnail...</td>\n",
       "      <td>CSharpest1</td>\n",
       "      <td>3</td>\n",
       "      <td>mvz2j3</td>\n",
       "      <td>https://www.reddit.com/r/CryptoCurrency/commen...</td>\n",
       "      <td>32</td>\n",
       "      <td>1.619103e+09</td>\n",
       "      <td>I was looking at some crypto related videos on...</td>\n",
       "      <td>2021-04-22 16:47:07</td>\n",
       "    </tr>\n",
       "  </tbody>\n",
       "</table>\n",
       "<p>100 rows × 9 columns</p>\n",
       "</div>"
      ],
      "text/plain": [
       "                                                Title           Author  Score  \\\n",
       "0   SafeMM, The next big thing ! Launch is today 9...  SafeMoonMission      1   \n",
       "1        What is the way forward for crypto adoption?          auste72      2   \n",
       "2   Call it bad taste but I’m happy about people g...    HondaSpectrum      1   \n",
       "3                                       Crypto newbie    IIICorruptIII      1   \n",
       "4   Is it againt the rules to trade awards for moons?  PandasAreFluffy      1   \n",
       "..                                                ...              ...    ...   \n",
       "95  Mayor Scott Conger of Jacksonville, TN just sa...      chrisnsalem      8   \n",
       "96                                              Moons         JasonByl     11   \n",
       "97                    Crypto with real world utility.      curlyfridge      3   \n",
       "98  My friend is in profit in safemoon and he is r...         samybhai      1   \n",
       "99  Why are all the crypto Youtube video thumbnail...       CSharpest1      3   \n",
       "\n",
       "        Id                                                Url  Comms_num  \\\n",
       "0   mw0un2  https://www.reddit.com/r/CryptoCurrency/commen...          1   \n",
       "1   mw0tv0  https://www.reddit.com/r/CryptoCurrency/commen...          2   \n",
       "2   mw0ts1  https://www.reddit.com/r/CryptoCurrency/commen...          1   \n",
       "3   mw0tov  https://www.reddit.com/r/CryptoCurrency/commen...          1   \n",
       "4   mw0tgs  https://www.reddit.com/r/CryptoCurrency/commen...          1   \n",
       "..     ...                                                ...        ...   \n",
       "95  mvyzv7  https://www.reddit.com/r/CryptoCurrency/commen...         12   \n",
       "96  mvz5cm  https://www.reddit.com/r/CryptoCurrency/commen...         42   \n",
       "97  mvz517  https://www.reddit.com/r/CryptoCurrency/commen...         44   \n",
       "98  mvz45v  https://www.reddit.com/r/CryptoCurrency/commen...         38   \n",
       "99  mvz2j3  https://www.reddit.com/r/CryptoCurrency/commen...         32   \n",
       "\n",
       "         Created                                               Body  \\\n",
       "0   1.619112e+09  Built as part of a community wide effort to cr...   \n",
       "1   1.619112e+09  With all the talk about safemoon and rugpulls ...   \n",
       "2   1.619112e+09  In a bull run where we have had to watch every...   \n",
       "3   1.619112e+09  I recently got onto the doge hype train and wa...   \n",
       "4   1.619112e+09  Is it againt any sort of rules to trade an awa...   \n",
       "..           ...                                                ...   \n",
       "95  1.619102e+09  First, it was the [Mayor of Miami, Francis Sua...   \n",
       "96  1.619103e+09  I have been following this Reddit for a while....   \n",
       "97  1.619103e+09  So often in this space I see vanity projects. ...   \n",
       "98  1.619103e+09  I dont know why people defend dogecoin as it l...   \n",
       "99  1.619103e+09  I was looking at some crypto related videos on...   \n",
       "\n",
       "             timestamp  \n",
       "0  2021-04-22 19:17:30  \n",
       "1  2021-04-22 19:15:36  \n",
       "2  2021-04-22 19:15:24  \n",
       "3  2021-04-22 19:15:09  \n",
       "4  2021-04-22 19:14:39  \n",
       "..                 ...  \n",
       "95 2021-04-22 16:41:13  \n",
       "96 2021-04-22 16:53:18  \n",
       "97 2021-04-22 16:52:33  \n",
       "98 2021-04-22 16:50:38  \n",
       "99 2021-04-22 16:47:07  \n",
       "\n",
       "[100 rows x 9 columns]"
      ]
     },
     "execution_count": 10,
     "metadata": {},
     "output_type": "execute_result"
    }
   ],
   "source": [
    "topics_data = topics_data.assign(timestamp = _timestamp)\n",
    "topics_data"
   ]
  },
  {
   "cell_type": "code",
   "execution_count": null,
   "metadata": {},
   "outputs": [],
   "source": []
  }
 ],
 "metadata": {
  "kernelspec": {
   "display_name": "Python 3",
   "language": "python",
   "name": "python3"
  },
  "language_info": {
   "codemirror_mode": {
    "name": "ipython",
    "version": 3
   },
   "file_extension": ".py",
   "mimetype": "text/x-python",
   "name": "python",
   "nbconvert_exporter": "python",
   "pygments_lexer": "ipython3",
   "version": "3.7.4"
  }
 },
 "nbformat": 4,
 "nbformat_minor": 4
}
