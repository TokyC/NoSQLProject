{
 "cells": [
  {
   "cell_type": "markdown",
   "metadata": {},
   "source": [
    "# <center> Reddit </center>"
   ]
  },
  {
   "cell_type": "markdown",
   "metadata": {},
   "source": [
    "This notebook aims to collect articles on reddit talking about crypto currency "
   ]
  },
  {
   "cell_type": "markdown",
   "metadata": {},
   "source": [
    "## Import of libraries "
   ]
  },
  {
   "cell_type": "code",
   "execution_count": 1,
   "metadata": {},
   "outputs": [],
   "source": [
    "import praw\n",
    "import pandas as pd"
   ]
  },
  {
   "cell_type": "markdown",
   "metadata": {},
   "source": [
    "# Algorithmes"
   ]
  },
  {
   "cell_type": "code",
   "execution_count": 2,
   "metadata": {},
   "outputs": [],
   "source": [
    "reddit = praw.Reddit(client_id=\"P_4F5vivJ4l-Fw\",#My client id\n",
    "                     client_secret=\"FGOVdro6W27fBX3m7ZhIPXjRoM0Zkw\",  #My client secret\n",
    "                     user_agent=\"recover_crypto\", #user agent name\n",
    "                     username = \"quentin_pierson\")     # your reddit username"
   ]
  },
  {
   "cell_type": "markdown",
   "metadata": {},
   "source": [
    "### Get the topic from the reddit"
   ]
  },
  {
   "cell_type": "code",
   "execution_count": 3,
   "metadata": {},
   "outputs": [],
   "source": [
    "subreddit = reddit.subreddit('CryptoCurrency')"
   ]
  },
  {
   "cell_type": "code",
   "execution_count": 4,
   "metadata": {},
   "outputs": [],
   "source": [
    "top_subreddit = subreddit.hot(limit=100)"
   ]
  },
  {
   "cell_type": "code",
   "execution_count": 5,
   "metadata": {},
   "outputs": [],
   "source": [
    "topics_dict = { \"Title\":[], \n",
    "               \"Author\":[],\n",
    "                \"Score\":[], \n",
    "                \"Id\":[], \n",
    "                \"Url\":[], \n",
    "                \"Comms_num\": [], \n",
    "                \"Created\": [], \n",
    "                \"Body\":[]\n",
    "              }"
   ]
  },
  {
   "cell_type": "code",
   "execution_count": 6,
   "metadata": {},
   "outputs": [],
   "source": [
    "for submission in top_subreddit:\n",
    "    topics_dict[\"Title\"].append(submission.title)\n",
    "    topics_dict[\"Author\"].append(submission.author.name)\n",
    "    topics_dict[\"Score\"].append(submission.score)\n",
    "    topics_dict[\"Id\"].append(submission.id)\n",
    "    topics_dict[\"Url\"].append(submission.url)\n",
    "    topics_dict[\"Comms_num\"].append(submission.num_comments)\n",
    "    topics_dict[\"Created\"].append(submission.created)\n",
    "    topics_dict[\"Body\"].append(submission.selftext)"
   ]
  },
  {
   "cell_type": "code",
   "execution_count": 7,
   "metadata": {},
   "outputs": [],
   "source": [
    "topics_data = pd.DataFrame(topics_dict)"
   ]
  },
  {
   "cell_type": "markdown",
   "metadata": {},
   "source": [
    "## Add date to dataframe  "
   ]
  },
  {
   "cell_type": "code",
   "execution_count": 8,
   "metadata": {},
   "outputs": [],
   "source": [
    "def get_date(created):\n",
    "    return pd.datetime.fromtimestamp(created)"
   ]
  },
  {
   "cell_type": "code",
   "execution_count": 9,
   "metadata": {},
   "outputs": [
    {
     "name": "stderr",
     "output_type": "stream",
     "text": [
      "/Users/quentinpierson/env/lib/python3.7/site-packages/ipykernel_launcher.py:2: FutureWarning: The pandas.datetime class is deprecated and will be removed from pandas in a future version. Import from datetime module instead.\n",
      "  \n"
     ]
    }
   ],
   "source": [
    "_timestamp = topics_data[\"Created\"].apply(get_date)"
   ]
  },
  {
   "cell_type": "code",
   "execution_count": 10,
   "metadata": {},
   "outputs": [
    {
     "data": {
      "text/html": [
       "<div>\n",
       "<style scoped>\n",
       "    .dataframe tbody tr th:only-of-type {\n",
       "        vertical-align: middle;\n",
       "    }\n",
       "\n",
       "    .dataframe tbody tr th {\n",
       "        vertical-align: top;\n",
       "    }\n",
       "\n",
       "    .dataframe thead th {\n",
       "        text-align: right;\n",
       "    }\n",
       "</style>\n",
       "<table border=\"1\" class=\"dataframe\">\n",
       "  <thead>\n",
       "    <tr style=\"text-align: right;\">\n",
       "      <th></th>\n",
       "      <th>Title</th>\n",
       "      <th>Author</th>\n",
       "      <th>Score</th>\n",
       "      <th>Id</th>\n",
       "      <th>Url</th>\n",
       "      <th>Comms_num</th>\n",
       "      <th>Created</th>\n",
       "      <th>Body</th>\n",
       "      <th>timestamp</th>\n",
       "    </tr>\n",
       "  </thead>\n",
       "  <tbody>\n",
       "    <tr>\n",
       "      <th>0</th>\n",
       "      <td>Introducing r/CryptoCurrency Prediction Tourna...</td>\n",
       "      <td>nanooverbtc</td>\n",
       "      <td>294</td>\n",
       "      <td>mszha5</td>\n",
       "      <td>https://www.reddit.com/r/CryptoCurrency/commen...</td>\n",
       "      <td>274</td>\n",
       "      <td>1.618724e+09</td>\n",
       "      <td>We are very excited to announce that starting ...</td>\n",
       "      <td>2021-04-18 07:25:37</td>\n",
       "    </tr>\n",
       "    <tr>\n",
       "      <th>1</th>\n",
       "      <td>Daily Discussion - April 18, 2021 (GMT+0)</td>\n",
       "      <td>AutoModerator</td>\n",
       "      <td>343</td>\n",
       "      <td>mt23to</td>\n",
       "      <td>https://www.reddit.com/r/CryptoCurrency/commen...</td>\n",
       "      <td>16895</td>\n",
       "      <td>1.618733e+09</td>\n",
       "      <td>**Welcome to the Daily Discussion. Please read...</td>\n",
       "      <td>2021-04-18 10:00:15</td>\n",
       "    </tr>\n",
       "    <tr>\n",
       "      <th>2</th>\n",
       "      <td>EXPLANATION: The recent crash was probably due...</td>\n",
       "      <td>Fragsworth</td>\n",
       "      <td>5554</td>\n",
       "      <td>mt5odv</td>\n",
       "      <td>https://www.reddit.com/r/CryptoCurrency/commen...</td>\n",
       "      <td>1460</td>\n",
       "      <td>1.618747e+09</td>\n",
       "      <td>Degenerates on Binance with up to 150x leverag...</td>\n",
       "      <td>2021-04-18 13:59:15</td>\n",
       "    </tr>\n",
       "    <tr>\n",
       "      <th>3</th>\n",
       "      <td>Don’t get burned with Dogecoin</td>\n",
       "      <td>mark_able_jones_</td>\n",
       "      <td>10400</td>\n",
       "      <td>mt1xzi</td>\n",
       "      <td>https://www.reddit.com/r/CryptoCurrency/commen...</td>\n",
       "      <td>2659</td>\n",
       "      <td>1.618732e+09</td>\n",
       "      <td>Today on r/Dogecoin a user posted a video of h...</td>\n",
       "      <td>2021-04-18 09:49:54</td>\n",
       "    </tr>\n",
       "    <tr>\n",
       "      <th>4</th>\n",
       "      <td>A moment of silence for the newcomers who boug...</td>\n",
       "      <td>TurbulentMoon</td>\n",
       "      <td>1612</td>\n",
       "      <td>mt6905</td>\n",
       "      <td>https://www.reddit.com/r/CryptoCurrency/commen...</td>\n",
       "      <td>498</td>\n",
       "      <td>1.618750e+09</td>\n",
       "      <td>I was once in the same position you find yours...</td>\n",
       "      <td>2021-04-18 14:41:22</td>\n",
       "    </tr>\n",
       "    <tr>\n",
       "      <th>...</th>\n",
       "      <td>...</td>\n",
       "      <td>...</td>\n",
       "      <td>...</td>\n",
       "      <td>...</td>\n",
       "      <td>...</td>\n",
       "      <td>...</td>\n",
       "      <td>...</td>\n",
       "      <td>...</td>\n",
       "      <td>...</td>\n",
       "    </tr>\n",
       "    <tr>\n",
       "      <th>95</th>\n",
       "      <td>CoinMarketCap app sucks?</td>\n",
       "      <td>Knurlinger</td>\n",
       "      <td>6</td>\n",
       "      <td>mtdq0n</td>\n",
       "      <td>https://www.reddit.com/r/CryptoCurrency/commen...</td>\n",
       "      <td>15</td>\n",
       "      <td>1.618785e+09</td>\n",
       "      <td>Does the CMC app just suck for me? Either the ...</td>\n",
       "      <td>2021-04-19 00:22:20</td>\n",
       "    </tr>\n",
       "    <tr>\n",
       "      <th>96</th>\n",
       "      <td>Throwback BTC posts are fun to read every now ...</td>\n",
       "      <td>draconicessence</td>\n",
       "      <td>16</td>\n",
       "      <td>mt8rvc</td>\n",
       "      <td>/r/Bitcoin/comments/hrf5m/why_i_think_bitcoin_...</td>\n",
       "      <td>19</td>\n",
       "      <td>1.618762e+09</td>\n",
       "      <td></td>\n",
       "      <td>2021-04-18 18:14:41</td>\n",
       "    </tr>\n",
       "    <tr>\n",
       "      <th>97</th>\n",
       "      <td>Shit I woke up during a fire sale! Crypto myst...</td>\n",
       "      <td>GG-Enterprises</td>\n",
       "      <td>5</td>\n",
       "      <td>mtemi5</td>\n",
       "      <td>https://www.reddit.com/r/CryptoCurrency/commen...</td>\n",
       "      <td>7</td>\n",
       "      <td>1.618787e+09</td>\n",
       "      <td>Everybody don’t be scared, yes a lot of you ar...</td>\n",
       "      <td>2021-04-19 01:10:50</td>\n",
       "    </tr>\n",
       "    <tr>\n",
       "      <th>98</th>\n",
       "      <td>Dont try to trade for profit, you can not time...</td>\n",
       "      <td>Vertigo722</td>\n",
       "      <td>7</td>\n",
       "      <td>mtbfnh</td>\n",
       "      <td>https://www.reddit.com/r/CryptoCurrency/commen...</td>\n",
       "      <td>11</td>\n",
       "      <td>1.618776e+09</td>\n",
       "      <td>No one can time this market and predict short ...</td>\n",
       "      <td>2021-04-18 21:55:25</td>\n",
       "    </tr>\n",
       "    <tr>\n",
       "      <th>99</th>\n",
       "      <td>Please stop with the overreactions and justifi...</td>\n",
       "      <td>HondaSpectrum</td>\n",
       "      <td>31</td>\n",
       "      <td>mt6n6w</td>\n",
       "      <td>https://www.reddit.com/r/CryptoCurrency/commen...</td>\n",
       "      <td>33</td>\n",
       "      <td>1.618751e+09</td>\n",
       "      <td>It really feels like the majority of this sub ...</td>\n",
       "      <td>2021-04-18 15:11:39</td>\n",
       "    </tr>\n",
       "  </tbody>\n",
       "</table>\n",
       "<p>100 rows × 9 columns</p>\n",
       "</div>"
      ],
      "text/plain": [
       "                                                Title            Author  \\\n",
       "0   Introducing r/CryptoCurrency Prediction Tourna...       nanooverbtc   \n",
       "1           Daily Discussion - April 18, 2021 (GMT+0)     AutoModerator   \n",
       "2   EXPLANATION: The recent crash was probably due...        Fragsworth   \n",
       "3                      Don’t get burned with Dogecoin  mark_able_jones_   \n",
       "4   A moment of silence for the newcomers who boug...     TurbulentMoon   \n",
       "..                                                ...               ...   \n",
       "95                           CoinMarketCap app sucks?        Knurlinger   \n",
       "96  Throwback BTC posts are fun to read every now ...   draconicessence   \n",
       "97  Shit I woke up during a fire sale! Crypto myst...    GG-Enterprises   \n",
       "98  Dont try to trade for profit, you can not time...        Vertigo722   \n",
       "99  Please stop with the overreactions and justifi...     HondaSpectrum   \n",
       "\n",
       "    Score      Id                                                Url  \\\n",
       "0     294  mszha5  https://www.reddit.com/r/CryptoCurrency/commen...   \n",
       "1     343  mt23to  https://www.reddit.com/r/CryptoCurrency/commen...   \n",
       "2    5554  mt5odv  https://www.reddit.com/r/CryptoCurrency/commen...   \n",
       "3   10400  mt1xzi  https://www.reddit.com/r/CryptoCurrency/commen...   \n",
       "4    1612  mt6905  https://www.reddit.com/r/CryptoCurrency/commen...   \n",
       "..    ...     ...                                                ...   \n",
       "95      6  mtdq0n  https://www.reddit.com/r/CryptoCurrency/commen...   \n",
       "96     16  mt8rvc  /r/Bitcoin/comments/hrf5m/why_i_think_bitcoin_...   \n",
       "97      5  mtemi5  https://www.reddit.com/r/CryptoCurrency/commen...   \n",
       "98      7  mtbfnh  https://www.reddit.com/r/CryptoCurrency/commen...   \n",
       "99     31  mt6n6w  https://www.reddit.com/r/CryptoCurrency/commen...   \n",
       "\n",
       "    Comms_num       Created  \\\n",
       "0         274  1.618724e+09   \n",
       "1       16895  1.618733e+09   \n",
       "2        1460  1.618747e+09   \n",
       "3        2659  1.618732e+09   \n",
       "4         498  1.618750e+09   \n",
       "..        ...           ...   \n",
       "95         15  1.618785e+09   \n",
       "96         19  1.618762e+09   \n",
       "97          7  1.618787e+09   \n",
       "98         11  1.618776e+09   \n",
       "99         33  1.618751e+09   \n",
       "\n",
       "                                                 Body           timestamp  \n",
       "0   We are very excited to announce that starting ... 2021-04-18 07:25:37  \n",
       "1   **Welcome to the Daily Discussion. Please read... 2021-04-18 10:00:15  \n",
       "2   Degenerates on Binance with up to 150x leverag... 2021-04-18 13:59:15  \n",
       "3   Today on r/Dogecoin a user posted a video of h... 2021-04-18 09:49:54  \n",
       "4   I was once in the same position you find yours... 2021-04-18 14:41:22  \n",
       "..                                                ...                 ...  \n",
       "95  Does the CMC app just suck for me? Either the ... 2021-04-19 00:22:20  \n",
       "96                                                    2021-04-18 18:14:41  \n",
       "97  Everybody don’t be scared, yes a lot of you ar... 2021-04-19 01:10:50  \n",
       "98  No one can time this market and predict short ... 2021-04-18 21:55:25  \n",
       "99  It really feels like the majority of this sub ... 2021-04-18 15:11:39  \n",
       "\n",
       "[100 rows x 9 columns]"
      ]
     },
     "execution_count": 10,
     "metadata": {},
     "output_type": "execute_result"
    }
   ],
   "source": [
    "topics_data = topics_data.assign(timestamp = _timestamp)\n",
    "topics_data"
   ]
  },
  {
   "cell_type": "code",
   "execution_count": null,
   "metadata": {},
   "outputs": [],
   "source": []
  }
 ],
 "metadata": {
  "kernelspec": {
   "display_name": "Python 3",
   "language": "python",
   "name": "python3"
  },
  "language_info": {
   "codemirror_mode": {
    "name": "ipython",
    "version": 3
   },
   "file_extension": ".py",
   "mimetype": "text/x-python",
   "name": "python",
   "nbconvert_exporter": "python",
   "pygments_lexer": "ipython3",
   "version": "3.7.4"
  }
 },
 "nbformat": 4,
 "nbformat_minor": 4
}
