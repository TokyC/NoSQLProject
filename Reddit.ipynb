{
 "cells": [
  {
   "cell_type": "markdown",
   "metadata": {},
   "source": [
    "# <center> Reddit </center>"
   ]
  },
  {
   "cell_type": "markdown",
   "metadata": {},
   "source": [
    "This notebook aims to collect articles on reddit talking about crypto currency "
   ]
  },
  {
   "cell_type": "markdown",
   "metadata": {},
   "source": [
    "## Import of libraries "
   ]
  },
  {
   "cell_type": "code",
   "execution_count": 1,
   "metadata": {},
   "outputs": [],
   "source": [
    "import praw\n",
    "import pandas as pd"
   ]
  },
  {
   "cell_type": "markdown",
   "metadata": {},
   "source": [
    "# Algorithmes"
   ]
  },
  {
   "cell_type": "code",
   "execution_count": 2,
   "metadata": {},
   "outputs": [],
   "source": [
    "reddit = praw.Reddit(client_id=\"P_4F5vivJ4l-Fw\",#My client id\n",
    "                     client_secret=\"FGOVdro6W27fBX3m7ZhIPXjRoM0Zkw\",  #My client secret\n",
    "                     user_agent=\"recover_crypto\", #user agent name\n",
    "                     username = \"quentin_pierson\")     # your reddit username"
   ]
  },
  {
   "cell_type": "markdown",
   "metadata": {},
   "source": [
    "### Get the topic from the reddit"
   ]
  },
  {
   "cell_type": "code",
   "execution_count": 3,
   "metadata": {},
   "outputs": [],
   "source": [
    "subreddit = reddit.subreddit('CryptoCurrency')"
   ]
  },
  {
   "cell_type": "raw",
   "metadata": {},
   "source": [
    "Hot \n",
    "Top \n",
    "new"
   ]
  },
  {
   "cell_type": "code",
   "execution_count": 4,
   "metadata": {},
   "outputs": [],
   "source": [
    "top_subreddit = subreddit.hot(limit=100)"
   ]
  },
  {
   "cell_type": "code",
   "execution_count": 5,
   "metadata": {},
   "outputs": [],
   "source": [
    "topics_dict = { \"Title\":[], \n",
    "               \"Author\":[],\n",
    "                \"Score\":[], \n",
    "                \"Id\":[], \n",
    "                \"Url\":[], \n",
    "                \"Comms_num\": [], \n",
    "                \"Created\": [], \n",
    "                \"Body\":[]\n",
    "              }"
   ]
  },
  {
   "cell_type": "code",
   "execution_count": 6,
   "metadata": {},
   "outputs": [],
   "source": [
    "for submission in top_subreddit:\n",
    "    topics_dict[\"Title\"].append(submission.title)\n",
    "    topics_dict[\"Author\"].append(submission.author.name)\n",
    "    topics_dict[\"Score\"].append(submission.score)\n",
    "    topics_dict[\"Id\"].append(submission.id)\n",
    "    topics_dict[\"Url\"].append(submission.url)\n",
    "    topics_dict[\"Comms_num\"].append(submission.num_comments)\n",
    "    topics_dict[\"Created\"].append(submission.created)\n",
    "    topics_dict[\"Body\"].append(submission.selftext)"
   ]
  },
  {
   "cell_type": "code",
   "execution_count": 7,
   "metadata": {},
   "outputs": [],
   "source": [
    "topics_data = pd.DataFrame(topics_dict)"
   ]
  },
  {
   "cell_type": "markdown",
   "metadata": {},
   "source": [
    "## Add date to dataframe  "
   ]
  },
  {
   "cell_type": "code",
   "execution_count": 8,
   "metadata": {},
   "outputs": [],
   "source": [
    "def get_date(created):\n",
    "    return pd.datetime.fromtimestamp(created)"
   ]
  },
  {
   "cell_type": "code",
   "execution_count": 9,
   "metadata": {},
   "outputs": [
    {
     "name": "stderr",
     "output_type": "stream",
     "text": [
      "/Users/quentinpierson/env/lib/python3.7/site-packages/ipykernel_launcher.py:2: FutureWarning: The pandas.datetime class is deprecated and will be removed from pandas in a future version. Import from datetime module instead.\n",
      "  \n"
     ]
    }
   ],
   "source": [
    "_timestamp = topics_data[\"Created\"].apply(get_date)"
   ]
  },
  {
   "cell_type": "code",
   "execution_count": 10,
   "metadata": {},
   "outputs": [],
   "source": [
    "topics_data = topics_data.assign(timestamp = _timestamp)"
   ]
  },
  {
   "cell_type": "code",
   "execution_count": 12,
   "metadata": {},
   "outputs": [],
   "source": [
    "topics_data = topics_data.replace(r'\\n',' ', regex=True)\n",
    "topics_data = topics_data.replace(r'-','\\n', regex=True)"
   ]
  },
  {
   "cell_type": "code",
   "execution_count": 13,
   "metadata": {},
   "outputs": [
    {
     "data": {
      "text/html": [
       "<div>\n",
       "<style scoped>\n",
       "    .dataframe tbody tr th:only-of-type {\n",
       "        vertical-align: middle;\n",
       "    }\n",
       "\n",
       "    .dataframe tbody tr th {\n",
       "        vertical-align: top;\n",
       "    }\n",
       "\n",
       "    .dataframe thead th {\n",
       "        text-align: right;\n",
       "    }\n",
       "</style>\n",
       "<table border=\"1\" class=\"dataframe\">\n",
       "  <thead>\n",
       "    <tr style=\"text-align: right;\">\n",
       "      <th></th>\n",
       "      <th>Title</th>\n",
       "      <th>Author</th>\n",
       "      <th>Score</th>\n",
       "      <th>Id</th>\n",
       "      <th>Url</th>\n",
       "      <th>Comms_num</th>\n",
       "      <th>Created</th>\n",
       "      <th>Body</th>\n",
       "      <th>timestamp</th>\n",
       "    </tr>\n",
       "  </thead>\n",
       "  <tbody>\n",
       "    <tr>\n",
       "      <th>0</th>\n",
       "      <td>Monthly Skeptics Discussion \\n May 2021</td>\n",
       "      <td>AutoModerator</td>\n",
       "      <td>255</td>\n",
       "      <td>n26p85</td>\n",
       "      <td>https://www.reddit.com/r/CryptoCurrency/commen...</td>\n",
       "      <td>1918</td>\n",
       "      <td>1.619856e+09</td>\n",
       "      <td>Welcome to the Monthly Skeptics Discussion thr...</td>\n",
       "      <td>2021-05-01 10:00:14</td>\n",
       "    </tr>\n",
       "    <tr>\n",
       "      <th>1</th>\n",
       "      <td>Daily Discussion \\n May 3, 2021 (GMT+0)</td>\n",
       "      <td>AutoModerator</td>\n",
       "      <td>409</td>\n",
       "      <td>n3j9vh</td>\n",
       "      <td>https://www.reddit.com/r/CryptoCurrency/commen...</td>\n",
       "      <td>24254</td>\n",
       "      <td>1.620029e+09</td>\n",
       "      <td>**Welcome to the Daily Discussion. Please read...</td>\n",
       "      <td>2021-05-03 10:00:15</td>\n",
       "    </tr>\n",
       "    <tr>\n",
       "      <th>2</th>\n",
       "      <td>How much will the price of Litecoin move by Mo...</td>\n",
       "      <td>nanooverbtc</td>\n",
       "      <td>6955</td>\n",
       "      <td>n43gno</td>\n",
       "      <td>https://www.reddit.com/r/CryptoCurrency/commen...</td>\n",
       "      <td>166</td>\n",
       "      <td>1.620095e+09</td>\n",
       "      <td>Reference price: $297.69  [Data will be source...</td>\n",
       "      <td>2021-05-04 04:27:42</td>\n",
       "    </tr>\n",
       "    <tr>\n",
       "      <th>3</th>\n",
       "      <td>How much will the price of VeChain move by Mon...</td>\n",
       "      <td>nanooverbtc</td>\n",
       "      <td>2945</td>\n",
       "      <td>n43ptn</td>\n",
       "      <td>https://www.reddit.com/r/CryptoCurrency/commen...</td>\n",
       "      <td>109</td>\n",
       "      <td>1.620096e+09</td>\n",
       "      <td>Reference price: $0.214936   [Data will be sou...</td>\n",
       "      <td>2021-05-04 04:37:46</td>\n",
       "    </tr>\n",
       "    <tr>\n",
       "      <th>4</th>\n",
       "      <td>My friend found his dogecoin core wallet form ...</td>\n",
       "      <td>Sovereign_Mind</td>\n",
       "      <td>5769</td>\n",
       "      <td>n3xin5</td>\n",
       "      <td>https://www.reddit.com/r/CryptoCurrency/commen...</td>\n",
       "      <td>1234</td>\n",
       "      <td>1.620081e+09</td>\n",
       "      <td>https://imgur.com/a/7u2yAYX  Says it changes h...</td>\n",
       "      <td>2021-05-04 00:29:33</td>\n",
       "    </tr>\n",
       "    <tr>\n",
       "      <th>...</th>\n",
       "      <td>...</td>\n",
       "      <td>...</td>\n",
       "      <td>...</td>\n",
       "      <td>...</td>\n",
       "      <td>...</td>\n",
       "      <td>...</td>\n",
       "      <td>...</td>\n",
       "      <td>...</td>\n",
       "      <td>...</td>\n",
       "    </tr>\n",
       "    <tr>\n",
       "      <th>95</th>\n",
       "      <td>$1.2 quadrillion dollars worth of money on the...</td>\n",
       "      <td>WorkerBee\\n3</td>\n",
       "      <td>20</td>\n",
       "      <td>n3x3er</td>\n",
       "      <td>https://www.reddit.com/r/CryptoCurrency/commen...</td>\n",
       "      <td>24</td>\n",
       "      <td>1.620080e+09</td>\n",
       "      <td>It'd hard to find a definite number to this, b...</td>\n",
       "      <td>2021-05-04 00:12:06</td>\n",
       "    </tr>\n",
       "    <tr>\n",
       "      <th>96</th>\n",
       "      <td>ETH Gas prices??</td>\n",
       "      <td>pat90000</td>\n",
       "      <td>25</td>\n",
       "      <td>n3vl71</td>\n",
       "      <td>https://www.reddit.com/r/CryptoCurrency/commen...</td>\n",
       "      <td>43</td>\n",
       "      <td>1.620076e+09</td>\n",
       "      <td>ETH Gas prices were 35 gwei last night. Why?  ...</td>\n",
       "      <td>2021-05-03 23:08:15</td>\n",
       "    </tr>\n",
       "    <tr>\n",
       "      <th>97</th>\n",
       "      <td>New crypto users that purchase new hardware wa...</td>\n",
       "      <td>seamonkey420</td>\n",
       "      <td>9</td>\n",
       "      <td>n433n5</td>\n",
       "      <td>https://www.reddit.com/r/CryptoCurrency/commen...</td>\n",
       "      <td>9</td>\n",
       "      <td>1.620094e+09</td>\n",
       "      <td>if you are a new Ledger or Treznor hardware wa...</td>\n",
       "      <td>2021-05-04 04:13:14</td>\n",
       "    </tr>\n",
       "    <tr>\n",
       "      <th>98</th>\n",
       "      <td>Today I just realised that \"Diamond hands\" is ...</td>\n",
       "      <td>look_its_dave</td>\n",
       "      <td>1686</td>\n",
       "      <td>n373g8</td>\n",
       "      <td>https://www.reddit.com/r/CryptoCurrency/commen...</td>\n",
       "      <td>288</td>\n",
       "      <td>1.619993e+09</td>\n",
       "      <td>There is an old quote in the world of trading ...</td>\n",
       "      <td>2021-05-03 00:10:06</td>\n",
       "    </tr>\n",
       "    <tr>\n",
       "      <th>99</th>\n",
       "      <td>Banks can no longer keep up being greedy, they...</td>\n",
       "      <td>AnonymousACM</td>\n",
       "      <td>10</td>\n",
       "      <td>n43z90</td>\n",
       "      <td>https://www.reddit.com/r/CryptoCurrency/commen...</td>\n",
       "      <td>16</td>\n",
       "      <td>1.620096e+09</td>\n",
       "      <td>Someone posted here yesterday how banks in Den...</td>\n",
       "      <td>2021-05-04 04:47:52</td>\n",
       "    </tr>\n",
       "  </tbody>\n",
       "</table>\n",
       "<p>100 rows × 9 columns</p>\n",
       "</div>"
      ],
      "text/plain": [
       "                                                Title          Author  Score  \\\n",
       "0             Monthly Skeptics Discussion \\n May 2021   AutoModerator    255   \n",
       "1             Daily Discussion \\n May 3, 2021 (GMT+0)   AutoModerator    409   \n",
       "2   How much will the price of Litecoin move by Mo...     nanooverbtc   6955   \n",
       "3   How much will the price of VeChain move by Mon...     nanooverbtc   2945   \n",
       "4   My friend found his dogecoin core wallet form ...  Sovereign_Mind   5769   \n",
       "..                                                ...             ...    ...   \n",
       "95  $1.2 quadrillion dollars worth of money on the...    WorkerBee\\n3     20   \n",
       "96                                   ETH Gas prices??        pat90000     25   \n",
       "97  New crypto users that purchase new hardware wa...    seamonkey420      9   \n",
       "98  Today I just realised that \"Diamond hands\" is ...   look_its_dave   1686   \n",
       "99  Banks can no longer keep up being greedy, they...    AnonymousACM     10   \n",
       "\n",
       "        Id                                                Url  Comms_num  \\\n",
       "0   n26p85  https://www.reddit.com/r/CryptoCurrency/commen...       1918   \n",
       "1   n3j9vh  https://www.reddit.com/r/CryptoCurrency/commen...      24254   \n",
       "2   n43gno  https://www.reddit.com/r/CryptoCurrency/commen...        166   \n",
       "3   n43ptn  https://www.reddit.com/r/CryptoCurrency/commen...        109   \n",
       "4   n3xin5  https://www.reddit.com/r/CryptoCurrency/commen...       1234   \n",
       "..     ...                                                ...        ...   \n",
       "95  n3x3er  https://www.reddit.com/r/CryptoCurrency/commen...         24   \n",
       "96  n3vl71  https://www.reddit.com/r/CryptoCurrency/commen...         43   \n",
       "97  n433n5  https://www.reddit.com/r/CryptoCurrency/commen...          9   \n",
       "98  n373g8  https://www.reddit.com/r/CryptoCurrency/commen...        288   \n",
       "99  n43z90  https://www.reddit.com/r/CryptoCurrency/commen...         16   \n",
       "\n",
       "         Created                                               Body  \\\n",
       "0   1.619856e+09  Welcome to the Monthly Skeptics Discussion thr...   \n",
       "1   1.620029e+09  **Welcome to the Daily Discussion. Please read...   \n",
       "2   1.620095e+09  Reference price: $297.69  [Data will be source...   \n",
       "3   1.620096e+09  Reference price: $0.214936   [Data will be sou...   \n",
       "4   1.620081e+09  https://imgur.com/a/7u2yAYX  Says it changes h...   \n",
       "..           ...                                                ...   \n",
       "95  1.620080e+09  It'd hard to find a definite number to this, b...   \n",
       "96  1.620076e+09  ETH Gas prices were 35 gwei last night. Why?  ...   \n",
       "97  1.620094e+09  if you are a new Ledger or Treznor hardware wa...   \n",
       "98  1.619993e+09  There is an old quote in the world of trading ...   \n",
       "99  1.620096e+09  Someone posted here yesterday how banks in Den...   \n",
       "\n",
       "             timestamp  \n",
       "0  2021-05-01 10:00:14  \n",
       "1  2021-05-03 10:00:15  \n",
       "2  2021-05-04 04:27:42  \n",
       "3  2021-05-04 04:37:46  \n",
       "4  2021-05-04 00:29:33  \n",
       "..                 ...  \n",
       "95 2021-05-04 00:12:06  \n",
       "96 2021-05-03 23:08:15  \n",
       "97 2021-05-04 04:13:14  \n",
       "98 2021-05-03 00:10:06  \n",
       "99 2021-05-04 04:47:52  \n",
       "\n",
       "[100 rows x 9 columns]"
      ]
     },
     "execution_count": 13,
     "metadata": {},
     "output_type": "execute_result"
    }
   ],
   "source": [
    "topics_data"
   ]
  },
  {
   "cell_type": "code",
   "execution_count": null,
   "metadata": {},
   "outputs": [],
   "source": []
  }
 ],
 "metadata": {
  "kernelspec": {
   "display_name": "Python 3",
   "language": "python",
   "name": "python3"
  },
  "language_info": {
   "codemirror_mode": {
    "name": "ipython",
    "version": 3
   },
   "file_extension": ".py",
   "mimetype": "text/x-python",
   "name": "python",
   "nbconvert_exporter": "python",
   "pygments_lexer": "ipython3",
   "version": "3.7.4"
  }
 },
 "nbformat": 4,
 "nbformat_minor": 4
}
