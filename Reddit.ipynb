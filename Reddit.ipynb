{
 "cells": [
  {
   "cell_type": "markdown",
   "metadata": {},
   "source": [
    "# <center> Reddit </center>"
   ]
  },
  {
   "cell_type": "markdown",
   "metadata": {},
   "source": [
    "This notebook aims to collect articles on reddit talking about crypto currency "
   ]
  },
  {
   "cell_type": "markdown",
   "metadata": {},
   "source": [
    "## Import of libraries "
   ]
  },
  {
   "cell_type": "code",
   "execution_count": 1,
   "metadata": {},
   "outputs": [],
   "source": [
    "import praw\n",
    "import pandas as pd\n",
    "import regex as re"
   ]
  },
  {
   "cell_type": "markdown",
   "metadata": {},
   "source": [
    "# Algorithmes"
   ]
  },
  {
   "cell_type": "code",
   "execution_count": 2,
   "metadata": {},
   "outputs": [],
   "source": [
    "reddit = praw.Reddit(client_id=\"P_4F5vivJ4l-Fw\",#My client id\n",
    "                     client_secret=\"FGOVdro6W27fBX3m7ZhIPXjRoM0Zkw\",  #My client secret\n",
    "                     user_agent=\"recover_crypto\", #user agent name\n",
    "                     username = \"quentin_pierson\")     # your reddit username"
   ]
  },
  {
   "cell_type": "markdown",
   "metadata": {},
   "source": [
    "### Get the topic from the reddit"
   ]
  },
  {
   "cell_type": "code",
   "execution_count": 3,
   "metadata": {},
   "outputs": [],
   "source": [
    "subreddit = reddit.subreddit('CryptoCurrency')"
   ]
  },
  {
   "cell_type": "raw",
   "metadata": {},
   "source": [
    "Hot \n",
    "Top \n",
    "new"
   ]
  },
  {
   "cell_type": "code",
   "execution_count": 4,
   "metadata": {},
   "outputs": [],
   "source": [
    "top_subreddit = subreddit.hot(limit=500)"
   ]
  },
  {
   "cell_type": "code",
   "execution_count": 5,
   "metadata": {},
   "outputs": [],
   "source": [
    "topics_dict = { \"Title\":[], \n",
    "               \"Author\":[],\n",
    "                \"Score\":[], \n",
    "                \"Id\":[], \n",
    "                \"Url\":[], \n",
    "                \"Comms_num\": [], \n",
    "                \"Created\": [], \n",
    "                \"Body\":[]\n",
    "              }"
   ]
  },
  {
   "cell_type": "code",
   "execution_count": 6,
   "metadata": {},
   "outputs": [],
   "source": [
    "for submission in top_subreddit:\n",
    "    topics_dict[\"Title\"].append(submission.title)\n",
    "    topics_dict[\"Author\"].append(submission.author.name)\n",
    "    topics_dict[\"Score\"].append(submission.score)\n",
    "    topics_dict[\"Id\"].append(submission.id)\n",
    "    topics_dict[\"Url\"].append(submission.url)\n",
    "    topics_dict[\"Comms_num\"].append(submission.num_comments)\n",
    "    topics_dict[\"Created\"].append(submission.created)\n",
    "    topics_dict[\"Body\"].append(submission.selftext)"
   ]
  },
  {
   "cell_type": "code",
   "execution_count": 7,
   "metadata": {},
   "outputs": [],
   "source": [
    "topics_data = pd.DataFrame(topics_dict)"
   ]
  },
  {
   "cell_type": "markdown",
   "metadata": {},
   "source": [
    "## Add date to dataframe  "
   ]
  },
  {
   "cell_type": "code",
   "execution_count": 8,
   "metadata": {},
   "outputs": [],
   "source": [
    "def get_date(created):\n",
    "    return pd.datetime.fromtimestamp(created)"
   ]
  },
  {
   "cell_type": "code",
   "execution_count": 9,
   "metadata": {},
   "outputs": [
    {
     "name": "stderr",
     "output_type": "stream",
     "text": [
      "/Users/quentinpierson/env/lib/python3.7/site-packages/ipykernel_launcher.py:2: FutureWarning: The pandas.datetime class is deprecated and will be removed from pandas in a future version. Import from datetime module instead.\n",
      "  \n"
     ]
    }
   ],
   "source": [
    "_timestamp = topics_data[\"Created\"].apply(get_date)"
   ]
  },
  {
   "cell_type": "code",
   "execution_count": 10,
   "metadata": {},
   "outputs": [],
   "source": [
    "topics_data = topics_data.assign(timestamp = _timestamp)"
   ]
  },
  {
   "cell_type": "code",
   "execution_count": 11,
   "metadata": {},
   "outputs": [],
   "source": [
    "topics_data = topics_data.replace(r'\\n',' ', regex=True)\n",
    "topics_data = topics_data.replace(r'-','\\n', regex=True)"
   ]
  },
  {
   "cell_type": "code",
   "execution_count": 13,
   "metadata": {},
   "outputs": [],
   "source": [
    "#topics_data['Body'] = topics_data['Body'].map(lambda x: re.sub(r'\\W+',' ', x))\n",
    "topics_data['Body'] = topics_data['Body'].map(lambda x: re.sub(r'[*]',' ', x))"
   ]
  },
  {
   "cell_type": "code",
   "execution_count": 14,
   "metadata": {},
   "outputs": [
    {
     "data": {
      "text/html": [
       "<div>\n",
       "<style scoped>\n",
       "    .dataframe tbody tr th:only-of-type {\n",
       "        vertical-align: middle;\n",
       "    }\n",
       "\n",
       "    .dataframe tbody tr th {\n",
       "        vertical-align: top;\n",
       "    }\n",
       "\n",
       "    .dataframe thead th {\n",
       "        text-align: right;\n",
       "    }\n",
       "</style>\n",
       "<table border=\"1\" class=\"dataframe\">\n",
       "  <thead>\n",
       "    <tr style=\"text-align: right;\">\n",
       "      <th></th>\n",
       "      <th>Title</th>\n",
       "      <th>Author</th>\n",
       "      <th>Score</th>\n",
       "      <th>Id</th>\n",
       "      <th>Url</th>\n",
       "      <th>Comms_num</th>\n",
       "      <th>Created</th>\n",
       "      <th>Body</th>\n",
       "      <th>timestamp</th>\n",
       "    </tr>\n",
       "  </thead>\n",
       "  <tbody>\n",
       "    <tr>\n",
       "      <th>0</th>\n",
       "      <td>Monthly Skeptics Discussion \\n May 2021</td>\n",
       "      <td>AutoModerator</td>\n",
       "      <td>332</td>\n",
       "      <td>n26p85</td>\n",
       "      <td>https://www.reddit.com/r/CryptoCurrency/commen...</td>\n",
       "      <td>2475</td>\n",
       "      <td>1.619856e+09</td>\n",
       "      <td>Welcome to the Monthly Skeptics Discussion thr...</td>\n",
       "      <td>2021-05-01 10:00:14</td>\n",
       "    </tr>\n",
       "    <tr>\n",
       "      <th>1</th>\n",
       "      <td>Daily Discussion \\n May 4, 2021 (GMT+0)</td>\n",
       "      <td>AutoModerator</td>\n",
       "      <td>206</td>\n",
       "      <td>n4b4j3</td>\n",
       "      <td>https://www.reddit.com/r/CryptoCurrency/commen...</td>\n",
       "      <td>10036</td>\n",
       "      <td>1.620115e+09</td>\n",
       "      <td>Welcome to the Daily Discussion. Please read...</td>\n",
       "      <td>2021-05-04 10:00:15</td>\n",
       "    </tr>\n",
       "    <tr>\n",
       "      <th>2</th>\n",
       "      <td>How much will the price of VeChain move by Mon...</td>\n",
       "      <td>nanooverbtc</td>\n",
       "      <td>12901</td>\n",
       "      <td>n43ptn</td>\n",
       "      <td>https://www.reddit.com/r/CryptoCurrency/commen...</td>\n",
       "      <td>153</td>\n",
       "      <td>1.620096e+09</td>\n",
       "      <td>Reference price: $0.214936   [Data will be sou...</td>\n",
       "      <td>2021-05-04 04:37:46</td>\n",
       "    </tr>\n",
       "    <tr>\n",
       "      <th>3</th>\n",
       "      <td>How much will the price of Litecoin move by Mo...</td>\n",
       "      <td>nanooverbtc</td>\n",
       "      <td>27097</td>\n",
       "      <td>n43gno</td>\n",
       "      <td>https://www.reddit.com/r/CryptoCurrency/commen...</td>\n",
       "      <td>389</td>\n",
       "      <td>1.620095e+09</td>\n",
       "      <td>Reference price: $297.69  [Data will be source...</td>\n",
       "      <td>2021-05-04 04:27:42</td>\n",
       "    </tr>\n",
       "    <tr>\n",
       "      <th>4</th>\n",
       "      <td>How much will the price of Stellar move by Mon...</td>\n",
       "      <td>nanooverbtc</td>\n",
       "      <td>9897</td>\n",
       "      <td>n43upm</td>\n",
       "      <td>https://www.reddit.com/r/CryptoCurrency/commen...</td>\n",
       "      <td>117</td>\n",
       "      <td>1.620096e+09</td>\n",
       "      <td>Reference price: $0.558745  [Data will be sour...</td>\n",
       "      <td>2021-05-04 04:43:04</td>\n",
       "    </tr>\n",
       "    <tr>\n",
       "      <th>5</th>\n",
       "      <td>How much will the price of Bitcoin Cash move b...</td>\n",
       "      <td>nanooverbtc</td>\n",
       "      <td>8727</td>\n",
       "      <td>n43k6m</td>\n",
       "      <td>https://www.reddit.com/r/CryptoCurrency/commen...</td>\n",
       "      <td>91</td>\n",
       "      <td>1.620095e+09</td>\n",
       "      <td>Reference price: $1,035.19  [Data will be sour...</td>\n",
       "      <td>2021-05-04 04:31:32</td>\n",
       "    </tr>\n",
       "    <tr>\n",
       "      <th>6</th>\n",
       "      <td>How much will the price of Chainlink move by M...</td>\n",
       "      <td>nanooverbtc</td>\n",
       "      <td>7418</td>\n",
       "      <td>n43nup</td>\n",
       "      <td>https://www.reddit.com/r/CryptoCurrency/commen...</td>\n",
       "      <td>65</td>\n",
       "      <td>1.620096e+09</td>\n",
       "      <td>Reference price: $41.56   [Data will be source...</td>\n",
       "      <td>2021-05-04 04:35:24</td>\n",
       "    </tr>\n",
       "    <tr>\n",
       "      <th>7</th>\n",
       "      <td>How much will the price of THETA move by Monda...</td>\n",
       "      <td>nanooverbtc</td>\n",
       "      <td>6182</td>\n",
       "      <td>n43yph</td>\n",
       "      <td>https://www.reddit.com/r/CryptoCurrency/commen...</td>\n",
       "      <td>80</td>\n",
       "      <td>1.620096e+09</td>\n",
       "      <td>Reference price: $11.98  [Data will be sourced...</td>\n",
       "      <td>2021-05-04 04:47:14</td>\n",
       "    </tr>\n",
       "    <tr>\n",
       "      <th>8</th>\n",
       "      <td>How much will the price of Solana move by Mond...</td>\n",
       "      <td>nanooverbtc</td>\n",
       "      <td>5016</td>\n",
       "      <td>n43ssx</td>\n",
       "      <td>https://www.reddit.com/r/CryptoCurrency/commen...</td>\n",
       "      <td>70</td>\n",
       "      <td>1.620096e+09</td>\n",
       "      <td>Reference price: $47.20  [Data will be sourced...</td>\n",
       "      <td>2021-05-04 04:41:03</td>\n",
       "    </tr>\n",
       "    <tr>\n",
       "      <th>9</th>\n",
       "      <td>I am a small town barber and for the first tim...</td>\n",
       "      <td>rubiksbox</td>\n",
       "      <td>1501</td>\n",
       "      <td>n49c2b</td>\n",
       "      <td>https://www.reddit.com/r/CryptoCurrency/commen...</td>\n",
       "      <td>171</td>\n",
       "      <td>1.620110e+09</td>\n",
       "      <td>I am a small town barber and for the first tim...</td>\n",
       "      <td>2021-05-04 08:33:09</td>\n",
       "    </tr>\n",
       "  </tbody>\n",
       "</table>\n",
       "</div>"
      ],
      "text/plain": [
       "                                               Title         Author  Score  \\\n",
       "0            Monthly Skeptics Discussion \\n May 2021  AutoModerator    332   \n",
       "1            Daily Discussion \\n May 4, 2021 (GMT+0)  AutoModerator    206   \n",
       "2  How much will the price of VeChain move by Mon...    nanooverbtc  12901   \n",
       "3  How much will the price of Litecoin move by Mo...    nanooverbtc  27097   \n",
       "4  How much will the price of Stellar move by Mon...    nanooverbtc   9897   \n",
       "5  How much will the price of Bitcoin Cash move b...    nanooverbtc   8727   \n",
       "6  How much will the price of Chainlink move by M...    nanooverbtc   7418   \n",
       "7  How much will the price of THETA move by Monda...    nanooverbtc   6182   \n",
       "8  How much will the price of Solana move by Mond...    nanooverbtc   5016   \n",
       "9  I am a small town barber and for the first tim...      rubiksbox   1501   \n",
       "\n",
       "       Id                                                Url  Comms_num  \\\n",
       "0  n26p85  https://www.reddit.com/r/CryptoCurrency/commen...       2475   \n",
       "1  n4b4j3  https://www.reddit.com/r/CryptoCurrency/commen...      10036   \n",
       "2  n43ptn  https://www.reddit.com/r/CryptoCurrency/commen...        153   \n",
       "3  n43gno  https://www.reddit.com/r/CryptoCurrency/commen...        389   \n",
       "4  n43upm  https://www.reddit.com/r/CryptoCurrency/commen...        117   \n",
       "5  n43k6m  https://www.reddit.com/r/CryptoCurrency/commen...         91   \n",
       "6  n43nup  https://www.reddit.com/r/CryptoCurrency/commen...         65   \n",
       "7  n43yph  https://www.reddit.com/r/CryptoCurrency/commen...         80   \n",
       "8  n43ssx  https://www.reddit.com/r/CryptoCurrency/commen...         70   \n",
       "9  n49c2b  https://www.reddit.com/r/CryptoCurrency/commen...        171   \n",
       "\n",
       "        Created                                               Body  \\\n",
       "0  1.619856e+09  Welcome to the Monthly Skeptics Discussion thr...   \n",
       "1  1.620115e+09    Welcome to the Daily Discussion. Please read...   \n",
       "2  1.620096e+09  Reference price: $0.214936   [Data will be sou...   \n",
       "3  1.620095e+09  Reference price: $297.69  [Data will be source...   \n",
       "4  1.620096e+09  Reference price: $0.558745  [Data will be sour...   \n",
       "5  1.620095e+09  Reference price: $1,035.19  [Data will be sour...   \n",
       "6  1.620096e+09  Reference price: $41.56   [Data will be source...   \n",
       "7  1.620096e+09  Reference price: $11.98  [Data will be sourced...   \n",
       "8  1.620096e+09  Reference price: $47.20  [Data will be sourced...   \n",
       "9  1.620110e+09  I am a small town barber and for the first tim...   \n",
       "\n",
       "            timestamp  \n",
       "0 2021-05-01 10:00:14  \n",
       "1 2021-05-04 10:00:15  \n",
       "2 2021-05-04 04:37:46  \n",
       "3 2021-05-04 04:27:42  \n",
       "4 2021-05-04 04:43:04  \n",
       "5 2021-05-04 04:31:32  \n",
       "6 2021-05-04 04:35:24  \n",
       "7 2021-05-04 04:47:14  \n",
       "8 2021-05-04 04:41:03  \n",
       "9 2021-05-04 08:33:09  "
      ]
     },
     "execution_count": 14,
     "metadata": {},
     "output_type": "execute_result"
    }
   ],
   "source": [
    "topics_data"
   ]
  },
  {
   "cell_type": "code",
   "execution_count": null,
   "metadata": {},
   "outputs": [],
   "source": []
  }
 ],
 "metadata": {
  "kernelspec": {
   "display_name": "Python 3",
   "language": "python",
   "name": "python3"
  },
  "language_info": {
   "codemirror_mode": {
    "name": "ipython",
    "version": 3
   },
   "file_extension": ".py",
   "mimetype": "text/x-python",
   "name": "python",
   "nbconvert_exporter": "python",
   "pygments_lexer": "ipython3",
   "version": "3.7.4"
  }
 },
 "nbformat": 4,
 "nbformat_minor": 4
}
