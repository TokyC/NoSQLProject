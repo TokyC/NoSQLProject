{
 "cells": [
  {
   "cell_type": "markdown",
   "metadata": {},
   "source": [
    "# <center> Reddit </center>"
   ]
  },
  {
   "cell_type": "markdown",
   "metadata": {},
   "source": [
    "This notebook aims to collect articles on reddit talking about crypto currency "
   ]
  },
  {
   "cell_type": "markdown",
   "metadata": {},
   "source": [
    "## Import of libraries "
   ]
  },
  {
   "cell_type": "code",
   "execution_count": 1,
   "metadata": {},
   "outputs": [],
   "source": [
    "import praw\n",
    "import pandas as pd"
   ]
  },
  {
   "cell_type": "markdown",
   "metadata": {},
   "source": [
    "# Algorithmes"
   ]
  },
  {
   "cell_type": "code",
   "execution_count": 2,
   "metadata": {},
   "outputs": [],
   "source": [
    "reddit = praw.Reddit(client_id=\"P_4F5vivJ4l-Fw\",#My client id\n",
    "                     client_secret=\"FGOVdro6W27fBX3m7ZhIPXjRoM0Zkw\",  #My client secret\n",
    "                     user_agent=\"recover_crypto\", #user agent name\n",
    "                     username = \"quentin_pierson\")     # your reddit username"
   ]
  },
  {
   "cell_type": "markdown",
   "metadata": {},
   "source": [
    "### Get the topic from the reddit"
   ]
  },
  {
   "cell_type": "code",
   "execution_count": 3,
   "metadata": {},
   "outputs": [],
   "source": [
    "subreddit = reddit.subreddit('CryptoCurrency')"
   ]
  },
  {
   "cell_type": "code",
   "execution_count": 4,
   "metadata": {},
   "outputs": [],
   "source": [
    "top_subreddit = subreddit.hot(limit=100)"
   ]
  },
  {
   "cell_type": "code",
   "execution_count": 5,
   "metadata": {},
   "outputs": [],
   "source": [
    "topics_dict = { \"Title\":[], \n",
    "               \"Author\":[],\n",
    "                \"Score\":[], \n",
    "                \"Id\":[], \n",
    "                \"Url\":[], \n",
    "                \"Comms_num\": [], \n",
    "                \"Created\": [], \n",
    "                \"Body\":[]\n",
    "              }"
   ]
  },
  {
   "cell_type": "code",
   "execution_count": 6,
   "metadata": {},
   "outputs": [],
   "source": [
    "for submission in top_subreddit:\n",
    "    topics_dict[\"Title\"].append(submission.title)\n",
    "    topics_dict[\"Author\"].append(submission.author.name)\n",
    "    topics_dict[\"Score\"].append(submission.score)\n",
    "    topics_dict[\"Id\"].append(submission.id)\n",
    "    topics_dict[\"Url\"].append(submission.url)\n",
    "    topics_dict[\"Comms_num\"].append(submission.num_comments)\n",
    "    topics_dict[\"Created\"].append(submission.created)\n",
    "    topics_dict[\"Body\"].append(submission.selftext)"
   ]
  },
  {
   "cell_type": "code",
   "execution_count": 7,
   "metadata": {},
   "outputs": [],
   "source": [
    "topics_data = pd.DataFrame(topics_dict)"
   ]
  },
  {
   "cell_type": "markdown",
   "metadata": {},
   "source": [
    "## Add date to dataframe  "
   ]
  },
  {
   "cell_type": "code",
   "execution_count": 8,
   "metadata": {},
   "outputs": [],
   "source": [
    "def get_date(created):\n",
    "    return pd.datetime.fromtimestamp(created)"
   ]
  },
  {
   "cell_type": "code",
   "execution_count": 9,
   "metadata": {},
   "outputs": [
    {
     "name": "stderr",
     "output_type": "stream",
     "text": [
      "/Users/quentinpierson/env/lib/python3.7/site-packages/ipykernel_launcher.py:2: FutureWarning: The pandas.datetime class is deprecated and will be removed from pandas in a future version. Import from datetime module instead.\n",
      "  \n"
     ]
    }
   ],
   "source": [
    "_timestamp = topics_data[\"Created\"].apply(get_date)"
   ]
  },
  {
   "cell_type": "code",
   "execution_count": 10,
   "metadata": {},
   "outputs": [
    {
     "data": {
      "text/html": [
       "<div>\n",
       "<style scoped>\n",
       "    .dataframe tbody tr th:only-of-type {\n",
       "        vertical-align: middle;\n",
       "    }\n",
       "\n",
       "    .dataframe tbody tr th {\n",
       "        vertical-align: top;\n",
       "    }\n",
       "\n",
       "    .dataframe thead th {\n",
       "        text-align: right;\n",
       "    }\n",
       "</style>\n",
       "<table border=\"1\" class=\"dataframe\">\n",
       "  <thead>\n",
       "    <tr style=\"text-align: right;\">\n",
       "      <th></th>\n",
       "      <th>Title</th>\n",
       "      <th>Author</th>\n",
       "      <th>Score</th>\n",
       "      <th>Id</th>\n",
       "      <th>Url</th>\n",
       "      <th>Comms_num</th>\n",
       "      <th>Created</th>\n",
       "      <th>Body</th>\n",
       "      <th>timestamp</th>\n",
       "    </tr>\n",
       "  </thead>\n",
       "  <tbody>\n",
       "    <tr>\n",
       "      <th>0</th>\n",
       "      <td>New Moons Distribution (Round 12 Proposal)</td>\n",
       "      <td>CommunityPoints</td>\n",
       "      <td>787</td>\n",
       "      <td>mr04qf</td>\n",
       "      <td>https://www.reddit.com/r/CryptoCurrency/commen...</td>\n",
       "      <td>1385</td>\n",
       "      <td>1.618463e+09</td>\n",
       "      <td>UPDATE (4/14): A bonus for voting in governanc...</td>\n",
       "      <td>2021-04-15 07:10:50</td>\n",
       "    </tr>\n",
       "    <tr>\n",
       "      <th>1</th>\n",
       "      <td>Daily Discussion - April 19, 2021 (GMT+0)</td>\n",
       "      <td>AutoModerator</td>\n",
       "      <td>272</td>\n",
       "      <td>mtopn4</td>\n",
       "      <td>https://www.reddit.com/r/CryptoCurrency/commen...</td>\n",
       "      <td>7097</td>\n",
       "      <td>1.618819e+09</td>\n",
       "      <td>**Welcome to the Daily Discussion. Please read...</td>\n",
       "      <td>2021-04-19 10:00:23</td>\n",
       "    </tr>\n",
       "    <tr>\n",
       "      <th>2</th>\n",
       "      <td>What are some ways to earn some crypto (2$ for...</td>\n",
       "      <td>Duk01001111bito</td>\n",
       "      <td>16962</td>\n",
       "      <td>mtghzc</td>\n",
       "      <td>https://www.reddit.com/r/CryptoCurrency/commen...</td>\n",
       "      <td>7588</td>\n",
       "      <td>1.618793e+09</td>\n",
       "      <td>I live in a third world country and even 2 dol...</td>\n",
       "      <td>2021-04-19 02:49:42</td>\n",
       "    </tr>\n",
       "    <tr>\n",
       "      <th>3</th>\n",
       "      <td>DO NOT use Robinhood to buy Crypto Currency</td>\n",
       "      <td>does_my_name_suck</td>\n",
       "      <td>1121</td>\n",
       "      <td>mto6ee</td>\n",
       "      <td>https://www.reddit.com/r/CryptoCurrency/commen...</td>\n",
       "      <td>430</td>\n",
       "      <td>1.618817e+09</td>\n",
       "      <td>There are a lot of new members coming due to t...</td>\n",
       "      <td>2021-04-19 09:29:19</td>\n",
       "    </tr>\n",
       "    <tr>\n",
       "      <th>4</th>\n",
       "      <td>Anti-coin neighbor gleefully asked me what I w...</td>\n",
       "      <td>DeMiko</td>\n",
       "      <td>1798</td>\n",
       "      <td>mtl5qk</td>\n",
       "      <td>https://www.reddit.com/r/CryptoCurrency/commen...</td>\n",
       "      <td>545</td>\n",
       "      <td>1.618808e+09</td>\n",
       "      <td>I get on ok with a neighbor and we talk invest...</td>\n",
       "      <td>2021-04-19 06:49:01</td>\n",
       "    </tr>\n",
       "    <tr>\n",
       "      <th>...</th>\n",
       "      <td>...</td>\n",
       "      <td>...</td>\n",
       "      <td>...</td>\n",
       "      <td>...</td>\n",
       "      <td>...</td>\n",
       "      <td>...</td>\n",
       "      <td>...</td>\n",
       "      <td>...</td>\n",
       "      <td>...</td>\n",
       "    </tr>\n",
       "    <tr>\n",
       "      <th>95</th>\n",
       "      <td>In June 2017 ETH almost became the number one ...</td>\n",
       "      <td>BakedEnt</td>\n",
       "      <td>6</td>\n",
       "      <td>mtv9hk</td>\n",
       "      <td>https://coinmarketcap.com/historical/20170611//</td>\n",
       "      <td>25</td>\n",
       "      <td>1.618845e+09</td>\n",
       "      <td></td>\n",
       "      <td>2021-04-19 17:14:36</td>\n",
       "    </tr>\n",
       "    <tr>\n",
       "      <th>96</th>\n",
       "      <td>On rational understanding the value of dogecoin</td>\n",
       "      <td>Roundoff</td>\n",
       "      <td>8</td>\n",
       "      <td>mtv2f1</td>\n",
       "      <td>https://www.reddit.com/r/CryptoCurrency/commen...</td>\n",
       "      <td>27</td>\n",
       "      <td>1.618844e+09</td>\n",
       "      <td>0.0047 on Jan 1, 2021, dogecoin's value has ri...</td>\n",
       "      <td>2021-04-19 16:59:21</td>\n",
       "    </tr>\n",
       "    <tr>\n",
       "      <th>97</th>\n",
       "      <td>Would it be better to invest $1K into BTC or $...</td>\n",
       "      <td>Teddysean</td>\n",
       "      <td>6</td>\n",
       "      <td>mtvnqx</td>\n",
       "      <td>https://www.reddit.com/r/CryptoCurrency/commen...</td>\n",
       "      <td>15</td>\n",
       "      <td>1.618847e+09</td>\n",
       "      <td>I'm new to crypto, and unlike the traditional ...</td>\n",
       "      <td>2021-04-19 17:47:41</td>\n",
       "    </tr>\n",
       "    <tr>\n",
       "      <th>98</th>\n",
       "      <td>ROBINhood Friendly Reminder: Don’t buy Bitcoin...</td>\n",
       "      <td>thebeast0715</td>\n",
       "      <td>17</td>\n",
       "      <td>mtqt7p</td>\n",
       "      <td>https://www.reddit.com/r/CryptoCurrency/commen...</td>\n",
       "      <td>37</td>\n",
       "      <td>1.618827e+09</td>\n",
       "      <td>You have no control over your coins. This mean...</td>\n",
       "      <td>2021-04-19 12:06:40</td>\n",
       "    </tr>\n",
       "    <tr>\n",
       "      <th>99</th>\n",
       "      <td>How to Read &amp; Analyze a Crypto Coin Whitepaper</td>\n",
       "      <td>dancurranjr</td>\n",
       "      <td>22</td>\n",
       "      <td>mtq564</td>\n",
       "      <td>https://www.reddit.com/r/CryptoCurrency/commen...</td>\n",
       "      <td>20</td>\n",
       "      <td>1.618824e+09</td>\n",
       "      <td>In response to a redditer's question I posted ...</td>\n",
       "      <td>2021-04-19 11:25:45</td>\n",
       "    </tr>\n",
       "  </tbody>\n",
       "</table>\n",
       "<p>100 rows × 9 columns</p>\n",
       "</div>"
      ],
      "text/plain": [
       "                                                Title             Author  \\\n",
       "0          New Moons Distribution (Round 12 Proposal)    CommunityPoints   \n",
       "1           Daily Discussion - April 19, 2021 (GMT+0)      AutoModerator   \n",
       "2   What are some ways to earn some crypto (2$ for...    Duk01001111bito   \n",
       "3         DO NOT use Robinhood to buy Crypto Currency  does_my_name_suck   \n",
       "4   Anti-coin neighbor gleefully asked me what I w...             DeMiko   \n",
       "..                                                ...                ...   \n",
       "95  In June 2017 ETH almost became the number one ...           BakedEnt   \n",
       "96    On rational understanding the value of dogecoin           Roundoff   \n",
       "97  Would it be better to invest $1K into BTC or $...          Teddysean   \n",
       "98  ROBINhood Friendly Reminder: Don’t buy Bitcoin...       thebeast0715   \n",
       "99     How to Read & Analyze a Crypto Coin Whitepaper        dancurranjr   \n",
       "\n",
       "    Score      Id                                                Url  \\\n",
       "0     787  mr04qf  https://www.reddit.com/r/CryptoCurrency/commen...   \n",
       "1     272  mtopn4  https://www.reddit.com/r/CryptoCurrency/commen...   \n",
       "2   16962  mtghzc  https://www.reddit.com/r/CryptoCurrency/commen...   \n",
       "3    1121  mto6ee  https://www.reddit.com/r/CryptoCurrency/commen...   \n",
       "4    1798  mtl5qk  https://www.reddit.com/r/CryptoCurrency/commen...   \n",
       "..    ...     ...                                                ...   \n",
       "95      6  mtv9hk    https://coinmarketcap.com/historical/20170611//   \n",
       "96      8  mtv2f1  https://www.reddit.com/r/CryptoCurrency/commen...   \n",
       "97      6  mtvnqx  https://www.reddit.com/r/CryptoCurrency/commen...   \n",
       "98     17  mtqt7p  https://www.reddit.com/r/CryptoCurrency/commen...   \n",
       "99     22  mtq564  https://www.reddit.com/r/CryptoCurrency/commen...   \n",
       "\n",
       "    Comms_num       Created  \\\n",
       "0        1385  1.618463e+09   \n",
       "1        7097  1.618819e+09   \n",
       "2        7588  1.618793e+09   \n",
       "3         430  1.618817e+09   \n",
       "4         545  1.618808e+09   \n",
       "..        ...           ...   \n",
       "95         25  1.618845e+09   \n",
       "96         27  1.618844e+09   \n",
       "97         15  1.618847e+09   \n",
       "98         37  1.618827e+09   \n",
       "99         20  1.618824e+09   \n",
       "\n",
       "                                                 Body           timestamp  \n",
       "0   UPDATE (4/14): A bonus for voting in governanc... 2021-04-15 07:10:50  \n",
       "1   **Welcome to the Daily Discussion. Please read... 2021-04-19 10:00:23  \n",
       "2   I live in a third world country and even 2 dol... 2021-04-19 02:49:42  \n",
       "3   There are a lot of new members coming due to t... 2021-04-19 09:29:19  \n",
       "4   I get on ok with a neighbor and we talk invest... 2021-04-19 06:49:01  \n",
       "..                                                ...                 ...  \n",
       "95                                                    2021-04-19 17:14:36  \n",
       "96  0.0047 on Jan 1, 2021, dogecoin's value has ri... 2021-04-19 16:59:21  \n",
       "97  I'm new to crypto, and unlike the traditional ... 2021-04-19 17:47:41  \n",
       "98  You have no control over your coins. This mean... 2021-04-19 12:06:40  \n",
       "99  In response to a redditer's question I posted ... 2021-04-19 11:25:45  \n",
       "\n",
       "[100 rows x 9 columns]"
      ]
     },
     "execution_count": 10,
     "metadata": {},
     "output_type": "execute_result"
    }
   ],
   "source": [
    "topics_data = topics_data.assign(timestamp = _timestamp)\n",
    "topics_data"
   ]
  },
  {
   "cell_type": "code",
   "execution_count": null,
   "metadata": {},
   "outputs": [],
   "source": []
  }
 ],
 "metadata": {
  "kernelspec": {
   "display_name": "Python 3",
   "language": "python",
   "name": "python3"
  },
  "language_info": {
   "codemirror_mode": {
    "name": "ipython",
    "version": 3
   },
   "file_extension": ".py",
   "mimetype": "text/x-python",
   "name": "python",
   "nbconvert_exporter": "python",
   "pygments_lexer": "ipython3",
   "version": "3.7.4"
  }
 },
 "nbformat": 4,
 "nbformat_minor": 4
}
