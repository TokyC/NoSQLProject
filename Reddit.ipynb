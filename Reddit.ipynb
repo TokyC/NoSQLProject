{
 "cells": [
  {
   "cell_type": "markdown",
   "metadata": {},
   "source": [
    "# <center> Reddit </center>"
   ]
  },
  {
   "cell_type": "markdown",
   "metadata": {},
   "source": [
    "This notebook aims to collect articles on reddit talking about crypto currency "
   ]
  },
  {
   "cell_type": "markdown",
   "metadata": {},
   "source": [
    "## Import of libraries "
   ]
  },
  {
   "cell_type": "code",
   "execution_count": 1,
   "metadata": {},
   "outputs": [],
   "source": [
    "import praw\n",
    "import pandas as pd"
   ]
  },
  {
   "cell_type": "markdown",
   "metadata": {},
   "source": [
    "# Algorithmes"
   ]
  },
  {
   "cell_type": "code",
   "execution_count": 2,
   "metadata": {},
   "outputs": [],
   "source": [
    "reddit = praw.Reddit(client_id=\"P_4F5vivJ4l-Fw\",#My client id\n",
    "                     client_secret=\"FGOVdro6W27fBX3m7ZhIPXjRoM0Zkw\",  #My client secret\n",
    "                     user_agent=\"recover_crypto\", #user agent name\n",
    "                     username = \"quentin_pierson\")     # your reddit username"
   ]
  },
  {
   "cell_type": "markdown",
   "metadata": {},
   "source": [
    "### Get the topic from the reddit"
   ]
  },
  {
   "cell_type": "code",
   "execution_count": 3,
   "metadata": {},
   "outputs": [],
   "source": [
    "subreddit = reddit.subreddit('CryptoCurrency')"
   ]
  },
  {
   "cell_type": "code",
   "execution_count": 4,
   "metadata": {},
   "outputs": [],
   "source": [
    "top_subreddit = subreddit.hot(limit=100)"
   ]
  },
  {
   "cell_type": "code",
   "execution_count": 5,
   "metadata": {},
   "outputs": [],
   "source": [
    "topics_dict = { \"Title\":[], \n",
    "               \"Author\":[],\n",
    "                \"Score\":[], \n",
    "                \"Id\":[], \n",
    "                \"Url\":[], \n",
    "                \"Comms_num\": [], \n",
    "                \"Created\": [], \n",
    "                \"Body\":[]\n",
    "              }"
   ]
  },
  {
   "cell_type": "code",
   "execution_count": 6,
   "metadata": {},
   "outputs": [],
   "source": [
    "for submission in top_subreddit:\n",
    "    topics_dict[\"Title\"].append(submission.title)\n",
    "    topics_dict[\"Author\"].append(submission.author)\n",
    "    topics_dict[\"Score\"].append(submission.score)\n",
    "    topics_dict[\"Id\"].append(submission.id)\n",
    "    topics_dict[\"Url\"].append(submission.url)\n",
    "    topics_dict[\"Comms_num\"].append(submission.num_comments)\n",
    "    topics_dict[\"Created\"].append(submission.created)\n",
    "    topics_dict[\"Body\"].append(submission.selftext)"
   ]
  },
  {
   "cell_type": "code",
   "execution_count": 7,
   "metadata": {},
   "outputs": [],
   "source": [
    "topics_data = pd.DataFrame(topics_dict)"
   ]
  },
  {
   "cell_type": "markdown",
   "metadata": {},
   "source": [
    "## Add date to dataframe  "
   ]
  },
  {
   "cell_type": "code",
   "execution_count": 8,
   "metadata": {},
   "outputs": [],
   "source": [
    "def get_date(created):\n",
    "    return pd.datetime.fromtimestamp(created)"
   ]
  },
  {
   "cell_type": "code",
   "execution_count": 9,
   "metadata": {},
   "outputs": [
    {
     "name": "stderr",
     "output_type": "stream",
     "text": [
      "/Users/quentinpierson/env/lib/python3.7/site-packages/ipykernel_launcher.py:2: FutureWarning: The pandas.datetime class is deprecated and will be removed from pandas in a future version. Import from datetime module instead.\n",
      "  \n"
     ]
    }
   ],
   "source": [
    "_timestamp = topics_data[\"Created\"].apply(get_date)"
   ]
  },
  {
   "cell_type": "code",
   "execution_count": 10,
   "metadata": {},
   "outputs": [
    {
     "data": {
      "text/html": [
       "<div>\n",
       "<style scoped>\n",
       "    .dataframe tbody tr th:only-of-type {\n",
       "        vertical-align: middle;\n",
       "    }\n",
       "\n",
       "    .dataframe tbody tr th {\n",
       "        vertical-align: top;\n",
       "    }\n",
       "\n",
       "    .dataframe thead th {\n",
       "        text-align: right;\n",
       "    }\n",
       "</style>\n",
       "<table border=\"1\" class=\"dataframe\">\n",
       "  <thead>\n",
       "    <tr style=\"text-align: right;\">\n",
       "      <th></th>\n",
       "      <th>Title</th>\n",
       "      <th>Author</th>\n",
       "      <th>Score</th>\n",
       "      <th>Id</th>\n",
       "      <th>Url</th>\n",
       "      <th>Comms_num</th>\n",
       "      <th>Created</th>\n",
       "      <th>Body</th>\n",
       "      <th>timestamp</th>\n",
       "    </tr>\n",
       "  </thead>\n",
       "  <tbody>\n",
       "    <tr>\n",
       "      <th>0</th>\n",
       "      <td>Monthly Skeptics Discussion - April 2021</td>\n",
       "      <td>AutoModerator</td>\n",
       "      <td>72</td>\n",
       "      <td>mhj2sb</td>\n",
       "      <td>https://www.reddit.com/r/CryptoCurrency/commen...</td>\n",
       "      <td>382</td>\n",
       "      <td>1.617264e+09</td>\n",
       "      <td>Welcome to the Monthly Skeptics Discussion thr...</td>\n",
       "      <td>2021-04-01 10:00:21</td>\n",
       "    </tr>\n",
       "    <tr>\n",
       "      <th>1</th>\n",
       "      <td>Daily Discussion - April 9, 2021 (GMT+0)</td>\n",
       "      <td>AutoModerator</td>\n",
       "      <td>197</td>\n",
       "      <td>mn4yva</td>\n",
       "      <td>https://www.reddit.com/r/CryptoCurrency/commen...</td>\n",
       "      <td>8026</td>\n",
       "      <td>1.617955e+09</td>\n",
       "      <td>**Welcome to the Daily Discussion. Please read...</td>\n",
       "      <td>2021-04-09 10:00:12</td>\n",
       "    </tr>\n",
       "    <tr>\n",
       "      <th>2</th>\n",
       "      <td>Ethereum surpasses Bitcoin as the most popular...</td>\n",
       "      <td>TheGreatCryptopo</td>\n",
       "      <td>894</td>\n",
       "      <td>mnedq4</td>\n",
       "      <td>https://londonlovesbusiness.com/ethereum-surpa...</td>\n",
       "      <td>190</td>\n",
       "      <td>1.617993e+09</td>\n",
       "      <td></td>\n",
       "      <td>2021-04-09 20:36:52</td>\n",
       "    </tr>\n",
       "    <tr>\n",
       "      <th>3</th>\n",
       "      <td>“What’s the difference between a coin and a to...</td>\n",
       "      <td>Adalwolf311</td>\n",
       "      <td>3577</td>\n",
       "      <td>mn8662</td>\n",
       "      <td>https://www.reddit.com/r/CryptoCurrency/commen...</td>\n",
       "      <td>417</td>\n",
       "      <td>1.617966e+09</td>\n",
       "      <td>I wrote [this](https://www.reddit.com/r/Crypto...</td>\n",
       "      <td>2021-04-09 13:03:37</td>\n",
       "    </tr>\n",
       "    <tr>\n",
       "      <th>4</th>\n",
       "      <td>Did anybody else increase their knowledge abou...</td>\n",
       "      <td>K4k4shi</td>\n",
       "      <td>515</td>\n",
       "      <td>mnex58</td>\n",
       "      <td>https://www.reddit.com/r/CryptoCurrency/commen...</td>\n",
       "      <td>127</td>\n",
       "      <td>1.617996e+09</td>\n",
       "      <td>I studied biology and never was into finance a...</td>\n",
       "      <td>2021-04-09 21:14:13</td>\n",
       "    </tr>\n",
       "    <tr>\n",
       "      <th>...</th>\n",
       "      <td>...</td>\n",
       "      <td>...</td>\n",
       "      <td>...</td>\n",
       "      <td>...</td>\n",
       "      <td>...</td>\n",
       "      <td>...</td>\n",
       "      <td>...</td>\n",
       "      <td>...</td>\n",
       "      <td>...</td>\n",
       "    </tr>\n",
       "    <tr>\n",
       "      <th>95</th>\n",
       "      <td>Crypto in 2031: Your predictions, theories and...</td>\n",
       "      <td>ProfessionalAtWork</td>\n",
       "      <td>7</td>\n",
       "      <td>mnet6t</td>\n",
       "      <td>https://www.reddit.com/r/CryptoCurrency/commen...</td>\n",
       "      <td>13</td>\n",
       "      <td>1.617995e+09</td>\n",
       "      <td>I'm really quite curious as to what the crypto...</td>\n",
       "      <td>2021-04-09 21:07:04</td>\n",
       "    </tr>\n",
       "    <tr>\n",
       "      <th>96</th>\n",
       "      <td>If I invest in cryptocurrency why might I lose...</td>\n",
       "      <td>humaninspector</td>\n",
       "      <td>21</td>\n",
       "      <td>mna8il</td>\n",
       "      <td>https://www.reddit.com/r/CryptoCurrency/commen...</td>\n",
       "      <td>212</td>\n",
       "      <td>1.617974e+09</td>\n",
       "      <td>This might sound really stupid but I simply do...</td>\n",
       "      <td>2021-04-09 15:16:20</td>\n",
       "    </tr>\n",
       "    <tr>\n",
       "      <th>97</th>\n",
       "      <td>It’s the year 3021: I run a virtual pawn shop ...</td>\n",
       "      <td>Good-Rooster-9736</td>\n",
       "      <td>36</td>\n",
       "      <td>mn86cd</td>\n",
       "      <td>https://www.reddit.com/r/CryptoCurrency/commen...</td>\n",
       "      <td>51</td>\n",
       "      <td>1.617966e+09</td>\n",
       "      <td>Welcome to Marcus Junius Brutus - Coin Swap-O-...</td>\n",
       "      <td>2021-04-09 13:03:56</td>\n",
       "    </tr>\n",
       "    <tr>\n",
       "      <th>98</th>\n",
       "      <td>My friend's dad (artist) is trying to get into...</td>\n",
       "      <td>PM_me_catpics</td>\n",
       "      <td>7</td>\n",
       "      <td>mnicyr</td>\n",
       "      <td>https://www.reddit.com/r/CryptoCurrency/commen...</td>\n",
       "      <td>18</td>\n",
       "      <td>1.618007e+09</td>\n",
       "      <td>Essentially I am helping him set up his NFT st...</td>\n",
       "      <td>2021-04-10 00:26:12</td>\n",
       "    </tr>\n",
       "    <tr>\n",
       "      <th>99</th>\n",
       "      <td>Binance.US should not be recommended for alt-c...</td>\n",
       "      <td>theusdesi</td>\n",
       "      <td>415</td>\n",
       "      <td>mmr6ao</td>\n",
       "      <td>https://www.reddit.com/r/CryptoCurrency/commen...</td>\n",
       "      <td>205</td>\n",
       "      <td>1.617915e+09</td>\n",
       "      <td>Like many noob crypto investors, I made a char...</td>\n",
       "      <td>2021-04-08 22:56:07</td>\n",
       "    </tr>\n",
       "  </tbody>\n",
       "</table>\n",
       "<p>100 rows × 9 columns</p>\n",
       "</div>"
      ],
      "text/plain": [
       "                                                Title              Author  \\\n",
       "0            Monthly Skeptics Discussion - April 2021       AutoModerator   \n",
       "1            Daily Discussion - April 9, 2021 (GMT+0)       AutoModerator   \n",
       "2   Ethereum surpasses Bitcoin as the most popular...    TheGreatCryptopo   \n",
       "3   “What’s the difference between a coin and a to...         Adalwolf311   \n",
       "4   Did anybody else increase their knowledge abou...             K4k4shi   \n",
       "..                                                ...                 ...   \n",
       "95  Crypto in 2031: Your predictions, theories and...  ProfessionalAtWork   \n",
       "96  If I invest in cryptocurrency why might I lose...      humaninspector   \n",
       "97  It’s the year 3021: I run a virtual pawn shop ...   Good-Rooster-9736   \n",
       "98  My friend's dad (artist) is trying to get into...       PM_me_catpics   \n",
       "99  Binance.US should not be recommended for alt-c...           theusdesi   \n",
       "\n",
       "    Score      Id                                                Url  \\\n",
       "0      72  mhj2sb  https://www.reddit.com/r/CryptoCurrency/commen...   \n",
       "1     197  mn4yva  https://www.reddit.com/r/CryptoCurrency/commen...   \n",
       "2     894  mnedq4  https://londonlovesbusiness.com/ethereum-surpa...   \n",
       "3    3577  mn8662  https://www.reddit.com/r/CryptoCurrency/commen...   \n",
       "4     515  mnex58  https://www.reddit.com/r/CryptoCurrency/commen...   \n",
       "..    ...     ...                                                ...   \n",
       "95      7  mnet6t  https://www.reddit.com/r/CryptoCurrency/commen...   \n",
       "96     21  mna8il  https://www.reddit.com/r/CryptoCurrency/commen...   \n",
       "97     36  mn86cd  https://www.reddit.com/r/CryptoCurrency/commen...   \n",
       "98      7  mnicyr  https://www.reddit.com/r/CryptoCurrency/commen...   \n",
       "99    415  mmr6ao  https://www.reddit.com/r/CryptoCurrency/commen...   \n",
       "\n",
       "    Comms_num       Created  \\\n",
       "0         382  1.617264e+09   \n",
       "1        8026  1.617955e+09   \n",
       "2         190  1.617993e+09   \n",
       "3         417  1.617966e+09   \n",
       "4         127  1.617996e+09   \n",
       "..        ...           ...   \n",
       "95         13  1.617995e+09   \n",
       "96        212  1.617974e+09   \n",
       "97         51  1.617966e+09   \n",
       "98         18  1.618007e+09   \n",
       "99        205  1.617915e+09   \n",
       "\n",
       "                                                 Body           timestamp  \n",
       "0   Welcome to the Monthly Skeptics Discussion thr... 2021-04-01 10:00:21  \n",
       "1   **Welcome to the Daily Discussion. Please read... 2021-04-09 10:00:12  \n",
       "2                                                     2021-04-09 20:36:52  \n",
       "3   I wrote [this](https://www.reddit.com/r/Crypto... 2021-04-09 13:03:37  \n",
       "4   I studied biology and never was into finance a... 2021-04-09 21:14:13  \n",
       "..                                                ...                 ...  \n",
       "95  I'm really quite curious as to what the crypto... 2021-04-09 21:07:04  \n",
       "96  This might sound really stupid but I simply do... 2021-04-09 15:16:20  \n",
       "97  Welcome to Marcus Junius Brutus - Coin Swap-O-... 2021-04-09 13:03:56  \n",
       "98  Essentially I am helping him set up his NFT st... 2021-04-10 00:26:12  \n",
       "99  Like many noob crypto investors, I made a char... 2021-04-08 22:56:07  \n",
       "\n",
       "[100 rows x 9 columns]"
      ]
     },
     "execution_count": 10,
     "metadata": {},
     "output_type": "execute_result"
    }
   ],
   "source": [
    "topics_data = topics_data.assign(timestamp = _timestamp)\n",
    "topics_data"
   ]
  },
  {
   "cell_type": "code",
   "execution_count": null,
   "metadata": {},
   "outputs": [],
   "source": []
  }
 ],
 "metadata": {
  "kernelspec": {
   "display_name": "Python 3",
   "language": "python",
   "name": "python3"
  },
  "language_info": {
   "codemirror_mode": {
    "name": "ipython",
    "version": 3
   },
   "file_extension": ".py",
   "mimetype": "text/x-python",
   "name": "python",
   "nbconvert_exporter": "python",
   "pygments_lexer": "ipython3",
   "version": "3.7.4"
  }
 },
 "nbformat": 4,
 "nbformat_minor": 4
}
