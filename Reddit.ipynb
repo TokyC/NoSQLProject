{
 "cells": [
  {
   "cell_type": "markdown",
   "metadata": {},
   "source": [
    "# <center> Reddit </center>"
   ]
  },
  {
   "cell_type": "markdown",
   "metadata": {},
   "source": [
    "This notebook aims to collect articles on reddit talking about crypto currency "
   ]
  },
  {
   "cell_type": "markdown",
   "metadata": {},
   "source": [
    "## Import of libraries "
   ]
  },
  {
   "cell_type": "code",
   "execution_count": 1,
   "metadata": {},
   "outputs": [],
   "source": [
    "import praw\n",
    "import pandas as pd"
   ]
  },
  {
   "cell_type": "markdown",
   "metadata": {},
   "source": [
    "# Algorithmes"
   ]
  },
  {
   "cell_type": "code",
   "execution_count": 2,
   "metadata": {},
   "outputs": [],
   "source": [
    "reddit = praw.Reddit(client_id=\"P_4F5vivJ4l-Fw\",#my client id\n",
    "                     client_secret=\"FGOVdro6W27fBX3m7ZhIPXjRoM0Zkw\",  #your client secret\n",
    "                     user_agent=\"recover_crypto\", #user agent name\n",
    "                     username = \"quentin_pierson\")     # your reddit username"
   ]
  },
  {
   "cell_type": "markdown",
   "metadata": {},
   "source": [
    "### Get the topic from the reddit"
   ]
  },
  {
   "cell_type": "code",
   "execution_count": 3,
   "metadata": {},
   "outputs": [],
   "source": [
    "subreddit = reddit.subreddit('CryptoCurrency')"
   ]
  },
  {
   "cell_type": "code",
   "execution_count": 4,
   "metadata": {},
   "outputs": [],
   "source": [
    "top_subreddit = subreddit.top(limit=100)"
   ]
  },
  {
   "cell_type": "code",
   "execution_count": 5,
   "metadata": {},
   "outputs": [],
   "source": [
    "topics_dict = { \"title\":[], \n",
    "                \"score\":[], \n",
    "                \"id\":[], \n",
    "                \"url\":[], \n",
    "                \"comms_num\": [], \n",
    "                \"created\": [], \n",
    "                \"body\":[]\n",
    "              }"
   ]
  },
  {
   "cell_type": "code",
   "execution_count": 6,
   "metadata": {},
   "outputs": [],
   "source": [
    "for submission in top_subreddit:\n",
    "    topics_dict[\"title\"].append(submission.title)\n",
    "    topics_dict[\"score\"].append(submission.score)\n",
    "    topics_dict[\"id\"].append(submission.id)\n",
    "    topics_dict[\"url\"].append(submission.url)\n",
    "    topics_dict[\"comms_num\"].append(submission.num_comments)\n",
    "    topics_dict[\"created\"].append(submission.created)\n",
    "    topics_dict[\"body\"].append(submission.selftext)"
   ]
  },
  {
   "cell_type": "code",
   "execution_count": 21,
   "metadata": {},
   "outputs": [],
   "source": [
    "topics_data = pd.DataFrame(topics_dict)"
   ]
  },
  {
   "cell_type": "markdown",
   "metadata": {},
   "source": [
    "## Add date to dataframe  "
   ]
  },
  {
   "cell_type": "code",
   "execution_count": 17,
   "metadata": {},
   "outputs": [],
   "source": [
    "def get_date(created):\n",
    "    return pd.datetime.fromtimestamp(created)"
   ]
  },
  {
   "cell_type": "code",
   "execution_count": 18,
   "metadata": {},
   "outputs": [
    {
     "name": "stderr",
     "output_type": "stream",
     "text": [
      "/Users/quentinpierson/env/lib/python3.7/site-packages/ipykernel_launcher.py:2: FutureWarning: The pandas.datetime class is deprecated and will be removed from pandas in a future version. Import from datetime module instead.\n",
      "  \n"
     ]
    }
   ],
   "source": [
    "_timestamp = topics_data[\"created\"].apply(get_date)"
   ]
  },
  {
   "cell_type": "code",
   "execution_count": 19,
   "metadata": {},
   "outputs": [
    {
     "data": {
      "text/html": [
       "<div>\n",
       "<style scoped>\n",
       "    .dataframe tbody tr th:only-of-type {\n",
       "        vertical-align: middle;\n",
       "    }\n",
       "\n",
       "    .dataframe tbody tr th {\n",
       "        vertical-align: top;\n",
       "    }\n",
       "\n",
       "    .dataframe thead th {\n",
       "        text-align: right;\n",
       "    }\n",
       "</style>\n",
       "<table border=\"1\" class=\"dataframe\">\n",
       "  <thead>\n",
       "    <tr style=\"text-align: right;\">\n",
       "      <th></th>\n",
       "      <th>title</th>\n",
       "      <th>score</th>\n",
       "      <th>id</th>\n",
       "      <th>url</th>\n",
       "      <th>comms_num</th>\n",
       "      <th>created</th>\n",
       "      <th>body</th>\n",
       "      <th>timestamp</th>\n",
       "    </tr>\n",
       "  </thead>\n",
       "  <tbody>\n",
       "    <tr>\n",
       "      <th>0</th>\n",
       "      <td>Reminder: Robinhood blocked several stocks fro...</td>\n",
       "      <td>26997</td>\n",
       "      <td>lfrslo</td>\n",
       "      <td>https://www.reddit.com/r/CryptoCurrency/commen...</td>\n",
       "      <td>1171</td>\n",
       "      <td>1.612865e+09</td>\n",
       "      <td>Stop fucking around with these corporate hacks...</td>\n",
       "      <td>2021-02-09 10:55:15</td>\n",
       "    </tr>\n",
       "    <tr>\n",
       "      <th>1</th>\n",
       "      <td>CryptoNick is deleting all of his BitConnect v...</td>\n",
       "      <td>26499</td>\n",
       "      <td>7r0ftz</td>\n",
       "      <td>https://www.reddit.com/r/CryptoCurrency/commen...</td>\n",
       "      <td>3025</td>\n",
       "      <td>1.516218e+09</td>\n",
       "      <td>We can't let these legendary affiliate scammer...</td>\n",
       "      <td>2018-01-17 20:46:08</td>\n",
       "    </tr>\n",
       "    <tr>\n",
       "      <th>2</th>\n",
       "      <td>\"If I had bought BTC in the early 2010's at 10...</td>\n",
       "      <td>20453</td>\n",
       "      <td>lijzxr</td>\n",
       "      <td>https://www.reddit.com/r/CryptoCurrency/commen...</td>\n",
       "      <td>1486</td>\n",
       "      <td>1.613191e+09</td>\n",
       "      <td>Seeing things in hindsight makes you feel dumb...</td>\n",
       "      <td>2021-02-13 05:30:21</td>\n",
       "    </tr>\n",
       "    <tr>\n",
       "      <th>3</th>\n",
       "      <td>I will tell you exactly what is going on here,...</td>\n",
       "      <td>20139</td>\n",
       "      <td>7vga1y</td>\n",
       "      <td>https://www.reddit.com/r/CryptoCurrency/commen...</td>\n",
       "      <td>1430</td>\n",
       "      <td>1.517880e+09</td>\n",
       "      <td>/edit: Hi /r/all. While I have your attention,...</td>\n",
       "      <td>2018-02-06 02:21:09</td>\n",
       "    </tr>\n",
       "    <tr>\n",
       "      <th>4</th>\n",
       "      <td>Robinhood is launching a Crypto Trading app to...</td>\n",
       "      <td>19969</td>\n",
       "      <td>7sx5ze</td>\n",
       "      <td>http://blog.robinhood.com/news/2018/1/24/dont-...</td>\n",
       "      <td>3857</td>\n",
       "      <td>1.516926e+09</td>\n",
       "      <td></td>\n",
       "      <td>2018-01-26 01:19:04</td>\n",
       "    </tr>\n",
       "    <tr>\n",
       "      <th>...</th>\n",
       "      <td>...</td>\n",
       "      <td>...</td>\n",
       "      <td>...</td>\n",
       "      <td>...</td>\n",
       "      <td>...</td>\n",
       "      <td>...</td>\n",
       "      <td>...</td>\n",
       "      <td>...</td>\n",
       "    </tr>\n",
       "    <tr>\n",
       "      <th>95</th>\n",
       "      <td>The guy in the famous 'Bad Luck Brian' meme so...</td>\n",
       "      <td>6921</td>\n",
       "      <td>m2x66r</td>\n",
       "      <td>https://www.businessinsider.com/bad-luck-brian...</td>\n",
       "      <td>800</td>\n",
       "      <td>1.615516e+09</td>\n",
       "      <td></td>\n",
       "      <td>2021-03-12 03:29:45</td>\n",
       "    </tr>\n",
       "    <tr>\n",
       "      <th>96</th>\n",
       "      <td>I love this space and you guys</td>\n",
       "      <td>6879</td>\n",
       "      <td>l8954p</td>\n",
       "      <td>https://i.redd.it/2makopuw6de61.jpg</td>\n",
       "      <td>339</td>\n",
       "      <td>1.611995e+09</td>\n",
       "      <td></td>\n",
       "      <td>2021-01-30 09:30:40</td>\n",
       "    </tr>\n",
       "    <tr>\n",
       "      <th>97</th>\n",
       "      <td>Time to step up and protect this community.</td>\n",
       "      <td>6865</td>\n",
       "      <td>laqzt1</td>\n",
       "      <td>https://www.reddit.com/r/CryptoCurrency/commen...</td>\n",
       "      <td>1371</td>\n",
       "      <td>1.612283e+09</td>\n",
       "      <td>Given the events of the past week with Doge an...</td>\n",
       "      <td>2021-02-02 17:23:29</td>\n",
       "    </tr>\n",
       "    <tr>\n",
       "      <th>98</th>\n",
       "      <td>Who's just trying to get out of poverty and co...</td>\n",
       "      <td>6863</td>\n",
       "      <td>mjds9l</td>\n",
       "      <td>https://www.reddit.com/r/CryptoCurrency/commen...</td>\n",
       "      <td>1448</td>\n",
       "      <td>1.617502e+09</td>\n",
       "      <td>I just want to be able to not have to work for...</td>\n",
       "      <td>2021-04-04 04:05:38</td>\n",
       "    </tr>\n",
       "    <tr>\n",
       "      <th>99</th>\n",
       "      <td>This is why adoption and the US is so behind w...</td>\n",
       "      <td>6812</td>\n",
       "      <td>bm4ppj</td>\n",
       "      <td>https://v.redd.it/6mize9uuezw21</td>\n",
       "      <td>710</td>\n",
       "      <td>1.557348e+09</td>\n",
       "      <td></td>\n",
       "      <td>2019-05-08 22:33:40</td>\n",
       "    </tr>\n",
       "  </tbody>\n",
       "</table>\n",
       "<p>100 rows × 8 columns</p>\n",
       "</div>"
      ],
      "text/plain": [
       "                                                title  score      id  \\\n",
       "0   Reminder: Robinhood blocked several stocks fro...  26997  lfrslo   \n",
       "1   CryptoNick is deleting all of his BitConnect v...  26499  7r0ftz   \n",
       "2   \"If I had bought BTC in the early 2010's at 10...  20453  lijzxr   \n",
       "3   I will tell you exactly what is going on here,...  20139  7vga1y   \n",
       "4   Robinhood is launching a Crypto Trading app to...  19969  7sx5ze   \n",
       "..                                                ...    ...     ...   \n",
       "95  The guy in the famous 'Bad Luck Brian' meme so...   6921  m2x66r   \n",
       "96                     I love this space and you guys   6879  l8954p   \n",
       "97        Time to step up and protect this community.   6865  laqzt1   \n",
       "98  Who's just trying to get out of poverty and co...   6863  mjds9l   \n",
       "99  This is why adoption and the US is so behind w...   6812  bm4ppj   \n",
       "\n",
       "                                                  url  comms_num  \\\n",
       "0   https://www.reddit.com/r/CryptoCurrency/commen...       1171   \n",
       "1   https://www.reddit.com/r/CryptoCurrency/commen...       3025   \n",
       "2   https://www.reddit.com/r/CryptoCurrency/commen...       1486   \n",
       "3   https://www.reddit.com/r/CryptoCurrency/commen...       1430   \n",
       "4   http://blog.robinhood.com/news/2018/1/24/dont-...       3857   \n",
       "..                                                ...        ...   \n",
       "95  https://www.businessinsider.com/bad-luck-brian...        800   \n",
       "96                https://i.redd.it/2makopuw6de61.jpg        339   \n",
       "97  https://www.reddit.com/r/CryptoCurrency/commen...       1371   \n",
       "98  https://www.reddit.com/r/CryptoCurrency/commen...       1448   \n",
       "99                    https://v.redd.it/6mize9uuezw21        710   \n",
       "\n",
       "         created                                               body  \\\n",
       "0   1.612865e+09  Stop fucking around with these corporate hacks...   \n",
       "1   1.516218e+09  We can't let these legendary affiliate scammer...   \n",
       "2   1.613191e+09  Seeing things in hindsight makes you feel dumb...   \n",
       "3   1.517880e+09  /edit: Hi /r/all. While I have your attention,...   \n",
       "4   1.516926e+09                                                      \n",
       "..           ...                                                ...   \n",
       "95  1.615516e+09                                                      \n",
       "96  1.611995e+09                                                      \n",
       "97  1.612283e+09  Given the events of the past week with Doge an...   \n",
       "98  1.617502e+09  I just want to be able to not have to work for...   \n",
       "99  1.557348e+09                                                      \n",
       "\n",
       "             timestamp  \n",
       "0  2021-02-09 10:55:15  \n",
       "1  2018-01-17 20:46:08  \n",
       "2  2021-02-13 05:30:21  \n",
       "3  2018-02-06 02:21:09  \n",
       "4  2018-01-26 01:19:04  \n",
       "..                 ...  \n",
       "95 2021-03-12 03:29:45  \n",
       "96 2021-01-30 09:30:40  \n",
       "97 2021-02-02 17:23:29  \n",
       "98 2021-04-04 04:05:38  \n",
       "99 2019-05-08 22:33:40  \n",
       "\n",
       "[100 rows x 8 columns]"
      ]
     },
     "execution_count": 19,
     "metadata": {},
     "output_type": "execute_result"
    }
   ],
   "source": [
    "topics_data = topics_data.assign(timestamp = _timestamp)\n",
    "topics_data"
   ]
  },
  {
   "cell_type": "code",
   "execution_count": null,
   "metadata": {},
   "outputs": [],
   "source": []
  }
 ],
 "metadata": {
  "kernelspec": {
   "display_name": "Python 3",
   "language": "python",
   "name": "python3"
  },
  "language_info": {
   "codemirror_mode": {
    "name": "ipython",
    "version": 3
   },
   "file_extension": ".py",
   "mimetype": "text/x-python",
   "name": "python",
   "nbconvert_exporter": "python",
   "pygments_lexer": "ipython3",
   "version": "3.7.4"
  }
 },
 "nbformat": 4,
 "nbformat_minor": 4
}
