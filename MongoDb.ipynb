{
 "cells": [
  {
   "cell_type": "markdown",
   "metadata": {},
   "source": [
    "# <center> MongoDb </center>"
   ]
  },
  {
   "cell_type": "markdown",
   "metadata": {},
   "source": [
    "This notebooks will be used to create and insert the elements in the MongoDb databse "
   ]
  },
  {
   "cell_type": "markdown",
   "metadata": {},
   "source": [
    "## Run the other notebooks to get their information "
   ]
  },
  {
   "cell_type": "code",
   "execution_count": 1,
   "metadata": {},
   "outputs": [
    {
     "name": "stderr",
     "output_type": "stream",
     "text": [
      "Reddit.ipynb:2: FutureWarning: The pandas.datetime class is deprecated and will be removed from pandas in a future version. Import from datetime module instead.\n",
      "  \"cells\": [\n"
     ]
    }
   ],
   "source": [
    "%run Reddit.ipynb\n",
    "%run Tweet.ipynb"
   ]
  },
  {
   "cell_type": "markdown",
   "metadata": {},
   "source": [
    "## Import the librairies "
   ]
  },
  {
   "cell_type": "code",
   "execution_count": 2,
   "metadata": {},
   "outputs": [],
   "source": [
    "import pymongo\n",
    "import pandas as pd"
   ]
  },
  {
   "cell_type": "markdown",
   "metadata": {},
   "source": [
    "## Connexion MongoDb"
   ]
  },
  {
   "cell_type": "code",
   "execution_count": 3,
   "metadata": {},
   "outputs": [],
   "source": [
    "client = pymongo.MongoClient(\"mongodb://127.0.0.1:27017\")\n",
    "database = client['crypto']\n",
    "collection = database['money']"
   ]
  },
  {
   "cell_type": "code",
   "execution_count": 4,
   "metadata": {},
   "outputs": [
    {
     "data": {
      "text/html": [
       "<div>\n",
       "<style scoped>\n",
       "    .dataframe tbody tr th:only-of-type {\n",
       "        vertical-align: middle;\n",
       "    }\n",
       "\n",
       "    .dataframe tbody tr th {\n",
       "        vertical-align: top;\n",
       "    }\n",
       "\n",
       "    .dataframe thead th {\n",
       "        text-align: right;\n",
       "    }\n",
       "</style>\n",
       "<table border=\"1\" class=\"dataframe\">\n",
       "  <thead>\n",
       "    <tr style=\"text-align: right;\">\n",
       "      <th></th>\n",
       "      <th>author</th>\n",
       "      <th>tweets</th>\n",
       "      <th>likes</th>\n",
       "      <th>retweet</th>\n",
       "      <th>url</th>\n",
       "      <th>times</th>\n",
       "      <th>Polarity</th>\n",
       "      <th>Subjectivity</th>\n",
       "    </tr>\n",
       "  </thead>\n",
       "  <tbody>\n",
       "    <tr>\n",
       "      <th>0</th>\n",
       "      <td>Nassim Nicholas Taleb</td>\n",
       "      <td>WHAT WE WANT CRYPTO &amp;amp; CURRENCY FOR:\\n\\n1) ...</td>\n",
       "      <td>3229</td>\n",
       "      <td>515</td>\n",
       "      <td>https://twitter.com/nntaleb/status/13824464785...</td>\n",
       "      <td>2021-04-14 21:31:39</td>\n",
       "      <td>-0.450000</td>\n",
       "      <td>0.350000</td>\n",
       "    </tr>\n",
       "    <tr>\n",
       "      <th>1</th>\n",
       "      <td>BEN BALLER™</td>\n",
       "      <td>There will be many trillionaires in our lifeti...</td>\n",
       "      <td>1960</td>\n",
       "      <td>283</td>\n",
       "      <td>https://twitter.com/BENBALLER/status/138247841...</td>\n",
       "      <td>2021-04-14 23:38:35</td>\n",
       "      <td>0.187500</td>\n",
       "      <td>0.437500</td>\n",
       "    </tr>\n",
       "    <tr>\n",
       "      <th>2</th>\n",
       "      <td>CoinDesk</td>\n",
       "      <td>JUST IN: The U.S. government is sanctioning di...</td>\n",
       "      <td>245</td>\n",
       "      <td>109</td>\n",
       "      <td>https://twitter.com/CoinDesk/status/1382682264...</td>\n",
       "      <td>2021-04-15 13:08:35</td>\n",
       "      <td>0.000000</td>\n",
       "      <td>0.000000</td>\n",
       "    </tr>\n",
       "    <tr>\n",
       "      <th>3</th>\n",
       "      <td>Lynette Zang</td>\n",
       "      <td>New Q&amp;amp;A Video 🚨 Listen as I talk about ant...</td>\n",
       "      <td>27</td>\n",
       "      <td>5</td>\n",
       "      <td>https://twitter.com/itmtrading_zang/status/138...</td>\n",
       "      <td>2021-04-14 20:46:42</td>\n",
       "      <td>0.068182</td>\n",
       "      <td>0.427273</td>\n",
       "    </tr>\n",
       "    <tr>\n",
       "      <th>4</th>\n",
       "      <td>C🅡ypto ⓟuppy</td>\n",
       "      <td>There's always the comparison w/ $BAT because ...</td>\n",
       "      <td>27</td>\n",
       "      <td>7</td>\n",
       "      <td>https://twitter.com/Crypto_Puppy_/status/13824...</td>\n",
       "      <td>2021-04-14 20:46:37</td>\n",
       "      <td>0.068182</td>\n",
       "      <td>0.727273</td>\n",
       "    </tr>\n",
       "    <tr>\n",
       "      <th>...</th>\n",
       "      <td>...</td>\n",
       "      <td>...</td>\n",
       "      <td>...</td>\n",
       "      <td>...</td>\n",
       "      <td>...</td>\n",
       "      <td>...</td>\n",
       "      <td>...</td>\n",
       "      <td>...</td>\n",
       "    </tr>\n",
       "    <tr>\n",
       "      <th>169</th>\n",
       "      <td>Ricky</td>\n",
       "      <td>@SEC_News @jesse_hynes I dont welcome a full o...</td>\n",
       "      <td>0</td>\n",
       "      <td>0</td>\n",
       "      <td>https://twitter.com/RickyCassio/status/1382435...</td>\n",
       "      <td>2021-04-14 20:46:34</td>\n",
       "      <td>0.378889</td>\n",
       "      <td>0.667778</td>\n",
       "    </tr>\n",
       "    <tr>\n",
       "      <th>170</th>\n",
       "      <td>Tyler J. Cruickshank</td>\n",
       "      <td>I can’t endorse crypto currency.  I just don’t...</td>\n",
       "      <td>0</td>\n",
       "      <td>0</td>\n",
       "      <td>https://twitter.com/JahmarTyler/status/1382445...</td>\n",
       "      <td>2021-04-14 21:29:17</td>\n",
       "      <td>0.700000</td>\n",
       "      <td>0.600000</td>\n",
       "    </tr>\n",
       "    <tr>\n",
       "      <th>171</th>\n",
       "      <td>rich</td>\n",
       "      <td>@OceanMeetsSky After being a huge crypto skept...</td>\n",
       "      <td>0</td>\n",
       "      <td>0</td>\n",
       "      <td>https://twitter.com/Rich_Munee/status/13824457...</td>\n",
       "      <td>2021-04-14 21:28:41</td>\n",
       "      <td>0.304091</td>\n",
       "      <td>0.610909</td>\n",
       "    </tr>\n",
       "    <tr>\n",
       "      <th>172</th>\n",
       "      <td>Jim Stogdill 🙊</td>\n",
       "      <td>Coinbase, turning decentralized crypto currenc...</td>\n",
       "      <td>0</td>\n",
       "      <td>0</td>\n",
       "      <td>https://twitter.com/jstogdill/status/138243520...</td>\n",
       "      <td>2021-04-14 20:46:50</td>\n",
       "      <td>0.000000</td>\n",
       "      <td>0.000000</td>\n",
       "    </tr>\n",
       "    <tr>\n",
       "      <th>173</th>\n",
       "      <td>Endhits</td>\n",
       "      <td>We want crypto to be taken seriously and be a ...</td>\n",
       "      <td>0</td>\n",
       "      <td>0</td>\n",
       "      <td>https://twitter.com/Endhits2/status/1383039631...</td>\n",
       "      <td>2021-04-16 12:48:38</td>\n",
       "      <td>-0.166667</td>\n",
       "      <td>0.395833</td>\n",
       "    </tr>\n",
       "  </tbody>\n",
       "</table>\n",
       "<p>174 rows × 8 columns</p>\n",
       "</div>"
      ],
      "text/plain": [
       "                    author                                             tweets  \\\n",
       "0    Nassim Nicholas Taleb  WHAT WE WANT CRYPTO &amp; CURRENCY FOR:\\n\\n1) ...   \n",
       "1              BEN BALLER™  There will be many trillionaires in our lifeti...   \n",
       "2                 CoinDesk  JUST IN: The U.S. government is sanctioning di...   \n",
       "3             Lynette Zang  New Q&amp;A Video 🚨 Listen as I talk about ant...   \n",
       "4             C🅡ypto ⓟuppy  There's always the comparison w/ $BAT because ...   \n",
       "..                     ...                                                ...   \n",
       "169                  Ricky  @SEC_News @jesse_hynes I dont welcome a full o...   \n",
       "170   Tyler J. Cruickshank  I can’t endorse crypto currency.  I just don’t...   \n",
       "171                   rich  @OceanMeetsSky After being a huge crypto skept...   \n",
       "172         Jim Stogdill 🙊  Coinbase, turning decentralized crypto currenc...   \n",
       "173                Endhits  We want crypto to be taken seriously and be a ...   \n",
       "\n",
       "     likes  retweet                                                url  \\\n",
       "0     3229      515  https://twitter.com/nntaleb/status/13824464785...   \n",
       "1     1960      283  https://twitter.com/BENBALLER/status/138247841...   \n",
       "2      245      109  https://twitter.com/CoinDesk/status/1382682264...   \n",
       "3       27        5  https://twitter.com/itmtrading_zang/status/138...   \n",
       "4       27        7  https://twitter.com/Crypto_Puppy_/status/13824...   \n",
       "..     ...      ...                                                ...   \n",
       "169      0        0  https://twitter.com/RickyCassio/status/1382435...   \n",
       "170      0        0  https://twitter.com/JahmarTyler/status/1382445...   \n",
       "171      0        0  https://twitter.com/Rich_Munee/status/13824457...   \n",
       "172      0        0  https://twitter.com/jstogdill/status/138243520...   \n",
       "173      0        0  https://twitter.com/Endhits2/status/1383039631...   \n",
       "\n",
       "                  times  Polarity  Subjectivity  \n",
       "0   2021-04-14 21:31:39 -0.450000      0.350000  \n",
       "1   2021-04-14 23:38:35  0.187500      0.437500  \n",
       "2   2021-04-15 13:08:35  0.000000      0.000000  \n",
       "3   2021-04-14 20:46:42  0.068182      0.427273  \n",
       "4   2021-04-14 20:46:37  0.068182      0.727273  \n",
       "..                  ...       ...           ...  \n",
       "169 2021-04-14 20:46:34  0.378889      0.667778  \n",
       "170 2021-04-14 21:29:17  0.700000      0.600000  \n",
       "171 2021-04-14 21:28:41  0.304091      0.610909  \n",
       "172 2021-04-14 20:46:50  0.000000      0.000000  \n",
       "173 2021-04-16 12:48:38 -0.166667      0.395833  \n",
       "\n",
       "[174 rows x 8 columns]"
      ]
     },
     "execution_count": 4,
     "metadata": {},
     "output_type": "execute_result"
    }
   ],
   "source": [
    "df"
   ]
  },
  {
   "cell_type": "markdown",
   "metadata": {},
   "source": [
    "### Insert the data"
   ]
  },
  {
   "cell_type": "raw",
   "metadata": {},
   "source": [
    "database.collection.insert({\"test\":\"bonjour\"})"
   ]
  },
  {
   "cell_type": "code",
   "execution_count": 5,
   "metadata": {},
   "outputs": [
    {
     "data": {
      "text/plain": [
       "<pymongo.results.InsertManyResult at 0x7fab62b991e0>"
      ]
     },
     "execution_count": 5,
     "metadata": {},
     "output_type": "execute_result"
    }
   ],
   "source": [
    "data_dict = df.to_dict(\"records\")\n",
    "collection.insert_many(data_dict)"
   ]
  },
  {
   "cell_type": "code",
   "execution_count": null,
   "metadata": {},
   "outputs": [],
   "source": []
  }
 ],
 "metadata": {
  "kernelspec": {
   "display_name": "Python 3",
   "language": "python",
   "name": "python3"
  },
  "language_info": {
   "codemirror_mode": {
    "name": "ipython",
    "version": 3
   },
   "file_extension": ".py",
   "mimetype": "text/x-python",
   "name": "python",
   "nbconvert_exporter": "python",
   "pygments_lexer": "ipython3",
   "version": "3.7.4"
  }
 },
 "nbformat": 4,
 "nbformat_minor": 4
}
