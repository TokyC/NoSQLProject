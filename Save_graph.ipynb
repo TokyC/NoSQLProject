{
 "cells": [
  {
   "cell_type": "code",
   "execution_count": 1,
   "metadata": {},
   "outputs": [],
   "source": [
    "%run Tweet.ipynb"
   ]
  },
  {
   "cell_type": "code",
   "execution_count": 2,
   "metadata": {},
   "outputs": [
    {
     "data": {
      "text/html": [
       "<div>\n",
       "<style scoped>\n",
       "    .dataframe tbody tr th:only-of-type {\n",
       "        vertical-align: middle;\n",
       "    }\n",
       "\n",
       "    .dataframe tbody tr th {\n",
       "        vertical-align: top;\n",
       "    }\n",
       "\n",
       "    .dataframe thead th {\n",
       "        text-align: right;\n",
       "    }\n",
       "</style>\n",
       "<table border=\"1\" class=\"dataframe\">\n",
       "  <thead>\n",
       "    <tr style=\"text-align: right;\">\n",
       "      <th></th>\n",
       "      <th>author</th>\n",
       "      <th>tweets</th>\n",
       "      <th>likes</th>\n",
       "      <th>retweet</th>\n",
       "      <th>url</th>\n",
       "      <th>times</th>\n",
       "      <th>Polarity</th>\n",
       "      <th>Subjectivity</th>\n",
       "    </tr>\n",
       "  </thead>\n",
       "  <tbody>\n",
       "    <tr>\n",
       "      <th>0</th>\n",
       "      <td>Bitcoin News</td>\n",
       "      <td>The Central Bank of Nigeria says it will sanct...</td>\n",
       "      <td>177</td>\n",
       "      <td>37</td>\n",
       "      <td>https://twitter.com/BTCTN/status/1389135620912...</td>\n",
       "      <td>2021-05-03 08:31:55</td>\n",
       "      <td>0.050000</td>\n",
       "      <td>0.225000</td>\n",
       "    </tr>\n",
       "    <tr>\n",
       "      <th>1</th>\n",
       "      <td>CoinMarketCap</td>\n",
       "      <td>How do the largest cryptocurrencies, such as #...</td>\n",
       "      <td>166</td>\n",
       "      <td>32</td>\n",
       "      <td>https://twitter.com/CoinMarketCap/status/13889...</td>\n",
       "      <td>2021-05-02 18:45:01</td>\n",
       "      <td>0.261364</td>\n",
       "      <td>0.388636</td>\n",
       "    </tr>\n",
       "    <tr>\n",
       "      <th>2</th>\n",
       "      <td>Mohamed A. El-Erian</td>\n",
       "      <td>\" #Bitcoin: too good to miss or a bubble ready...</td>\n",
       "      <td>119</td>\n",
       "      <td>27</td>\n",
       "      <td>https://twitter.com/elerianm/status/1388957880...</td>\n",
       "      <td>2021-05-02 20:45:39</td>\n",
       "      <td>0.300000</td>\n",
       "      <td>0.500000</td>\n",
       "    </tr>\n",
       "    <tr>\n",
       "      <th>3</th>\n",
       "      <td>Forex Analytix</td>\n",
       "      <td>Take a Peek of the Week Ahead! https://t.co/06...</td>\n",
       "      <td>8</td>\n",
       "      <td>7</td>\n",
       "      <td>https://twitter.com/forexanalytix/status/13889...</td>\n",
       "      <td>2021-05-02 18:41:29</td>\n",
       "      <td>0.000000</td>\n",
       "      <td>0.000000</td>\n",
       "    </tr>\n",
       "    <tr>\n",
       "      <th>4</th>\n",
       "      <td>Lefty</td>\n",
       "      <td>@D7ZZ77 @GoldTelegraph_ Hopefully decentralize...</td>\n",
       "      <td>5</td>\n",
       "      <td>0</td>\n",
       "      <td>https://twitter.com/CryptoBananas/status/13889...</td>\n",
       "      <td>2021-05-02 18:32:43</td>\n",
       "      <td>0.000000</td>\n",
       "      <td>0.000000</td>\n",
       "    </tr>\n",
       "    <tr>\n",
       "      <th>...</th>\n",
       "      <td>...</td>\n",
       "      <td>...</td>\n",
       "      <td>...</td>\n",
       "      <td>...</td>\n",
       "      <td>...</td>\n",
       "      <td>...</td>\n",
       "      <td>...</td>\n",
       "      <td>...</td>\n",
       "    </tr>\n",
       "    <tr>\n",
       "      <th>60</th>\n",
       "      <td>Making Tax Simple</td>\n",
       "      <td>@NischalShetty I think the main focus on use c...</td>\n",
       "      <td>0</td>\n",
       "      <td>0</td>\n",
       "      <td>https://twitter.com/MakingTaxSimpl1/status/138...</td>\n",
       "      <td>2021-05-02 18:39:17</td>\n",
       "      <td>0.208333</td>\n",
       "      <td>0.266667</td>\n",
       "    </tr>\n",
       "    <tr>\n",
       "      <th>61</th>\n",
       "      <td>FUTURE HUBBY⚔️🗡️⚒️</td>\n",
       "      <td>@DoctorEmto Inhuman 😢😢\\n\\nInterested in creati...</td>\n",
       "      <td>0</td>\n",
       "      <td>0</td>\n",
       "      <td>https://twitter.com/austin_uwakwe/status/13889...</td>\n",
       "      <td>2021-05-02 18:36:39</td>\n",
       "      <td>0.250000</td>\n",
       "      <td>0.500000</td>\n",
       "    </tr>\n",
       "    <tr>\n",
       "      <th>62</th>\n",
       "      <td>⭐️James Hicks⭐️</td>\n",
       "      <td>You're going to be throwing away a whole lot o...</td>\n",
       "      <td>0</td>\n",
       "      <td>0</td>\n",
       "      <td>https://twitter.com/JamesHicksUK/status/138892...</td>\n",
       "      <td>2021-05-02 18:36:44</td>\n",
       "      <td>0.150000</td>\n",
       "      <td>0.250000</td>\n",
       "    </tr>\n",
       "    <tr>\n",
       "      <th>63</th>\n",
       "      <td>Brian Soon-A-Lot</td>\n",
       "      <td>@elonmusk Maybe one where you’re like a Best B...</td>\n",
       "      <td>0</td>\n",
       "      <td>0</td>\n",
       "      <td>https://twitter.com/YoSounie/status/1388926062...</td>\n",
       "      <td>2021-05-02 18:39:12</td>\n",
       "      <td>0.300000</td>\n",
       "      <td>0.333333</td>\n",
       "    </tr>\n",
       "    <tr>\n",
       "      <th>64</th>\n",
       "      <td>tegar putra</td>\n",
       "      <td>Good Project! this project is very promising f...</td>\n",
       "      <td>0</td>\n",
       "      <td>0</td>\n",
       "      <td>https://twitter.com/tegarputrajaya_/status/138...</td>\n",
       "      <td>2021-05-02 18:31:26</td>\n",
       "      <td>0.378333</td>\n",
       "      <td>0.550000</td>\n",
       "    </tr>\n",
       "  </tbody>\n",
       "</table>\n",
       "<p>65 rows × 8 columns</p>\n",
       "</div>"
      ],
      "text/plain": [
       "                 author                                             tweets  \\\n",
       "0          Bitcoin News  The Central Bank of Nigeria says it will sanct...   \n",
       "1         CoinMarketCap  How do the largest cryptocurrencies, such as #...   \n",
       "2   Mohamed A. El-Erian  \" #Bitcoin: too good to miss or a bubble ready...   \n",
       "3        Forex Analytix  Take a Peek of the Week Ahead! https://t.co/06...   \n",
       "4                 Lefty  @D7ZZ77 @GoldTelegraph_ Hopefully decentralize...   \n",
       "..                  ...                                                ...   \n",
       "60    Making Tax Simple  @NischalShetty I think the main focus on use c...   \n",
       "61   FUTURE HUBBY⚔️🗡️⚒️  @DoctorEmto Inhuman 😢😢\\n\\nInterested in creati...   \n",
       "62      ⭐️James Hicks⭐️  You're going to be throwing away a whole lot o...   \n",
       "63     Brian Soon-A-Lot  @elonmusk Maybe one where you’re like a Best B...   \n",
       "64          tegar putra  Good Project! this project is very promising f...   \n",
       "\n",
       "    likes  retweet                                                url  \\\n",
       "0     177       37  https://twitter.com/BTCTN/status/1389135620912...   \n",
       "1     166       32  https://twitter.com/CoinMarketCap/status/13889...   \n",
       "2     119       27  https://twitter.com/elerianm/status/1388957880...   \n",
       "3       8        7  https://twitter.com/forexanalytix/status/13889...   \n",
       "4       5        0  https://twitter.com/CryptoBananas/status/13889...   \n",
       "..    ...      ...                                                ...   \n",
       "60      0        0  https://twitter.com/MakingTaxSimpl1/status/138...   \n",
       "61      0        0  https://twitter.com/austin_uwakwe/status/13889...   \n",
       "62      0        0  https://twitter.com/JamesHicksUK/status/138892...   \n",
       "63      0        0  https://twitter.com/YoSounie/status/1388926062...   \n",
       "64      0        0  https://twitter.com/tegarputrajaya_/status/138...   \n",
       "\n",
       "                 times  Polarity  Subjectivity  \n",
       "0  2021-05-03 08:31:55  0.050000      0.225000  \n",
       "1  2021-05-02 18:45:01  0.261364      0.388636  \n",
       "2  2021-05-02 20:45:39  0.300000      0.500000  \n",
       "3  2021-05-02 18:41:29  0.000000      0.000000  \n",
       "4  2021-05-02 18:32:43  0.000000      0.000000  \n",
       "..                 ...       ...           ...  \n",
       "60 2021-05-02 18:39:17  0.208333      0.266667  \n",
       "61 2021-05-02 18:36:39  0.250000      0.500000  \n",
       "62 2021-05-02 18:36:44  0.150000      0.250000  \n",
       "63 2021-05-02 18:39:12  0.300000      0.333333  \n",
       "64 2021-05-02 18:31:26  0.378333      0.550000  \n",
       "\n",
       "[65 rows x 8 columns]"
      ]
     },
     "execution_count": 2,
     "metadata": {},
     "output_type": "execute_result"
    }
   ],
   "source": [
    "df"
   ]
  },
  {
   "cell_type": "code",
   "execution_count": 3,
   "metadata": {},
   "outputs": [],
   "source": [
    "import requests\n",
    "\n",
    "class Tweet(object):\n",
    "    def __init__(self, s, embed_str=False):\n",
    "        if not embed_str:\n",
    "            # Use Twitter's oEmbed API\n",
    "            # https://dev.twitter.com/web/embedded-tweets\n",
    "            api = 'https://publish.twitter.com/oembed?url={}'.format(s)\n",
    "            response = requests.get(api)\n",
    "            self.text = response.json()[\"html\"]\n",
    "        else:\n",
    "            self.text = s\n",
    "\n",
    "    def _repr_html_(self):\n",
    "        return self.text"
   ]
  },
  {
   "cell_type": "code",
   "execution_count": 5,
   "metadata": {},
   "outputs": [
    {
     "data": {
      "text/html": [
       "<blockquote class=\"twitter-tweet\"><p lang=\"en\" dir=\"ltr\">They want to steal your Crypto currency&#39;s be careful 🤑😀😀</p>&mdash; Atanas Kitanov (@AtanasKitanov) <a href=\"https://twitter.com/AtanasKitanov/status/1388923455446335490?ref_src=twsrc%5Etfw\">May 2, 2021</a></blockquote>\n",
       "<script async src=\"https://platform.twitter.com/widgets.js\" charset=\"utf-8\"></script>\n"
      ],
      "text/plain": [
       "<__main__.Tweet at 0x7fabbdf3c710>"
      ]
     },
     "execution_count": 5,
     "metadata": {},
     "output_type": "execute_result"
    }
   ],
   "source": [
    "Tweet(df[\"url\"].iloc[10])"
   ]
  },
  {
   "cell_type": "raw",
   "metadata": {},
   "source": [
    "df2 = df[\"tweets\"]"
   ]
  },
  {
   "cell_type": "raw",
   "metadata": {},
   "source": [
    "list_of_all_sentences = [sentence for sentence in df2]\n",
    "\n",
    "lines = []\n",
    "for sentence in list_of_all_sentences:\n",
    "    words = sentence.split()\n",
    "    for w in words:\n",
    "        lines.append(w)"
   ]
  },
  {
   "cell_type": "raw",
   "metadata": {},
   "source": [
    "#Removing Punctuation\n",
    "\n",
    "lines = [re.sub(r'[^A-Za-z0-9]+', '', x) for x in lines]\n",
    "\n",
    "lines2 = []\n",
    "listWordBanned = [\"the\",\"to\",\"for\",\"on\",\"just\",'how',\"is\",\"a\",\"you\",\"Am\",\"Im\",\"I\",\"i\",\"and\",\"that\",\"of\",\"in\",\n",
    "                  \"this\",\"it\",\"be\",\"not\",\"have\",\"my\",\"we\",\"beautiful\",\"what\",\"no\",\"as\",\"host\",\"me\",\"with\",\n",
    "                 \"like\",\"your\",\"at\",\"do\",\"if\",\"too\",\"can\",\"know\",\"people\",\"about\",\"RT\",\"most\",\"are\"]\n",
    "\n",
    "for word in lines:\n",
    "    if word != '' and word not in listWordBanned:\n",
    "        lines2.append(word)"
   ]
  },
  {
   "cell_type": "raw",
   "metadata": {},
   "source": [
    "#This is stemming the words to their root\n",
    "\n",
    "# The Snowball Stemmer requires that you pass a language parameter\n",
    "s_stemmer = SnowballStemmer(language='english')\n",
    "\n",
    "stem = []\n",
    "for word in lines2:\n",
    "    stem.append(s_stemmer.stem(word))"
   ]
  },
  {
   "cell_type": "raw",
   "metadata": {},
   "source": [
    "df2 = pd.DataFrame(stem)\n",
    "df2 = df2[0].value_counts()"
   ]
  },
  {
   "cell_type": "raw",
   "metadata": {},
   "source": [
    "df2 = df2[:15]\n",
    "plt.figure(figsize=(10,5))\n",
    "sns.barplot(df2.values, df2.index, alpha=0.8)\n",
    "plt.title('Top Words Overall')\n",
    "plt.ylabel('Word from Tweet', fontsize=12)\n",
    "plt.xlabel('Count of Words', fontsize=12)\n",
    "plt.show()"
   ]
  },
  {
   "cell_type": "raw",
   "metadata": {},
   "source": [
    "import spacy\n",
    "from spacy import displacy\n",
    "import en_core_web_sm\n",
    "nlp = en_core_web_sm.load()"
   ]
  },
  {
   "cell_type": "raw",
   "metadata": {},
   "source": [
    "def show_ents(doc):\n",
    "    if doc.ents:\n",
    "        for ent in doc.ents:\n",
    "            print(ent.text + ' - ' + ent.label_ + ' - ' + str(spacy.explain(ent.label_)))"
   ]
  },
  {
   "cell_type": "raw",
   "metadata": {},
   "source": [
    "str1 = \" \" \n",
    "stem2 = str1.join(lines2)\n",
    "\n",
    "stem2 = nlp(stem2)\n",
    "\n",
    "label = [(X.text, X.label_) for X in stem2.ents]\n",
    "\n",
    "df6 = pd.DataFrame(label, columns = ['Word','Entity'])\n",
    "\n",
    "df7 = df6.where(df6['Entity'] == 'ORG')\n",
    "\n",
    "df7 = df7['Word'].value_counts()"
   ]
  },
  {
   "cell_type": "raw",
   "metadata": {},
   "source": [
    "df6"
   ]
  },
  {
   "cell_type": "raw",
   "metadata": {},
   "source": [
    "df = df7[:20,]\n",
    "plt.figure(figsize=(10,5))\n",
    "sns.barplot(df.values, df.index, alpha=0.8)\n",
    "plt.title('Top Organizations Mentioned')\n",
    "plt.ylabel('Word from Tweet', fontsize=12)\n",
    "plt.xlabel('Count of Words', fontsize=12)\n",
    "plt.show()"
   ]
  },
  {
   "cell_type": "raw",
   "metadata": {},
   "source": [
    "str1 = \" \" \n",
    "stem2 = str1.join(lines2)\n",
    "\n",
    "stem2 = nlp(stem2)\n",
    "\n",
    "label = [(X.text, X.label_) for X in stem2.ents]\n",
    "\n",
    "df10 = pd.DataFrame(label, columns = ['Word','Entity'])\n",
    "\n",
    "\n",
    "df10 = df10.where(df10['Entity'] == 'PERSON')\n",
    "\n",
    "df11 = df10['Word'].value_counts()"
   ]
  },
  {
   "cell_type": "raw",
   "metadata": {},
   "source": [
    "df = df11[:20,]\n",
    "plt.figure(figsize=(10,5))\n",
    "sns.barplot(df.values, df.index, alpha=0.8)\n",
    "plt.title('Top People Mentioned')\n",
    "plt.ylabel('Word from Tweet', fontsize=12)\n",
    "plt.xlabel('Count of Words', fontsize=12)\n",
    "plt.show()"
   ]
  },
  {
   "cell_type": "code",
   "execution_count": null,
   "metadata": {},
   "outputs": [],
   "source": []
  }
 ],
 "metadata": {
  "kernelspec": {
   "display_name": "Python 3",
   "language": "python",
   "name": "python3"
  },
  "language_info": {
   "codemirror_mode": {
    "name": "ipython",
    "version": 3
   },
   "file_extension": ".py",
   "mimetype": "text/x-python",
   "name": "python",
   "nbconvert_exporter": "python",
   "pygments_lexer": "ipython3",
   "version": "3.7.4"
  }
 },
 "nbformat": 4,
 "nbformat_minor": 4
}
