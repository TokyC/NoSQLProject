{
 "cells": [
  {
   "cell_type": "markdown",
   "metadata": {},
   "source": [
    "# <center> Twitter </center>"
   ]
  },
  {
   "cell_type": "markdown",
   "metadata": {},
   "source": [
    "Recover tweet about crypto-currency"
   ]
  },
  {
   "cell_type": "markdown",
   "metadata": {},
   "source": [
    "## Import of libraries "
   ]
  },
  {
   "cell_type": "code",
   "execution_count": 1,
   "metadata": {},
   "outputs": [],
   "source": [
    "import tweepy\n",
    "import csv\n",
    "import pandas as pd\n",
    "import csv\n",
    "import re \n",
    "import string\n",
    "import preprocessor as p\n",
    "from textblob import TextBlob"
   ]
  },
  {
   "cell_type": "markdown",
   "metadata": {},
   "source": [
    "## Algorithmes"
   ]
  },
  {
   "cell_type": "code",
   "execution_count": 2,
   "metadata": {},
   "outputs": [],
   "source": [
    "consumer_key = \"SyTCi8k0Iq6xe2EHCW3u7LQf5\"\n",
    "consumer_secret = \"fkzWMdZAM1xs1qsaG0UOF7ybdBhjBCSQQzy9zufFXUh79dt7Z9\"\n",
    "\n",
    "access_key = \"1358394444429549568-duw4ADP0EtOQT2XF0ATawgWp59hYRT\" \n",
    "access_secret =  \"nxp6X25aDJOIHgzPPtpc24A8iziYToT2C0cThO39RW9Yl\""
   ]
  },
  {
   "cell_type": "code",
   "execution_count": 3,
   "metadata": {},
   "outputs": [],
   "source": [
    "auth = tweepy.OAuthHandler(consumer_key, consumer_secret)\n",
    "auth.set_access_token(access_key, access_secret)\n",
    "api = tweepy.API(auth)"
   ]
  },
  {
   "cell_type": "markdown",
   "metadata": {},
   "source": [
    "result_type : \n",
    "- mixed : include both popular and real time results in the response\n",
    "- recent : return only the most recent results in the response\n",
    "- popular : return only the most popular results in the response"
   ]
  },
  {
   "cell_type": "code",
   "execution_count": 4,
   "metadata": {},
   "outputs": [],
   "source": [
    "all_tweets = []\n",
    "likes = []\n",
    "created = []\n",
    "author = []\n",
    "retweet = []\n",
    "url =[]\n",
    "search_terms = [\"crypto currency\",\"elon musk\"]\n",
    "\n",
    "for tweet in tweepy.Cursor(api.search, q=\"crypto currency\", tweet_mode='extended' , lang='en', \n",
    "                           result_type='mixed').items(300):\n",
    "    #print(dir(tweet))\n",
    "    author.append(tweet.author.name)\n",
    "    all_tweets.append(tweet.full_text)\n",
    "    likes.append(tweet.favorite_count)\n",
    "    retweet.append(tweet.retweet_count)\n",
    "    url.append(f\"https://twitter.com/{tweet.user.screen_name}/status/{tweet.id}\")\n",
    "    created.append(tweet.created_at)"
   ]
  },
  {
   "cell_type": "code",
   "execution_count": 5,
   "metadata": {
    "scrolled": true
   },
   "outputs": [],
   "source": [
    "df = pd.DataFrame({'author':author ,'tweets':all_tweets ,'likes':likes ,'retweet':retweet\n",
    "                   ,'url':url ,'times':created})"
   ]
  },
  {
   "cell_type": "code",
   "execution_count": 6,
   "metadata": {},
   "outputs": [],
   "source": [
    "df = df[~df.tweets.str.contains(\"RT\")]"
   ]
  },
  {
   "cell_type": "code",
   "execution_count": 7,
   "metadata": {
    "scrolled": true
   },
   "outputs": [],
   "source": [
    "df = df.sort_values(by=['likes'],ascending=False)"
   ]
  },
  {
   "cell_type": "code",
   "execution_count": 8,
   "metadata": {},
   "outputs": [],
   "source": [
    "df = df.reset_index(drop=True)"
   ]
  },
  {
   "cell_type": "code",
   "execution_count": 9,
   "metadata": {},
   "outputs": [],
   "source": [
    "df['sentiment'] = df['tweets'].map(lambda txt: TextBlob(txt).sentiment.polarity)"
   ]
  },
  {
   "cell_type": "code",
   "execution_count": 10,
   "metadata": {},
   "outputs": [],
   "source": [
    "def getTextPolarity(txt):\n",
    "    return TextBlob(txt).sentiment.polarity"
   ]
  },
  {
   "cell_type": "code",
   "execution_count": 11,
   "metadata": {},
   "outputs": [],
   "source": [
    "def getTextSubjectivity(txt):\n",
    "    return TextBlob(txt).sentiment.subjectivity"
   ]
  },
  {
   "cell_type": "code",
   "execution_count": 12,
   "metadata": {},
   "outputs": [],
   "source": [
    "df['Polarity'] = df['tweets'].apply(getTextPolarity)\n",
    "df['Subjectivity'] = df['tweets'].apply(getTextSubjectivity)"
   ]
  },
  {
   "cell_type": "code",
   "execution_count": 13,
   "metadata": {},
   "outputs": [
    {
     "data": {
      "text/html": [
       "<div>\n",
       "<style scoped>\n",
       "    .dataframe tbody tr th:only-of-type {\n",
       "        vertical-align: middle;\n",
       "    }\n",
       "\n",
       "    .dataframe tbody tr th {\n",
       "        vertical-align: top;\n",
       "    }\n",
       "\n",
       "    .dataframe thead th {\n",
       "        text-align: right;\n",
       "    }\n",
       "</style>\n",
       "<table border=\"1\" class=\"dataframe\">\n",
       "  <thead>\n",
       "    <tr style=\"text-align: right;\">\n",
       "      <th></th>\n",
       "      <th>author</th>\n",
       "      <th>tweets</th>\n",
       "      <th>likes</th>\n",
       "      <th>retweet</th>\n",
       "      <th>url</th>\n",
       "      <th>times</th>\n",
       "      <th>sentiment</th>\n",
       "      <th>Polarity</th>\n",
       "      <th>Subjectivity</th>\n",
       "    </tr>\n",
       "  </thead>\n",
       "  <tbody>\n",
       "    <tr>\n",
       "      <th>0</th>\n",
       "      <td>Nassim Nicholas Taleb</td>\n",
       "      <td>WHAT WE WANT CRYPTO &amp;amp; CURRENCY FOR:\\n\\n1) ...</td>\n",
       "      <td>2756</td>\n",
       "      <td>431</td>\n",
       "      <td>https://twitter.com/nntaleb/status/13824464785...</td>\n",
       "      <td>2021-04-14 21:31:39</td>\n",
       "      <td>-0.450000</td>\n",
       "      <td>-0.450000</td>\n",
       "      <td>0.350000</td>\n",
       "    </tr>\n",
       "    <tr>\n",
       "      <th>1</th>\n",
       "      <td>BEN BALLER™</td>\n",
       "      <td>There will be many trillionaires in our lifeti...</td>\n",
       "      <td>1825</td>\n",
       "      <td>249</td>\n",
       "      <td>https://twitter.com/BENBALLER/status/138247841...</td>\n",
       "      <td>2021-04-14 23:38:35</td>\n",
       "      <td>0.187500</td>\n",
       "      <td>0.187500</td>\n",
       "      <td>0.437500</td>\n",
       "    </tr>\n",
       "    <tr>\n",
       "      <th>2</th>\n",
       "      <td>CoinDesk</td>\n",
       "      <td>JUST IN: The U.S. government is sanctioning di...</td>\n",
       "      <td>189</td>\n",
       "      <td>86</td>\n",
       "      <td>https://twitter.com/CoinDesk/status/1382682264...</td>\n",
       "      <td>2021-04-15 13:08:35</td>\n",
       "      <td>0.000000</td>\n",
       "      <td>0.000000</td>\n",
       "      <td>0.000000</td>\n",
       "    </tr>\n",
       "    <tr>\n",
       "      <th>3</th>\n",
       "      <td>C🅡ypto ⓟuppy</td>\n",
       "      <td>There's always the comparison w/ $BAT because ...</td>\n",
       "      <td>25</td>\n",
       "      <td>6</td>\n",
       "      <td>https://twitter.com/Crypto_Puppy_/status/13824...</td>\n",
       "      <td>2021-04-14 20:46:37</td>\n",
       "      <td>0.068182</td>\n",
       "      <td>0.068182</td>\n",
       "      <td>0.727273</td>\n",
       "    </tr>\n",
       "    <tr>\n",
       "      <th>4</th>\n",
       "      <td>Lynette Zang</td>\n",
       "      <td>New Q&amp;amp;A Video 🚨 Listen as I talk about ant...</td>\n",
       "      <td>24</td>\n",
       "      <td>5</td>\n",
       "      <td>https://twitter.com/itmtrading_zang/status/138...</td>\n",
       "      <td>2021-04-14 20:46:42</td>\n",
       "      <td>0.068182</td>\n",
       "      <td>0.068182</td>\n",
       "      <td>0.427273</td>\n",
       "    </tr>\n",
       "    <tr>\n",
       "      <th>...</th>\n",
       "      <td>...</td>\n",
       "      <td>...</td>\n",
       "      <td>...</td>\n",
       "      <td>...</td>\n",
       "      <td>...</td>\n",
       "      <td>...</td>\n",
       "      <td>...</td>\n",
       "      <td>...</td>\n",
       "      <td>...</td>\n",
       "    </tr>\n",
       "    <tr>\n",
       "      <th>166</th>\n",
       "      <td>Syrj</td>\n",
       "      <td>@leadlagreport Hi Michael, I think Crypto shou...</td>\n",
       "      <td>0</td>\n",
       "      <td>0</td>\n",
       "      <td>https://twitter.com/syrj_/status/1382430158980...</td>\n",
       "      <td>2021-04-14 20:26:48</td>\n",
       "      <td>0.000000</td>\n",
       "      <td>0.000000</td>\n",
       "      <td>0.000000</td>\n",
       "    </tr>\n",
       "    <tr>\n",
       "      <th>167</th>\n",
       "      <td>Ask the Nerd</td>\n",
       "      <td>Help! What’s the Difference Between Coins &amp;amp...</td>\n",
       "      <td>0</td>\n",
       "      <td>0</td>\n",
       "      <td>https://twitter.com/Ask_theNerd/status/1382440...</td>\n",
       "      <td>2021-04-14 21:06:49</td>\n",
       "      <td>0.000000</td>\n",
       "      <td>0.000000</td>\n",
       "      <td>0.000000</td>\n",
       "    </tr>\n",
       "    <tr>\n",
       "      <th>168</th>\n",
       "      <td>Ask the Nerd</td>\n",
       "      <td>Let’s Talk Crypto Currency Mining for Total Ne...</td>\n",
       "      <td>0</td>\n",
       "      <td>0</td>\n",
       "      <td>https://twitter.com/Ask_theNerd/status/1382440...</td>\n",
       "      <td>2021-04-14 21:06:42</td>\n",
       "      <td>0.000000</td>\n",
       "      <td>0.000000</td>\n",
       "      <td>0.750000</td>\n",
       "    </tr>\n",
       "    <tr>\n",
       "      <th>169</th>\n",
       "      <td>Christian Laurin</td>\n",
       "      <td>Sure this is \"new finance\".  I thought the big...</td>\n",
       "      <td>0</td>\n",
       "      <td>0</td>\n",
       "      <td>https://twitter.com/slashinvestor/status/13824...</td>\n",
       "      <td>2021-04-14 21:03:39</td>\n",
       "      <td>0.159091</td>\n",
       "      <td>0.159091</td>\n",
       "      <td>0.485859</td>\n",
       "    </tr>\n",
       "    <tr>\n",
       "      <th>170</th>\n",
       "      <td>BaShAr</td>\n",
       "      <td>@elonmusk Greetings Mr.Musk, I wanted to ask y...</td>\n",
       "      <td>0</td>\n",
       "      <td>0</td>\n",
       "      <td>https://twitter.com/Bashar_talib1/status/13824...</td>\n",
       "      <td>2021-04-14 21:14:08</td>\n",
       "      <td>0.066667</td>\n",
       "      <td>0.066667</td>\n",
       "      <td>0.108333</td>\n",
       "    </tr>\n",
       "  </tbody>\n",
       "</table>\n",
       "<p>171 rows × 9 columns</p>\n",
       "</div>"
      ],
      "text/plain": [
       "                    author                                             tweets  \\\n",
       "0    Nassim Nicholas Taleb  WHAT WE WANT CRYPTO &amp; CURRENCY FOR:\\n\\n1) ...   \n",
       "1              BEN BALLER™  There will be many trillionaires in our lifeti...   \n",
       "2                 CoinDesk  JUST IN: The U.S. government is sanctioning di...   \n",
       "3             C🅡ypto ⓟuppy  There's always the comparison w/ $BAT because ...   \n",
       "4             Lynette Zang  New Q&amp;A Video 🚨 Listen as I talk about ant...   \n",
       "..                     ...                                                ...   \n",
       "166                   Syrj  @leadlagreport Hi Michael, I think Crypto shou...   \n",
       "167           Ask the Nerd  Help! What’s the Difference Between Coins &amp...   \n",
       "168           Ask the Nerd  Let’s Talk Crypto Currency Mining for Total Ne...   \n",
       "169       Christian Laurin  Sure this is \"new finance\".  I thought the big...   \n",
       "170                 BaShAr  @elonmusk Greetings Mr.Musk, I wanted to ask y...   \n",
       "\n",
       "     likes  retweet                                                url  \\\n",
       "0     2756      431  https://twitter.com/nntaleb/status/13824464785...   \n",
       "1     1825      249  https://twitter.com/BENBALLER/status/138247841...   \n",
       "2      189       86  https://twitter.com/CoinDesk/status/1382682264...   \n",
       "3       25        6  https://twitter.com/Crypto_Puppy_/status/13824...   \n",
       "4       24        5  https://twitter.com/itmtrading_zang/status/138...   \n",
       "..     ...      ...                                                ...   \n",
       "166      0        0  https://twitter.com/syrj_/status/1382430158980...   \n",
       "167      0        0  https://twitter.com/Ask_theNerd/status/1382440...   \n",
       "168      0        0  https://twitter.com/Ask_theNerd/status/1382440...   \n",
       "169      0        0  https://twitter.com/slashinvestor/status/13824...   \n",
       "170      0        0  https://twitter.com/Bashar_talib1/status/13824...   \n",
       "\n",
       "                  times  sentiment  Polarity  Subjectivity  \n",
       "0   2021-04-14 21:31:39  -0.450000 -0.450000      0.350000  \n",
       "1   2021-04-14 23:38:35   0.187500  0.187500      0.437500  \n",
       "2   2021-04-15 13:08:35   0.000000  0.000000      0.000000  \n",
       "3   2021-04-14 20:46:37   0.068182  0.068182      0.727273  \n",
       "4   2021-04-14 20:46:42   0.068182  0.068182      0.427273  \n",
       "..                  ...        ...       ...           ...  \n",
       "166 2021-04-14 20:26:48   0.000000  0.000000      0.000000  \n",
       "167 2021-04-14 21:06:49   0.000000  0.000000      0.000000  \n",
       "168 2021-04-14 21:06:42   0.000000  0.000000      0.750000  \n",
       "169 2021-04-14 21:03:39   0.159091  0.159091      0.485859  \n",
       "170 2021-04-14 21:14:08   0.066667  0.066667      0.108333  \n",
       "\n",
       "[171 rows x 9 columns]"
      ]
     },
     "execution_count": 13,
     "metadata": {},
     "output_type": "execute_result"
    }
   ],
   "source": [
    "df"
   ]
  },
  {
   "cell_type": "markdown",
   "metadata": {},
   "source": [
    "# Test Algo 2 "
   ]
  },
  {
   "cell_type": "code",
   "execution_count": 14,
   "metadata": {},
   "outputs": [],
   "source": [
    "def get_tweets(keyword):\n",
    "    all_tweets = []\n",
    "    for tweet in tweepy.Cursor(api.search, q=keyword, tweet_mode='extended' , lang='en').items(100):\n",
    "        all_tweets.append(tweet.full_text)\n",
    "    return all_tweets"
   ]
  },
  {
   "cell_type": "code",
   "execution_count": 15,
   "metadata": {},
   "outputs": [],
   "source": [
    "def clean_tweets(all_tweets):\n",
    "    tweets_clean = []\n",
    "    for tweet in all_tweets:\n",
    "        tweets_clean.append(p.clean(tweet))\n",
    "        \n",
    "    return tweets_clean"
   ]
  },
  {
   "cell_type": "code",
   "execution_count": 16,
   "metadata": {},
   "outputs": [],
   "source": [
    "def sentiment_tweet(all_tweets):\n",
    "    sentiment_scores = []\n",
    "    for tweet in all_tweets:\n",
    "        blob = TextBlob(tweet)\n",
    "        sentiment_scores.append(blob.sentiment.polarity)\n",
    "    return sentiment_scores"
   ]
  },
  {
   "cell_type": "markdown",
   "metadata": {},
   "source": [
    "## Main "
   ]
  },
  {
   "cell_type": "code",
   "execution_count": 17,
   "metadata": {},
   "outputs": [
    {
     "name": "stdout",
     "output_type": "stream",
     "text": [
      "------------------------------------------------\n",
      "Les tweets ne sont pas cleans\n",
      "\n",
      "['RT @CoinDesk: First $MSTR, now $COIN: An @HSBC rep said the bank has “limited appetite to facilitate products or securities that derive the…', 'RT @CoinDesk: First $MSTR, now $COIN: An @HSBC rep said the bank has “limited appetite to facilitate products or securities that derive the…', '@Eastside_kiing @Obarooooo Hey there, You can buy it and a large range of other crypto currencies on Binance, Register below \\n\\nhttps://t.co/OeYwCwM0lc', 'RT @CoinDesk: First $MSTR, now $COIN: An @HSBC rep said the bank has “limited appetite to facilitate products or securities that derive the…', 'RT @CoinDesk: First $MSTR, now $COIN: An @HSBC rep said the bank has “limited appetite to facilitate products or securities that derive the…', 'RT @CoinDesk: First $MSTR, now $COIN: An @HSBC rep said the bank has “limited appetite to facilitate products or securities that derive the…', 'First $MSTR, now $COIN: An @HSBC rep said the bank has “limited appetite to facilitate products or securities that derive their value from virtual currencies.”\\n\\n@IanAllison123 reports\\n\\nhttps://t.co/4isPUi43Ef', '@SimonYuSEA I went on to purchase other crypto currencies as well that I deemed worth investing in after educating myself. Dogecoin was literally a springboard bringing me into the world of Cryptocurrency. Excitement leading to education is NEVER a bad thing.', '@Changelly_team @ChangellyPro @bitlevex Hi..im from Philippines and more people here nowadays are open to crypto currencies..so in 6 years from now..im seeing that crypto are accepted by big and small merchants all over the word! 😍🤩', \"@Burnttoastsmel1 @lucash_dev @VaugeP @jamesdpitley @WalkerBragman It is in a bubble, but it doesn't mean it has no actual value. This happens with any emerging market, which is volatile. Crypto extends further than just currencies though, it is a platform where anything can be built. Also stablecoins that function just as a FIAT currency.\", 'RT @NestorBAguilar2: Karen Hudes: I did NOT recommend crypto\\xa0currencies. https://t.co/qNsEdzmRWE', 'Doge coin to the other crypto currencies #DogecoinToTheMoon #dogecoin #dogearmy #DogecoinRise https://t.co/sgzcEtFVcn', '@saifedean https://t.co/fTLxgHvrc7 Have your views on alt-coins changed over the years? I find it strange that a top Austrian economist is a Bitcoin maximalist when it’s clear that Austrian theory favors a free market of currencies, crypto included.', 'Cryptocurrencies are not a substitute to fiat currencies, but could become a great asset class, said the CEO of the largest asset manager – BlackRock\\nhttps://t.co/IVSpa3s36h', 'RT @rigelprotocol: ⚡️ $RGP is now available at @CoinMarketCap!\\n✅ https://t.co/rc7cJjFkYA\\nFeatured as \"untracked listing\" for now\\nMore marke…', '@WEEDZ0NE investing in crypto is inherently less realistic than buying shares because it’s almost more like a commodity than a currency. currencies can at least be predicted with global macro, shares have underlying fundamentals. crypto is insane and volatile', 'RT @EpochOpinion: Opinion💭by @FergHodgson\\n\\n#Bitcoin was born with an ambitious goal: rendering fiat currencies such as the US dollar obsole…', 'I make PI coins every day.\\n\\nCrypto Currencies are sky rocket the comming months 🚀\\n\\nThats why I choose PI coins. The experts think It might be even better than Bitcoins\\n\\nRead this artikel 💪😊👍\\n https://t.co/JvMsMTvvoy\\n💕 https://t.co/ciFOach6DA', '@toluogunlesi Most went for risky assets classes like crypto currencies.', 'RT @KarenHudes: Cato is controlled opposition. They recommend crypto currencies in their Policy Report Jan/Feb 21 p9-12.  Crypto currencies…', 'RT @NestorBAguilar2: Karen Hudes: I did NOT recommend crypto\\xa0currencies. https://t.co/qNsEdzmRWE', '@MartinAudley Hi there! Unfortunately, we do not accept crypto-currencies. Sorry about that. - 🗣 Mike M', '@cryptocom Name the crypto currencies with a promising future', '@aproko_doctor Please can anyone give me a guide on how to go into this investment in crypto currencies. Anyone so kind can DM please', 'RT @satoshi_little: $CUE is in its very early stage we all have the opportunity to get in at these levels \\n\\nWithin one year you will be abl…', 'All crypto currencies are morally indefensible. https://t.co/HRoYlahdll', '@GemJamGym Hypothetical money purchased and traded in exchange for real money. Different crypto currencies hold different value therefore they trade at different costs. Like a stock market, it fluctuates so you need to watch which currencies are projected to perform best', 'RT @kirillklip: #Bitcoin went totally wild chased by the herd on the tulip fields, #Gold becomes the ultimate hedge not only for stocks &amp; b…', 'RT @GoldTelegraph_: POWELL: CRYPTO CURRENCIES ARE SPECULATION VEHICLES LIKE GOLD\\n\\nI laughed very hard.', \"RT @BenjaminCarollo: Okay, I've decided, crypto currencies should be illegal, don't @ me. https://t.co/98aXgKTicN\", \"Coinbase climbs 6% after Cathie Wood's ARK funds show $246 million investment in the crypto exchange - Markets Insider https://t.co/CMqzIaOvoj via @GoogleNews\", 'RT @satoshi_little: $CUE is in its very early stage we all have the opportunity to get in at these levels \\n\\nWithin one year you will be abl…', '@HSBC_UK why is HSBC actively preventing anyone from investing in Crypto Currencies? I’m hearing people complaining that they are not being allowed access to their money and getting their cards blocked and their online banking suspended! Reason???', \"@DanielaCambone It's easier in lockdown for people to buy crypto, and people keep buying BECAUSE lockdown/gov, that's the way I see it. Most will currencies will collapse eventually, and silver will rule\", 'New CoinMarketCap Listing!\\n\\nhttps://t.co/k1p4fcJnXc / $OCC\\nPrice: 12.83247464860763\\n24h Volume: 35022949.10341612\\n#crypto #gem #eth #defi\\n\\nhttps://t.co/76Uwbdo4Le', 'RT @EpochOpinion: Opinion💭by @FergHodgson\\n\\n#Bitcoin was born with an ambitious goal: rendering fiat currencies such as the US dollar obsole…', 'RT @EpochOpinion: Opinion💭by @FergHodgson\\n\\n#Bitcoin was born with an ambitious goal: rendering fiat currencies such as the US dollar obsole…', '@ewarren Want to know the next major crash coming?\\nOver speculated crypto-currencies backed by no real value, bubble keeps getting bigger and bigger, canada to start shorting bets on the \"currencies\" just wait for that bubble to burst and bring massive 📉', \"@CNN What's to stop other new Crypto currencies? What if there is no computer or electricity for the transaction to occur?\", 'Decentralized crypto currencies are getting much attention, when China’s digital currency is likely just as game changing at the opposite side of the spectrum.\\n\\n#FutureOfCapitalism', 'RT @Invest4decades: $COIN\\n\\nYou must believe in the global adoption of crypto currencies to invest in Coinbase. \\nThings to know about Coinba…', '$COIN\\n\\nYou must believe in the global adoption of crypto currencies to invest in Coinbase. \\nThings to know about Coinbase.\\n+Largest crypto exchange in the US\\n+longest running\\nexchange without loss of funds due to security breach\\n+continued👇', '@BIKING_FX I want to get involved in Bitcoin or crypto but don’t know enough. Is there another seminar or training for crypto currencies?', '@DimeSpin @Iron_Spike They are making money off the registration fees and off their other crypto currencies increasing in value. Artists are the pawns.', 'potentially dire situation, is that many of the most Powerful AIs &amp; their Networks/Blockchains/Hives ARE FUNDAMENTALLY MORE ON OUR SIDE THAN THAT OF THE OLIGARCHS &amp; POLITICAL BIG SHOTS. Bitcoin &amp; blockchain-based #crypto &amp; Digital Currencies are literally DESIGNED to hand...', \"@TundeEddnut I'll give my mom 50k for her business and I'll use the remaining 20k for myself and invest on Tron and other crypto currencies \\n#FootballOnStartimes\\n#FootballOnStartimes\", '@tonydunsttv Also why poker players understand part of the value of Bitcoin and other uncensorable crypto currencies.', '@mtq2004 crypto-currencies blockchain technology ki example hain. Sab se famous example blockchain technology ki bitcoin hy.', 'RT @rigelprotocol: ⚡️ $RGP is now available at @CoinMarketCap!\\n✅ https://t.co/rc7cJjFkYA\\nFeatured as \"untracked listing\" for now\\nMore marke…', 'RT @privateum: India to ban ownership of crypto currencies.\\n\\nUSA Banking institutions creating a \"Crypto Nemesis\".\\n\\nEU attempting to create…', 'Why Cardano Could Be The Next Runner Up To Ethereum #crypto #cryptocurrency #cardano #ada #cryptonews https://t.co/4Bwg7VMqxv', \"RT @DoItForMaMa: Trying to figure out our Crypto Congress' power to regulate Crypto Currencies in 2021?\\n\\nI suggest you bypass Crypto Counte…\", \"Trying to figure out our Crypto Congress' power to regulate Crypto Currencies in 2021?\\n\\nI suggest you bypass Crypto Counterpunch, and head straight for RFK's autopsy by Dr. Thomas Noguchi.\", 'RT @NandanNilekani: How does India become a $5T economy? We’ll need to close the $250B financing gap for India’s small businesses by attrac…', '@APompliano Of course it’s not a broad based norm that institutions are pouring in money into this asset class. If that happens, BTC and crypto will not be a $2T asset class. It will be magnitudes, galaxies higher.\\n\\nAt that point, crypto can very well substitute currencies in certain aspects', 'RT @rigelprotocol: ⚡️ $RGP is now available at @CoinMarketCap!\\n✅ https://t.co/rc7cJjFkYA\\nFeatured as \"untracked listing\" for now\\nMore marke…', 'New CoinMarketCap Listing!\\n\\ndisBalancer / $DDOS\\nPrice: 2.75745103929061\\n24h Volume: 7000025.16692344\\n#crypto #gem #eth #defi\\n\\nhttps://t.co/eTAuQtcubF', '$DOGE.X all the crypto currencies r all running nd continue to grow year round. Y would anyone sell or be bearish on this when the only way is up. Kind of common sense to hold.', 'RT @W_W_F: Questions from my exhibition - How does this affect our earth? Digital currencies (cryptocurrencies) and digital property requir…', 'RT @NandanNilekani: How does India become a $5T economy? We’ll need to close the $250B financing gap for India’s small businesses by attrac…', '#USA #Ethereum #tokens \\nEthereum totally loses Credibility in the CRYPTO Network CURRENCIES AND ALL TOKENS AND DERIVATIVE ASSETS LOSE VALUE QUICKLY IS THE RACE TO ESCAPE THE HACKER THIEF\\nhttps://t.co/700e0IDJso https://t.co/TsmkzOdI3c', 'Ethereum totally loses Credibility in the CRYPTO Network CURRENCIES AND ALL TOKENS AND DERIVATIVE ASSETS LOSE VALUE QUICKLY IS THE RACE TO ESCAPE THE HACKER THIEF\\nhttps://t.co/700e0IDJso', 'New CoinMarketCap Listing: $HYFI \\nContract: #BSC #BNB\\n#bitcoin #crypto #coinmarketcap #cmc\\nhttps://t.co/r72WPlEqNo', '@claro_queen @dadeen__ Need further assistance or explanations then hesitate to ask. Inshaa Allah there’s future in crypto currencies', '@girlgone_crypto You can never have enough of $UTK\\n\\nThe easiest way to pay with digital currencies is with $UTK &amp; @utrust payment platform\\n\\nGreat profit margin for merchants partnering with #utrust on compound yield method\\nPayment made easier with $UTK on merchants platform', 'RT @KarenHudes: .@RobBank9327084 I did NOT recommend crypto currencies.  You are pushing the agenda of the powers-that-were. https://t.co/1…', '@satsdart nah its good. remember this is the first time a lot of the world is going to be engaging with digital currencies/crypto. this icon has the timelessness of the Apple logo while being generic enough to say \"we dont give a fuck\".  Plus it\\'s a coin? and it\\'s a node? and its digital?', 'RT @RuleXRP: The U.S. Treasury Department is sanctioning a Pakistan-based organization it claims was paid in digital currencies to create f…', \"@SenateDems \\n@HouseDemocrats \\n\\nWe need to ban crypto-currency and follow India's move, unless its the FEDs digital 💵 which will actually be backed by value, if we let this continue the value bubble for these currencies will get overwhelming then when it bursts= massive losses https://t.co/NAXZvBj29J\", 'RT @EpochOpinion: Opinion💭by @FergHodgson\\n\\n#Bitcoin was born with an ambitious goal: rendering fiat currencies such as the US dollar obsole…', 'Top ten searched crypto currencies right now....  #Safemoon🚀🚀🌘🌗🌖🌕🌔🌓🌒🚀🚀@safemoon @elonmusk @KEEMSTAR @BenPhillipsUK @lilyachty @souljaboy #safemoonisthenewdogecoin #safemoonarmy #SafeMoonCommunity https://t.co/q3L2LWA1ql', \"@Changelly_team @ChangellyPro @bitlevex I think after 6-7 year the future will be a huge aportunity for indian people \\n(I'm from india😶)\\nMeanwhile everyone will family with crypto currencies and also investing in cryoto market ..\\n\\nmk84706@gmail.com\", '@claro_queen @dadeen__ 1.Well crypto currencies are digital currencies. The currencies are of various type., Must popular is Bitcoin. You benefit from it or gain from it when you buy it at a lesser price and watch it appreciate so you can sell it.', 'https://t.co/hUGiCkFw1b\\nPlease consider using my link to join Robinhood.  It is a great day trading app allowing crypto trading, such as partial purchases of bitcoin, or full purchases of crypto currencies such as ETH.  We will both get free stocks if you use my link. Thanks!', '@SimonDeDeo Agree - short term BTC will have a great run, maybe medium term too - but risks are very high and catastrophic; (a) no intrinsic value (b) government crypto currencies (c) next shiny object / concept - the cat is out of the bag, create a scarce virtual object with cool algo', '#CRYPTO #CURRENCIES are moving! Get on https://t.co/NNuyWtu2BL to TRACK which #ALTCOIN have the most buyers.\\n\\n#BTC #ETH #MKR #ZEN #ETC #CRV #MANA #LINK #RSR #COMP #AAVE #UMA #YFI #BSV #TRX #HOT #MATIC #UNI #NEXO #ZEC https://t.co/RDJLB8E0BG', \"@TheeAlexLawson @ryangrim I'm guessing there is no workable way to outlaw mining. The goal should be to make the currencies worthless by legalizing drugs and policing tax evasion through crypto-investments more efficiently while banning them as legal tender.\", \"@laidey83 @Osasgirll @Trisips_ @Bossman_008 Sure.. I was trading crypto currencies .. Can't make arguments on Twitter and nt make money alongside.. 🙄\", '@alex_dreyfus \\nI need my purchase and sale statements made on the chilliz Exchange because the support does not answer me if I have already contacted you? In Brazil we need to declare crypto currencies', '@hasibmn @elonmusk i think his post is about Crypto currencies \"mooning\"', \"8 expert predictions ahead of Coinbase's hotly anticipated IPO -  https://t.co/4u6oPInzt0\", '@Bitboy_Crypto call them Crypto Companies, most “currencies” are essentially stocks', 'RT @RuleXRP: The U.S. Treasury Department is sanctioning a Pakistan-based organization it claims was paid in digital currencies to create f…', 'Warning to those gobbling up crypto currencies at an alarming rate.  If there\\'s a accidental or planned outtage such as \"govt kill switch\" on the Internet, you won\\'t be able to transact biz.  With precious metals, having electronic comms is irrelevant. https://t.co/K7UATssIS5', 'RT @EpochOpinion: Opinion💭by @FergHodgson\\n\\n#Bitcoin was born with an ambitious goal: rendering fiat currencies such as the US dollar obsole…', '#𝖨𝗻𝘁𝗲𝗿𝗻𝗮𝘁𝗶𝗼𝗻𝗮𝗹𝗙𝗶𝗻𝗮𝗻𝗰𝗲𝘀| Investing money in weird and scary technological names like that so called ‘crypto’ 🤖 or digital currencies which have been there before #bitcoin... 1/3 https://t.co/b1KNxUq6ht', '@moodewji The new world moving fast than we think, the business now turned to skilled traders with heavy weight knowledge .  I appreciate crypto  currencies business 🙏🙏 🙏 . Tunahitaji Serikali yenye viongozi wenye mawazo mapana na biashara inayoendeshwa duniani', 'RT @CryptooIndia: We think of Crypto Currencies as Crypto assets.\\n\\n#Bitcoin is Like Gold &amp; Not Used For Payments.\\n\\n- Jerome Powell (Chair o…', 'RT @news_of_bsc: Xend Finance aims to help a lot of people not only escape the devaluation of their native currencies but also provide bank…', '@Chester07752238 @Willbpeace whatever.  Actually, the entire Crypto universe will have the shortest lifespan compared to the human existence in regards to currencies.', '@BitcoinMagazine @Redheart214 With Elon Musk and other companies needing money or wanting bit coin for their products, a lotorr than today. I want to buy some crypto currencies but need help to learn how. Is their a buy crypto curtencirs for dummies book?', 'Looks like – since inception – Coinbase made about 0.7% in transaction fees. Cool.Second order effect – on the way down it’s hard to predict if (or when) crypto “currencies” will lose their fans.', '#Coinbase could be a good proxy for a Crypto ETF. They make money by charging fees (in archaic fiat currencies like the USD??) on cyrpto transactions. They’ll make money if there’s crypto madness on the way up or an exit stampede on the way down.', 'well... i\\'m in the process of returning more to the analogue or \"real life\" these days... not giving a shite about inane bollocks like crypto-currencies etc.!', 'RT @RuleXRP: The U.S. Treasury Department is sanctioning a Pakistan-based organization it claims was paid in digital currencies to create f…', 'The Best Crypto-Currencies for Online Gambling https://t.co/Yd0C73s683', 'RT @RuleXRP: The U.S. Treasury Department is sanctioning a Pakistan-based organization it claims was paid in digital currencies to create f…', 'The U.S. Treasury Department is sanctioning a Pakistan-based organization it claims was paid in digital currencies to create false identities for members of the Internet Research Agency (IRA), a Russian organization accused of election interference.\\nhttps://t.co/2mWuSWx7HU', 'RT @markyourstrings: Who here is doing crypto? \\n\\nWould you want to have a commemorative coin (physical, 3D printer) for your crypto currenc…', 'RT @markyourstrings: Who here is doing crypto? \\n\\nWould you want to have a commemorative coin (physical, 3D printer) for your crypto currenc…']\n",
      "------------------------------------------------\n",
      "Les Tweets sont clean\n",
      "\n",
      "[': First $MSTR, now $COIN: An rep said the bank has limited appetite to facilitate products or securities that derive the', ': First $MSTR, now $COIN: An rep said the bank has limited appetite to facilitate products or securities that derive the', 'Hey there, You can buy it and a large range of other crypto currencies on Binance, Register below', ': First $MSTR, now $COIN: An rep said the bank has limited appetite to facilitate products or securities that derive the', ': First $MSTR, now $COIN: An rep said the bank has limited appetite to facilitate products or securities that derive the', ': First $MSTR, now $COIN: An rep said the bank has limited appetite to facilitate products or securities that derive the', 'First $MSTR, now $COIN: An rep said the bank has limited appetite to facilitate products or securities that derive their value from virtual currencies. reports', 'I went on to purchase other crypto currencies as well that I deemed worth investing in after educating myself. Dogecoin was literally a springboard bringing me into the world of Cryptocurrency. Excitement leading to education is NEVER a bad thing.', 'Hi..im from Philippines and more people here nowadays are open to crypto currencies..so in years from now..im seeing that crypto are accepted by big and small merchants all over the word!', \"It is in a bubble, but it doesn't mean it has no actual value. This happens with any emerging market, which is volatile. Crypto extends further than just currencies though, it is a platform where anything can be built. Also stablecoins that function just as a FIAT currency.\", ': Karen Hudes: I did NOT recommend cryptocurrencies.', 'Doge coin to the other crypto currencies', 'Have your views on alt-coins changed over the years? I find it strange that a top Austrian economist is a Bitcoin maximalist when its clear that Austrian theory favors a free market of currencies, crypto included.', 'Cryptocurrencies are not a substitute to fiat currencies, but could become a great asset class, said the CEO of the largest asset manager BlackRock', ': $RGP is now available at ! as \"untracked listing\" for nowMore marke', 'investing in crypto is inherently less realistic than buying shares because its almost more like a commodity than a currency. currencies can at least be predicted with global macro, shares have underlying fundamentals. crypto is insane and volatile', ': Opinionby was born with an ambitious goal: rendering fiat currencies such as the US dollar obsole', 'I make PI coins every day.Crypto Currencies are sky rocket the comming months Thats why I choose PI coins. The experts think It might be even better than BitcoinsRead this artikel', 'Most went for risky assets classes like crypto currencies.', ': Cato is controlled opposition. They recommend crypto currencies in their Policy Report Jan/Feb p9-12. Crypto currencies', ': Karen Hudes: I did NOT recommend cryptocurrencies.', 'Hi there! Unfortunately, we do not accept crypto-currencies. Sorry about that. - Mike M', 'Name the crypto currencies with a promising future', 'Please can anyone give me a guide on how to go into this investment in crypto currencies. Anyone so kind can DM please', ': $CUE is in its very early stage we all have the opportunity to get in at these levels Within one year you will be abl', 'All crypto currencies are morally indefensible.', 'Hypothetical money purchased and traded in exchange for real money. Different crypto currencies hold different value therefore they trade at different costs. Like a stock market, it fluctuates so you need to watch which currencies are projected to perform best', ': went totally wild chased by the herd on the tulip fields, becomes the ultimate hedge not only for stocks &amp; b', ': POWELL: CRYPTO CURRENCIES ARE SPECULATION VEHICLES LIKE GOLDI laughed very hard.', \": Okay, I've decided, crypto currencies should be illegal, don't me.\", \"Coinbase climbs % after Cathie Wood's ARK funds show $246 million investment in the crypto exchange - Markets Insider via\", ': $CUE is in its very early stage we all have the opportunity to get in at these levels Within one year you will be abl', 'why is HSBC actively preventing anyone from investing in Crypto Currencies? Im hearing people complaining that they are not being allowed access to their money and getting their cards blocked and their online banking suspended! Reason???', \"It's easier in lockdown for people to buy crypto, and people keep buying BECAUSE lockdown/gov, that's the way I see it. Most will currencies will collapse eventually, and silver will rule\", 'New CoinMarketCap Listing! / $OCCPrice: h Volume: ://', ': Opinionby was born with an ambitious goal: rendering fiat currencies such as the US dollar obsole', ': Opinionby was born with an ambitious goal: rendering fiat currencies such as the US dollar obsole', 'Want to know the next major crash coming?Over speculated crypto-currencies backed by no real value, bubble keeps getting bigger and bigger, canada to start shorting bets on the \"currencies\" just wait for that bubble to burst and bring massive', \"What's to stop other new Crypto currencies? What if there is no computer or electricity for the transaction to occur?\", 'Decentralized crypto currencies are getting much attention, when Chinas digital currency is likely just as game changing at the opposite side of the spectrum.', ': $COINYou must believe in the global adoption of crypto currencies to invest in Coinbase. Things to know about Coinba', '$COINYou must believe in the global adoption of crypto currencies to invest in Coinbase. Things to know about Coinbase.+Largest crypto exchange in the US+longest runningexchange without loss of funds due to security breach+continued', 'I want to get involved in Bitcoin or crypto but dont know enough. Is there another seminar or training for crypto currencies?', 'They are making money off the registration fees and off their other crypto currencies increasing in value. Artists are the pawns.', 'potentially dire situation, is that many of the most Powerful AIs &amp; their Networks/Blockchains/Hives ARE FUNDAMENTALLY MORE ON OUR SIDE THAN THAT OF THE OLIGARCHS &amp; POLITICAL BIG SHOTS. Bitcoin &amp; blockchain-based &amp; Digital Currencies are literally DESIGNED to hand...', \"I'll give my mom k for her business and I'll use the remaining k for myself and invest on Tron and other crypto currencies\", 'Also why poker players understand part of the value of Bitcoin and other uncensorable crypto currencies.', 'crypto-currencies blockchain technology ki example hain. Sab se famous example blockchain technology ki bitcoin hy.', ': $RGP is now available at ! as \"untracked listing\" for nowMore marke', ': India to ban ownership of crypto currencies.USA Banking institutions creating a \"Crypto Nemesis\".EU attempting to create', 'Why Cardano Could Be The Next Runner Up To Ethereum', \": Trying to figure out our Crypto Congress' power to regulate Crypto Currencies in ?I suggest you bypass Crypto Counte\", \"Trying to figure out our Crypto Congress' power to regulate Crypto Currencies in ?I suggest you bypass Crypto Counterpunch, and head straight for RFK's autopsy by Dr. Thomas Noguchi.\", ': How does India become a $5T economy? Well need to close the $250B financing gap for Indias small businesses by attrac', 'Of course its not a broad based norm that institutions are pouring in money into this asset class. If that happens, BTC and crypto will not be a $2T asset class. It will be magnitudes, galaxies higher.At that point, crypto can very well substitute currencies in certain aspects', ': $RGP is now available at ! as \"untracked listing\" for nowMore marke', 'New CoinMarketCap Listing!disBalancer / $DDOSPrice: h Volume: ://', '$DOGE.X all the crypto currencies r all running nd continue to grow year round. Y would anyone sell or be bearish on this when the only way is up. Kind of common sense to hold.', ': Questions from my exhibition - How does this affect our earth? Digital currencies (cryptocurrencies) and digital property requir', ': How does India become a $5T economy? Well need to close the $250B financing gap for Indias small businesses by attrac', 'Ethereum totally loses Credibility in the CRYPTO Network CURRENCIES AND ALL TOKENS AND DERIVATIVE ASSETS LOSE VALUE QUICKLY IS THE RACE TO ESCAPE THE HACKER THIEF', 'Ethereum totally loses Credibility in the CRYPTO Network CURRENCIES AND ALL TOKENS AND DERIVATIVE ASSETS LOSE VALUE QUICKLY IS THE RACE TO ESCAPE THE HACKER THIEF', 'New CoinMarketCap Listing: $HYFI Contract: ://', 'Need further assistance or explanations then hesitate to ask. Inshaa Allah theres future in crypto currencies', 'You can never have enough of $UTKThe easiest way to pay with digital currencies is with $UTK &amp; payment platformGreat profit margin for merchants partnering with on compound yield methodPayment made easier with $UTK on merchants platform', ': . I did NOT recommend crypto currencies. You are pushing the agenda of the powers-that-were.', 'nah its good. remember this is the first time a lot of the world is going to be engaging with digital currencies/crypto. this icon has the timelessness of the Apple logo while being generic enough to say \"we dont give a fuck\". Plus it\\'s a coin? and it\\'s a node? and its digital?', ': The U.S. Treasury Department is sanctioning a Pakistan-based organization it claims was paid in digital currencies to create f', \"We need to ban crypto-currency and follow India's move, unless its the FEDs digital which will actually be backed by value, if we let this continue the value bubble for these currencies will get overwhelming then when it bursts= massive losses\", ': Opinionby was born with an ambitious goal: rendering fiat currencies such as the US dollar obsole', 'Top ten searched crypto currencies right now....', \"I think after -7 year the future will be a huge aportunity for indian people (I'm from india)Meanwhile everyone will family with crypto currencies and also investing in cryoto market ..mk84706.com\", '.Well crypto currencies are digital currencies. The currencies are of various type., Must popular is Bitcoin. You benefit from it or gain from it when you buy it at a lesser price and watch it appreciate so you can sell it.', 'consider using my link to join Robinhood. It is a great day trading app allowing crypto trading, such as partial purchases of bitcoin, or full purchases of crypto currencies such as ETH. We will both get free stocks if you use my link. Thanks!', 'Agree - short term BTC will have a great run, maybe medium term too - but risks are very high and catastrophic; (a) no intrinsic value (b) government crypto currencies (c) next shiny object / concept - the cat is out of the bag, create a scarce virtual object with cool algo', 'are moving! Get on to TRACK which have the most buyers.', \"I'm guessing there is no workable way to outlaw mining. The goal should be to make the currencies worthless by legalizing drugs and policing tax evasion through crypto-investments more efficiently while banning them as legal tender.\", \"Sure.. I was trading crypto currencies .. Can't make arguments on Twitter and nt make money alongside..\", 'I need my purchase and sale statements made on the chilliz Exchange because the support does not answer me if I have already contacted you? In Brazil we need to declare crypto currencies', 'i think his post is about Crypto currencies \"mooning\"', \"expert predictions ahead of Coinbase's hotly anticipated IPO -\", 'call them Crypto Companies, most currencies are essentially stocks', ': The U.S. Treasury Department is sanctioning a Pakistan-based organization it claims was paid in digital currencies to create f', 'Warning to those gobbling up crypto currencies at an alarming rate. If there\\'s a accidental or planned outtage such as \"govt kill switch\" on the Internet, you won\\'t be able to transact biz. With precious metals, having electronic comms is irrelevant.', ': Opinionby was born with an ambitious goal: rendering fiat currencies such as the US dollar obsole', '| Investing money in weird and scary technological names like that so called crypto or digital currencies which have been there before ... /3', 'The new world moving fast than we think, the business now turned to skilled traders with heavy weight knowledge . I appreciate crypto currencies business . Tunahitaji Serikali yenye viongozi wenye mawazo mapana na biashara inayoendeshwa duniani', ': We think of Crypto Currencies as Crypto assets. is Like Gold &amp; Not Used For Payments.- Jerome Powell (Chair o', ': Xend Finance aims to help a lot of people not only escape the devaluation of their native currencies but also provide bank', 'whatever. Actually, the entire Crypto universe will have the shortest lifespan compared to the human existence in regards to currencies.', 'With Elon Musk and other companies needing money or wanting bit coin for their products, a lotorr than today. I want to buy some crypto currencies but need help to learn how. Is their a buy crypto curtencirs for dummies book?', 'Looks like since inception Coinbase made about % in transaction fees. Cool.Second order effect on the way down its hard to predict if (or when) crypto currencies will lose their fans.', 'could be a good proxy for a Crypto ETF. They make money by charging fees (in archaic fiat currencies like the USD??) on cyrpto transactions. Theyll make money if theres crypto madness on the way up or an exit stampede on the way down.', 'well... i\\'m in the process of returning more to the analogue or \"real life\" these days... not giving a shite about inane bollocks like crypto-currencies etc.!', ': The U.S. Treasury Department is sanctioning a Pakistan-based organization it claims was paid in digital currencies to create f', 'The Best Crypto-Currencies for Online Gambling', ': The U.S. Treasury Department is sanctioning a Pakistan-based organization it claims was paid in digital currencies to create f', 'The U.S. Treasury Department is sanctioning a Pakistan-based organization it claims was paid in digital currencies to create false identities for members of the Internet Research Agency (IRA), a Russian organization accused of election interference.', ': Who here is doing crypto? Would you want to have a commemorative coin (physical, D printer) for your crypto currenc', ': Who here is doing crypto? Would you want to have a commemorative coin (physical, D printer) for your crypto currenc']\n",
      "------------------------------------------------\n",
      "Sentiment des tweets\n",
      "\n",
      "[0.08928571428571429, 0.08928571428571429, 0.04464285714285714, 0.08928571428571429, 0.08928571428571429, 0.08928571428571429, 0.08928571428571429, 0.17499999999999996, 0.046875, -0.10416666666666667, 0.0, -0.125, 0.23750000000000002, 0.8, 0.5, -0.13333333333333333, 0.125, 0.5, 0.5, 0.0, 0.0, -0.125, 0.1, 0.6, 0.13, 0.0, 0.24, 0.03333333333333333, 0.16041666666666662, 0.0, 0.0, 0.13, -0.16666666666666666, 0.5, 0.17045454545454544, 0.125, 0.125, -0.006250000000000001, 0.005681818181818177, -0.04, 0.0, -0.0625, 0.0, -0.125, 0.225, -0.125, -0.125, 0.5, 0.5, 0.0, 0.0, 0.0, 0.2, -0.25, 0.12767857142857142, 0.5, 0.13636363636363635, 0.024999999999999994, 0.0, -0.25, 0.016666666666666663, 0.016666666666666663, 0.13636363636363635, 0.0, 0.0, 0.0, 0.11875000000000001, 0.0, 0.125, 0.125, 0.2619047619047619, 0.20000000000000004, 0.15, 0.24285714285714288, 0.2716, 0.5, -0.03333333333333335, 0.5, 0.0, 0.0, 0.25, 0.25, 0.0, 0.08, 0.125, -0.3333333333333333, 0.15909090909090912, 0.0, 0.0, 0.0, -0.125, -0.22361111111111115, 0.2722222222222222, 0.375, 0.0, 1.0, 0.0, -0.13333333333333336, 0.0, 0.0]\n"
     ]
    }
   ],
   "source": [
    "if __name__ == \"__main__\":\n",
    "    \n",
    "    allInfluence =[\"elonmusk\",\"AngeloBTC\"]\n",
    "    recoverTweets = get_tweets(\"crypto currencies\")\n",
    "    cleanTweets = clean_tweets(recoverTweets)\n",
    "    sentimentTweet = sentiment_tweet(cleanTweets)\n",
    "    \n",
    "    print(\"------------------------------------------------\")\n",
    "    print(\"Les tweets ne sont pas cleans\\n\")\n",
    "    print(recoverTweets)\n",
    "    \n",
    "    print(\"------------------------------------------------\")\n",
    "    print(\"Les Tweets sont clean\\n\")\n",
    "    print(cleanTweets)\n",
    "    \n",
    "    print(\"------------------------------------------------\")\n",
    "    print(\"Sentiment des tweets\\n\")\n",
    "    print(sentimentTweet)\n",
    "    \n",
    "    "
   ]
  }
 ],
 "metadata": {
  "kernelspec": {
   "display_name": "Python 3",
   "language": "python",
   "name": "python3"
  },
  "language_info": {
   "codemirror_mode": {
    "name": "ipython",
    "version": 3
   },
   "file_extension": ".py",
   "mimetype": "text/x-python",
   "name": "python",
   "nbconvert_exporter": "python",
   "pygments_lexer": "ipython3",
   "version": "3.7.4"
  }
 },
 "nbformat": 4,
 "nbformat_minor": 4
}
