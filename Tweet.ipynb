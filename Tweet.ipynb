{
 "cells": [
  {
   "cell_type": "markdown",
   "metadata": {},
   "source": [
    "# <center> Twitter </center>"
   ]
  },
  {
   "cell_type": "markdown",
   "metadata": {},
   "source": [
    "Recover tweet about crypto-currency"
   ]
  },
  {
   "cell_type": "markdown",
   "metadata": {},
   "source": [
    "## Import of libraries "
   ]
  },
  {
   "cell_type": "code",
   "execution_count": 1,
   "metadata": {},
   "outputs": [],
   "source": [
    "import tweepy\n",
    "import csv\n",
    "import pandas as pd\n",
    "import csv\n",
    "import re \n",
    "import string\n",
    "import preprocessor as p\n",
    "from textblob import TextBlob\n",
    "import matplotlib.pyplot as plt\n",
    "import seaborn as sns\n",
    "from nltk.stem.snowball import SnowballStemmer\n",
    "import nltk"
   ]
  },
  {
   "cell_type": "markdown",
   "metadata": {},
   "source": [
    "## Algorithmes"
   ]
  },
  {
   "cell_type": "code",
   "execution_count": 2,
   "metadata": {},
   "outputs": [],
   "source": [
    "consumer_key = \"sv62m7FUziAOHGtplgNYQ0TEi\"\n",
    "consumer_secret = \"67TMtXeLLSwjxjhRdhZkc7TuAlJRTmSu4q2KOUbuN1oHzlcdZ0\"\n",
    "\n",
    "access_key = \"1358394444429549568-IDbGzN51cUyZnnh0iWacK8vIbKnr2W\" \n",
    "access_secret =  \"6fwj7lLVGSThRax5R6Mrde5xBZHPCpeOjE2AoatIUhIOc\""
   ]
  },
  {
   "cell_type": "code",
   "execution_count": 3,
   "metadata": {},
   "outputs": [],
   "source": [
    "auth = tweepy.OAuthHandler(consumer_key, consumer_secret)\n",
    "auth.set_access_token(access_key, access_secret)\n",
    "api = tweepy.API(auth)"
   ]
  },
  {
   "cell_type": "markdown",
   "metadata": {},
   "source": [
    "result_type : \n",
    "- mixed : include both popular and real time results in the response\n",
    "- recent : return only the most recent results in the response\n",
    "- popular : return only the most popular results in the response"
   ]
  },
  {
   "cell_type": "markdown",
   "metadata": {},
   "source": [
    "### to get several fields in the query  \n",
    "https://developer.twitter.com/en/docs/labs/recent-search/guides/search-queries"
   ]
  },
  {
   "cell_type": "code",
   "execution_count": 4,
   "metadata": {},
   "outputs": [],
   "source": [
    "all_tweets = []\n",
    "likes = []\n",
    "created = []\n",
    "author = []\n",
    "retweet = []\n",
    "url =[]\n",
    "search_terms = \"crypto currency\" or \"AngeloBTC\"\n",
    "\n",
    "for tweet in tweepy.Cursor(api.search, q=search_terms, tweet_mode='extended' , lang='en', \n",
    "                           result_type='recent').items(10):\n",
    "    #print(dir(tweet))\n",
    "    author.append(tweet.author.name)\n",
    "    all_tweets.append(tweet.full_text)\n",
    "    likes.append(tweet.favorite_count)\n",
    "    retweet.append(tweet.retweet_count)\n",
    "    url.append(f\"https://twitter.com/{tweet.user.screen_name}/status/{tweet.id}\")\n",
    "    created.append(tweet.created_at)"
   ]
  },
  {
   "cell_type": "code",
   "execution_count": 5,
   "metadata": {
    "scrolled": true
   },
   "outputs": [],
   "source": [
    "df = pd.DataFrame({'author':author ,'tweets':all_tweets ,'likes':likes ,'retweet':retweet\n",
    "                   ,'url':url ,'times':created})"
   ]
  },
  {
   "cell_type": "raw",
   "metadata": {},
   "source": [
    "df = df[~df.tweets.str.contains(\"RT\")]"
   ]
  },
  {
   "cell_type": "code",
   "execution_count": 6,
   "metadata": {
    "scrolled": true
   },
   "outputs": [],
   "source": [
    "df = df.sort_values(by=['likes'],ascending=False)"
   ]
  },
  {
   "cell_type": "code",
   "execution_count": 7,
   "metadata": {},
   "outputs": [],
   "source": [
    "df = df.reset_index(drop=True)"
   ]
  },
  {
   "cell_type": "raw",
   "metadata": {},
   "source": [
    "df['sentiment'] = df['tweets'].map(lambda txt: TextBlob(txt).sentiment.polarity)"
   ]
  },
  {
   "cell_type": "code",
   "execution_count": 8,
   "metadata": {},
   "outputs": [],
   "source": [
    "def getTextPolarity(txt):\n",
    "    return TextBlob(txt).sentiment.polarity"
   ]
  },
  {
   "cell_type": "code",
   "execution_count": 9,
   "metadata": {},
   "outputs": [],
   "source": [
    "def getTextSubjectivity(txt):\n",
    "    return TextBlob(txt).sentiment.subjectivity"
   ]
  },
  {
   "cell_type": "code",
   "execution_count": 10,
   "metadata": {},
   "outputs": [],
   "source": [
    "df['Polarity'] = df['tweets'].apply(getTextPolarity)\n",
    "df['Subjectivity'] = df['tweets'].apply(getTextSubjectivity)"
   ]
  },
  {
   "cell_type": "code",
   "execution_count": 11,
   "metadata": {},
   "outputs": [
    {
     "data": {
      "text/html": [
       "<div>\n",
       "<style scoped>\n",
       "    .dataframe tbody tr th:only-of-type {\n",
       "        vertical-align: middle;\n",
       "    }\n",
       "\n",
       "    .dataframe tbody tr th {\n",
       "        vertical-align: top;\n",
       "    }\n",
       "\n",
       "    .dataframe thead th {\n",
       "        text-align: right;\n",
       "    }\n",
       "</style>\n",
       "<table border=\"1\" class=\"dataframe\">\n",
       "  <thead>\n",
       "    <tr style=\"text-align: right;\">\n",
       "      <th></th>\n",
       "      <th>author</th>\n",
       "      <th>tweets</th>\n",
       "      <th>likes</th>\n",
       "      <th>retweet</th>\n",
       "      <th>url</th>\n",
       "      <th>times</th>\n",
       "      <th>Polarity</th>\n",
       "      <th>Subjectivity</th>\n",
       "    </tr>\n",
       "  </thead>\n",
       "  <tbody>\n",
       "    <tr>\n",
       "      <th>0</th>\n",
       "      <td>Eric Weinstein</td>\n",
       "      <td>Don’t let short term losses in Bitcoin sour yo...</td>\n",
       "      <td>1214</td>\n",
       "      <td>150</td>\n",
       "      <td>https://twitter.com/EricRWeinstein/status/1386...</td>\n",
       "      <td>2021-04-25 23:32:43</td>\n",
       "      <td>-0.050000</td>\n",
       "      <td>0.216667</td>\n",
       "    </tr>\n",
       "    <tr>\n",
       "      <th>1</th>\n",
       "      <td>Cointelegraph</td>\n",
       "      <td>Binance is making big moves in America. Former...</td>\n",
       "      <td>234</td>\n",
       "      <td>48</td>\n",
       "      <td>https://twitter.com/Cointelegraph/status/13861...</td>\n",
       "      <td>2021-04-25 01:00:00</td>\n",
       "      <td>0.166667</td>\n",
       "      <td>0.200000</td>\n",
       "    </tr>\n",
       "    <tr>\n",
       "      <th>2</th>\n",
       "      <td>UBITQUITY LLC | One Block At A Time® | ☢ Ⓥ</td>\n",
       "      <td>VeChain Is Gaining Popularity as a Dual Crypto...</td>\n",
       "      <td>212</td>\n",
       "      <td>45</td>\n",
       "      <td>https://twitter.com/ubitquity_io/status/138610...</td>\n",
       "      <td>2021-04-24 23:38:08</td>\n",
       "      <td>0.375000</td>\n",
       "      <td>1.000000</td>\n",
       "    </tr>\n",
       "    <tr>\n",
       "      <th>3</th>\n",
       "      <td>CoinMarketCap</td>\n",
       "      <td>How do the largest cryptocurrencies, such as #...</td>\n",
       "      <td>146</td>\n",
       "      <td>24</td>\n",
       "      <td>https://twitter.com/CoinMarketCap/status/13862...</td>\n",
       "      <td>2021-04-25 09:30:02</td>\n",
       "      <td>0.261364</td>\n",
       "      <td>0.388636</td>\n",
       "    </tr>\n",
       "    <tr>\n",
       "      <th>4</th>\n",
       "      <td>The British History Podcast</td>\n",
       "      <td>Every time I read something about crypto curre...</td>\n",
       "      <td>142</td>\n",
       "      <td>3</td>\n",
       "      <td>https://twitter.com/BritishPodcast/status/1386...</td>\n",
       "      <td>2021-04-25 00:03:44</td>\n",
       "      <td>0.333333</td>\n",
       "      <td>0.666667</td>\n",
       "    </tr>\n",
       "    <tr>\n",
       "      <th>...</th>\n",
       "      <td>...</td>\n",
       "      <td>...</td>\n",
       "      <td>...</td>\n",
       "      <td>...</td>\n",
       "      <td>...</td>\n",
       "      <td>...</td>\n",
       "      <td>...</td>\n",
       "      <td>...</td>\n",
       "    </tr>\n",
       "    <tr>\n",
       "      <th>395</th>\n",
       "      <td>Dom</td>\n",
       "      <td>If your interested into getting into the crypt...</td>\n",
       "      <td>0</td>\n",
       "      <td>0</td>\n",
       "      <td>https://twitter.com/d_sampaolo/status/13861104...</td>\n",
       "      <td>2021-04-25 00:11:04</td>\n",
       "      <td>0.200000</td>\n",
       "      <td>0.512500</td>\n",
       "    </tr>\n",
       "    <tr>\n",
       "      <th>396</th>\n",
       "      <td>CⓋIN Collector</td>\n",
       "      <td>RT @safemoon: Yeah we’re proud to rep the MOST...</td>\n",
       "      <td>0</td>\n",
       "      <td>3393</td>\n",
       "      <td>https://twitter.com/th3collecter/status/138611...</td>\n",
       "      <td>2021-04-25 00:11:10</td>\n",
       "      <td>0.650000</td>\n",
       "      <td>0.750000</td>\n",
       "    </tr>\n",
       "    <tr>\n",
       "      <th>397</th>\n",
       "      <td>Crypto_Pharaoh</td>\n",
       "      <td>@cryptoassetsguy They're to far down in the ho...</td>\n",
       "      <td>0</td>\n",
       "      <td>0</td>\n",
       "      <td>https://twitter.com/KingTazz_Crypto/status/138...</td>\n",
       "      <td>2021-04-25 00:11:11</td>\n",
       "      <td>0.064815</td>\n",
       "      <td>0.512963</td>\n",
       "    </tr>\n",
       "    <tr>\n",
       "      <th>398</th>\n",
       "      <td>💀TOXIC Spring💀 @ crying at school</td>\n",
       "      <td>RT @kuraimichii: Reminder that if you are pros...</td>\n",
       "      <td>0</td>\n",
       "      <td>309</td>\n",
       "      <td>https://twitter.com/faint_toxic/status/1386110...</td>\n",
       "      <td>2021-04-25 00:11:31</td>\n",
       "      <td>0.000000</td>\n",
       "      <td>0.000000</td>\n",
       "    </tr>\n",
       "    <tr>\n",
       "      <th>399</th>\n",
       "      <td>A.G</td>\n",
       "      <td>RT @Hausaa_Fulanii: Imam Dr. Bashir Umar brief...</td>\n",
       "      <td>0</td>\n",
       "      <td>282</td>\n",
       "      <td>https://twitter.com/ahmad_gharzali/status/1386...</td>\n",
       "      <td>2021-04-24 22:48:07</td>\n",
       "      <td>0.000000</td>\n",
       "      <td>0.333333</td>\n",
       "    </tr>\n",
       "  </tbody>\n",
       "</table>\n",
       "<p>400 rows × 8 columns</p>\n",
       "</div>"
      ],
      "text/plain": [
       "                                         author  \\\n",
       "0                                Eric Weinstein   \n",
       "1                                 Cointelegraph   \n",
       "2    UBITQUITY LLC | One Block At A Time® | ☢ Ⓥ   \n",
       "3                                 CoinMarketCap   \n",
       "4                   The British History Podcast   \n",
       "..                                          ...   \n",
       "395                                         Dom   \n",
       "396                              CⓋIN Collector   \n",
       "397                              Crypto_Pharaoh   \n",
       "398           💀TOXIC Spring💀 @ crying at school   \n",
       "399                                         A.G   \n",
       "\n",
       "                                                tweets  likes  retweet  \\\n",
       "0    Don’t let short term losses in Bitcoin sour yo...   1214      150   \n",
       "1    Binance is making big moves in America. Former...    234       48   \n",
       "2    VeChain Is Gaining Popularity as a Dual Crypto...    212       45   \n",
       "3    How do the largest cryptocurrencies, such as #...    146       24   \n",
       "4    Every time I read something about crypto curre...    142        3   \n",
       "..                                                 ...    ...      ...   \n",
       "395  If your interested into getting into the crypt...      0        0   \n",
       "396  RT @safemoon: Yeah we’re proud to rep the MOST...      0     3393   \n",
       "397  @cryptoassetsguy They're to far down in the ho...      0        0   \n",
       "398  RT @kuraimichii: Reminder that if you are pros...      0      309   \n",
       "399  RT @Hausaa_Fulanii: Imam Dr. Bashir Umar brief...      0      282   \n",
       "\n",
       "                                                   url               times  \\\n",
       "0    https://twitter.com/EricRWeinstein/status/1386... 2021-04-25 23:32:43   \n",
       "1    https://twitter.com/Cointelegraph/status/13861... 2021-04-25 01:00:00   \n",
       "2    https://twitter.com/ubitquity_io/status/138610... 2021-04-24 23:38:08   \n",
       "3    https://twitter.com/CoinMarketCap/status/13862... 2021-04-25 09:30:02   \n",
       "4    https://twitter.com/BritishPodcast/status/1386... 2021-04-25 00:03:44   \n",
       "..                                                 ...                 ...   \n",
       "395  https://twitter.com/d_sampaolo/status/13861104... 2021-04-25 00:11:04   \n",
       "396  https://twitter.com/th3collecter/status/138611... 2021-04-25 00:11:10   \n",
       "397  https://twitter.com/KingTazz_Crypto/status/138... 2021-04-25 00:11:11   \n",
       "398  https://twitter.com/faint_toxic/status/1386110... 2021-04-25 00:11:31   \n",
       "399  https://twitter.com/ahmad_gharzali/status/1386... 2021-04-24 22:48:07   \n",
       "\n",
       "     Polarity  Subjectivity  \n",
       "0   -0.050000      0.216667  \n",
       "1    0.166667      0.200000  \n",
       "2    0.375000      1.000000  \n",
       "3    0.261364      0.388636  \n",
       "4    0.333333      0.666667  \n",
       "..        ...           ...  \n",
       "395  0.200000      0.512500  \n",
       "396  0.650000      0.750000  \n",
       "397  0.064815      0.512963  \n",
       "398  0.000000      0.000000  \n",
       "399  0.000000      0.333333  \n",
       "\n",
       "[400 rows x 8 columns]"
      ]
     },
     "execution_count": 11,
     "metadata": {},
     "output_type": "execute_result"
    }
   ],
   "source": [
    "df"
   ]
  }
 ],
 "metadata": {
  "kernelspec": {
   "display_name": "Python 3",
   "language": "python",
   "name": "python3"
  },
  "language_info": {
   "codemirror_mode": {
    "name": "ipython",
    "version": 3
   },
   "file_extension": ".py",
   "mimetype": "text/x-python",
   "name": "python",
   "nbconvert_exporter": "python",
   "pygments_lexer": "ipython3",
   "version": "3.7.4"
  }
 },
 "nbformat": 4,
 "nbformat_minor": 4
}
