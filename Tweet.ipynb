{
 "cells": [
  {
   "cell_type": "markdown",
   "metadata": {},
   "source": [
    "# <center> Twitter </center>"
   ]
  },
  {
   "cell_type": "markdown",
   "metadata": {},
   "source": [
    "Recover tweet about crypto-currency"
   ]
  },
  {
   "cell_type": "markdown",
   "metadata": {},
   "source": [
    "## Import of libraries "
   ]
  },
  {
   "cell_type": "code",
   "execution_count": 1,
   "metadata": {},
   "outputs": [],
   "source": [
    "import tweepy\n",
    "import csv\n",
    "import pandas as pd\n",
    "import csv\n",
    "import re \n",
    "import string\n",
    "import preprocessor as p\n",
    "from textblob import TextBlob"
   ]
  },
  {
   "cell_type": "markdown",
   "metadata": {},
   "source": [
    "## Algorithmes"
   ]
  },
  {
   "cell_type": "code",
   "execution_count": 2,
   "metadata": {},
   "outputs": [],
   "source": [
    "consumer_key = \"SyTCi8k0Iq6xe2EHCW3u7LQf5\"\n",
    "consumer_secret = \"fkzWMdZAM1xs1qsaG0UOF7ybdBhjBCSQQzy9zufFXUh79dt7Z9\"\n",
    "\n",
    "access_key = \"1358394444429549568-duw4ADP0EtOQT2XF0ATawgWp59hYRT\" \n",
    "access_secret =  \"nxp6X25aDJOIHgzPPtpc24A8iziYToT2C0cThO39RW9Yl\""
   ]
  },
  {
   "cell_type": "code",
   "execution_count": 3,
   "metadata": {},
   "outputs": [],
   "source": [
    "auth = tweepy.OAuthHandler(consumer_key, consumer_secret)\n",
    "auth.set_access_token(access_key, access_secret)\n",
    "api = tweepy.API(auth)"
   ]
  },
  {
   "cell_type": "markdown",
   "metadata": {},
   "source": [
    "result_type : \n",
    "- mixed : include both popular and real time results in the response\n",
    "- recent : return only the most recent results in the response\n",
    "- popular : return only the most popular results in the response"
   ]
  },
  {
   "cell_type": "code",
   "execution_count": 4,
   "metadata": {},
   "outputs": [],
   "source": [
    "all_tweets = []\n",
    "likes = []\n",
    "created = []\n",
    "author = []\n",
    "retweet = []\n",
    "url =[]\n",
    "search_terms = [\"crypto currency\",\"elon musk\"]\n",
    "\n",
    "for tweet in tweepy.Cursor(api.search, q=\"crypto currency\", tweet_mode='extended' , lang='en', \n",
    "                           result_type='mixed').items(300):\n",
    "    #print(dir(tweet))\n",
    "    author.append(tweet.author.name)\n",
    "    all_tweets.append(tweet.full_text)\n",
    "    likes.append(tweet.favorite_count)\n",
    "    retweet.append(tweet.retweet_count)\n",
    "    url.append(f\"https://twitter.com/{tweet.user.screen_name}/status/{tweet.id}\")\n",
    "    created.append(tweet.created_at)"
   ]
  },
  {
   "cell_type": "code",
   "execution_count": 5,
   "metadata": {
    "scrolled": true
   },
   "outputs": [],
   "source": [
    "df = pd.DataFrame({'author':author ,'tweets':all_tweets ,'likes':likes ,'retweet':retweet\n",
    "                   ,'url':url ,'times':created})"
   ]
  },
  {
   "cell_type": "code",
   "execution_count": 6,
   "metadata": {},
   "outputs": [],
   "source": [
    "df = df[~df.tweets.str.contains(\"RT\")]"
   ]
  },
  {
   "cell_type": "code",
   "execution_count": 7,
   "metadata": {
    "scrolled": true
   },
   "outputs": [],
   "source": [
    "df = df.sort_values(by=['likes'],ascending=False)"
   ]
  },
  {
   "cell_type": "code",
   "execution_count": 8,
   "metadata": {},
   "outputs": [],
   "source": [
    "df = df.reset_index(drop=True)"
   ]
  },
  {
   "cell_type": "raw",
   "metadata": {},
   "source": [
    "df['sentiment'] = df['tweets'].map(lambda txt: TextBlob(txt).sentiment.polarity)"
   ]
  },
  {
   "cell_type": "code",
   "execution_count": 10,
   "metadata": {},
   "outputs": [],
   "source": [
    "def getTextPolarity(txt):\n",
    "    return TextBlob(txt).sentiment.polarity"
   ]
  },
  {
   "cell_type": "code",
   "execution_count": 11,
   "metadata": {},
   "outputs": [],
   "source": [
    "def getTextSubjectivity(txt):\n",
    "    return TextBlob(txt).sentiment.subjectivity"
   ]
  },
  {
   "cell_type": "code",
   "execution_count": 12,
   "metadata": {},
   "outputs": [],
   "source": [
    "df['Polarity'] = df['tweets'].apply(getTextPolarity)\n",
    "df['Subjectivity'] = df['tweets'].apply(getTextSubjectivity)"
   ]
  },
  {
   "cell_type": "code",
   "execution_count": 13,
   "metadata": {},
   "outputs": [
    {
     "data": {
      "text/html": [
       "<div>\n",
       "<style scoped>\n",
       "    .dataframe tbody tr th:only-of-type {\n",
       "        vertical-align: middle;\n",
       "    }\n",
       "\n",
       "    .dataframe tbody tr th {\n",
       "        vertical-align: top;\n",
       "    }\n",
       "\n",
       "    .dataframe thead th {\n",
       "        text-align: right;\n",
       "    }\n",
       "</style>\n",
       "<table border=\"1\" class=\"dataframe\">\n",
       "  <thead>\n",
       "    <tr style=\"text-align: right;\">\n",
       "      <th></th>\n",
       "      <th>author</th>\n",
       "      <th>tweets</th>\n",
       "      <th>likes</th>\n",
       "      <th>retweet</th>\n",
       "      <th>url</th>\n",
       "      <th>times</th>\n",
       "      <th>sentiment</th>\n",
       "      <th>Polarity</th>\n",
       "      <th>Subjectivity</th>\n",
       "    </tr>\n",
       "  </thead>\n",
       "  <tbody>\n",
       "    <tr>\n",
       "      <th>0</th>\n",
       "      <td>Nassim Nicholas Taleb</td>\n",
       "      <td>WHAT WE WANT CRYPTO &amp;amp; CURRENCY FOR:\\n\\n1) ...</td>\n",
       "      <td>2756</td>\n",
       "      <td>431</td>\n",
       "      <td>https://twitter.com/nntaleb/status/13824464785...</td>\n",
       "      <td>2021-04-14 21:31:39</td>\n",
       "      <td>-0.450000</td>\n",
       "      <td>-0.450000</td>\n",
       "      <td>0.350000</td>\n",
       "    </tr>\n",
       "    <tr>\n",
       "      <th>1</th>\n",
       "      <td>BEN BALLER™</td>\n",
       "      <td>There will be many trillionaires in our lifeti...</td>\n",
       "      <td>1825</td>\n",
       "      <td>249</td>\n",
       "      <td>https://twitter.com/BENBALLER/status/138247841...</td>\n",
       "      <td>2021-04-14 23:38:35</td>\n",
       "      <td>0.187500</td>\n",
       "      <td>0.187500</td>\n",
       "      <td>0.437500</td>\n",
       "    </tr>\n",
       "    <tr>\n",
       "      <th>2</th>\n",
       "      <td>CoinDesk</td>\n",
       "      <td>JUST IN: The U.S. government is sanctioning di...</td>\n",
       "      <td>189</td>\n",
       "      <td>86</td>\n",
       "      <td>https://twitter.com/CoinDesk/status/1382682264...</td>\n",
       "      <td>2021-04-15 13:08:35</td>\n",
       "      <td>0.000000</td>\n",
       "      <td>0.000000</td>\n",
       "      <td>0.000000</td>\n",
       "    </tr>\n",
       "    <tr>\n",
       "      <th>3</th>\n",
       "      <td>C🅡ypto ⓟuppy</td>\n",
       "      <td>There's always the comparison w/ $BAT because ...</td>\n",
       "      <td>25</td>\n",
       "      <td>6</td>\n",
       "      <td>https://twitter.com/Crypto_Puppy_/status/13824...</td>\n",
       "      <td>2021-04-14 20:46:37</td>\n",
       "      <td>0.068182</td>\n",
       "      <td>0.068182</td>\n",
       "      <td>0.727273</td>\n",
       "    </tr>\n",
       "    <tr>\n",
       "      <th>4</th>\n",
       "      <td>Lynette Zang</td>\n",
       "      <td>New Q&amp;amp;A Video 🚨 Listen as I talk about ant...</td>\n",
       "      <td>24</td>\n",
       "      <td>5</td>\n",
       "      <td>https://twitter.com/itmtrading_zang/status/138...</td>\n",
       "      <td>2021-04-14 20:46:42</td>\n",
       "      <td>0.068182</td>\n",
       "      <td>0.068182</td>\n",
       "      <td>0.427273</td>\n",
       "    </tr>\n",
       "    <tr>\n",
       "      <th>...</th>\n",
       "      <td>...</td>\n",
       "      <td>...</td>\n",
       "      <td>...</td>\n",
       "      <td>...</td>\n",
       "      <td>...</td>\n",
       "      <td>...</td>\n",
       "      <td>...</td>\n",
       "      <td>...</td>\n",
       "      <td>...</td>\n",
       "    </tr>\n",
       "    <tr>\n",
       "      <th>166</th>\n",
       "      <td>Syrj</td>\n",
       "      <td>@leadlagreport Hi Michael, I think Crypto shou...</td>\n",
       "      <td>0</td>\n",
       "      <td>0</td>\n",
       "      <td>https://twitter.com/syrj_/status/1382430158980...</td>\n",
       "      <td>2021-04-14 20:26:48</td>\n",
       "      <td>0.000000</td>\n",
       "      <td>0.000000</td>\n",
       "      <td>0.000000</td>\n",
       "    </tr>\n",
       "    <tr>\n",
       "      <th>167</th>\n",
       "      <td>Ask the Nerd</td>\n",
       "      <td>Help! What’s the Difference Between Coins &amp;amp...</td>\n",
       "      <td>0</td>\n",
       "      <td>0</td>\n",
       "      <td>https://twitter.com/Ask_theNerd/status/1382440...</td>\n",
       "      <td>2021-04-14 21:06:49</td>\n",
       "      <td>0.000000</td>\n",
       "      <td>0.000000</td>\n",
       "      <td>0.000000</td>\n",
       "    </tr>\n",
       "    <tr>\n",
       "      <th>168</th>\n",
       "      <td>Ask the Nerd</td>\n",
       "      <td>Let’s Talk Crypto Currency Mining for Total Ne...</td>\n",
       "      <td>0</td>\n",
       "      <td>0</td>\n",
       "      <td>https://twitter.com/Ask_theNerd/status/1382440...</td>\n",
       "      <td>2021-04-14 21:06:42</td>\n",
       "      <td>0.000000</td>\n",
       "      <td>0.000000</td>\n",
       "      <td>0.750000</td>\n",
       "    </tr>\n",
       "    <tr>\n",
       "      <th>169</th>\n",
       "      <td>Christian Laurin</td>\n",
       "      <td>Sure this is \"new finance\".  I thought the big...</td>\n",
       "      <td>0</td>\n",
       "      <td>0</td>\n",
       "      <td>https://twitter.com/slashinvestor/status/13824...</td>\n",
       "      <td>2021-04-14 21:03:39</td>\n",
       "      <td>0.159091</td>\n",
       "      <td>0.159091</td>\n",
       "      <td>0.485859</td>\n",
       "    </tr>\n",
       "    <tr>\n",
       "      <th>170</th>\n",
       "      <td>BaShAr</td>\n",
       "      <td>@elonmusk Greetings Mr.Musk, I wanted to ask y...</td>\n",
       "      <td>0</td>\n",
       "      <td>0</td>\n",
       "      <td>https://twitter.com/Bashar_talib1/status/13824...</td>\n",
       "      <td>2021-04-14 21:14:08</td>\n",
       "      <td>0.066667</td>\n",
       "      <td>0.066667</td>\n",
       "      <td>0.108333</td>\n",
       "    </tr>\n",
       "  </tbody>\n",
       "</table>\n",
       "<p>171 rows × 9 columns</p>\n",
       "</div>"
      ],
      "text/plain": [
       "                    author                                             tweets  \\\n",
       "0    Nassim Nicholas Taleb  WHAT WE WANT CRYPTO &amp; CURRENCY FOR:\\n\\n1) ...   \n",
       "1              BEN BALLER™  There will be many trillionaires in our lifeti...   \n",
       "2                 CoinDesk  JUST IN: The U.S. government is sanctioning di...   \n",
       "3             C🅡ypto ⓟuppy  There's always the comparison w/ $BAT because ...   \n",
       "4             Lynette Zang  New Q&amp;A Video 🚨 Listen as I talk about ant...   \n",
       "..                     ...                                                ...   \n",
       "166                   Syrj  @leadlagreport Hi Michael, I think Crypto shou...   \n",
       "167           Ask the Nerd  Help! What’s the Difference Between Coins &amp...   \n",
       "168           Ask the Nerd  Let’s Talk Crypto Currency Mining for Total Ne...   \n",
       "169       Christian Laurin  Sure this is \"new finance\".  I thought the big...   \n",
       "170                 BaShAr  @elonmusk Greetings Mr.Musk, I wanted to ask y...   \n",
       "\n",
       "     likes  retweet                                                url  \\\n",
       "0     2756      431  https://twitter.com/nntaleb/status/13824464785...   \n",
       "1     1825      249  https://twitter.com/BENBALLER/status/138247841...   \n",
       "2      189       86  https://twitter.com/CoinDesk/status/1382682264...   \n",
       "3       25        6  https://twitter.com/Crypto_Puppy_/status/13824...   \n",
       "4       24        5  https://twitter.com/itmtrading_zang/status/138...   \n",
       "..     ...      ...                                                ...   \n",
       "166      0        0  https://twitter.com/syrj_/status/1382430158980...   \n",
       "167      0        0  https://twitter.com/Ask_theNerd/status/1382440...   \n",
       "168      0        0  https://twitter.com/Ask_theNerd/status/1382440...   \n",
       "169      0        0  https://twitter.com/slashinvestor/status/13824...   \n",
       "170      0        0  https://twitter.com/Bashar_talib1/status/13824...   \n",
       "\n",
       "                  times  sentiment  Polarity  Subjectivity  \n",
       "0   2021-04-14 21:31:39  -0.450000 -0.450000      0.350000  \n",
       "1   2021-04-14 23:38:35   0.187500  0.187500      0.437500  \n",
       "2   2021-04-15 13:08:35   0.000000  0.000000      0.000000  \n",
       "3   2021-04-14 20:46:37   0.068182  0.068182      0.727273  \n",
       "4   2021-04-14 20:46:42   0.068182  0.068182      0.427273  \n",
       "..                  ...        ...       ...           ...  \n",
       "166 2021-04-14 20:26:48   0.000000  0.000000      0.000000  \n",
       "167 2021-04-14 21:06:49   0.000000  0.000000      0.000000  \n",
       "168 2021-04-14 21:06:42   0.000000  0.000000      0.750000  \n",
       "169 2021-04-14 21:03:39   0.159091  0.159091      0.485859  \n",
       "170 2021-04-14 21:14:08   0.066667  0.066667      0.108333  \n",
       "\n",
       "[171 rows x 9 columns]"
      ]
     },
     "execution_count": 13,
     "metadata": {},
     "output_type": "execute_result"
    }
   ],
   "source": [
    "df"
   ]
  },
  {
   "cell_type": "markdown",
   "metadata": {},
   "source": [
    "# Test Algo 2 "
   ]
  },
  {
   "cell_type": "code",
   "execution_count": 14,
   "metadata": {},
   "outputs": [],
   "source": [
    "def get_tweets(keyword):\n",
    "    all_tweets = []\n",
    "    for tweet in tweepy.Cursor(api.search, q=keyword, tweet_mode='extended' , lang='en').items(100):\n",
    "        all_tweets.append(tweet.full_text)\n",
    "    return all_tweets"
   ]
  },
  {
   "cell_type": "code",
   "execution_count": 15,
   "metadata": {},
   "outputs": [],
   "source": [
    "def clean_tweets(all_tweets):\n",
    "    tweets_clean = []\n",
    "    for tweet in all_tweets:\n",
    "        tweets_clean.append(p.clean(tweet))\n",
    "        \n",
    "    return tweets_clean"
   ]
  },
  {
   "cell_type": "code",
   "execution_count": 16,
   "metadata": {},
   "outputs": [],
   "source": [
    "def sentiment_tweet(all_tweets):\n",
    "    sentiment_scores = []\n",
    "    for tweet in all_tweets:\n",
    "        blob = TextBlob(tweet)\n",
    "        sentiment_scores.append(blob.sentiment.polarity)\n",
    "    return sentiment_scores"
   ]
  },
  {
   "cell_type": "markdown",
   "metadata": {},
   "source": [
    "## Main "
   ]
  },
  {
   "cell_type": "raw",
   "metadata": {},
   "source": [
    "if __name__ == \"__main__\":\n",
    "    \n",
    "    allInfluence =[\"elonmusk\",\"AngeloBTC\"]\n",
    "    recoverTweets = get_tweets(\"crypto currencies\")\n",
    "    cleanTweets = clean_tweets(recoverTweets)\n",
    "    sentimentTweet = sentiment_tweet(cleanTweets)\n",
    "    \n",
    "    print(\"------------------------------------------------\")\n",
    "    print(\"Les tweets ne sont pas cleans\\n\")\n",
    "    print(recoverTweets)\n",
    "    \n",
    "    print(\"------------------------------------------------\")\n",
    "    print(\"Les Tweets sont clean\\n\")\n",
    "    print(cleanTweets)\n",
    "    \n",
    "    print(\"------------------------------------------------\")\n",
    "    print(\"Sentiment des tweets\\n\")\n",
    "    print(sentimentTweet)\n",
    "    \n",
    "    "
   ]
  }
 ],
 "metadata": {
  "kernelspec": {
   "display_name": "Python 3",
   "language": "python",
   "name": "python3"
  },
  "language_info": {
   "codemirror_mode": {
    "name": "ipython",
    "version": 3
   },
   "file_extension": ".py",
   "mimetype": "text/x-python",
   "name": "python",
   "nbconvert_exporter": "python",
   "pygments_lexer": "ipython3",
   "version": "3.7.4"
  }
 },
 "nbformat": 4,
 "nbformat_minor": 4
}
