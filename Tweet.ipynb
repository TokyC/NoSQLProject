{
 "cells": [
  {
   "cell_type": "markdown",
   "metadata": {},
   "source": [
    "# <center> Twitter </center>"
   ]
  },
  {
   "cell_type": "markdown",
   "metadata": {},
   "source": [
    "Recover tweet about crypto-currency"
   ]
  },
  {
   "cell_type": "markdown",
   "metadata": {},
   "source": [
    "## Import of libraries "
   ]
  },
  {
   "cell_type": "code",
   "execution_count": 1,
   "metadata": {},
   "outputs": [],
   "source": [
    "import tweepy\n",
    "import csv\n",
    "import pandas as pd\n",
    "import csv\n",
    "import re \n",
    "import string\n",
    "import preprocessor as p\n",
    "from textblob import TextBlob\n",
    "import matplotlib.pyplot as plt\n",
    "import seaborn as sns\n",
    "from nltk.stem.snowball import SnowballStemmer\n",
    "import nltk"
   ]
  },
  {
   "cell_type": "markdown",
   "metadata": {},
   "source": [
    "## Algorithmes"
   ]
  },
  {
   "cell_type": "code",
   "execution_count": 2,
   "metadata": {},
   "outputs": [],
   "source": [
    "consumer_key = \"sv62m7FUziAOHGtplgNYQ0TEi\"\n",
    "consumer_secret = \"67TMtXeLLSwjxjhRdhZkc7TuAlJRTmSu4q2KOUbuN1oHzlcdZ0\"\n",
    "\n",
    "access_key = \"1358394444429549568-IDbGzN51cUyZnnh0iWacK8vIbKnr2W\" \n",
    "access_secret =  \"6fwj7lLVGSThRax5R6Mrde5xBZHPCpeOjE2AoatIUhIOc\""
   ]
  },
  {
   "cell_type": "code",
   "execution_count": 3,
   "metadata": {},
   "outputs": [],
   "source": [
    "auth = tweepy.OAuthHandler(consumer_key, consumer_secret)\n",
    "auth.set_access_token(access_key, access_secret)\n",
    "api = tweepy.API(auth)"
   ]
  },
  {
   "cell_type": "markdown",
   "metadata": {},
   "source": [
    "result_type : \n",
    "- mixed : include both popular and real time results in the response\n",
    "- recent : return only the most recent results in the response\n",
    "- popular : return only the most popular results in the response"
   ]
  },
  {
   "cell_type": "markdown",
   "metadata": {},
   "source": [
    "### to get several fields in the query  \n",
    "https://developer.twitter.com/en/docs/labs/recent-search/guides/search-queries"
   ]
  },
  {
   "cell_type": "code",
   "execution_count": 4,
   "metadata": {},
   "outputs": [],
   "source": [
    "all_tweets = []\n",
    "likes = []\n",
    "created = []\n",
    "author = []\n",
    "retweet = []\n",
    "url =[]\n",
    "search_terms = \"crypto currency\" or \"AngeloBTC\"\n",
    "\n",
    "for tweet in tweepy.Cursor(api.search, q=search_terms, tweet_mode='extended' , lang='en', \n",
    "                           result_type='mixed').items(500):\n",
    "    #print(dir(tweet))\n",
    "    author.append(tweet.author.name)\n",
    "    all_tweets.append(tweet.full_text)\n",
    "    likes.append(tweet.favorite_count)\n",
    "    retweet.append(tweet.retweet_count)\n",
    "    url.append(f\"https://twitter.com/{tweet.user.screen_name}/status/{tweet.id}\")\n",
    "    created.append(tweet.created_at)"
   ]
  },
  {
   "cell_type": "code",
   "execution_count": 5,
   "metadata": {
    "scrolled": true
   },
   "outputs": [],
   "source": [
    "df = pd.DataFrame({'author':author ,'tweets':all_tweets ,'likes':likes ,'retweet':retweet\n",
    "                   ,'url':url ,'times':created})"
   ]
  },
  {
   "cell_type": "code",
   "execution_count": 6,
   "metadata": {},
   "outputs": [],
   "source": [
    "df = df[~df.tweets.str.contains(\"RT\")]"
   ]
  },
  {
   "cell_type": "code",
   "execution_count": 7,
   "metadata": {
    "scrolled": true
   },
   "outputs": [],
   "source": [
    "df = df.sort_values(by=['likes'],ascending=False)"
   ]
  },
  {
   "cell_type": "code",
   "execution_count": 8,
   "metadata": {},
   "outputs": [],
   "source": [
    "df = df.reset_index(drop=True)"
   ]
  },
  {
   "cell_type": "raw",
   "metadata": {},
   "source": [
    "df['sentiment'] = df['tweets'].map(lambda txt: TextBlob(txt).sentiment.polarity)"
   ]
  },
  {
   "cell_type": "code",
   "execution_count": 9,
   "metadata": {},
   "outputs": [],
   "source": [
    "def getTextPolarity(txt):\n",
    "    return TextBlob(txt).sentiment.polarity"
   ]
  },
  {
   "cell_type": "code",
   "execution_count": 10,
   "metadata": {},
   "outputs": [],
   "source": [
    "def getTextSubjectivity(txt):\n",
    "    return TextBlob(txt).sentiment.subjectivity"
   ]
  },
  {
   "cell_type": "code",
   "execution_count": 11,
   "metadata": {},
   "outputs": [],
   "source": [
    "df['Polarity'] = df['tweets'].apply(getTextPolarity)\n",
    "df['Subjectivity'] = df['tweets'].apply(getTextSubjectivity)"
   ]
  },
  {
   "cell_type": "code",
   "execution_count": 12,
   "metadata": {},
   "outputs": [
    {
     "data": {
      "text/html": [
       "<div>\n",
       "<style scoped>\n",
       "    .dataframe tbody tr th:only-of-type {\n",
       "        vertical-align: middle;\n",
       "    }\n",
       "\n",
       "    .dataframe tbody tr th {\n",
       "        vertical-align: top;\n",
       "    }\n",
       "\n",
       "    .dataframe thead th {\n",
       "        text-align: right;\n",
       "    }\n",
       "</style>\n",
       "<table border=\"1\" class=\"dataframe\">\n",
       "  <thead>\n",
       "    <tr style=\"text-align: right;\">\n",
       "      <th></th>\n",
       "      <th>author</th>\n",
       "      <th>tweets</th>\n",
       "      <th>likes</th>\n",
       "      <th>retweet</th>\n",
       "      <th>url</th>\n",
       "      <th>times</th>\n",
       "      <th>Polarity</th>\n",
       "      <th>Subjectivity</th>\n",
       "    </tr>\n",
       "  </thead>\n",
       "  <tbody>\n",
       "    <tr>\n",
       "      <th>0</th>\n",
       "      <td>Eric Weinstein</td>\n",
       "      <td>Don’t let short term losses in Bitcoin sour yo...</td>\n",
       "      <td>1831</td>\n",
       "      <td>231</td>\n",
       "      <td>https://twitter.com/EricRWeinstein/status/1386...</td>\n",
       "      <td>2021-04-25 23:32:43</td>\n",
       "      <td>-5.000000e-02</td>\n",
       "      <td>0.216667</td>\n",
       "    </tr>\n",
       "    <tr>\n",
       "      <th>1</th>\n",
       "      <td>Punished Triple-Q</td>\n",
       "      <td>\"Here's your next mission, Crypto! In order to...</td>\n",
       "      <td>1556</td>\n",
       "      <td>525</td>\n",
       "      <td>https://twitter.com/mitaknight_/status/1386452...</td>\n",
       "      <td>2021-04-25 22:52:03</td>\n",
       "      <td>-3.270833e-01</td>\n",
       "      <td>0.333333</td>\n",
       "    </tr>\n",
       "    <tr>\n",
       "      <th>2</th>\n",
       "      <td>Soulja Boy (Draco)</td>\n",
       "      <td>Crypto currency is amazing 🤩 changed my life</td>\n",
       "      <td>1317</td>\n",
       "      <td>191</td>\n",
       "      <td>https://twitter.com/souljaboy/status/138706236...</td>\n",
       "      <td>2021-04-27 15:13:31</td>\n",
       "      <td>6.000000e-01</td>\n",
       "      <td>0.900000</td>\n",
       "    </tr>\n",
       "    <tr>\n",
       "      <th>3</th>\n",
       "      <td>Channels Television</td>\n",
       "      <td>DISCLAIMER NOTICE\\n \\nIt has come to the atten...</td>\n",
       "      <td>820</td>\n",
       "      <td>367</td>\n",
       "      <td>https://twitter.com/channelstv/status/13867164...</td>\n",
       "      <td>2021-04-26 16:18:57</td>\n",
       "      <td>0.000000e+00</td>\n",
       "      <td>0.000000</td>\n",
       "    </tr>\n",
       "    <tr>\n",
       "      <th>4</th>\n",
       "      <td>CryptøManiac101 🅐</td>\n",
       "      <td>This is the exact game play, UBI tied in with ...</td>\n",
       "      <td>539</td>\n",
       "      <td>200</td>\n",
       "      <td>https://twitter.com/_Crypto_Maniac_/status/138...</td>\n",
       "      <td>2021-04-25 23:18:34</td>\n",
       "      <td>-7.930164e-18</td>\n",
       "      <td>0.364286</td>\n",
       "    </tr>\n",
       "    <tr>\n",
       "      <th>...</th>\n",
       "      <td>...</td>\n",
       "      <td>...</td>\n",
       "      <td>...</td>\n",
       "      <td>...</td>\n",
       "      <td>...</td>\n",
       "      <td>...</td>\n",
       "      <td>...</td>\n",
       "      <td>...</td>\n",
       "    </tr>\n",
       "    <tr>\n",
       "      <th>252</th>\n",
       "      <td>Agung Setiawan</td>\n",
       "      <td>I have participated a lots crypto project aird...</td>\n",
       "      <td>0</td>\n",
       "      <td>1</td>\n",
       "      <td>https://twitter.com/imagungsetiawan/status/138...</td>\n",
       "      <td>2021-04-25 21:42:34</td>\n",
       "      <td>2.000000e-01</td>\n",
       "      <td>0.707667</td>\n",
       "    </tr>\n",
       "    <tr>\n",
       "      <th>253</th>\n",
       "      <td>Aaron Nagy</td>\n",
       "      <td>@TimJDillon Crypto is the dirigible of currenc...</td>\n",
       "      <td>0</td>\n",
       "      <td>0</td>\n",
       "      <td>https://twitter.com/AaronNagy9/status/13864353...</td>\n",
       "      <td>2021-04-25 21:41:53</td>\n",
       "      <td>0.000000e+00</td>\n",
       "      <td>0.000000</td>\n",
       "    </tr>\n",
       "    <tr>\n",
       "      <th>254</th>\n",
       "      <td>D-Gen Pepe</td>\n",
       "      <td>@CryptoIsGreat I think there will be a flood o...</td>\n",
       "      <td>0</td>\n",
       "      <td>0</td>\n",
       "      <td>https://twitter.com/dgenpepe/status/1386434809...</td>\n",
       "      <td>2021-04-25 21:39:51</td>\n",
       "      <td>2.250000e-01</td>\n",
       "      <td>0.450000</td>\n",
       "    </tr>\n",
       "    <tr>\n",
       "      <th>255</th>\n",
       "      <td>The Dom</td>\n",
       "      <td>@InvestorsLive @DipDeity EXACTLY why crypto wi...</td>\n",
       "      <td>0</td>\n",
       "      <td>0</td>\n",
       "      <td>https://twitter.com/DominickZiehme/status/1386...</td>\n",
       "      <td>2021-04-25 21:38:46</td>\n",
       "      <td>2.250000e-01</td>\n",
       "      <td>0.275000</td>\n",
       "    </tr>\n",
       "    <tr>\n",
       "      <th>256</th>\n",
       "      <td>Alisa Crypto</td>\n",
       "      <td>@404DailyCrypto @MoonStarToken As Education fo...</td>\n",
       "      <td>0</td>\n",
       "      <td>0</td>\n",
       "      <td>https://twitter.com/alisa_crypto/status/138643...</td>\n",
       "      <td>2021-04-25 21:52:12</td>\n",
       "      <td>0.000000e+00</td>\n",
       "      <td>1.000000</td>\n",
       "    </tr>\n",
       "  </tbody>\n",
       "</table>\n",
       "<p>257 rows × 8 columns</p>\n",
       "</div>"
      ],
      "text/plain": [
       "                  author                                             tweets  \\\n",
       "0         Eric Weinstein  Don’t let short term losses in Bitcoin sour yo...   \n",
       "1      Punished Triple-Q  \"Here's your next mission, Crypto! In order to...   \n",
       "2     Soulja Boy (Draco)       Crypto currency is amazing 🤩 changed my life   \n",
       "3    Channels Television  DISCLAIMER NOTICE\\n \\nIt has come to the atten...   \n",
       "4      CryptøManiac101 🅐  This is the exact game play, UBI tied in with ...   \n",
       "..                   ...                                                ...   \n",
       "252       Agung Setiawan  I have participated a lots crypto project aird...   \n",
       "253           Aaron Nagy  @TimJDillon Crypto is the dirigible of currenc...   \n",
       "254           D-Gen Pepe  @CryptoIsGreat I think there will be a flood o...   \n",
       "255              The Dom  @InvestorsLive @DipDeity EXACTLY why crypto wi...   \n",
       "256         Alisa Crypto  @404DailyCrypto @MoonStarToken As Education fo...   \n",
       "\n",
       "     likes  retweet                                                url  \\\n",
       "0     1831      231  https://twitter.com/EricRWeinstein/status/1386...   \n",
       "1     1556      525  https://twitter.com/mitaknight_/status/1386452...   \n",
       "2     1317      191  https://twitter.com/souljaboy/status/138706236...   \n",
       "3      820      367  https://twitter.com/channelstv/status/13867164...   \n",
       "4      539      200  https://twitter.com/_Crypto_Maniac_/status/138...   \n",
       "..     ...      ...                                                ...   \n",
       "252      0        1  https://twitter.com/imagungsetiawan/status/138...   \n",
       "253      0        0  https://twitter.com/AaronNagy9/status/13864353...   \n",
       "254      0        0  https://twitter.com/dgenpepe/status/1386434809...   \n",
       "255      0        0  https://twitter.com/DominickZiehme/status/1386...   \n",
       "256      0        0  https://twitter.com/alisa_crypto/status/138643...   \n",
       "\n",
       "                  times      Polarity  Subjectivity  \n",
       "0   2021-04-25 23:32:43 -5.000000e-02      0.216667  \n",
       "1   2021-04-25 22:52:03 -3.270833e-01      0.333333  \n",
       "2   2021-04-27 15:13:31  6.000000e-01      0.900000  \n",
       "3   2021-04-26 16:18:57  0.000000e+00      0.000000  \n",
       "4   2021-04-25 23:18:34 -7.930164e-18      0.364286  \n",
       "..                  ...           ...           ...  \n",
       "252 2021-04-25 21:42:34  2.000000e-01      0.707667  \n",
       "253 2021-04-25 21:41:53  0.000000e+00      0.000000  \n",
       "254 2021-04-25 21:39:51  2.250000e-01      0.450000  \n",
       "255 2021-04-25 21:38:46  2.250000e-01      0.275000  \n",
       "256 2021-04-25 21:52:12  0.000000e+00      1.000000  \n",
       "\n",
       "[257 rows x 8 columns]"
      ]
     },
     "execution_count": 12,
     "metadata": {},
     "output_type": "execute_result"
    }
   ],
   "source": [
    "df"
   ]
  }
 ],
 "metadata": {
  "kernelspec": {
   "display_name": "Python 3",
   "language": "python",
   "name": "python3"
  },
  "language_info": {
   "codemirror_mode": {
    "name": "ipython",
    "version": 3
   },
   "file_extension": ".py",
   "mimetype": "text/x-python",
   "name": "python",
   "nbconvert_exporter": "python",
   "pygments_lexer": "ipython3",
   "version": "3.7.4"
  }
 },
 "nbformat": 4,
 "nbformat_minor": 4
}
