{
 "cells": [
  {
   "cell_type": "markdown",
   "metadata": {},
   "source": [
    "# <center> Twitter </center>"
   ]
  },
  {
   "cell_type": "markdown",
   "metadata": {},
   "source": [
    "Recover tweet about crypto-currency"
   ]
  },
  {
   "cell_type": "markdown",
   "metadata": {},
   "source": [
    "## Import of libraries "
   ]
  },
  {
   "cell_type": "code",
   "execution_count": 1,
   "metadata": {},
   "outputs": [],
   "source": [
    "import tweepy\n",
    "import csv\n",
    "import pandas as pd\n",
    "import csv\n",
    "import re \n",
    "import string\n",
    "import preprocessor as p"
   ]
  },
  {
   "cell_type": "markdown",
   "metadata": {},
   "source": [
    "## Algorithmes"
   ]
  },
  {
   "cell_type": "code",
   "execution_count": 2,
   "metadata": {},
   "outputs": [],
   "source": [
    "consumer_key = \"SyTCi8k0Iq6xe2EHCW3u7LQf5\"\n",
    "consumer_secret = \"fkzWMdZAM1xs1qsaG0UOF7ybdBhjBCSQQzy9zufFXUh79dt7Z9\"\n",
    "\n",
    "access_key = \"1358394444429549568-duw4ADP0EtOQT2XF0ATawgWp59hYRT\" \n",
    "access_secret =  \"nxp6X25aDJOIHgzPPtpc24A8iziYToT2C0cThO39RW9Yl\""
   ]
  },
  {
   "cell_type": "code",
   "execution_count": 3,
   "metadata": {},
   "outputs": [],
   "source": [
    "auth = tweepy.OAuthHandler(consumer_key, consumer_secret)\n",
    "auth.set_access_token(access_key, access_secret)\n",
    "api = tweepy.API(auth)"
   ]
  },
  {
   "cell_type": "code",
   "execution_count": 4,
   "metadata": {},
   "outputs": [],
   "source": [
    "def get_tweets(keyword):\n",
    "    all_tweets = []\n",
    "    for tweet in tweepy.Cursor(api.search, q=keyword,tweet_mode='extended' , lang='en').items(100):\n",
    "        all_tweets.append(tweet.full_text)\n",
    "    return all_tweets"
   ]
  },
  {
   "cell_type": "code",
   "execution_count": 5,
   "metadata": {},
   "outputs": [],
   "source": [
    "def clean_tweets(all_tweets):\n",
    "    tweets_clean = []\n",
    "    for tweet in all_tweets:\n",
    "        tweets_clean.append(p.clean(tweet))\n",
    "        \n",
    "    return tweets_clean"
   ]
  },
  {
   "cell_type": "markdown",
   "metadata": {},
   "source": [
    "## Main "
   ]
  },
  {
   "cell_type": "code",
   "execution_count": 6,
   "metadata": {},
   "outputs": [
    {
     "name": "stdout",
     "output_type": "stream",
     "text": [
      "------------------------------------------------\n",
      "Les tweets ne sont pas cleans\n",
      "\n",
      "['RT @jima_emmanuel: Happy Sunday family! Have a blessed one ♥️\\n.\\n.\\n.\\n#cryptocurrency | #lekkigirls | Buhari | Manchester United | buhari | N…', 'RT @alvanchinaka: Hello Twitter, my name is Alvan Chinaka. I make perfumes and the name of my perfume brand is St. Alv. Please while talkin…', '\"My Crypto Pets\" @opensea! #nft #opensea https://t.co/2o9ion9M1T\\n...\\nget featured follow @NftSis\\n....\\n#NFTcollectibles #nftart #cryptocurrency #ETH #NFTartist #NFTdrop #100DaysOfCode @teedubya @NFTsDotCom #nftcollector #nftart #NFTdrop #Crypto #cryptoart #beeple @beeple #art', 'RT @alvanchinaka: Hello Twitter, my name is Alvan Chinaka. I make perfumes and the name of my perfume brand is St. Alv. Please while talkin…', 'RT @CryptoTownEU: 🚀 Airdrop: Yunix Protocol\\n💰 Value: $ 25\\n👥 Referral: $ 12\\n💸 25 + 12 YNX\\n⏰ 2 minutes\\n\\nTalk with the telegram bot: https://t…', \"**Art for cryptocurrency**\\ncryptocurrency (Ethereum)\\n-It's a profitable investment\\n-Own, control and trade original digital art\\n-Earn Royalties\\nhttps://t.co/Ybcs4611lb\\n#non-fungible token #NFTs #nftart #NFTartist  #blockchainart #ethereum #ETH #Ether #Cryptocurrency #bitcoin\", 'RT @CryptoTownEU: 🚀 Airdrop: Knight Of Finance\\n💰 Value: $ 20\\n👥 Referral: $ 4\\n💸 10 + 2 KOF\\n⏰ 2 minutes\\n\\nTalk with the telegram bot: https://…', 'RT @airdropinspect: New Airdrop: FIFO Finance (FIFO)\\nReward: 50 FIFO ($50)\\nRate: ⭐️⭐️⭐️⭐️\\nFocus: Distribution start after 3 weeks listing a…', '$PUNDIX 🚀✌🏽️THE FUTURE OF #cryptocurrency #PUNDIX https://t.co/dGHB2xzHFl', \"RT @ShieldFinance1: We've just applied for #CertiK audit, wait for the announcement.\\n\\n@elonmusk @Eljaboom @cz_binance @CryptoWendyO  @Capta…\", 'RT @alvanchinaka: Hello Twitter, my name is Alvan Chinaka. I make perfumes and the name of my perfume brand is St. Alv. Please while talkin…', 'RT @ICOAnnouncement: 🎙 New Featured Project\\n\\n🔷 YLDSwap (YLD)\\n\\n🔶 YLDSwap is a decentralized exchange on Binance Smart Chain, and users can u…', '1. target #siacoin 0,025 $ has hit today on #binance ✅\\n2. target 0,06$ is on the way this month don´t miss it \\n🆘\\n#sc #skynet #cryptocurrency #altcoin #Altseason2021 #Altseason #altseasonnapril #bittrex #Coinmarketcap #Coingecko #Bitcoin $sc', 'RT @nnaji_kate: O  M  G... 🤦\\u200d♀️\\n\\nGuys name Tunde are  the true definition of Yoruba demon 🤣🤣😂🔥\\n\\n#lekkigirls Buhari Obaseki Onoja Yahaya Bel…', 'I found a Blue vault in Coin Hunt World!  https://t.co/UNHnzG7Z9i #coinhuntworld #cryptocurrency #bitcoin #311006 https://t.co/6Uamf726ri', 'RT @cryptolinks4u: We announced @MyNeighborAlice as our special Pre-sale. We bought it at 0.12 cent and sold at $40.00\\n\\nNow our special Pre…', '#moonqueen token!\\n\\nNew token, now on pancakeswap! Only 40 minutes old, and only 8 active wallets.... Very early stage!\\n\\ncontract: 0xd3d6b7965c81093c69f9e38739c78b4860d5792a\\n\\n🚀🚀🚀\\n\\n#cryptocurrency #crypotcurrencies #safemoon #fastmoon', 'RT @africafactss: Emperor Menelik II.The man who defeated the Italians making Ethiopia the only African country successful to resist Europe…', '#BTT who bought the dip\\n#altcoin #altcoins #altcoinseason2021 #cryptocurrency #Bitcoin https://t.co/KaH2uGxMR1', 'RT @boxmining: Can #cryptocurrency make this dream come true? https://t.co/uwczC78dcb', 'RT @OfokansiH: Why You Should Ditch Watermelon for Golden Melon\\xa0 https://t.co/BOqa9rPUdQ\\n\\nConte #cryptocurrency #TachaWonAll Peter Obi Tiwa…', 'RT @unilag_0losho: Most relaxeing video to watch on a cozy Sunday morning \\n\\n#cryptocurrency | #lekkigirls | Buhari | Manchester United | bu…', 'RT @airdropinspect: New Airdrop: FIFO Finance (FIFO)\\nReward: 50 FIFO ($50)\\nRate: ⭐️⭐️⭐️⭐️\\nFocus: Distribution start after 3 weeks listing a…', 'RT @CryptoTownEU: 🚀 Airdrop: SafeLogic\\n💰 Value: $ 100\\n👥 Referral: $ 1\\n💸 1,000,000 + 10,000 SAFELOGIC\\n⏰ 2 minutes\\n\\nTalk with the telegram bo…', 'RT @alvanchinaka: Hello Twitter, my name is Alvan Chinaka. I make perfumes and the name of my perfume brand is St. Alv. Please while talkin…', '@cryptoverse8 @elec_enginerd This was from a article in February 2019. I still like it 🚀\\n\\n#VeFam #VeChain #VET #VTHO #VeThor $VET $VTHO #Bitcoin #BTC #Crypto #Cryptocurrency #Cryptocurrencies', '$SUSHI is about to end this downtrend and do a reversal to retest the resistance. \\n\\nMACD is also looking for a bullish cross and just below are 2 strong support levels. \\n\\n#WazirXWarriors #Crypto #cryptocurrency #SUSHIBTC #SUSHI https://t.co/1ekoV7jm6k', 'Questions on $OMI burn? “Team is Processing Backlog Data” from March 12 🔥🔥🔥 #ECOMI #ECOMIFam #cryptocurrency #VeVe #OMI https://t.co/mua0cpW9Ot', 'RT @DZN_Dynasty: ✨There is a $smart way to perform gasless cross chain swaps. You just don’t know about it yet...💎\\n\\n#BSC #cryptocurrency #B…', 'RT @TheCryptoLif7: 👀🤩 Delivering a smart contract to completely alleviate any risk of loss sending crypto😱\\n\\n💥@ethbox_official is truly need…', '#bitcoin #passiveincome #investor #businessowner #affiliate #affiliatelink #crypto #cryptocurrency #cryptocurrenices #dogearmy #dogecoin #affiliatemarketing PipeFlare - free #ZEC and #doge #faucet - free games and earn #cryptocoin https://t.co/7tvVbbecvT', 'RT @alvanchinaka: Hello Twitter, my name is Alvan Chinaka. I make perfumes and the name of my perfume brand is St. Alv. Please while talkin…', 'What er we buying today, and why? \\n\\n#cryptocurrency #btc #NFTCommunity #ETH #bsc', 'RT @Coinomy: We are open for pre-registration again. Visit https://t.co/j8QFfzKUOh to claim up to 9,000 $OMYX today. \\n\\n#cryptocurrency #Cry…', 'COMING-SOON\\n#loincoin #loincoinICO #ico #cryptocurrency #crypto #cryptotrading #cryptoinvestor #cryptonews #cryptocurrencies https://t.co/Ys8GTFKXiS', 'Bitcoin Daily Parabolas 4/11/2021 #bitcoin #CryptoCurrency #Parabolas #btcusd #btc #trading #blockchain #crypto #today https://t.co/ke5hiV7bBm', 'Top 16 Persons Who Served Under Tinubu And Their Current Positions\\n@gboyegaakosile @jidesanwoolu\\n@OfficialAPCNg @AkinwunmiAmbode https://t.co/anjTXYautW\\n#Sowore #blockchain #cryptocurrency #cancelboardexam2021 #COVIDIOTS #Ramadan #DivineMercy #ffm1104 #MadamTheMadamChallenge', 'RT @ICOAnnouncement: 🎙 New Featured Project \\n\\n🔷 Vine Protocol (VINE)\\n\\n🔶 Vine Protocol is an automated market maker (AMM) that depends on a…', 'RT @TheCryptoLif7: 📣What the Team Duck have been doing and what is about to go down!!💣🧨🎇\\n\\n👉🏾@dao_duck weekly news!⚡️🚀🥳🤑💰\\n\\n#blockchain #cryp…', 'RT @TheCryptoLif7: 🚨@KonomiNetwork is officially one of the largest DOT community!!🚀\\n\\n👉🏾Over 100k combined in Telegram and Twitter 🔥\\n\\n⚡️The…', 'What does it profit a man to have two kidney and die in poverty 🌝 na mumu dey get 2 kidney 😂\\n\\n#LekkiGirls #cryptocurrency', 'What do u think about $WIN $TRX $BTT coin? Plz help lol\\n\\n#WIN #blockchain #BTT #TRX #cryptocurrency #cryptocurrencies', 'RT @TheCryptoLif7: 🚨@deeper_network\\n  \\n🥳Announce a partnership with @WalshWealthVC\\n\\n⚡️Real Product to solve real problem⚡️\\n\\n#cybersecurity…', 'RT @airdropinspect: New Airdrop: FIFO Finance (FIFO)\\nReward: 50 FIFO ($50)\\nRate: ⭐️⭐️⭐️⭐️\\nFocus: Distribution start after 3 weeks listing a…', 'RT @Human83731604: Beware of fraudulent\\n#BTSARMY \\n#JUNGKOOK \\n#COVID19 \\n#cancelboardexam2021 \\n#cryptocurrency \\n#CHUANG2021 \\n#dogecoin \\n#Doge…', 'RT @airdropinspect: New Airdrop: FIFO Finance (FIFO)\\nReward: 50 FIFO ($50)\\nRate: ⭐️⭐️⭐️⭐️\\nFocus: Distribution start after 3 weeks listing a…', 'Bitcoin Weekly Parabolas 4/11/2021 #bitcoin #CryptoCurrency #Parabolas #btcusd #btc #trading #blockchain #crypto #today https://t.co/UzP0JLPe5p', 'Keep an eye on $BNB. Long it once it breaks out of bull pennant. Can take few days to make a big move.✅\\n\\nCheckout the link in bio for crypto signals\\n\\n#cryptocurrency #bitcoin $ARPA $DOT $COMP $WRX 97794 https://t.co/Eip6sXi94G', \"RT @IsraelPMbah: I'm ready for violence today.\\nTwitter do your thing 😤\\n\\n#Cryptocurrency #LekkiGirls\\nSatan Obaseki Nigeria https://t.co/kbed…\", \"RT @BakareOmodara: It's very easy for a NIGERIAN to start a FAKE LIFE, but hard to MAINTAIN! \\nSomeone needs to see this, RETWEET!\\n\\n#lekkigi…\", 'RT @airdropinspect: New Airdrop: FIFO Finance (FIFO)\\nReward: 50 FIFO ($50)\\nRate: ⭐️⭐️⭐️⭐️\\nFocus: Distribution start after 3 weeks listing a…', \"RT @BakareOmodara: It's very easy for a NIGERIAN to start a FAKE LIFE, but hard to MAINTAIN! \\nSomeone needs to see this, RETWEET!\\n\\n#lekkigi…\", 'RT @BNgaruru: God soon please \\n#cryptocurrency \\n#Wink https://t.co/3iQajo0Q8p', 'RT @RL19M: Get your  #cryptocurrency wisely, risk-free!\\nJust deposit 50€ worth of crypto currency for a chance to earnup to 200€ in returns…', \"RT @TheCryptoLif7: 📣TCL Crew!!!!🚀🚀🚀🚀\\n\\n🚨As we say in my community....Let's Bank that COIN!\\n\\n🏆TREND SETTER!!! @ampnetio 🚀🚀🚀\\n\\n$AAPX Trading at…\", '$XRP trading volume more than $ETH now ; big explosion may occur 🔜 💥💥💥💥💰💰💰💰💰💰💰\\n#XRP #xrpcommmunity #Ripple #cryptocurrencies #cryptocurrency #2TheMoon #altcoins #BUYANDHOLD', 'RT @airdropinspect: New Airdrop: FIFO Finance (FIFO)\\nReward: 50 FIFO ($50)\\nRate: ⭐️⭐️⭐️⭐️\\nFocus: Distribution start after 3 weeks listing a…', 'RT @sarvmanglamcom: GST FRAUD, CHEATING and THEFT by ECOGREEN ENERGY GURGAON FARIDABAD PVT LTD in #GURUGRAM \\n\\nThey are shamelessly making i…', 'RT @CryptoTownEU: 🚀 Airdrop: Binance Smart Chain Exchange\\n💰 Value: $ 5\\n👥 Referral: $ 2.5\\n💸 250 + 100 BSC\\n⏰ 2 minutes\\n\\nTalk with the telegra…', 'RT @ProvenWinners: 🚨NBA 6-0 GUARANTEE!🚨\\n\\nRETWEET‼️\\n\\nhttps://t.co/679QrApQca \\n\\n#sportsbetting #NBA #NBATwitter #GamblingTwitter #Binance #cr…', '@wernerkeil 🚀 Communication is the key - @Libonomy is first to introduce direct cross-platform communication. 🚀 \\n\\n#crypto #cryptocurrency #investment', 'Beware of fraudulent\\n#BTSARMY \\n#JUNGKOOK \\n#COVID19 \\n#cancelboardexam2021 \\n#cryptocurrency \\n#CHUANG2021 \\n#dogecoin \\n#DogecoinRise \\n#ENHYPEN \\n#FormulaE \\n#HURvCRU \\n#internalassessment \\n#LCFC \\n#MAFS \\n#MAFSAustralia \\n#SEHUN\\n#TAEIL https://t.co/VKdC0EVwra', 'RT @Spellz49: @Portharcourtmag This twins now don enter my eye.\\nBro why will you post them na😭😭😭😭😭😭😭😭😭.\\n\\nBut Sha, I used to follow back ASA…', 'RT @NftSis: \"WorlsStar\" @opensea! #nft #opensea https://t.co/jw1CLjU22b\\n...\\nget featured follow @NftSis\\n....\\n#NFTcollectibles #nftart #cryp…', 'RT @AMazangari: Hello Twitter I sell Morocco jallabiyas at an affordable price of 12k please kindly patronize my hustle. Nationwide deliver…', 'RT @airdropinspect: New Airdrop: Glencore (GLEN)\\nReward:  250 GLEN\\nRate: ⭐️⭐️⭐️⭐️\\nFocus: Distribution starts after airdrop ends\\n\\nBot Airdro…', 'RT @ProvenWinners: 🚨NBA 6-0 GUARANTEE!🚨\\n\\nRETWEET‼️\\n\\nhttps://t.co/679QrApQca \\n\\n#sportsbetting #NBA #NBATwitter #GamblingTwitter #Binance #cr…', 'RT @GRVLagosMedia: NIGERIANS! Listen! We Must Participate! Don\\'t Lose Hope In Nigeria!\\n\\n\"All the countries that our people are running to..…', \"RT @Ola_woyin: My name is Olawoyin, I'm a Nigeria Visual Artist 🎨 and a Freelance professional Photographer📸.. kindly retweet, my clients a…\", '#Crypto outlook: open #NFT movement is not a fad, as digital asset markets continue to develop https://t.co/hRrYZ7QlwE\\n\\n#cryptocurrency #fintech #digitalasset #DigitalAssets #NFTs https://t.co/I5IZCuHHWS', 'RT @zil_bro: ZIL/USDT 4Hour Chart! Its almost time for take-off!🚀 What do you think?🧐 #Zilliqa #ZIL #ZilliqaCommunity #ToTheMoon #SleepingB…', 'RT @DegenerateHand: $shib has hit a new all time high. With #shibaswap dropping in a few weeks this coin is going to the moon. #resistancei…', 'RT @airdropinspect: New Airdrop: FIFO Finance (FIFO)\\nReward: 50 FIFO ($50)\\nRate: ⭐️⭐️⭐️⭐️\\nFocus: Distribution start after 3 weeks listing a…', 'XRP Price shoots upwards as Ripple Wins case against SEC https://t.co/oXRKvoCu1Q #Bitcoin  #Cryptocurrency #FinTech', 'https://t.co/a6EA4YWAUt – Defi Trading Platform Support 100X Leverage. No KYC. No Gas Fee https://t.co/vQE4gk9GWQ #Bitcoin  #Cryptocurrency #FinTech', 'Exodus Gets Approval from SEC to sell shares https://t.co/zSzh3sqrqg #Bitcoin  #Cryptocurrency #FinTech', 'Huobi Group’s Charity Division Commits $1 Million in Bitcoin (BTC) and Fiat Currency to UNICEF https://t.co/A3W0IJFMVs #Bitcoin  #Cryptocurrency #FinTech', 'Compound Records TVL of over $10 Billion https://t.co/13lRArN1FC #Bitcoin  #Cryptocurrency #FinTech', 'VC funds bullish on crypto, increase investment in blockchain startups https://t.co/42MTLvhpxC #Bitcoin  #Cryptocurrency #FinTech', 'P2P Bitcoin Trade Volumes Surge in Kenya and Ghana but Nigeria Still Dominates https://t.co/mYS30qMIAw #Bitcoin  #Cryptocurrency #FinTech', 'There are “Signs” an Even “More Significant” Bitcoin, Ethereum, Crypto Market Move Is on Horizon: Report https://t.co/C5qQQ5hkGg #Bitcoin  #Cryptocurrency #FinTech', 'Bitcoin on-chain data suggests no bull market top at $60K, selling activity declining https://t.co/b4zLfi4WS3 #Bitcoin  #Cryptocurrency #FinTech', 'RT @CryptoTownEU: 🚀 Airdrop: Mifty Swap\\n💰 Value: $ 20\\n👥 Referral: $1 \\n💸 40 + 2 MFY\\n⏰ 2 minutes\\n\\nTalk with the telegram bot: https://t.co/P0…', 'Aboki soldier said \"Igbo\\'s never see anything\" \\nThis is how they want us in One Nigeria!\\n\\nThey have a plan to wipe us... No doubt the exodus since last week in the South East...\\n#cryptocurrency\\n@instablog9ja\\n@Naija_PR @NASSIR_WRITES @SaharaReporters https://t.co/3dKUby1BgI', 'RT @crypto_mommy1: Remember #aave coin after #swap went down 50% and went up 1000% so it can happen with #Pundix\\n\\n🧐🧐✅✅🔥🔥🚀🚀 \\n@PundiXLabs\\n \\n#…', 'RT @NjofaW: Get your free access key from https://t.co/SWlmUh45oD\\n#currency #crypto #thanos #api #javascript #php #python #money #bitcoin #…', 'RT @MakavelliTrader: If anyone interested. here is conversion rate right now for COIN to $xyo in the COIN App for geomining. It is 50,000 C…', 'RT @OthukeLegacy: Come and see your favorite Influencer oo. What is he sucking ?? 😂😂🤣🤣\\n\\n#lekkigirls Buhari Obaseki #cryptocurrency https://…', 'RT @onyeka_osakwe: This Dude wont make Heaven ᥬ😂᭄ᥬ😂᭄\\n\\n#lekkigirls | Satan | Buhari | #cryptocurrency | Obaseki | Manchester United | Uganda…', \"@BSCEXCHANGE1 🇬🇧Join and share with your friends the best TL group to collect free cryptos,let's all make the largest community of verified airdrops on this platform.✅⬇️\\nhttps://t.co/yRk54L4MTl\\n\\n#crypto #btc\\xa0#cryptocurrency #bitcoin\\xa0#Airdrop #ETH #blockchain #exchange #trading \\n\\nCRYPTO🆓TEAM\", 'RT @DjFredrostar: Shit just got crazy😂😂\\n“Ezra”\\n“Obaseki”\\n“Satan”\\n#LekkiGirls\\n #cryptocurrency https://t.co/RMlfd9220n', 'RT @airdropinspect: New Airdrop: FIFO Finance (FIFO)\\nReward: 50 FIFO ($50)\\nRate: ⭐️⭐️⭐️⭐️\\nFocus: Distribution start after 3 weeks listing a…', '\"WorlsStar\" @opensea! #nft #opensea https://t.co/jw1CLjU22b\\n...\\nget featured follow @NftSis\\n....\\n#NFTcollectibles #nftart #cryptocurrency #ETH #NFTartist #NFTdrop #100DaysOfCode @teedubya @NFTsDotCom #nftcollector #nftart #NFTdrop #Crypto #cryptoart #beeple @beeple #art', 'RT @Psickko: Xzpaxe_ (Pink Edition)\\n\\n#nft #NFTs #nftart #NFTCommunity #nftcollector #NFTartist #nftcollectors #NFTdrop #NFTs #cryptocurrenc…', 'Earn Bitcoin browsing with CryptoTab.\\n\\n*Earn Bitcoin Today\\n*Affiliate Boost System\\n*Bitcoin is Booming\\n\\n--&gt; https://t.co/L1dzoWvxXn &lt;--\\n\\n#Bitcoin #Crypto #altcoin  #cryptocurrency #mining  #Microsoft #BTC #earn #CryptoTab  #affiliate COVID19 https://t.co/Z7NgG63p4l', 'RT @FinanciaLeeInde: #HOT #HOLO #Holochain #Crypto #cryptocurrency #CryptoSignals - This may have moved things along faster. If we see a po…', 'RT @YouTesla: How to participate to the $TSLXU airdrop? (20.000.000 tokens = $350 dollars)\\n\\n1. Follow @YouTesla\\n2. RT this tweet + mention…', 'RT @nnaji_kate: O  M  G... 🤦\\u200d♀️\\n\\nGuys name Tunde are  the true definition of Yoruba demon 🤣🤣😂🔥\\n\\n#lekkigirls Buhari Obaseki Onoja Yahaya Bel…', 'RT @alvanchinaka: Hello Twitter, my name is Alvan Chinaka. I make perfumes and the name of my perfume brand is St. Alv. Please while talkin…', 'RT @NjofaW: Get your free access key from https://t.co/SWlmUh45oD\\n#currency #crypto #thanos #api #javascript #php #python #money #bitcoin #…']\n",
      "------------------------------------------------\n",
      "Les Tweets sont clean\n",
      "\n",
      "[': Happy Sunday family! Have a blessed one ... | | Buhari | Manchester United | buhari | N', ': Hello Twitter, my name is Alvan Chinaka. I make perfumes and the name of my perfume brand is St. Alv. Please while talkin', '\"My Crypto Pets\" ! featured follow ....', ': Hello Twitter, my name is Alvan Chinaka. I make perfumes and the name of my perfume brand is St. Alv. Please while talkin', ': Airdrop: Yunix Protocol Value: $ Referral: $ + YNX minutesTalk with the telegram bot:', \"**Art for cryptocurrency**cryptocurrency (Ethereum)-It's a profitable investment-Own, control and trade original digital art-Earn Royalties token\", ': Airdrop: Knight Of Finance Value: $ Referral: $ + KOF minutesTalk with the telegram bot: https://', ': New Airdrop: FIFO Finance (FIFO)Reward: FIFO ($50)Rate: Focus: Distribution start after weeks listing a', '$PUNDIX THE FUTURE OF', \": We've just applied for audit, wait for the announcement.\", ': Hello Twitter, my name is Alvan Chinaka. I make perfumes and the name of my perfume brand is St. Alv. Please while talkin', ': New Featured Project YLDSwap (YLD) YLDSwap is a decentralized exchange on Binance Smart Chain, and users can u', '. target $ has hit today on . target $ is on the way this month dont miss it $sc', ': O M G... Guys name Tunde are the true definition of Yoruba demon Buhari Obaseki Onoja Yahaya Bel', 'I found a Blue vault in Coin Hunt World!', ': We announced as our special Pre-sale. We bought it at cent and sold at $40.00Now our special Pre', 'token!New token, now on pancakeswap! Only minutes old, and only active wallets.... Very early stage!contract: xd3d6b7965c81093c69f9e38739c78b4860d5792a', ': Emperor Menelik II.The man who defeated the Italians making Ethiopia the only African country successful to resist Europe', 'who bought the dip', ': Can make this dream come true?', ': Why You Should Ditch Watermelon for Golden Melon Peter Obi Tiwa', ': Most relaxeing video to watch on a cozy Sunday morning | | Buhari | Manchester United | bu', ': New Airdrop: FIFO Finance (FIFO)Reward: FIFO ($50)Rate: Focus: Distribution start after weeks listing a', ': Airdrop: SafeLogic Value: $ Referral: $ + SAFELOGIC minutesTalk with the telegram bo', ': Hello Twitter, my name is Alvan Chinaka. I make perfumes and the name of my perfume brand is St. Alv. Please while talkin', 'This was from a article in February . I still like it $VET $VTHO', '$SUSHI is about to end this downtrend and do a reversal to retest the resistance. MACD is also looking for a bullish cross and just below are strong support levels.', 'Questions on $OMI burn? Team is Processing Backlog Data from March', ': There is a $smart way to perform gasless cross chain swaps. You just dont know about it yet...', ': Delivering a smart contract to completely alleviate any risk of loss sending crypto is truly need', 'PipeFlare - free and - free games and earn', ': Hello Twitter, my name is Alvan Chinaka. I make perfumes and the name of my perfume brand is St. Alv. Please while talkin', 'What er we buying today, and why?', ': We are open for pre-registration again. Visit to claim up to $OMYX today.', 'COMING-SOON', 'Bitcoin Daily Parabolas /11/2021', 'Top Persons Who Served Under Tinubu And Their Current Positions', ': New Featured Project Vine Protocol (VINE) Vine Protocol is an automated market maker (AMM) that depends on a', ': What the Team Duck have been doing and what is about to go down!! weekly news!', ': is officially one of the largest DOT community!!Over k combined in Telegram and Twitter The', 'What does it profit a man to have two kidney and die in poverty na mumu dey get kidney', 'What do u think about $WIN $TRX $BTT coin? Plz help lol', ': Announce a partnership with Product to solve real problem', ': New Airdrop: FIFO Finance (FIFO)Reward: FIFO ($50)Rate: Focus: Distribution start after weeks listing a', ': Beware of fraudulent', ': New Airdrop: FIFO Finance (FIFO)Reward: FIFO ($50)Rate: Focus: Distribution start after weeks listing a', 'Bitcoin Weekly Parabolas /11/2021', 'Keep an eye on $BNB. Long it once it breaks out of bull pennant. Can take few days to make a big move.Checkout the link in bio for crypto signals $ARPA $DOT $COMP $WRX', \": I'm ready for violence today.Twitter do your thing Obaseki Nigeria\", \": It's very easy for a NIGERIAN to start a FAKE LIFE, but hard to MAINTAIN! Someone needs to see this, RETWEET!\", ': New Airdrop: FIFO Finance (FIFO)Reward: FIFO ($50)Rate: Focus: Distribution start after weeks listing a', \": It's very easy for a NIGERIAN to start a FAKE LIFE, but hard to MAINTAIN! Someone needs to see this, RETWEET!\", ': God soon please', ': Get your wisely, risk-free!Just deposit worth of crypto currency for a chance to earnup to in returns', \": TCL Crew!!!!As we say in my community....Let's Bank that COIN!TREND SETTER!!! $AAPX Trading at\", '$XRP trading volume more than $ETH now ; big explosion may occur', ': New Airdrop: FIFO Finance (FIFO)Reward: FIFO ($50)Rate: Focus: Distribution start after weeks listing a', ': GST FRAUD, CHEATING and THEFT by ECOGREEN ENERGY GURGAON FARIDABAD PVT LTD in They are shamelessly making i', ': Airdrop: Binance Smart Chain Exchange Value: $ Referral: $ + BSC minutesTalk with the telegra', ': NBA -0 GUARANTEE!RETWEET', 'Communication is the key - is first to introduce direct cross-platform communication.', 'Beware of fraudulent', ': This twins now don enter my eye.Bro why will you post them na.But Sha, I used to follow back ASA', ': \"WorlsStar\" ! featured follow ....', ': Hello Twitter I sell Morocco jallabiyas at an affordable price of k please kindly patronize my hustle. Nationwide deliver', ': New Airdrop: Glencore (GLEN)Reward: GLENRate: Focus: Distribution starts after airdrop endsBot Airdro', ': NBA -0 GUARANTEE!RETWEET', ': NIGERIANS! Listen! We Must Participate! Don\\'t Lose Hope In Nigeria!\"All the countries that our people are running to..', \": My name is Olawoyin, I'm a Nigeria Visual Artist and a Freelance professional Photographer.. kindly retweet, my clients a\", 'outlook: open movement is not a fad, as digital asset markets continue to develop', ': ZIL/USDT Hour Chart! Its almost time for take-off! What do you think?', ': $shib has hit a new all time high. With dropping in a few weeks this coin is going to the moon.', ': New Airdrop: FIFO Finance (FIFO)Reward: FIFO ($50)Rate: Focus: Distribution start after weeks listing a', 'XRP Price shoots upwards as Ripple Wins case against SEC', 'Defi Trading Platform Support X Leverage. No KYC. No Gas Fee', 'Exodus Gets Approval from SEC to sell shares', 'Huobi Groups Charity Division Commits $1 Million in Bitcoin (BTC) and Fiat Currency to UNICEF', 'Compound Records TVL of over $10 Billion', 'VC funds bullish on crypto, increase investment in blockchain startups', 'P2P Bitcoin Trade Volumes Surge in Kenya and Ghana but Nigeria Still Dominates', 'There are Signs an Even More Significant Bitcoin, Ethereum, Crypto Market Move Is on Horizon: Report', 'Bitcoin on-chain data suggests no bull market top at $60K, selling activity declining', ': Airdrop: Mifty Swap Value: $ Referral: $1 + MFY minutesTalk with the telegram bot:', 'Aboki soldier said \"Igbo\\'s never see anything\" This is how they want us in One Nigeria!They have a plan to wipe us... No doubt the exodus since last week in the South East...', ': Remember coin after went down % and went up % so it can happen with', ': Get your free access key from', ': If anyone interested. here is conversion rate right now for COIN to $xyo in the COIN App for geomining. It is C', ': Come and see your favorite Influencer oo. What is he sucking ?? Buhari Obaseki https://', ': This Dude wont make Heaven | Satan | Buhari | | Obaseki | Manchester United | Uganda', \"Join and share with your friends the best TL group to collect free cryptos,let's all make the largest community of verified airdrops on this platform. CRYPTOTEAM\", ': Shit just got crazyEzraObasekiSatan', ': New Airdrop: FIFO Finance (FIFO)Reward: FIFO ($50)Rate: Focus: Distribution start after weeks listing a', '\"WorlsStar\" ! featured follow ....', ': Xzpaxe_ (Pink Edition)', 'Earn Bitcoin browsing with CryptoTab.*Earn Bitcoin Today*Affiliate Boost System*Bitcoin is Booming--&gt; &lt;-- COVID19', ': - This may have moved things along faster. If we see a po', ': How to participate to the $TSLXU airdrop? (20.000.000 tokens = $350 dollars)1. Follow . RT this tweet + mention', ': O M G... Guys name Tunde are the true definition of Yoruba demon Buhari Obaseki Onoja Yahaya Bel', ': Hello Twitter, my name is Alvan Chinaka. I make perfumes and the name of my perfume brand is St. Alv. Please while talkin', ': Get your free access key from']\n"
     ]
    }
   ],
   "source": [
    "if __name__ == \"__main__\":\n",
    "    recoverTweets = get_tweets(\"#cryptocurrency\")\n",
    "    cleanTweets = clean_tweets(recoverTweets)\n",
    "    print(\"------------------------------------------------\")\n",
    "    print(\"Les tweets ne sont pas cleans\\n\")\n",
    "    print(recoverTweets)\n",
    "    \n",
    "    print(\"------------------------------------------------\")\n",
    "    print(\"Les Tweets sont clean\\n\")\n",
    "    print(cleanTweets)\n",
    "    "
   ]
  },
  {
   "cell_type": "markdown",
   "metadata": {},
   "source": [
    "## Test algo insert into csv file"
   ]
  },
  {
   "cell_type": "code",
   "execution_count": 9,
   "metadata": {},
   "outputs": [],
   "source": [
    "csvFile = open('aiGood.csv', 'w',newline='')\n",
    "csvWriter = csv.writer(csvFile, delimiter=' ', quotechar='|', quoting=csv.QUOTE_MINIMAL)"
   ]
  },
  {
   "cell_type": "code",
   "execution_count": 10,
   "metadata": {},
   "outputs": [],
   "source": [
    "for tweet in tweepy.Cursor(api.search,q=\"#ai\",count=100,lang=\"en\",since_id=0).items(10):\n",
    "    csvWriter.writerow([tweet.created_at, tweet.text.encode('utf-8'),\n",
    "                        tweet.user.screen_name.encode('utf-8'), tweet.user.location.encode('utf-8')])\n"
   ]
  },
  {
   "cell_type": "code",
   "execution_count": null,
   "metadata": {},
   "outputs": [],
   "source": []
  }
 ],
 "metadata": {
  "kernelspec": {
   "display_name": "Python 3",
   "language": "python",
   "name": "python3"
  },
  "language_info": {
   "codemirror_mode": {
    "name": "ipython",
    "version": 3
   },
   "file_extension": ".py",
   "mimetype": "text/x-python",
   "name": "python",
   "nbconvert_exporter": "python",
   "pygments_lexer": "ipython3",
   "version": "3.7.4"
  }
 },
 "nbformat": 4,
 "nbformat_minor": 4
}
