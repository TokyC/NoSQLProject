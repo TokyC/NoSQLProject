{
 "cells": [
  {
   "cell_type": "markdown",
   "metadata": {},
   "source": [
    "Recover tweet about crypto-currency"
   ]
  },
  {
   "cell_type": "markdown",
   "metadata": {},
   "source": [
    "## Import of libraries "
   ]
  },
  {
   "cell_type": "code",
   "execution_count": 1,
   "metadata": {},
   "outputs": [],
   "source": [
    "import tweepy\n",
    "import csv\n",
    "import pandas as pd\n",
    "import csv\n",
    "import re \n",
    "import string\n",
    "import preprocessor as p\n",
    "from textblob import TextBlob\n",
    "import matplotlib.pyplot as plt\n",
    "import seaborn as sns\n",
    "from nltk.stem.snowball import SnowballStemmer\n",
    "import nltk"
   ]
  },
  {
   "cell_type": "markdown",
   "metadata": {},
   "source": [
    "## Algorithmes"
   ]
  },
  {
   "cell_type": "code",
   "execution_count": 2,
   "metadata": {},
   "outputs": [],
   "source": [
    "consumer_key = \"sv62m7FUziAOHGtplgNYQ0TEi\"\n",
    "consumer_secret = \"67TMtXeLLSwjxjhRdhZkc7TuAlJRTmSu4q2KOUbuN1oHzlcdZ0\"\n",
    "\n",
    "access_key = \"1358394444429549568-IDbGzN51cUyZnnh0iWacK8vIbKnr2W\" \n",
    "access_secret =  \"6fwj7lLVGSThRax5R6Mrde5xBZHPCpeOjE2AoatIUhIOc\""
   ]
  },
  {
   "cell_type": "code",
   "execution_count": 3,
   "metadata": {},
   "outputs": [],
   "source": [
    "auth = tweepy.OAuthHandler(consumer_key, consumer_secret)\n",
    "auth.set_access_token(access_key, access_secret)\n",
    "api = tweepy.API(auth,wait_on_rate_limit=True)"
   ]
  },
  {
   "cell_type": "markdown",
   "metadata": {},
   "source": [
    "result_type : \n",
    "- mixed : include both popular and real time results in the response\n",
    "- recent : return only the most recent results in the response\n",
    "- popular : return only the most popular results in the response"
   ]
  },
  {
   "cell_type": "markdown",
   "metadata": {},
   "source": [
    "### to get several fields in the query  \n",
    "https://developer.twitter.com/en/docs/labs/recent-search/guides/search-queries"
   ]
  },
  {
   "cell_type": "code",
   "execution_count": 4,
   "metadata": {},
   "outputs": [],
   "source": [
    "all_tweets = []\n",
    "likes = []\n",
    "created = []\n",
    "author = []\n",
    "retweet = []\n",
    "url =[]\n",
    "search_terms = \"crypto currency\" or \"AngeloBTC\"\n",
    "\n",
    "for tweet in tweepy.Cursor(api.search, q=search_terms, tweet_mode='extended' , lang='en', \n",
    "                           result_type='mixed').items(300):\n",
    "    #print(dir(tweet))\n",
    "    author.append(tweet.author.name)\n",
    "    all_tweets.append(tweet.full_text)\n",
    "    likes.append(tweet.favorite_count)\n",
    "    retweet.append(tweet.retweet_count)\n",
    "    url.append(f\"https://twitter.com/{tweet.user.screen_name}/status/{tweet.id}\")\n",
    "    created.append(tweet.created_at)"
   ]
  },
  {
   "cell_type": "code",
   "execution_count": 5,
   "metadata": {
    "scrolled": true
   },
   "outputs": [],
   "source": [
    "df = pd.DataFrame({'author':author ,'tweets':all_tweets ,'likes':likes ,'retweet':retweet\n",
    "                   ,'url':url ,'times':created})"
   ]
  },
  {
   "cell_type": "raw",
   "metadata": {},
   "source": [
    "df = df[~df.tweets.str.contains(\"RT\")]"
   ]
  },
  {
   "cell_type": "code",
   "execution_count": 7,
   "metadata": {
    "scrolled": true
   },
   "outputs": [],
   "source": [
    "df = df.sort_values(by=['likes'],ascending=False)"
   ]
  },
  {
   "cell_type": "code",
   "execution_count": 8,
   "metadata": {},
   "outputs": [],
   "source": [
    "df = df.reset_index(drop=True)"
   ]
  },
  {
   "cell_type": "raw",
   "metadata": {},
   "source": [
    "df['sentiment'] = df['tweets'].map(lambda txt: TextBlob(txt).sentiment.polarity)"
   ]
  },
  {
   "cell_type": "code",
   "execution_count": 9,
   "metadata": {},
   "outputs": [],
   "source": [
    "def getTextPolarity(txt):\n",
    "    return TextBlob(txt).sentiment.polarity"
   ]
  },
  {
   "cell_type": "code",
   "execution_count": 10,
   "metadata": {},
   "outputs": [],
   "source": [
    "def getTextSubjectivity(txt):\n",
    "    return TextBlob(txt).sentiment.subjectivity"
   ]
  },
  {
   "cell_type": "code",
   "execution_count": 11,
   "metadata": {},
   "outputs": [],
   "source": [
    "df['Polarity'] = df['tweets'].apply(getTextPolarity)\n",
    "df['Subjectivity'] = df['tweets'].apply(getTextSubjectivity)"
   ]
  },
  {
   "cell_type": "code",
   "execution_count": 12,
   "metadata": {
    "scrolled": true
   },
   "outputs": [],
   "source": [
    "df = df.replace(r'\\n','', regex=True)"
   ]
  },
  {
   "cell_type": "code",
   "execution_count": 13,
   "metadata": {},
   "outputs": [],
   "source": [
    "df['Polarity'] = df['Polarity'].round(decimals=3)"
   ]
  },
  {
   "cell_type": "code",
   "execution_count": 14,
   "metadata": {},
   "outputs": [],
   "source": [
    "df['Subjectivity'] = df['Subjectivity'].round(decimals=3)"
   ]
  },
  {
   "cell_type": "code",
   "execution_count": 15,
   "metadata": {},
   "outputs": [
    {
     "data": {
      "text/html": [
       "<div>\n",
       "<style scoped>\n",
       "    .dataframe tbody tr th:only-of-type {\n",
       "        vertical-align: middle;\n",
       "    }\n",
       "\n",
       "    .dataframe tbody tr th {\n",
       "        vertical-align: top;\n",
       "    }\n",
       "\n",
       "    .dataframe thead th {\n",
       "        text-align: right;\n",
       "    }\n",
       "</style>\n",
       "<table border=\"1\" class=\"dataframe\">\n",
       "  <thead>\n",
       "    <tr style=\"text-align: right;\">\n",
       "      <th></th>\n",
       "      <th>author</th>\n",
       "      <th>tweets</th>\n",
       "      <th>likes</th>\n",
       "      <th>retweet</th>\n",
       "      <th>url</th>\n",
       "      <th>times</th>\n",
       "      <th>Polarity</th>\n",
       "      <th>Subjectivity</th>\n",
       "    </tr>\n",
       "  </thead>\n",
       "  <tbody>\n",
       "    <tr>\n",
       "      <th>0</th>\n",
       "      <td>BEN BALLER™</td>\n",
       "      <td>Crypto currency is NOT a spectator sport!  Don...</td>\n",
       "      <td>3223</td>\n",
       "      <td>670</td>\n",
       "      <td>https://twitter.com/BENBALLER/status/138926154...</td>\n",
       "      <td>2021-05-03 16:52:19</td>\n",
       "      <td>-0.250</td>\n",
       "      <td>0.250</td>\n",
       "    </tr>\n",
       "    <tr>\n",
       "      <th>1</th>\n",
       "      <td>Tim Cook</td>\n",
       "      <td>#dogecoin market cap is now  $74,350,088,540.....</td>\n",
       "      <td>140</td>\n",
       "      <td>54</td>\n",
       "      <td>https://twitter.com/DreamBigBeBig20/status/138...</td>\n",
       "      <td>2021-05-04 14:04:14</td>\n",
       "      <td>0.000</td>\n",
       "      <td>0.000</td>\n",
       "    </tr>\n",
       "    <tr>\n",
       "      <th>2</th>\n",
       "      <td>CoinMarketCap</td>\n",
       "      <td>How do the largest cryptocurrencies, such as #...</td>\n",
       "      <td>127</td>\n",
       "      <td>29</td>\n",
       "      <td>https://twitter.com/CoinMarketCap/status/13895...</td>\n",
       "      <td>2021-05-04 10:47:02</td>\n",
       "      <td>0.261</td>\n",
       "      <td>0.389</td>\n",
       "    </tr>\n",
       "    <tr>\n",
       "      <th>3</th>\n",
       "      <td>Thee Sticker God™</td>\n",
       "      <td>#Dogecoin is on the rise again!! 🐕🚀🌕A lot of p...</td>\n",
       "      <td>23</td>\n",
       "      <td>17</td>\n",
       "      <td>https://twitter.com/TheeStickerGod/status/1389...</td>\n",
       "      <td>2021-05-03 16:17:50</td>\n",
       "      <td>0.174</td>\n",
       "      <td>0.310</td>\n",
       "    </tr>\n",
       "    <tr>\n",
       "      <th>4</th>\n",
       "      <td>OMNIPRESENCE</td>\n",
       "      <td>Can't put crypto currency on my people's books</td>\n",
       "      <td>4</td>\n",
       "      <td>1</td>\n",
       "      <td>https://twitter.com/TheNameIsJerald/status/138...</td>\n",
       "      <td>2021-05-03 16:24:29</td>\n",
       "      <td>0.000</td>\n",
       "      <td>0.000</td>\n",
       "    </tr>\n",
       "    <tr>\n",
       "      <th>...</th>\n",
       "      <td>...</td>\n",
       "      <td>...</td>\n",
       "      <td>...</td>\n",
       "      <td>...</td>\n",
       "      <td>...</td>\n",
       "      <td>...</td>\n",
       "      <td>...</td>\n",
       "      <td>...</td>\n",
       "    </tr>\n",
       "    <tr>\n",
       "      <th>68</th>\n",
       "      <td>Renaldhy apriyanto</td>\n",
       "      <td>Aeneas ia the best part of crypto currency tod...</td>\n",
       "      <td>0</td>\n",
       "      <td>0</td>\n",
       "      <td>https://twitter.com/Renaldhyapriya2/status/138...</td>\n",
       "      <td>2021-05-04 16:34:08</td>\n",
       "      <td>1.000</td>\n",
       "      <td>0.300</td>\n",
       "    </tr>\n",
       "    <tr>\n",
       "      <th>69</th>\n",
       "      <td>JemoCapi</td>\n",
       "      <td>@garyvee Crypto currency is my test! $ALGO #BT...</td>\n",
       "      <td>0</td>\n",
       "      <td>0</td>\n",
       "      <td>https://twitter.com/CapiJemo/status/1389257177...</td>\n",
       "      <td>2021-05-03 16:34:56</td>\n",
       "      <td>0.000</td>\n",
       "      <td>0.000</td>\n",
       "    </tr>\n",
       "    <tr>\n",
       "      <th>70</th>\n",
       "      <td>webnow🌎</td>\n",
       "      <td>Dogecoin ($DOGE), the meme currency turned six...</td>\n",
       "      <td>0</td>\n",
       "      <td>0</td>\n",
       "      <td>https://twitter.com/webnowcompany/status/13892...</td>\n",
       "      <td>2021-05-03 16:34:37</td>\n",
       "      <td>0.367</td>\n",
       "      <td>0.517</td>\n",
       "    </tr>\n",
       "    <tr>\n",
       "      <th>71</th>\n",
       "      <td>Charan@Only Charan</td>\n",
       "      <td>@cz_binance @united_coin Happy to share the ne...</td>\n",
       "      <td>0</td>\n",
       "      <td>0</td>\n",
       "      <td>https://twitter.com/CharanOnlyChara/status/138...</td>\n",
       "      <td>2021-05-03 16:34:32</td>\n",
       "      <td>0.400</td>\n",
       "      <td>0.500</td>\n",
       "    </tr>\n",
       "    <tr>\n",
       "      <th>72</th>\n",
       "      <td>⭐️James Hicks⭐️</td>\n",
       "      <td>This is actually the technique I exploit that ...</td>\n",
       "      <td>0</td>\n",
       "      <td>0</td>\n",
       "      <td>https://twitter.com/JamesHicksUK/status/138925...</td>\n",
       "      <td>2021-05-03 16:35:58</td>\n",
       "      <td>0.000</td>\n",
       "      <td>0.300</td>\n",
       "    </tr>\n",
       "  </tbody>\n",
       "</table>\n",
       "<p>73 rows × 8 columns</p>\n",
       "</div>"
      ],
      "text/plain": [
       "                author                                             tweets  \\\n",
       "0          BEN BALLER™  Crypto currency is NOT a spectator sport!  Don...   \n",
       "1             Tim Cook  #dogecoin market cap is now  $74,350,088,540.....   \n",
       "2        CoinMarketCap  How do the largest cryptocurrencies, such as #...   \n",
       "3    Thee Sticker God™  #Dogecoin is on the rise again!! 🐕🚀🌕A lot of p...   \n",
       "4         OMNIPRESENCE     Can't put crypto currency on my people's books   \n",
       "..                 ...                                                ...   \n",
       "68  Renaldhy apriyanto  Aeneas ia the best part of crypto currency tod...   \n",
       "69            JemoCapi  @garyvee Crypto currency is my test! $ALGO #BT...   \n",
       "70             webnow🌎  Dogecoin ($DOGE), the meme currency turned six...   \n",
       "71  Charan@Only Charan  @cz_binance @united_coin Happy to share the ne...   \n",
       "72     ⭐️James Hicks⭐️  This is actually the technique I exploit that ...   \n",
       "\n",
       "    likes  retweet                                                url  \\\n",
       "0    3223      670  https://twitter.com/BENBALLER/status/138926154...   \n",
       "1     140       54  https://twitter.com/DreamBigBeBig20/status/138...   \n",
       "2     127       29  https://twitter.com/CoinMarketCap/status/13895...   \n",
       "3      23       17  https://twitter.com/TheeStickerGod/status/1389...   \n",
       "4       4        1  https://twitter.com/TheNameIsJerald/status/138...   \n",
       "..    ...      ...                                                ...   \n",
       "68      0        0  https://twitter.com/Renaldhyapriya2/status/138...   \n",
       "69      0        0  https://twitter.com/CapiJemo/status/1389257177...   \n",
       "70      0        0  https://twitter.com/webnowcompany/status/13892...   \n",
       "71      0        0  https://twitter.com/CharanOnlyChara/status/138...   \n",
       "72      0        0  https://twitter.com/JamesHicksUK/status/138925...   \n",
       "\n",
       "                 times  Polarity  Subjectivity  \n",
       "0  2021-05-03 16:52:19    -0.250         0.250  \n",
       "1  2021-05-04 14:04:14     0.000         0.000  \n",
       "2  2021-05-04 10:47:02     0.261         0.389  \n",
       "3  2021-05-03 16:17:50     0.174         0.310  \n",
       "4  2021-05-03 16:24:29     0.000         0.000  \n",
       "..                 ...       ...           ...  \n",
       "68 2021-05-04 16:34:08     1.000         0.300  \n",
       "69 2021-05-03 16:34:56     0.000         0.000  \n",
       "70 2021-05-03 16:34:37     0.367         0.517  \n",
       "71 2021-05-03 16:34:32     0.400         0.500  \n",
       "72 2021-05-03 16:35:58     0.000         0.300  \n",
       "\n",
       "[73 rows x 8 columns]"
      ]
     },
     "execution_count": 15,
     "metadata": {},
     "output_type": "execute_result"
    }
   ],
   "source": [
    "df"
   ]
  },
  {
   "cell_type": "code",
   "execution_count": null,
   "metadata": {},
   "outputs": [],
   "source": []
  }
 ],
 "metadata": {
  "kernelspec": {
   "display_name": "Python 3",
   "language": "python",
   "name": "python3"
  },
  "language_info": {
   "codemirror_mode": {
    "name": "ipython",
    "version": 3
   },
   "file_extension": ".py",
   "mimetype": "text/x-python",
   "name": "python",
   "nbconvert_exporter": "python",
   "pygments_lexer": "ipython3",
   "version": "3.7.4"
  }
 },
 "nbformat": 4,
 "nbformat_minor": 4
}
