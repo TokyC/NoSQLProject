{
 "cells": [
  {
   "cell_type": "markdown",
   "metadata": {},
   "source": [
    "# <center> Twitter </center>"
   ]
  },
  {
   "cell_type": "markdown",
   "metadata": {},
   "source": [
    "Recover tweet about crypto-currency"
   ]
  },
  {
   "cell_type": "markdown",
   "metadata": {},
   "source": [
    "## Import of libraries "
   ]
  },
  {
   "cell_type": "code",
   "execution_count": 1,
   "metadata": {},
   "outputs": [],
   "source": [
    "import tweepy\n",
    "import csv\n",
    "import pandas as pd\n",
    "import csv\n",
    "import re \n",
    "import string\n",
    "import preprocessor as p\n",
    "from textblob import TextBlob\n",
    "import matplotlib.pyplot as plt\n",
    "import seaborn as sns\n",
    "from nltk.stem.snowball import SnowballStemmer\n",
    "import nltk"
   ]
  },
  {
   "cell_type": "markdown",
   "metadata": {},
   "source": [
    "## Algorithmes"
   ]
  },
  {
   "cell_type": "code",
   "execution_count": 2,
   "metadata": {},
   "outputs": [],
   "source": [
    "consumer_key = \"sv62m7FUziAOHGtplgNYQ0TEi\"\n",
    "consumer_secret = \"67TMtXeLLSwjxjhRdhZkc7TuAlJRTmSu4q2KOUbuN1oHzlcdZ0\"\n",
    "\n",
    "access_key = \"1358394444429549568-IDbGzN51cUyZnnh0iWacK8vIbKnr2W\" \n",
    "access_secret =  \"6fwj7lLVGSThRax5R6Mrde5xBZHPCpeOjE2AoatIUhIOc\""
   ]
  },
  {
   "cell_type": "code",
   "execution_count": 3,
   "metadata": {},
   "outputs": [],
   "source": [
    "auth = tweepy.OAuthHandler(consumer_key, consumer_secret)\n",
    "auth.set_access_token(access_key, access_secret)\n",
    "api = tweepy.API(auth,wait_on_rate_limit=True)"
   ]
  },
  {
   "cell_type": "markdown",
   "metadata": {},
   "source": [
    "result_type : \n",
    "- mixed : include both popular and real time results in the response\n",
    "- recent : return only the most recent results in the response\n",
    "- popular : return only the most popular results in the response"
   ]
  },
  {
   "cell_type": "markdown",
   "metadata": {},
   "source": [
    "### to get several fields in the query  \n",
    "https://developer.twitter.com/en/docs/labs/recent-search/guides/search-queries"
   ]
  },
  {
   "cell_type": "code",
   "execution_count": 4,
   "metadata": {},
   "outputs": [],
   "source": [
    "all_tweets = []\n",
    "likes = []\n",
    "created = []\n",
    "author = []\n",
    "retweet = []\n",
    "url =[]\n",
    "search_terms = \"crypto currency\" or \"AngeloBTC\"\n",
    "\n",
    "for tweet in tweepy.Cursor(api.search, q=search_terms, tweet_mode='extended' , lang='en', \n",
    "                           result_type='mixed').items(175):\n",
    "    #print(dir(tweet))\n",
    "    author.append(tweet.author.name)\n",
    "    all_tweets.append(tweet.full_text)\n",
    "    likes.append(tweet.favorite_count)\n",
    "    retweet.append(tweet.retweet_count)\n",
    "    url.append(f\"https://twitter.com/{tweet.user.screen_name}/status/{tweet.id}\")\n",
    "    created.append(tweet.created_at)"
   ]
  },
  {
   "cell_type": "code",
   "execution_count": 5,
   "metadata": {
    "scrolled": true
   },
   "outputs": [],
   "source": [
    "df = pd.DataFrame({'author':author ,'tweets':all_tweets ,'likes':likes ,'retweet':retweet\n",
    "                   ,'url':url ,'times':created})"
   ]
  },
  {
   "cell_type": "code",
   "execution_count": 6,
   "metadata": {},
   "outputs": [],
   "source": [
    "df = df[~df.tweets.str.contains(\"RT\")]"
   ]
  },
  {
   "cell_type": "code",
   "execution_count": 7,
   "metadata": {
    "scrolled": true
   },
   "outputs": [],
   "source": [
    "df = df.sort_values(by=['likes'],ascending=False)"
   ]
  },
  {
   "cell_type": "code",
   "execution_count": 8,
   "metadata": {},
   "outputs": [],
   "source": [
    "df = df.reset_index(drop=True)"
   ]
  },
  {
   "cell_type": "raw",
   "metadata": {},
   "source": [
    "df['sentiment'] = df['tweets'].map(lambda txt: TextBlob(txt).sentiment.polarity)"
   ]
  },
  {
   "cell_type": "code",
   "execution_count": 9,
   "metadata": {},
   "outputs": [],
   "source": [
    "def getTextPolarity(txt):\n",
    "    return TextBlob(txt).sentiment.polarity"
   ]
  },
  {
   "cell_type": "code",
   "execution_count": 10,
   "metadata": {},
   "outputs": [],
   "source": [
    "def getTextSubjectivity(txt):\n",
    "    return TextBlob(txt).sentiment.subjectivity"
   ]
  },
  {
   "cell_type": "code",
   "execution_count": 11,
   "metadata": {},
   "outputs": [],
   "source": [
    "df['Polarity'] = df['tweets'].apply(getTextPolarity)\n",
    "df['Subjectivity'] = df['tweets'].apply(getTextSubjectivity)"
   ]
  },
  {
   "cell_type": "code",
   "execution_count": 16,
   "metadata": {
    "scrolled": true
   },
   "outputs": [],
   "source": [
    "df = df.replace(r'\\n','', regex=True)"
   ]
  },
  {
   "cell_type": "code",
   "execution_count": 17,
   "metadata": {},
   "outputs": [],
   "source": [
    "df['Polarity'] = df['Polarity'].round(decimals=3)"
   ]
  },
  {
   "cell_type": "code",
   "execution_count": 18,
   "metadata": {},
   "outputs": [],
   "source": [
    "df['Subjectivity'] = df['Subjectivity'].round(decimals=3)"
   ]
  },
  {
   "cell_type": "code",
   "execution_count": 19,
   "metadata": {},
   "outputs": [
    {
     "data": {
      "text/html": [
       "<div>\n",
       "<style scoped>\n",
       "    .dataframe tbody tr th:only-of-type {\n",
       "        vertical-align: middle;\n",
       "    }\n",
       "\n",
       "    .dataframe tbody tr th {\n",
       "        vertical-align: top;\n",
       "    }\n",
       "\n",
       "    .dataframe thead th {\n",
       "        text-align: right;\n",
       "    }\n",
       "</style>\n",
       "<table border=\"1\" class=\"dataframe\">\n",
       "  <thead>\n",
       "    <tr style=\"text-align: right;\">\n",
       "      <th></th>\n",
       "      <th>author</th>\n",
       "      <th>tweets</th>\n",
       "      <th>likes</th>\n",
       "      <th>retweet</th>\n",
       "      <th>url</th>\n",
       "      <th>times</th>\n",
       "      <th>Polarity</th>\n",
       "      <th>Subjectivity</th>\n",
       "    </tr>\n",
       "  </thead>\n",
       "  <tbody>\n",
       "    <tr>\n",
       "      <th>0</th>\n",
       "      <td>BEN BALLER™</td>\n",
       "      <td>Crypto currency is NOT a spectator sport!  Don...</td>\n",
       "      <td>1589</td>\n",
       "      <td>363</td>\n",
       "      <td>https://twitter.com/BENBALLER/status/138926154...</td>\n",
       "      <td>2021-05-03 16:52:19</td>\n",
       "      <td>-0.250</td>\n",
       "      <td>0.250</td>\n",
       "    </tr>\n",
       "    <tr>\n",
       "      <th>1</th>\n",
       "      <td>CoinMarketCap</td>\n",
       "      <td>How do the largest cryptocurrencies, such as #...</td>\n",
       "      <td>167</td>\n",
       "      <td>32</td>\n",
       "      <td>https://twitter.com/CoinMarketCap/status/13889...</td>\n",
       "      <td>2021-05-02 18:45:01</td>\n",
       "      <td>0.261</td>\n",
       "      <td>0.389</td>\n",
       "    </tr>\n",
       "    <tr>\n",
       "      <th>2</th>\n",
       "      <td>Mohamed A. El-Erian</td>\n",
       "      <td>\" #Bitcoin: too good to miss or a bubble ready...</td>\n",
       "      <td>119</td>\n",
       "      <td>27</td>\n",
       "      <td>https://twitter.com/elerianm/status/1388957880...</td>\n",
       "      <td>2021-05-02 20:45:39</td>\n",
       "      <td>0.300</td>\n",
       "      <td>0.500</td>\n",
       "    </tr>\n",
       "    <tr>\n",
       "      <th>3</th>\n",
       "      <td>Forex Analytix</td>\n",
       "      <td>Take a Peek of the Week Ahead! https://t.co/06...</td>\n",
       "      <td>9</td>\n",
       "      <td>7</td>\n",
       "      <td>https://twitter.com/forexanalytix/status/13889...</td>\n",
       "      <td>2021-05-02 18:41:29</td>\n",
       "      <td>0.000</td>\n",
       "      <td>0.000</td>\n",
       "    </tr>\n",
       "    <tr>\n",
       "      <th>4</th>\n",
       "      <td>Lefty</td>\n",
       "      <td>@D7ZZ77 @GoldTelegraph_ Hopefully decentralize...</td>\n",
       "      <td>6</td>\n",
       "      <td>0</td>\n",
       "      <td>https://twitter.com/CryptoBananas/status/13889...</td>\n",
       "      <td>2021-05-02 18:32:43</td>\n",
       "      <td>0.000</td>\n",
       "      <td>0.000</td>\n",
       "    </tr>\n",
       "    <tr>\n",
       "      <th>...</th>\n",
       "      <td>...</td>\n",
       "      <td>...</td>\n",
       "      <td>...</td>\n",
       "      <td>...</td>\n",
       "      <td>...</td>\n",
       "      <td>...</td>\n",
       "      <td>...</td>\n",
       "      <td>...</td>\n",
       "    </tr>\n",
       "    <tr>\n",
       "      <th>59</th>\n",
       "      <td>Making Tax Simple</td>\n",
       "      <td>@NischalShetty I think the main focus on use c...</td>\n",
       "      <td>0</td>\n",
       "      <td>0</td>\n",
       "      <td>https://twitter.com/MakingTaxSimpl1/status/138...</td>\n",
       "      <td>2021-05-02 18:39:17</td>\n",
       "      <td>0.208</td>\n",
       "      <td>0.267</td>\n",
       "    </tr>\n",
       "    <tr>\n",
       "      <th>60</th>\n",
       "      <td>Brian Soon-A-Lot</td>\n",
       "      <td>@elonmusk Maybe one where you’re like a Best B...</td>\n",
       "      <td>0</td>\n",
       "      <td>0</td>\n",
       "      <td>https://twitter.com/YoSounie/status/1388926062...</td>\n",
       "      <td>2021-05-02 18:39:12</td>\n",
       "      <td>0.300</td>\n",
       "      <td>0.333</td>\n",
       "    </tr>\n",
       "    <tr>\n",
       "      <th>61</th>\n",
       "      <td>dr_mirzaeiii #BRG #BSC</td>\n",
       "      <td>@bridge_oracle Bridge Oracle is The Fantasic  ...</td>\n",
       "      <td>0</td>\n",
       "      <td>0</td>\n",
       "      <td>https://twitter.com/DMirzaeiii/status/13889260...</td>\n",
       "      <td>2021-05-02 18:39:03</td>\n",
       "      <td>0.000</td>\n",
       "      <td>0.000</td>\n",
       "    </tr>\n",
       "    <tr>\n",
       "      <th>62</th>\n",
       "      <td>FUTURE HUBBY⚔️🗡️⚒️</td>\n",
       "      <td>@DoctorEmto Inhuman 😢😢Interested in creating a...</td>\n",
       "      <td>0</td>\n",
       "      <td>0</td>\n",
       "      <td>https://twitter.com/austin_uwakwe/status/13889...</td>\n",
       "      <td>2021-05-02 18:36:39</td>\n",
       "      <td>0.250</td>\n",
       "      <td>0.500</td>\n",
       "    </tr>\n",
       "    <tr>\n",
       "      <th>63</th>\n",
       "      <td>⭐️James Hicks⭐️</td>\n",
       "      <td>You're going to be throwing away a whole lot o...</td>\n",
       "      <td>0</td>\n",
       "      <td>0</td>\n",
       "      <td>https://twitter.com/JamesHicksUK/status/138892...</td>\n",
       "      <td>2021-05-02 18:36:44</td>\n",
       "      <td>0.150</td>\n",
       "      <td>0.250</td>\n",
       "    </tr>\n",
       "  </tbody>\n",
       "</table>\n",
       "<p>64 rows × 8 columns</p>\n",
       "</div>"
      ],
      "text/plain": [
       "                    author                                             tweets  \\\n",
       "0              BEN BALLER™  Crypto currency is NOT a spectator sport!  Don...   \n",
       "1            CoinMarketCap  How do the largest cryptocurrencies, such as #...   \n",
       "2      Mohamed A. El-Erian  \" #Bitcoin: too good to miss or a bubble ready...   \n",
       "3           Forex Analytix  Take a Peek of the Week Ahead! https://t.co/06...   \n",
       "4                    Lefty  @D7ZZ77 @GoldTelegraph_ Hopefully decentralize...   \n",
       "..                     ...                                                ...   \n",
       "59       Making Tax Simple  @NischalShetty I think the main focus on use c...   \n",
       "60        Brian Soon-A-Lot  @elonmusk Maybe one where you’re like a Best B...   \n",
       "61  dr_mirzaeiii #BRG #BSC  @bridge_oracle Bridge Oracle is The Fantasic  ...   \n",
       "62      FUTURE HUBBY⚔️🗡️⚒️  @DoctorEmto Inhuman 😢😢Interested in creating a...   \n",
       "63         ⭐️James Hicks⭐️  You're going to be throwing away a whole lot o...   \n",
       "\n",
       "    likes  retweet                                                url  \\\n",
       "0    1589      363  https://twitter.com/BENBALLER/status/138926154...   \n",
       "1     167       32  https://twitter.com/CoinMarketCap/status/13889...   \n",
       "2     119       27  https://twitter.com/elerianm/status/1388957880...   \n",
       "3       9        7  https://twitter.com/forexanalytix/status/13889...   \n",
       "4       6        0  https://twitter.com/CryptoBananas/status/13889...   \n",
       "..    ...      ...                                                ...   \n",
       "59      0        0  https://twitter.com/MakingTaxSimpl1/status/138...   \n",
       "60      0        0  https://twitter.com/YoSounie/status/1388926062...   \n",
       "61      0        0  https://twitter.com/DMirzaeiii/status/13889260...   \n",
       "62      0        0  https://twitter.com/austin_uwakwe/status/13889...   \n",
       "63      0        0  https://twitter.com/JamesHicksUK/status/138892...   \n",
       "\n",
       "                 times  Polarity  Subjectivity  \n",
       "0  2021-05-03 16:52:19    -0.250         0.250  \n",
       "1  2021-05-02 18:45:01     0.261         0.389  \n",
       "2  2021-05-02 20:45:39     0.300         0.500  \n",
       "3  2021-05-02 18:41:29     0.000         0.000  \n",
       "4  2021-05-02 18:32:43     0.000         0.000  \n",
       "..                 ...       ...           ...  \n",
       "59 2021-05-02 18:39:17     0.208         0.267  \n",
       "60 2021-05-02 18:39:12     0.300         0.333  \n",
       "61 2021-05-02 18:39:03     0.000         0.000  \n",
       "62 2021-05-02 18:36:39     0.250         0.500  \n",
       "63 2021-05-02 18:36:44     0.150         0.250  \n",
       "\n",
       "[64 rows x 8 columns]"
      ]
     },
     "execution_count": 19,
     "metadata": {},
     "output_type": "execute_result"
    }
   ],
   "source": [
    "df"
   ]
  },
  {
   "cell_type": "code",
   "execution_count": null,
   "metadata": {},
   "outputs": [],
   "source": []
  }
 ],
 "metadata": {
  "kernelspec": {
   "display_name": "Python 3",
   "language": "python",
   "name": "python3"
  },
  "language_info": {
   "codemirror_mode": {
    "name": "ipython",
    "version": 3
   },
   "file_extension": ".py",
   "mimetype": "text/x-python",
   "name": "python",
   "nbconvert_exporter": "python",
   "pygments_lexer": "ipython3",
   "version": "3.7.4"
  }
 },
 "nbformat": 4,
 "nbformat_minor": 4
}
