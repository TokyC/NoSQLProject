{
 "cells": [
  {
   "cell_type": "markdown",
   "metadata": {},
   "source": [
    "# <center> Twitter </center>"
   ]
  },
  {
   "cell_type": "markdown",
   "metadata": {},
   "source": [
    "Recover tweet about crypto-currency"
   ]
  },
  {
   "cell_type": "markdown",
   "metadata": {},
   "source": [
    "## Import of libraries "
   ]
  },
  {
   "cell_type": "code",
   "execution_count": 1,
   "metadata": {},
   "outputs": [],
   "source": [
    "import tweepy\n",
    " \n",
    "import pandas as pd\n",
    "import csv\n",
    "import re \n",
    "import string\n",
    "import preprocessor as p"
   ]
  },
  {
   "cell_type": "markdown",
   "metadata": {},
   "source": [
    "## Algorithmes"
   ]
  },
  {
   "cell_type": "code",
   "execution_count": 2,
   "metadata": {},
   "outputs": [],
   "source": [
    "consumer_key = \"SyTCi8k0Iq6xe2EHCW3u7LQf5\"\n",
    "consumer_secret = \"fkzWMdZAM1xs1qsaG0UOF7ybdBhjBCSQQzy9zufFXUh79dt7Z9\"\n",
    "\n",
    "access_key = \"1358394444429549568-duw4ADP0EtOQT2XF0ATawgWp59hYRT\" \n",
    "access_secret =  \"nxp6X25aDJOIHgzPPtpc24A8iziYToT2C0cThO39RW9Yl\""
   ]
  },
  {
   "cell_type": "code",
   "execution_count": 3,
   "metadata": {},
   "outputs": [],
   "source": [
    "auth = tweepy.OAuthHandler(consumer_key, consumer_secret)\n",
    "auth.set_access_token(access_key, access_secret)\n",
    "api = tweepy.API(auth)"
   ]
  },
  {
   "cell_type": "code",
   "execution_count": 4,
   "metadata": {},
   "outputs": [],
   "source": [
    "def get_tweets(keyword):\n",
    "    all_tweets = []\n",
    "    for tweet in tweepy.Cursor(api.search, q=keyword,tweet_mode='extended' , lang='en').items(100):\n",
    "        all_tweets.append(tweet.full_text)\n",
    "    return all_tweets"
   ]
  },
  {
   "cell_type": "code",
   "execution_count": 5,
   "metadata": {},
   "outputs": [],
   "source": [
    "def clean_tweets(all_tweets):\n",
    "    tweets_clean = []\n",
    "    for tweet in all_tweets:\n",
    "        tweets_clean.append(p.clean(tweet))\n",
    "        \n",
    "    return tweets_clean"
   ]
  },
  {
   "cell_type": "markdown",
   "metadata": {},
   "source": [
    "## Main "
   ]
  },
  {
   "cell_type": "code",
   "execution_count": 6,
   "metadata": {},
   "outputs": [
    {
     "name": "stdout",
     "output_type": "stream",
     "text": [
      "[': New Airdrop: O3 Swap (O3)Total Reward: O3 ($10,000)Reward: $3 worth O3Rate: Focus: Distribution will', ': Most relaxeing video to watch on a cozy Sunday morning | | Buhari | Manchester United | bu', 'CONGRATULATIONS TO ALL MEMBERS THAT WON OUR GAME FOR MORE ENQUIRIES WHATSAPP+2349130565537', 'Stay tuned the on', 'Doge... another run... to the moon this time getting almost even Nava', ': This Dude wont make Heaven | Satan | Buhari | | Obaseki | Manchester United | Uganda', ': Most relaxeing video to watch on a cozy Sunday morning | | Buhari | Manchester United | bu', ': Please RT when it crosses your TLChildren and adults Shoes at an affordable prices of k- k Messi', 'Follow Im following back ASAP famz', ': Learn advanced techniques of photography and video making and give strength to your hobby. Visit Now :', ': This throwback song will make your day ALMIGHTY Fulani Uganda', ': This Dude wont make Heaven | Satan | Buhari | | Obaseki | Manchester United | Uganda', ': This is why you should invest in low gas price under the radar diversifying your po', \": It's very easy for a NIGERIAN to start a FAKE LIFE, but hard to MAINTAIN! Someone needs to see this, RETWEET!\", ': In crypto dips are opportunities for holders and traders $btc $ksm $matic $vet $ksm $vtho $eth $ada $inch', ': New Airdrop: O3 Swap (O3)Total Reward: O3 ($10,000)Reward: $3 worth O3Rate: Focus: Distribution will', ': This Dude wont make Heaven | Satan | Buhari | | Obaseki | Manchester United | Uganda', ': This Dude wont make Heaven | Satan | Buhari | | Obaseki | Manchester United | Uganda', 'PipeFlare - free and - free games and earn', \": Welcome to church Some People don't sleep to rest, they sleep to escape pain and sadness.May God heal every broken heart\", ': This Dude wont make Heaven | Satan | Buhari | | Obaseki | Manchester United | Uganda', ': Wizkid FC, I need just a RETWEET from you! Here is my impressionism painting I did. | Satan | Buhari |', 'Satan Obaseki Manchester United Ezra Nigeria Puig Our God You Lord Great Ife peter obi', ': This throwback song will make your day ALMIGHTY Fulani Uganda', 'Word is going around that an unknown wallet moved mill worth of dogecoin into another unknown wallet. Could you imagine what will happen when all the doge holders on Robinhood get their own crypto wallet?', ': SALES ALERT weeks old Broilers Location: Ibadan Medications up to date Price: /birdDM:', ': New Airdrop: O3 Swap (O3)Total Reward: O3 ($10,000)Reward: $3 worth O3Rate: Focus: Distribution will', ': New Airdrop: O3 Swap (O3)Total Reward: O3 ($10,000)Reward: $3 worth O3Rate: Focus: Distribution will', ': New Airdrop: O3 Swap (O3)Total Reward: O3 ($10,000)Reward: $3 worth O3Rate: Focus: Distribution will', ': New Airdrop: O3 Swap (O3)Total Reward: O3 ($10,000)Reward: $3 worth O3Rate: Focus: Distribution will', ': going to the moon is inevitable . is a legitimate crypto with lightening fast transactions, low fees,', \": Holders ! We are ready to land on the moon! Don't miss this opportunity! Shibaswap! Stay tuned\", ': $JASMY Deposit and Trading Contest JASMY giveaway! Trading fee % off for new user Use this link', ': Wizkid FC, I need just a RETWEET from you! Here is my impressionism painting I did. | Satan | Buhari |', ': With this last drop the picture is now much clearer for . It seems to be repeating its Feb-21 scenario and this is m', ': New Giveaway of Million Token Winners - MillionRULES1 Follow &amp;', 'Good Project', ': BTA Protocol Get NFTs From Slaking &amp; Earning $BTAP In Their Education Ecosystem!', \": I'm a good girl, Happy Sunday .. .Lekki girls How petty are you Obaseki\", ': New Airdrop: O3 Swap (O3)Total Reward: O3 ($10,000)Reward: $3 worth O3Rate: Focus: Distribution will', ': Most relaxeing video to watch on a cozy Sunday morning | | Buhari | Manchester United | bu', ': New Airdrop: O3 Swap (O3)Total Reward: O3 ($10,000)Reward: $3 worth O3Rate: Focus: Distribution will', ': SO FOR THE ! IMAGINE AN EXCHANGE FOR ALL THE OTHER COINS WITH SIMILAR TOKENOMICS?', ': New Airdrop: O3 Swap (O3)Total Reward: O3 ($10,000)Reward: $3 worth O3Rate: Focus: Distribution will', ': This Dude wont make Heaven | Satan | Buhari | | Obaseki | Manchester United | Uganda', ': % of ppl are willing to help $smart! Join our discord, help us and get locked rewards! give $smart', ': New Airdrop: O3 Swap (O3)Total Reward: O3 ($10,000)Reward: $3 worth O3Rate: Focus: Distribution will', ': Hello Twitter, my name is Alvan Chinaka. I make perfumes and the name of my perfume brand is St. Alv. Please while talkin', 'Project is Good', \": It's very easy for a NIGERIAN to start a FAKE LIFE, but hard to MAINTAIN! Someone needs to see this, RETWEET!\", \": The I want to be $ to go to language school.(I'm waiting.)1) )\", ': New Giveaway of Million Token Winners - MillionRULES1 Follow &amp;', ': This Dude wont make Heaven | Satan | Buhari | | Obaseki | Manchester United | Uganda', ': $2.50 $1 $10Before Monday', ': NFT Retro Series Airdrop!Over $ in rewards + bonus new cardsFollow usLike + RetweetDrop your address in the co', 'Most movies are all about dance | | |', \": Video: Lagos car owner heard wen for daring to park his Toyota Corolla '05 in front on a Brabus G Wagon\", ': Get Ready soon Safemoon to the MOON everybody..', \": I beg you in the name of God don't pass without retweeting my hustle k eachLast frame : kAvailavle only on pre order\", \": It's very easy for a NIGERIAN to start a FAKE LIFE, but hard to MAINTAIN! Someone needs to see this, RETWEET!\", ': O M G... Guys name Tunde are the true definition of Yoruba demon Buhari Obaseki Onoja Yahaya Bel', ': Altcoin Market Cap has reached a new All Time High times over the past days', \": My name is Olawoyin, I'm a Nigeria Visual Artist and a Freelance professional Photographer.. kindly retweet, my clients a\", \": It's very easy for a NIGERIAN to start a FAKE LIFE, but hard to MAINTAIN! Someone needs to see this, RETWEET!\", \": Let's do a poll so I can see how many of you are enthusiasts and actually own some coins?\", 'What to do today on the crypto market ?', ': New Airdrop: O3 Swap (O3)Total Reward: O3 ($10,000)Reward: $3 worth O3Rate: Focus: Distribution will', ': Good morningPlease kindly retweetAdidas Sanme \"Reflective Glow\"Price:28,000Sizes:40-45WhatsApp:', \"Micro-Breakout!MICRO-DUMP!!BYBIT:BTCUSDPrice: LIVE Streaming /7 ONLY Trade the Breakouts! Avoid Trading During 'White Candle' Consolidation Zones!\", ': This Dude wont make Heaven | Satan | Buhari | | Obaseki | Manchester United | Uganda', ': I just bought myself a little gift paid cash obviously however it was KLEVER to XRP straight to', 'I will participate in', 'crypto is growing in the world , I am just interested in the valuation of the coin because it was created from a fantastic ecosystem and a superior blockchain chain. Thank you', \"Let's do a poll so I can see how many of you are enthusiasts and actually own some coins?\", ': Cop your dope kicks1&amp;2-30k3-33k4-28kWhatsApp: Obaseki Buhari Je', 'noticed that BNB was once at in . If one had bought it with $100 then, the person should have like $1,800,000+ right now if the person HODLED till now. Just wow!!! Amazing shit!!!', \": It's very easy for a NIGERIAN to start a FAKE LIFE, but hard to MAINTAIN! Someone needs to see this, RETWEET!\", ': Come and see your favorite Influencer oo. What is he sucking ?? Buhari Obaseki https://', ': New Giveaway of Million Token Winners - MillionRULES1 Follow &amp;', ': O M G... Guys name Tunde are the true definition of Yoruba demon Buhari Obaseki Onoja Yahaya Bel', ': New Giveaway of Million Token Winners - MillionRULES1 Follow &amp;', \"$DOGE Let's go SATS!$eth $btc $xrp $ardr $grs $nkn $mdt $vite $stpt $ark $waves $drep $tko $inj $hoge $flm $hive $stmx $fun $kmd $auto $powr $ogn $tct\", ': Airdrop: Mifty Swap Value: $ Referral: $1 + MFY minutesTalk with the telegram bot:', 'Get Ready soon Safemoon to the MOON everybody..', 'Labs AirdropFree token $3 Labs jaringan nep5( Neo )Step Join Start bot : Join telegram grup and channel3 Follow Twitter and retweet4 Masukkan wallet Neo wallet Web wallet ()5 Done', 'Digital ruble highest form of money, Russia says', ': I have these bags at an affordable prices.. Kindly RT and patronize k-7k Messi Ron', ': New Airdrop: O3 Swap (O3)Total Reward: O3 ($10,000)Reward: $3 worth O3Rate: Focus: Distribution will', ': bitcoin leveraged x to bitcoin. Bitcoin goes up $18 I double my investment. has a viable working model', ': This Dude wont make Heaven | Satan | Buhari | | Obaseki | Manchester United | Uganda', ': New Airdrop: O3 Swap (O3)Total Reward: O3 ($10,000)Reward: $3 worth O3Rate: Focus: Distribution will', ': This Dude wont make Heaven | Satan | Buhari | | Obaseki | Manchester United | Uganda', ': $Shib deserves to be on this list and we know it!! Cmon , lets get keep spreading the word and get to', 'Can anyone loan. Me on $ worth if BTC. I .....', ': Airdrop: Mifty Swap Value: $ Referral: $1 + MFY minutesTalk with the telegram bot:', ': Bad boys, bad boys whatcha gonna do?Whatcha gonna do when they come for you?9th May, Its inevitable! We will conquer t', ': Airdrop&gt;&gt;Join: , like &amp;QuoteTweet this Tweet with:\" I\\'ll participate\", leave your BSC addre', \": For those of you who didn't make it to church today Wait for it! | | Satan| Futa |\", ': Good morning famThis is my hustle Kindly retweet and patronize me abeg u8k each one location KanoWe deliver nationwide', ': New Airdrop: FIFO Finance (FIFO)Reward: FIFO ($50)Rate: Focus: Distribution start after weeks listing a']\n"
     ]
    }
   ],
   "source": [
    "if __name__ == \"__main__\":\n",
    "    recoverTweets = get_tweets(\"#cryptocurrency\")\n",
    "    cleanTweets = clean_tweets(recoverTweets)\n",
    "    print(cleanTweets)"
   ]
  },
  {
   "cell_type": "code",
   "execution_count": null,
   "metadata": {},
   "outputs": [],
   "source": []
  }
 ],
 "metadata": {
  "kernelspec": {
   "display_name": "Python 3",
   "language": "python",
   "name": "python3"
  },
  "language_info": {
   "codemirror_mode": {
    "name": "ipython",
    "version": 3
   },
   "file_extension": ".py",
   "mimetype": "text/x-python",
   "name": "python",
   "nbconvert_exporter": "python",
   "pygments_lexer": "ipython3",
   "version": "3.7.4"
  }
 },
 "nbformat": 4,
 "nbformat_minor": 4
}
