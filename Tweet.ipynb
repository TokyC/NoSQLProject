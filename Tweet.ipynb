{
 "cells": [
  {
   "cell_type": "markdown",
   "metadata": {},
   "source": [
    "# <center> Twitter </center>"
   ]
  },
  {
   "cell_type": "markdown",
   "metadata": {},
   "source": [
    "Recover tweet about crypto-currency"
   ]
  },
  {
   "cell_type": "markdown",
   "metadata": {},
   "source": [
    "## Import of libraries "
   ]
  },
  {
   "cell_type": "code",
   "execution_count": 1,
   "metadata": {},
   "outputs": [],
   "source": [
    "import tweepy\n",
    "import csv\n",
    "import pandas as pd\n",
    "import csv\n",
    "import re \n",
    "import string\n",
    "import preprocessor as p\n",
    "from textblob import TextBlob\n",
    "import matplotlib.pyplot as plt\n",
    "import seaborn as sns\n",
    "from nltk.stem.snowball import SnowballStemmer\n",
    "import nltk\n",
    "import markdown"
   ]
  },
  {
   "cell_type": "markdown",
   "metadata": {},
   "source": [
    "## Algorithmes"
   ]
  },
  {
   "cell_type": "code",
   "execution_count": 2,
   "metadata": {},
   "outputs": [],
   "source": [
    "consumer_key = \"sv62m7FUziAOHGtplgNYQ0TEi\"\n",
    "consumer_secret = \"67TMtXeLLSwjxjhRdhZkc7TuAlJRTmSu4q2KOUbuN1oHzlcdZ0\"\n",
    "\n",
    "access_key = \"1358394444429549568-IDbGzN51cUyZnnh0iWacK8vIbKnr2W\" \n",
    "access_secret =  \"6fwj7lLVGSThRax5R6Mrde5xBZHPCpeOjE2AoatIUhIOc\""
   ]
  },
  {
   "cell_type": "code",
   "execution_count": 3,
   "metadata": {},
   "outputs": [],
   "source": [
    "auth = tweepy.OAuthHandler(consumer_key, consumer_secret)\n",
    "auth.set_access_token(access_key, access_secret)\n",
    "api = tweepy.API(auth)"
   ]
  },
  {
   "cell_type": "markdown",
   "metadata": {},
   "source": [
    "result_type : \n",
    "- mixed : include both popular and real time results in the response\n",
    "- recent : return only the most recent results in the response\n",
    "- popular : return only the most popular results in the response"
   ]
  },
  {
   "cell_type": "markdown",
   "metadata": {},
   "source": [
    "### to get several fields in the query  \n",
    "https://developer.twitter.com/en/docs/labs/recent-search/guides/search-queries"
   ]
  },
  {
   "cell_type": "code",
   "execution_count": 4,
   "metadata": {},
   "outputs": [],
   "source": [
    "all_tweets = []\n",
    "likes = []\n",
    "created = []\n",
    "author = []\n",
    "retweet = []\n",
    "url =[]\n",
    "search_terms = \"crypto currency\" or \"AngeloBTC\"\n",
    "\n",
    "for tweet in tweepy.Cursor(api.search, q=search_terms, tweet_mode='extended' , lang='en', \n",
    "                           result_type='recent').items(100):\n",
    "    #print(dir(tweet))\n",
    "    author.append(tweet.author.name)\n",
    "    all_tweets.append(tweet.full_text)\n",
    "    likes.append(tweet.favorite_count)\n",
    "    retweet.append(tweet.retweet_count)\n",
    "    url.append(f\"https://twitter.com/{tweet.user.screen_name}/status/{tweet.id}\")\n",
    "    created.append(tweet.created_at)"
   ]
  },
  {
   "cell_type": "code",
   "execution_count": 5,
   "metadata": {
    "scrolled": true
   },
   "outputs": [],
   "source": [
    "df = pd.DataFrame({'author':author ,'tweets':all_tweets ,'likes':likes ,'retweet':retweet\n",
    "                   ,'url':url ,'times':created})"
   ]
  },
  {
   "cell_type": "raw",
   "metadata": {},
   "source": [
    "df = df[~df.tweets.str.contains(\"RT\")]"
   ]
  },
  {
   "cell_type": "code",
   "execution_count": 6,
   "metadata": {
    "scrolled": true
   },
   "outputs": [],
   "source": [
    "df = df.sort_values(by=['likes'],ascending=False)"
   ]
  },
  {
   "cell_type": "code",
   "execution_count": 7,
   "metadata": {},
   "outputs": [],
   "source": [
    "df = df.reset_index(drop=True)"
   ]
  },
  {
   "cell_type": "raw",
   "metadata": {},
   "source": [
    "df['sentiment'] = df['tweets'].map(lambda txt: TextBlob(txt).sentiment.polarity)"
   ]
  },
  {
   "cell_type": "code",
   "execution_count": 8,
   "metadata": {},
   "outputs": [],
   "source": [
    "def getTextPolarity(txt):\n",
    "    return TextBlob(txt).sentiment.polarity"
   ]
  },
  {
   "cell_type": "code",
   "execution_count": 9,
   "metadata": {},
   "outputs": [],
   "source": [
    "def getTextSubjectivity(txt):\n",
    "    return TextBlob(txt).sentiment.subjectivity"
   ]
  },
  {
   "cell_type": "code",
   "execution_count": 10,
   "metadata": {},
   "outputs": [],
   "source": [
    "df['Polarity'] = df['tweets'].apply(getTextPolarity)\n",
    "df['Subjectivity'] = df['tweets'].apply(getTextSubjectivity)"
   ]
  },
  {
   "cell_type": "code",
   "execution_count": 11,
   "metadata": {},
   "outputs": [
    {
     "data": {
      "text/html": [
       "<div>\n",
       "<style scoped>\n",
       "    .dataframe tbody tr th:only-of-type {\n",
       "        vertical-align: middle;\n",
       "    }\n",
       "\n",
       "    .dataframe tbody tr th {\n",
       "        vertical-align: top;\n",
       "    }\n",
       "\n",
       "    .dataframe thead th {\n",
       "        text-align: right;\n",
       "    }\n",
       "</style>\n",
       "<table border=\"1\" class=\"dataframe\">\n",
       "  <thead>\n",
       "    <tr style=\"text-align: right;\">\n",
       "      <th></th>\n",
       "      <th>author</th>\n",
       "      <th>tweets</th>\n",
       "      <th>likes</th>\n",
       "      <th>retweet</th>\n",
       "      <th>url</th>\n",
       "      <th>times</th>\n",
       "      <th>Polarity</th>\n",
       "      <th>Subjectivity</th>\n",
       "    </tr>\n",
       "  </thead>\n",
       "  <tbody>\n",
       "    <tr>\n",
       "      <th>0</th>\n",
       "      <td>Matthew Tincher</td>\n",
       "      <td>@itsEdisonCole @safemoon Not true, the final n...</td>\n",
       "      <td>2</td>\n",
       "      <td>0</td>\n",
       "      <td>https://twitter.com/AllHailMat/status/13871303...</td>\n",
       "      <td>2021-04-27 19:43:31</td>\n",
       "      <td>-0.1150</td>\n",
       "      <td>0.570000</td>\n",
       "    </tr>\n",
       "    <tr>\n",
       "      <th>1</th>\n",
       "      <td>Crypto Briefing</td>\n",
       "      <td>TIME Magazine has listed @Coinbase and Digital...</td>\n",
       "      <td>2</td>\n",
       "      <td>0</td>\n",
       "      <td>https://twitter.com/Crypto_Briefing/status/138...</td>\n",
       "      <td>2021-04-27 19:51:44</td>\n",
       "      <td>0.2500</td>\n",
       "      <td>0.250000</td>\n",
       "    </tr>\n",
       "    <tr>\n",
       "      <th>2</th>\n",
       "      <td>:/</td>\n",
       "      <td>crypto currency is actually so horrible omfg i...</td>\n",
       "      <td>1</td>\n",
       "      <td>0</td>\n",
       "      <td>https://twitter.com/chroIIoIucifrr/status/1387...</td>\n",
       "      <td>2021-04-27 19:47:59</td>\n",
       "      <td>-0.8500</td>\n",
       "      <td>0.833333</td>\n",
       "    </tr>\n",
       "    <tr>\n",
       "      <th>3</th>\n",
       "      <td>FitBody4Ever</td>\n",
       "      <td>Affiliate marketing online approach ideas for ...</td>\n",
       "      <td>1</td>\n",
       "      <td>0</td>\n",
       "      <td>https://twitter.com/FitBody4Ever/status/138713...</td>\n",
       "      <td>2021-04-27 19:44:41</td>\n",
       "      <td>0.0000</td>\n",
       "      <td>0.000000</td>\n",
       "    </tr>\n",
       "    <tr>\n",
       "      <th>4</th>\n",
       "      <td>Nazım Açıcı</td>\n",
       "      <td>RT @gate_io: 🌊 https://t.co/8kWqgEeplL Startup...</td>\n",
       "      <td>0</td>\n",
       "      <td>194</td>\n",
       "      <td>https://twitter.com/mnazimacici/status/1387133...</td>\n",
       "      <td>2021-04-27 19:54:48</td>\n",
       "      <td>0.0000</td>\n",
       "      <td>0.000000</td>\n",
       "    </tr>\n",
       "    <tr>\n",
       "      <th>...</th>\n",
       "      <td>...</td>\n",
       "      <td>...</td>\n",
       "      <td>...</td>\n",
       "      <td>...</td>\n",
       "      <td>...</td>\n",
       "      <td>...</td>\n",
       "      <td>...</td>\n",
       "      <td>...</td>\n",
       "    </tr>\n",
       "    <tr>\n",
       "      <th>95</th>\n",
       "      <td>Ctrl+P</td>\n",
       "      <td>RT @BTC_Archive: Iran’s central bank says cryp...</td>\n",
       "      <td>0</td>\n",
       "      <td>295</td>\n",
       "      <td>https://twitter.com/Ctrl__Print/status/1387131...</td>\n",
       "      <td>2021-04-27 19:49:16</td>\n",
       "      <td>0.0625</td>\n",
       "      <td>0.625000</td>\n",
       "    </tr>\n",
       "    <tr>\n",
       "      <th>96</th>\n",
       "      <td>Work With James</td>\n",
       "      <td>Why waste time before  growing your expectatio...</td>\n",
       "      <td>0</td>\n",
       "      <td>0</td>\n",
       "      <td>https://twitter.com/workswithjames/status/1387...</td>\n",
       "      <td>2021-04-27 19:49:35</td>\n",
       "      <td>-0.2000</td>\n",
       "      <td>0.000000</td>\n",
       "    </tr>\n",
       "    <tr>\n",
       "      <th>97</th>\n",
       "      <td>Sevketinho</td>\n",
       "      <td>RT @gate_io: 🌊 https://t.co/8kWqgEeplL Startup...</td>\n",
       "      <td>0</td>\n",
       "      <td>194</td>\n",
       "      <td>https://twitter.com/sevketinho/status/13871319...</td>\n",
       "      <td>2021-04-27 19:49:51</td>\n",
       "      <td>0.0000</td>\n",
       "      <td>0.000000</td>\n",
       "    </tr>\n",
       "    <tr>\n",
       "      <th>98</th>\n",
       "      <td>Kawazaki</td>\n",
       "      <td>RT @gate_io: 🌊 https://t.co/8kWqgEeplL Startup...</td>\n",
       "      <td>0</td>\n",
       "      <td>194</td>\n",
       "      <td>https://twitter.com/Kawazak78017947/status/138...</td>\n",
       "      <td>2021-04-27 19:50:23</td>\n",
       "      <td>0.0000</td>\n",
       "      <td>0.000000</td>\n",
       "    </tr>\n",
       "    <tr>\n",
       "      <th>99</th>\n",
       "      <td>Buqser</td>\n",
       "      <td>RT @gate_io: 🌊 https://t.co/8kWqgEeplL Startup...</td>\n",
       "      <td>0</td>\n",
       "      <td>194</td>\n",
       "      <td>https://twitter.com/Erol24966359/status/138712...</td>\n",
       "      <td>2021-04-27 19:36:20</td>\n",
       "      <td>0.0000</td>\n",
       "      <td>0.000000</td>\n",
       "    </tr>\n",
       "  </tbody>\n",
       "</table>\n",
       "<p>100 rows × 8 columns</p>\n",
       "</div>"
      ],
      "text/plain": [
       "             author                                             tweets  likes  \\\n",
       "0   Matthew Tincher  @itsEdisonCole @safemoon Not true, the final n...      2   \n",
       "1   Crypto Briefing  TIME Magazine has listed @Coinbase and Digital...      2   \n",
       "2                :/  crypto currency is actually so horrible omfg i...      1   \n",
       "3      FitBody4Ever  Affiliate marketing online approach ideas for ...      1   \n",
       "4       Nazım Açıcı  RT @gate_io: 🌊 https://t.co/8kWqgEeplL Startup...      0   \n",
       "..              ...                                                ...    ...   \n",
       "95           Ctrl+P  RT @BTC_Archive: Iran’s central bank says cryp...      0   \n",
       "96  Work With James  Why waste time before  growing your expectatio...      0   \n",
       "97       Sevketinho  RT @gate_io: 🌊 https://t.co/8kWqgEeplL Startup...      0   \n",
       "98         Kawazaki  RT @gate_io: 🌊 https://t.co/8kWqgEeplL Startup...      0   \n",
       "99           Buqser  RT @gate_io: 🌊 https://t.co/8kWqgEeplL Startup...      0   \n",
       "\n",
       "    retweet                                                url  \\\n",
       "0         0  https://twitter.com/AllHailMat/status/13871303...   \n",
       "1         0  https://twitter.com/Crypto_Briefing/status/138...   \n",
       "2         0  https://twitter.com/chroIIoIucifrr/status/1387...   \n",
       "3         0  https://twitter.com/FitBody4Ever/status/138713...   \n",
       "4       194  https://twitter.com/mnazimacici/status/1387133...   \n",
       "..      ...                                                ...   \n",
       "95      295  https://twitter.com/Ctrl__Print/status/1387131...   \n",
       "96        0  https://twitter.com/workswithjames/status/1387...   \n",
       "97      194  https://twitter.com/sevketinho/status/13871319...   \n",
       "98      194  https://twitter.com/Kawazak78017947/status/138...   \n",
       "99      194  https://twitter.com/Erol24966359/status/138712...   \n",
       "\n",
       "                 times  Polarity  Subjectivity  \n",
       "0  2021-04-27 19:43:31   -0.1150      0.570000  \n",
       "1  2021-04-27 19:51:44    0.2500      0.250000  \n",
       "2  2021-04-27 19:47:59   -0.8500      0.833333  \n",
       "3  2021-04-27 19:44:41    0.0000      0.000000  \n",
       "4  2021-04-27 19:54:48    0.0000      0.000000  \n",
       "..                 ...       ...           ...  \n",
       "95 2021-04-27 19:49:16    0.0625      0.625000  \n",
       "96 2021-04-27 19:49:35   -0.2000      0.000000  \n",
       "97 2021-04-27 19:49:51    0.0000      0.000000  \n",
       "98 2021-04-27 19:50:23    0.0000      0.000000  \n",
       "99 2021-04-27 19:36:20    0.0000      0.000000  \n",
       "\n",
       "[100 rows x 8 columns]"
      ]
     },
     "execution_count": 11,
     "metadata": {},
     "output_type": "execute_result"
    }
   ],
   "source": [
    "df"
   ]
  }
 ],
 "metadata": {
  "kernelspec": {
   "display_name": "Python 3",
   "language": "python",
   "name": "python3"
  },
  "language_info": {
   "codemirror_mode": {
    "name": "ipython",
    "version": 3
   },
   "file_extension": ".py",
   "mimetype": "text/x-python",
   "name": "python",
   "nbconvert_exporter": "python",
   "pygments_lexer": "ipython3",
   "version": "3.7.4"
  }
 },
 "nbformat": 4,
 "nbformat_minor": 4
}
