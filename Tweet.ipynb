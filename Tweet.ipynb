{
 "cells": [
  {
   "cell_type": "markdown",
   "metadata": {},
   "source": [
    "# <center> Twitter </center>"
   ]
  },
  {
   "cell_type": "markdown",
   "metadata": {},
   "source": [
    "Recover tweet about crypto-currency"
   ]
  },
  {
   "cell_type": "markdown",
   "metadata": {},
   "source": [
    "## Import of libraries "
   ]
  },
  {
   "cell_type": "code",
   "execution_count": 1,
   "metadata": {},
   "outputs": [],
   "source": [
    "import tweepy\n",
    "import csv\n",
    "import pandas as pd\n",
    "import csv\n",
    "import re \n",
    "import string\n",
    "import preprocessor as p\n",
    "from textblob import TextBlob"
   ]
  },
  {
   "cell_type": "markdown",
   "metadata": {},
   "source": [
    "## Algorithmes"
   ]
  },
  {
   "cell_type": "code",
   "execution_count": 2,
   "metadata": {},
   "outputs": [],
   "source": [
    "consumer_key = \"SyTCi8k0Iq6xe2EHCW3u7LQf5\"\n",
    "consumer_secret = \"fkzWMdZAM1xs1qsaG0UOF7ybdBhjBCSQQzy9zufFXUh79dt7Z9\"\n",
    "\n",
    "access_key = \"1358394444429549568-duw4ADP0EtOQT2XF0ATawgWp59hYRT\" \n",
    "access_secret =  \"nxp6X25aDJOIHgzPPtpc24A8iziYToT2C0cThO39RW9Yl\""
   ]
  },
  {
   "cell_type": "code",
   "execution_count": 3,
   "metadata": {},
   "outputs": [],
   "source": [
    "auth = tweepy.OAuthHandler(consumer_key, consumer_secret)\n",
    "auth.set_access_token(access_key, access_secret)\n",
    "api = tweepy.API(auth)"
   ]
  },
  {
   "cell_type": "markdown",
   "metadata": {},
   "source": [
    "result_type : \n",
    "- mixed : include both popular and real time results in the response\n",
    "- recent : return only the most recent results in the response\n",
    "- popular : return only the most popular results in the response"
   ]
  },
  {
   "cell_type": "code",
   "execution_count": 4,
   "metadata": {},
   "outputs": [],
   "source": [
    "all_tweets = []\n",
    "likes = []\n",
    "created = []\n",
    "author = []\n",
    "retweet = []\n",
    "url =[]\n",
    "search_terms = [\"crypto currency\",\"elon musk\"]\n",
    "\n",
    "for tweet in tweepy.Cursor(api.search, q=\"crypto currency\", tweet_mode='extended' , lang='en', \n",
    "                           result_type='mixed').items(300):\n",
    "    #print(dir(tweet))\n",
    "    author.append(tweet.author.name)\n",
    "    all_tweets.append(tweet.full_text)\n",
    "    likes.append(tweet.favorite_count)\n",
    "    retweet.append(tweet.retweet_count)\n",
    "    url.append(f\"https://twitter.com/{tweet.user.screen_name}/status/{tweet.id}\")\n",
    "    created.append(tweet.created_at)"
   ]
  },
  {
   "cell_type": "code",
   "execution_count": 5,
   "metadata": {
    "scrolled": true
   },
   "outputs": [],
   "source": [
    "df = pd.DataFrame({'author':author ,'tweets':all_tweets ,'likes':likes ,'retweet':retweet\n",
    "                   ,'url':url ,'times':created})"
   ]
  },
  {
   "cell_type": "raw",
   "metadata": {},
   "source": [
    "df = df[~df.tweets.str.contains(\"RT\")]"
   ]
  },
  {
   "cell_type": "code",
   "execution_count": 6,
   "metadata": {
    "scrolled": true
   },
   "outputs": [],
   "source": [
    "df = df.sort_values(by=['likes'],ascending=False)"
   ]
  },
  {
   "cell_type": "code",
   "execution_count": 7,
   "metadata": {},
   "outputs": [],
   "source": [
    "df = df.reset_index(drop=True)"
   ]
  },
  {
   "cell_type": "raw",
   "metadata": {},
   "source": [
    "df['sentiment'] = df['tweets'].map(lambda txt: TextBlob(txt).sentiment.polarity)"
   ]
  },
  {
   "cell_type": "code",
   "execution_count": 8,
   "metadata": {},
   "outputs": [],
   "source": [
    "def getTextPolarity(txt):\n",
    "    return TextBlob(txt).sentiment.polarity"
   ]
  },
  {
   "cell_type": "code",
   "execution_count": 9,
   "metadata": {},
   "outputs": [],
   "source": [
    "def getTextSubjectivity(txt):\n",
    "    return TextBlob(txt).sentiment.subjectivity"
   ]
  },
  {
   "cell_type": "code",
   "execution_count": 10,
   "metadata": {},
   "outputs": [],
   "source": [
    "df['Polarity'] = df['tweets'].apply(getTextPolarity)\n",
    "df['Subjectivity'] = df['tweets'].apply(getTextSubjectivity)"
   ]
  },
  {
   "cell_type": "code",
   "execution_count": 11,
   "metadata": {},
   "outputs": [
    {
     "data": {
      "text/html": [
       "<div>\n",
       "<style scoped>\n",
       "    .dataframe tbody tr th:only-of-type {\n",
       "        vertical-align: middle;\n",
       "    }\n",
       "\n",
       "    .dataframe tbody tr th {\n",
       "        vertical-align: top;\n",
       "    }\n",
       "\n",
       "    .dataframe thead th {\n",
       "        text-align: right;\n",
       "    }\n",
       "</style>\n",
       "<table border=\"1\" class=\"dataframe\">\n",
       "  <thead>\n",
       "    <tr style=\"text-align: right;\">\n",
       "      <th></th>\n",
       "      <th>author</th>\n",
       "      <th>tweets</th>\n",
       "      <th>likes</th>\n",
       "      <th>retweet</th>\n",
       "      <th>url</th>\n",
       "      <th>times</th>\n",
       "      <th>Polarity</th>\n",
       "      <th>Subjectivity</th>\n",
       "    </tr>\n",
       "  </thead>\n",
       "  <tbody>\n",
       "    <tr>\n",
       "      <th>0</th>\n",
       "      <td>Nassim Nicholas Taleb</td>\n",
       "      <td>WHAT WE WANT CRYPTO &amp;amp; CURRENCY FOR:\\n\\n1) ...</td>\n",
       "      <td>2592</td>\n",
       "      <td>396</td>\n",
       "      <td>https://twitter.com/nntaleb/status/13824464785...</td>\n",
       "      <td>2021-04-14 21:31:39</td>\n",
       "      <td>-0.450000</td>\n",
       "      <td>0.350000</td>\n",
       "    </tr>\n",
       "    <tr>\n",
       "      <th>1</th>\n",
       "      <td>BEN BALLER™</td>\n",
       "      <td>There will be many trillionaires in our lifeti...</td>\n",
       "      <td>1696</td>\n",
       "      <td>229</td>\n",
       "      <td>https://twitter.com/BENBALLER/status/138247841...</td>\n",
       "      <td>2021-04-14 23:38:35</td>\n",
       "      <td>0.187500</td>\n",
       "      <td>0.437500</td>\n",
       "    </tr>\n",
       "    <tr>\n",
       "      <th>2</th>\n",
       "      <td>Kat Cole</td>\n",
       "      <td>Long on cannabis, super-healthy food &amp;amp; bev...</td>\n",
       "      <td>763</td>\n",
       "      <td>57</td>\n",
       "      <td>https://twitter.com/KatColeATL/status/13823282...</td>\n",
       "      <td>2021-04-14 13:41:43</td>\n",
       "      <td>-0.016667</td>\n",
       "      <td>0.675000</td>\n",
       "    </tr>\n",
       "    <tr>\n",
       "      <th>3</th>\n",
       "      <td>dom</td>\n",
       "      <td>the mmo player’s crypto primer\\n\\nwallet - inv...</td>\n",
       "      <td>426</td>\n",
       "      <td>75</td>\n",
       "      <td>https://twitter.com/dhof/status/13823432009925...</td>\n",
       "      <td>2021-04-14 14:41:16</td>\n",
       "      <td>0.000000</td>\n",
       "      <td>0.000000</td>\n",
       "    </tr>\n",
       "    <tr>\n",
       "      <th>4</th>\n",
       "      <td>Tuppence Pennyapple III</td>\n",
       "      <td>Currently designing a t-shirt I can wear on al...</td>\n",
       "      <td>177</td>\n",
       "      <td>2</td>\n",
       "      <td>https://twitter.com/fabulucy/status/1382331019...</td>\n",
       "      <td>2021-04-14 13:52:52</td>\n",
       "      <td>-0.200000</td>\n",
       "      <td>0.500000</td>\n",
       "    </tr>\n",
       "    <tr>\n",
       "      <th>...</th>\n",
       "      <td>...</td>\n",
       "      <td>...</td>\n",
       "      <td>...</td>\n",
       "      <td>...</td>\n",
       "      <td>...</td>\n",
       "      <td>...</td>\n",
       "      <td>...</td>\n",
       "      <td>...</td>\n",
       "    </tr>\n",
       "    <tr>\n",
       "      <th>295</th>\n",
       "      <td>SKMLM1989</td>\n",
       "      <td>RT @cr4zi3st: \"Bitcoin’s global reach &amp;amp; ne...</td>\n",
       "      <td>0</td>\n",
       "      <td>1578</td>\n",
       "      <td>https://twitter.com/SATYAMS03811313/status/138...</td>\n",
       "      <td>2021-04-14 14:11:04</td>\n",
       "      <td>0.000000</td>\n",
       "      <td>0.000000</td>\n",
       "    </tr>\n",
       "    <tr>\n",
       "      <th>296</th>\n",
       "      <td>Nuhman Shibily N</td>\n",
       "      <td>RT @Quickxprotocol: QuickX’s Decentralized Exc...</td>\n",
       "      <td>0</td>\n",
       "      <td>1</td>\n",
       "      <td>https://twitter.com/shibily_n/status/138233557...</td>\n",
       "      <td>2021-04-14 14:10:57</td>\n",
       "      <td>1.000000</td>\n",
       "      <td>0.300000</td>\n",
       "    </tr>\n",
       "    <tr>\n",
       "      <th>297</th>\n",
       "      <td>DOGECOIN UNIVERSE</td>\n",
       "      <td>RT @bocvip: *NEW #Update* #Dogecoin IS ABOUT T...</td>\n",
       "      <td>0</td>\n",
       "      <td>2</td>\n",
       "      <td>https://twitter.com/DOGECOINUNIVER1/status/138...</td>\n",
       "      <td>2021-04-14 14:10:26</td>\n",
       "      <td>0.170455</td>\n",
       "      <td>0.454545</td>\n",
       "    </tr>\n",
       "    <tr>\n",
       "      <th>298</th>\n",
       "      <td>DOGECOIN UNIVERSE</td>\n",
       "      <td>RT @bocvip: *#FAST* #Dogecoin IS GETTING #Read...</td>\n",
       "      <td>0</td>\n",
       "      <td>3</td>\n",
       "      <td>https://twitter.com/DOGECOINUNIVER1/status/138...</td>\n",
       "      <td>2021-04-14 14:09:30</td>\n",
       "      <td>0.225000</td>\n",
       "      <td>0.550000</td>\n",
       "    </tr>\n",
       "    <tr>\n",
       "      <th>299</th>\n",
       "      <td>Norbert ⚡️</td>\n",
       "      <td>RT @1CrypticPoet: 🔥 Ripple partner Currencyclo...</td>\n",
       "      <td>0</td>\n",
       "      <td>65</td>\n",
       "      <td>https://twitter.com/jugenorb/status/1382325976...</td>\n",
       "      <td>2021-04-14 13:32:49</td>\n",
       "      <td>0.000000</td>\n",
       "      <td>0.000000</td>\n",
       "    </tr>\n",
       "  </tbody>\n",
       "</table>\n",
       "<p>300 rows × 8 columns</p>\n",
       "</div>"
      ],
      "text/plain": [
       "                      author  \\\n",
       "0      Nassim Nicholas Taleb   \n",
       "1                BEN BALLER™   \n",
       "2                   Kat Cole   \n",
       "3                        dom   \n",
       "4    Tuppence Pennyapple III   \n",
       "..                       ...   \n",
       "295                SKMLM1989   \n",
       "296         Nuhman Shibily N   \n",
       "297        DOGECOIN UNIVERSE   \n",
       "298        DOGECOIN UNIVERSE   \n",
       "299               Norbert ⚡️   \n",
       "\n",
       "                                                tweets  likes  retweet  \\\n",
       "0    WHAT WE WANT CRYPTO &amp; CURRENCY FOR:\\n\\n1) ...   2592      396   \n",
       "1    There will be many trillionaires in our lifeti...   1696      229   \n",
       "2    Long on cannabis, super-healthy food &amp; bev...    763       57   \n",
       "3    the mmo player’s crypto primer\\n\\nwallet - inv...    426       75   \n",
       "4    Currently designing a t-shirt I can wear on al...    177        2   \n",
       "..                                                 ...    ...      ...   \n",
       "295  RT @cr4zi3st: \"Bitcoin’s global reach &amp; ne...      0     1578   \n",
       "296  RT @Quickxprotocol: QuickX’s Decentralized Exc...      0        1   \n",
       "297  RT @bocvip: *NEW #Update* #Dogecoin IS ABOUT T...      0        2   \n",
       "298  RT @bocvip: *#FAST* #Dogecoin IS GETTING #Read...      0        3   \n",
       "299  RT @1CrypticPoet: 🔥 Ripple partner Currencyclo...      0       65   \n",
       "\n",
       "                                                   url               times  \\\n",
       "0    https://twitter.com/nntaleb/status/13824464785... 2021-04-14 21:31:39   \n",
       "1    https://twitter.com/BENBALLER/status/138247841... 2021-04-14 23:38:35   \n",
       "2    https://twitter.com/KatColeATL/status/13823282... 2021-04-14 13:41:43   \n",
       "3    https://twitter.com/dhof/status/13823432009925... 2021-04-14 14:41:16   \n",
       "4    https://twitter.com/fabulucy/status/1382331019... 2021-04-14 13:52:52   \n",
       "..                                                 ...                 ...   \n",
       "295  https://twitter.com/SATYAMS03811313/status/138... 2021-04-14 14:11:04   \n",
       "296  https://twitter.com/shibily_n/status/138233557... 2021-04-14 14:10:57   \n",
       "297  https://twitter.com/DOGECOINUNIVER1/status/138... 2021-04-14 14:10:26   \n",
       "298  https://twitter.com/DOGECOINUNIVER1/status/138... 2021-04-14 14:09:30   \n",
       "299  https://twitter.com/jugenorb/status/1382325976... 2021-04-14 13:32:49   \n",
       "\n",
       "     Polarity  Subjectivity  \n",
       "0   -0.450000      0.350000  \n",
       "1    0.187500      0.437500  \n",
       "2   -0.016667      0.675000  \n",
       "3    0.000000      0.000000  \n",
       "4   -0.200000      0.500000  \n",
       "..        ...           ...  \n",
       "295  0.000000      0.000000  \n",
       "296  1.000000      0.300000  \n",
       "297  0.170455      0.454545  \n",
       "298  0.225000      0.550000  \n",
       "299  0.000000      0.000000  \n",
       "\n",
       "[300 rows x 8 columns]"
      ]
     },
     "execution_count": 11,
     "metadata": {},
     "output_type": "execute_result"
    }
   ],
   "source": [
    "df"
   ]
  },
  {
   "cell_type": "markdown",
   "metadata": {},
   "source": [
    "# Test Algo 2 "
   ]
  },
  {
   "cell_type": "code",
   "execution_count": 12,
   "metadata": {},
   "outputs": [],
   "source": [
    "def get_tweets(keyword):\n",
    "    all_tweets = []\n",
    "    for tweet in tweepy.Cursor(api.search, q=keyword, tweet_mode='extended' , lang='en').items(100):\n",
    "        all_tweets.append(tweet.full_text)\n",
    "    return all_tweets"
   ]
  },
  {
   "cell_type": "code",
   "execution_count": 13,
   "metadata": {},
   "outputs": [],
   "source": [
    "def clean_tweets(all_tweets):\n",
    "    tweets_clean = []\n",
    "    for tweet in all_tweets:\n",
    "        tweets_clean.append(p.clean(tweet))\n",
    "        \n",
    "    return tweets_clean"
   ]
  },
  {
   "cell_type": "code",
   "execution_count": 14,
   "metadata": {},
   "outputs": [],
   "source": [
    "def sentiment_tweet(all_tweets):\n",
    "    sentiment_scores = []\n",
    "    for tweet in all_tweets:\n",
    "        blob = TextBlob(tweet)\n",
    "        sentiment_scores.append(blob.sentiment.polarity)\n",
    "    return sentiment_scores"
   ]
  },
  {
   "cell_type": "markdown",
   "metadata": {},
   "source": [
    "## Main "
   ]
  },
  {
   "cell_type": "code",
   "execution_count": 15,
   "metadata": {},
   "outputs": [
    {
     "name": "stdout",
     "output_type": "stream",
     "text": [
      "------------------------------------------------\n",
      "Les tweets ne sont pas cleans\n",
      "\n",
      "['RT @BaanxGroup: Add Sweden and the e-Krona to the list of countries trialling Central Bank Digital Currencies \\n\\nhttps://t.co/Nfy3G9kUzB\\n\\n#f…', \"@_sonny_AW @faunabeauty @koush The problem I have is that its just another fiat currency like every other fiat currency. fiat currencies generally work because there's a country and more importantly a bank and a military tied to it to keep it stable from physical and financial attack. Crypto lacks all 3.\", \"Don't hate @michael_saylor for only promoting #Bitcoin , he's getting people to join crypto currencies which is great. You don't want them continue being in the governments corrupt money system which they inflate, people can always switch to Monero later on after doing research..\", '\" To put it in layman’s terms, a small number of players control a large amount of the actual bitcoin flowing into exchanges, and secondly, ... these players have greater power on crypto-to-fiat exchanges than they do on crypto-to-crypto exchanges\"\\nhttps://t.co/UIqcVwRLkw', 'Karen Hudes: I did NOT recommend crypto currencies.\\n\\nKaren Hudes: I did NOT recommend crypto currencies. https://t.co/V2eyMoC2Co via @NestorBAguilar2', 'CryptoCurrency and it’s Block Chain is Big Tech’s alter ego. There are emerging Crypto Currencies ready to replace the shady business practices of big tech. In Crypto the incentive is their Coin. With big tech it’s getting personal data and selling it. (Not to mention censorship)', 'Wunderbit Trading Review – An Automated Crypto Trading Platform\\n\\nUsing cryptocurrency exchanges and other trading platforms to buy and sell digital currencies might not be an easy thing to do. Indeed, for newcomers, this is a very […] https://t.co/HTstE0oPdw', \"RT @BloombergTV: After mining and buying, Bitcoin earning is the next stage of crypto adoption, says Coinbase's early investor Alexis Ohani…\", 'I wish. https://t.co/vnESoKaSMD https://t.co/6weOVaRrg0', \"$DSCR the shorts on iscum are out lol selling into the bid to make you panic sell. Just thing about what all crypto currencies are doing right now!! Now thing about the ones that are being backed by real gold!!! It's a buy hold ... https://t.co/g5QDwPe8B5\", 'Wall Street Bets enables discussions on #dogecoin, among other cryptocurrencies. $doge #reddit \\n\\nhttps://t.co/izI97P56en', '@FromAiden @farringtonedit No, direct bank transfers will not \"always be a thing.\" If Crypto currencies are banned by financial regulators (a very real possibility that some people just can\\'t grasp and I don\\'t know why?) banks will not transfer funds to Bitcoin intermediaries.', 'RT @GoldTelegraph_: POWELL: CRYPTO CURRENCIES ARE SPECULATION VEHICLES LIKE GOLD\\n\\nI laughed very hard.', \"It's got the third-largest market cap in all of crypto. It's got significant support internationally. The need for real-time inexpensive settlement services across currencies, both fiat and digital, is only increasing, and Ripple's got the right platform, the right people, and\", '@Frances_Coppola @TheStalwart Do you see merit in any of the current crop of crypto-currencies?\\n\\n@billatnapier', \"Coinbase jumps 11% after Cathie Wood's ARK funds show $246 million investment in the crypto exchange #website #news https://t.co/bvY0fYTvE3 https://t.co/f34okGYWgE\", 'DApps\\n\\nEven if it is quite new in crypto markets, DApps are widely used in distributed computing systems. They reached their popularity with DLT and are customised as smart contacts within crypto currencies like Blockchain and Ethereum. \\n\\nhttps://t.co/0HqmPri24z\\n\\n#BTC\\n#CISTrader', '@KarlOlympus @BarkingNon @KruBoss @Benaskren The term crypto currencies can be a misnomer. Crypto as it exists today are more like assets than currencies. There are plenty of assets such as gold and stocks that have value that are not used as legal tender.', 'Check out ASRock H110 PRO BTC+ 13GPU Mining Motherboard for Cryptocurrency by ASRock https://t.co/uhcFKEu2S7 via @amazon https://t.co/2nKNMkJ3QM', 'RT @XaviercMiller: Coinbase IPO is a huge moment for crypto, this further solidifies all of our beliefs for those of us who believed &amp; inve…', 'RT @CoinMarketCap: So the #Ethereum Berlin upgrade is here. How do you think this will impact the price of $ETH? \\n\\nKeep up to date with the…', 'RT @GoldTelegraph_: POWELL: CRYPTO CURRENCIES ARE SPECULATION VEHICLES LIKE GOLD\\n\\nI laughed very hard.', 'RT @DarthCryptokus: @kapoorkkunal Course offered by @iam_preethi on crypto currencies is pretty awesome too. Explains the history of money…', 'RT @rigelprotocol: ⚡️ $RGP is now available at @CoinMarketCap!\\n✅ https://t.co/rc7cJjFkYA\\nFeatured as \"untracked listing\" for now\\nMore marke…', '@KarlOlympus @BarkingNon @KruBoss @Benaskren Eventually governments will realize crypto is superior technology to fiat currencies and they will create digital currencies, however these countries will still suffer from the issue of centralization (aka bad financial policies rampant money printing, inflation, and corruption).', 'Larry Fink, Chairman and CEO of BlackRock: Crypto will not substitute currencies, but he is fascinated by it as an asset class.\\nGuys...fasten your seatbelts. #bitcoin\\n#cryptocurrencies', '🇫🇮For our Finnish community!🇫🇮\\n\\nFree webinar about crypto currencies and Coinmotion as an invesment. \\n\\nAll details below👇🏻 https://t.co/y18JFjGap6', \"RT @Moberg___: @DeItaone People mix up crypto currencies and blockchain based digital assets. There's a place in the ecosystem for $BTC dig…\", '#digitalbytes   Whta. astunniong investmnet in l;ess than 10 years buying Coinbase at 20 cents...Are you now a buyer of #coinbase ?Will Coinbase prove to be a lower risk way to get invest into crypto currencies? It is one of the fe…https://t.co/Kwn9oDdnJk https://t.co/OOObmnsHxq', \"@cheeztroglodyte The good news is that there are other crypto-currencies that don't rely on Proof of Work algorithms, so they are much much less power intensive. The bad news, is that they tend to have smaller transactions with lower fees, so miners aren't driving adoption.\", 'Karen Hudes: I did NOT recommend crypto\\xa0currencies. https://t.co/qNsEdzmRWE', 'CRYPTO-CURRENCIES:\\nAfter the creation of bitcoin, the number of cryptocurrencies available over the internet is growing.\\nBeing toxic &amp; risk-prone, there are so many now that soon you might buy yours from corner convenience stores\\nhttps://t.co/h9RKpF0Xoz', '@poldiscoursebot Literally a fact. Currencies have popped up all around the world all throughout history in many cultures and many different forms: shells, huge stones, pieces of paper, crypto, etc.', '@PaladinGoth @cazo97 @nic__carter Its not for me and I never read paywalled articles...this one should also be as good. Point is there are many articles on the subject easy to find. Instead of following the following that got us into this mess follow and read those getting us out\\nhttps://t.co/qRBSFhHsi4', 'RT @GoldTelegraph_: POWELL: CRYPTO CURRENCIES ARE SPECULATION VEHICLES LIKE GOLD\\n\\nI laughed very hard.', \"Coinbase jumps 11% after Cathie Wood's ARK funds show $246 million investment in the crypto exchange https://t.co/nuhSCVG1Bt https://t.co/fqUJndb6gG\", \"Coinbase jumps 11% after Cathie Wood's ARK funds show $246 million investment in the crypto exchange https://t.co/kGIff7WcX6\", 'RT @FinanceLemur: We are now live on CoinMarketCap🔥🔥🔥 \\nhttps://t.co/tyV16LLsw5 https://t.co/IwqKmGbWuV', 'RT @rigelprotocol: ⚡️ $RGP is now available at @CoinMarketCap!\\n✅ https://t.co/rc7cJjFkYA\\nFeatured as \"untracked listing\" for now\\nMore marke…', 'RT @DennisGots: Here are the top 5 crypto currencies by weekly tx’s on https://t.co/z9S1x5GNTr   I find this very interesting because @Stel…', 'RT @DennisGots: Here are the top 5 crypto currencies by weekly tx’s on https://t.co/z9S1x5GNTr   I find this very interesting because @Stel…', 'RT @HydroBlockchain: $HYDRO token price, circulating supply, total supply and other data has been updated successfully on @CoinMarketCap  .…', 'RT @CbianBen: I have talked about this before, but let’s talk about it AGAIN! A NEW WORLD is emerging. COVID-19 hit a global RESET button.…', 'New CoinMarketCap Listing!\\n\\nHyper Finance / $HYFI\\nPrice: 0.12775100561091\\n24h Volume: 243041.46457482\\n#crypto #gem #eth #defi\\n\\nhttps://t.co/Ol8ochw33G', 'RT @GoldTelegraph_: POWELL: CRYPTO CURRENCIES ARE SPECULATION VEHICLES LIKE GOLD\\n\\nI laughed very hard.', 'RT @rigelprotocol: ⚡️ $RGP is now available at @CoinMarketCap!\\n✅ https://t.co/rc7cJjFkYA\\nFeatured as \"untracked listing\" for now\\nMore marke…', 'RT @rigelprotocol: ⚡️ $RGP is now available at @CoinMarketCap!\\n✅ https://t.co/rc7cJjFkYA\\nFeatured as \"untracked listing\" for now\\nMore marke…', 'RT @Stablecoin_HUSD: 🚀Want more crypto adoption?\\n\\n$HUSD the compliant &amp; secure #stablecoin issued by Stable Universal is NOW available to #…', 'One reason why I do not get into crypto currencies. https://t.co/ItC7jYfq1b', 'New CoinMarketCap Listing: $BID \\nContract: #ERC20 #ETH\\n#bitcoin #crypto #coinmarketcap #cmc\\nhttps://t.co/NZOaYCUj8V', 'RT @rigelprotocol: ⚡️ $RGP is now available at @CoinMarketCap!\\n✅ https://t.co/rc7cJjFkYA\\nFeatured as \"untracked listing\" for now\\nMore marke…', 'i will admit crypto currency makes no sense to me in general but how many corporations are also ruining the environment for normal money?? i feel like this is just an effect of capitalism and crypto currencies are catching up https://t.co/ZI008xklMI', 'RT @CoinMarketCap: So the #Ethereum Berlin upgrade is here. How do you think this will impact the price of $ETH? \\n\\nKeep up to date with the…', 'RT @GoldTelegraph_: POWELL: CRYPTO CURRENCIES ARE SPECULATION VEHICLES LIKE GOLD\\n\\nI laughed very hard.', 'CBDCs will not rival cryptocurrencies: Morgan Stanley \\n\\nCentral bank digital currencies (CBDCs) don’t pose a threat to crypto, according to a report from the investment bank Morgan Stanley\\n\\nUS #bitcoin https://t.co/9g4bfoxFQy', 'Crypto is just what would happen if Forex markets allowed easier exchange in extremely volatile currencies. \\nIf \"the man\" wanted to kill crypto overnight they\\'d let us trade in South African Rand or Venezuelan Bolivar.', 'We were founded to eliminate the dirty information found on the crypto exchange. Our aim is to tell the whole world that the crypto exchange and crypto currencies will be more reliable and reputable.\\nThis is our manifesto! Our aim is to provide reliable and healthy information.', \"@DocumentingBTC they use bitcoin as a testbed for  more crypto currencies.  i think it's a bad choice . high fees, btc ppl are hodlers not spenders.  but ok. it's a first step to actual adoption.\", '@Sir_Lawrence013 @TheRealMvui It is where you save your crypto currencies after you have bought from an exchange. Money as you know it is losing value at great speed. https://t.co/knFon08ZEh', 'RT @VMRConstancio: A day of victory for crypto-assets and for bitcoin in particular. It is also a day that establishes these blockchain-bas…', 'It’s very weird how Bitcoin is valued in fiat dollars, how converting it into fiat dollars is a major problem, how Coinbase shares are sold in fiat dollars, and how Coinbase’s market capitalization is in fiat dollars. So much for crypto disrupting the fiat currencies, huh?', '⚡️ $RGP is now available at @CoinMarketCap!\\n✅ https://t.co/rc7cJjFkYA\\nFeatured as \"untracked listing\" for now\\nMore markets will be added gradually together with #dapps launch😎\\n\\n#Crypto #DeFi #Coinmarketcap #pancakeswap #NFTs #BSC #Ethereum https://t.co/nYM2xLfnBV', 'RT @intelligencer: Coinbase, the largest U.S. crypto exchange, went public on the Nasdaq Wednesday, making real American-dollar billionaire…', 'UK Tech News: \"With Coinbase IPO, here are top 5 currencies to buy on the crypto platform\" https://t.co/8rqs4rA6bA - more on https://t.co/PzOjT29gnW', '@andy_d_lee This article pits “value” against environmental impact. It doesn’t seem to exonerate crypto currencies, only suggest that 1) the energy used is worth it, and 2) it’s much much worse than other energy-intensive activities. Neither of these excuse environmental harm.', 'This is unsustainable. Ban crypto-currencies now for crying out loud.', 'https://t.co/1uoow0uA9h\\nThe @fpassociation (FPA) and the @RIA_DAC (RIADAC) have formed a strategic partnership to provide financial planners with education on blockchain and digital assets. #Listen to know more!\\n\\n#themediabulletin #blockchain #bitcoin #cryptocurrency #crypto https://t.co/v5lYABlHpM', 'New CoinMarketCap Listing!\\n\\nLemur Finance / $LEM\\nPrice: 0.0000038362788\\n24h Volume: 0\\n#crypto #gem #eth #defi\\n\\nhttps://t.co/Ao6deEPcyT', \"RT @BloombergTV: After mining and buying, Bitcoin earning is the next stage of crypto adoption, says Coinbase's early investor Alexis Ohani…\", \"RT @BloombergTV: After mining and buying, Bitcoin earning is the next stage of crypto adoption, says Coinbase's early investor Alexis Ohani…\", 'RT @CGasparino: BREAKING- Crypto industry fears major crackdown from Biden Administration as new currencies emerge. SEC chief Gary Gensler…', 'RT @CoinMarketCap: How do the largest cryptocurrencies, such as #Bitcoin and #Ethereum, compare to the largest fiat currencies in the world…', 'RT @HydroBlockchain: $HYDRO token price, circulating supply, total supply and other data has been updated successfully on @CoinMarketCap  .…', \"We're on coinmarketcap! https://t.co/6PdMAaVxIi $CHORD @ChordProtocol @cryptogems555\", '@JoelKatz @chimaera___ I spend and lose quite a bit at the casino... or i used to. Once I discovered crypto, it is more like a savings account and I am not necessarily losing what I used to. The stock market killed me iver the years. Currencies are more fun and Im losing way less!', 'RT @zerohedge: POWELL: CRYPTO CURRENCIES ARE SPECULATION VEHICLES LIKE GOLD\\n\\n3000 years of speculation', 'New CoinMarketCap Listing!\\n\\nChord Protocol / $CHORD\\nPrice: 0.13371022126019\\n24h Volume: 655511.62432591\\n#crypto #gem #eth #defi\\n\\nhttps://t.co/hRaBOiOfRz', 'RT @ColureMedia: What? Coinbase went public yesterday almost valuing the app at $100 Billion! Is #cryptocurrency really on the way to becom…', 'What? Coinbase went public yesterday almost valuing the app at $100 Billion! Is #cryptocurrency really on the way to becoming a world currency standard? \\n\\nhttps://t.co/1jPBYZFrJy @coinbase @dogecoin #blockchain #mobileappdevelopment #Bitcoin https://t.co/LGfD7MkuUy', 'RT @GoldTelegraph_: POWELL: CRYPTO CURRENCIES ARE SPECULATION VEHICLES LIKE GOLD\\n\\nI laughed very hard.', 'RT @CoinMarketCap: So the #Ethereum Berlin upgrade is here. How do you think this will impact the price of $ETH? \\n\\nKeep up to date with the…', '@kapoorkkunal Course offered by @iam_preethi on crypto currencies is pretty awesome too. Explains the history of money right from pre historic times to bitcoin in a manner which my grandma can understand over 40 short emails.\\n\\nhttps://t.co/BmGG3p8WL1', '@SquawkCNBC @lawmaster Thinks there will be crypto versions of existing currencies - what a visionary', 'RT @enriquesouza_: Do you care about your privacy? \\n\\nIf you do, then $BC (Bitcoin Confidential) is the solution. \\n\\nhttps://t.co/0bYAFJz5IZ…', 'BSC Chain is on a rampage and in need of amazing projects like @BSCStation to fuel and service the growth\\n\\nAuction NFT’s\\nSwap BEP-20 Tokens\\nMine Liquidity\\nBSCS Dex\\nAnd a BSCS Wallet with the ability to store many major crypto currencies\\n\\n#BSCStation \\nThread 1 of 2', 'New CoinMarketCap Listing!\\n\\nSignata / $SATA\\nPrice: 0.27801799488778\\n24h Volume: 555187.20952927\\n#crypto #gem #eth #defi\\n\\nhttps://t.co/r988iFiBEK', 'RT @zerohedge: POWELL: CRYPTO CURRENCIES ARE SPECULATION VEHICLES LIKE GOLD\\n\\n3000 years of speculation', 'RT @cmclistings: New CoinMarketCap Listing: $FOX \\nTwitter: @foxfinancebsc\\nContract: #BSC #BNB\\n#bitcoin #crypto #coinmarketcap #cmc\\nhttps://…', 'RT @BitzippOfficial: The #BitzippWallet has the ability to pair with over 1000 recognized #cryptocurrency and #fiat global #currencies all…', 'RT @BittrexGlobal: Join @StephenStonberg at the @OMFIF #DMI event! On 28-29 April 2021, the Digital Monetary Institute is bringing together…', 'RT @CoinMarketCap: So the #Ethereum Berlin upgrade is here. How do you think this will impact the price of $ETH? \\n\\nKeep up to date with the…', 'RT @KichiroSmile: POWELL: CRYPTO CURRENCIES ARE SPECULATION VEHICLES LIKE GOLD\\n\\nMeaning? Buy crypto. And buy the ones that will have the re…', '@SaharaReporters @inecnigeria Is there no time person go see better news for this country. While other  countries are posting crypto currencies..Nigeria go Dey post bad luck', 'RT @CoinMarketCap: So the #Ethereum Berlin upgrade is here. How do you think this will impact the price of $ETH? \\n\\nKeep up to date with the…', 'Good morning @HiRezTheRapper The #Currencies markets TF weekly chart of #USDollarIndex $DXY #DXY $UUP #DX_F vs. $BTC #BTC_F #BTC #Cryptocurrency #Crypto #Bitcoin #trading #investing Leadership vs bargains https://t.co/JGDMyRlg31', 'Add Sweden and the e-Krona to the list of countries trialling Central Bank Digital Currencies \\n\\nhttps://t.co/Nfy3G9kUzB\\n\\n#fintech #CBDC #digitalcurrency #digitalbanking #crypto', 'Add Sweden and the e-Krona to the list of countries trialling Central Bank Digital Currencies\\n\\nhttps://t.co/CZQbvDoFHf\\n\\n#fintech #CBDC #digitalcurrency #digitalbanking #crypto', 'RT @CoinMarketCap: So the #Ethereum Berlin upgrade is here. How do you think this will impact the price of $ETH? \\n\\nKeep up to date with the…', 'RT @zerohedge: POWELL: CRYPTO CURRENCIES ARE SPECULATION VEHICLES LIKE GOLD\\n\\n3000 years of speculation', 'RT @cmclistings: New CoinMarketCap Listing: $FOX \\nTwitter: @foxfinancebsc\\nContract: #BSC #BNB\\n#bitcoin #crypto #coinmarketcap #cmc\\nhttps://…']\n",
      "------------------------------------------------\n",
      "Les Tweets sont clean\n",
      "\n",
      "[': Add Sweden and the e-Krona to the list of countries trialling Central Bank Digital Currencies', \"The problem I have is that its just another fiat currency like every other fiat currency. fiat currencies generally work because there's a country and more importantly a bank and a military tied to it to keep it stable from physical and financial attack. Crypto lacks all .\", \"Don't hate for only promoting , he's getting people to join crypto currencies which is great. You don't want them continue being in the governments corrupt money system which they inflate, people can always switch to Monero later on after doing research..\", '\" To put it in laymans terms, a small number of players control a large amount of the actual bitcoin flowing into exchanges, and secondly, ... these players have greater power on crypto-to-fiat exchanges than they do on crypto-to-crypto exchanges\"', 'Karen Hudes: I did NOT recommend crypto currencies.Karen Hudes: I did NOT recommend crypto currencies. via', 'CryptoCurrency and its Block Chain is Big Techs alter ego. There are emerging Crypto Currencies ready to replace the shady business practices of big tech. In Crypto the incentive is their Coin. With big tech its getting personal data and selling it. (Not to mention censorship)', 'Wunderbit Trading Review An Automated Crypto Trading PlatformUsing cryptocurrency exchanges and other trading platforms to buy and sell digital currencies might not be an easy thing to do. Indeed, for newcomers, this is a very []', \": After mining and buying, Bitcoin earning is the next stage of crypto adoption, says Coinbase's early investor Alexis Ohani\", 'I wish.', \"$DSCR the shorts on iscum are out lol selling into the bid to make you panic sell. Just thing about what all crypto currencies are doing right now!! Now thing about the ones that are being backed by real gold!!! It's a buy hold ...\", 'Wall Street Bets enables discussions on , among other cryptocurrencies. $doge', 'No, direct bank transfers will not \"always be a thing.\" If Crypto currencies are banned by financial regulators (a very real possibility that some people just can\\'t grasp and I don\\'t know why?) banks will not transfer funds to Bitcoin intermediaries.', ': POWELL: CRYPTO CURRENCIES ARE SPECULATION VEHICLES LIKE GOLDI laughed very hard.', \"It's got the third-largest market cap in all of crypto. It's got significant support internationally. The need for real-time inexpensive settlement services across currencies, both fiat and digital, is only increasing, and Ripple's got the right platform, the right people, and\", 'Do you see merit in any of the current crop of crypto-currencies?', \"Coinbase jumps % after Cathie Wood's ARK funds show $246 million investment in the crypto exchange\", 'DAppsEven if it is quite new in crypto markets, DApps are widely used in distributed computing systems. They reached their popularity with DLT and are customised as smart contacts within crypto currencies like Blockchain and Ethereum.', 'The term crypto currencies can be a misnomer. Crypto as it exists today are more like assets than currencies. There are plenty of assets such as gold and stocks that have value that are not used as legal tender.', 'Check out ASRock H110 PRO BTC+ GPU Mining Motherboard for Cryptocurrency by ASRock via', ': Coinbase IPO is a huge moment for crypto, this further solidifies all of our beliefs for those of us who believed &amp; inve', ': So the Berlin upgrade is here. How do you think this will impact the price of $ETH? Keep up to date with the', ': POWELL: CRYPTO CURRENCIES ARE SPECULATION VEHICLES LIKE GOLDI laughed very hard.', ': Course offered by on crypto currencies is pretty awesome too. Explains the history of money', ': $RGP is now available at ! as \"untracked listing\" for nowMore marke', 'Eventually governments will realize crypto is superior technology to fiat currencies and they will create digital currencies, however these countries will still suffer from the issue of centralization (aka bad financial policies rampant money printing, inflation, and corruption).', 'Larry Fink, Chairman and CEO of BlackRock: Crypto will not substitute currencies, but he is fascinated by it as an asset class.Guys...fasten your seatbelts.', 'For our Finnish community!Free webinar about crypto currencies and Coinmotion as an invesment. All details below', \": People mix up crypto currencies and blockchain based digital assets. There's a place in the ecosystem for $BTC dig\", 'Whta. astunniong investmnet in l;ess than years buying Coinbase at cents...Are you now a buyer of ?Will Coinbase prove to be a lower risk way to get invest into crypto currencies? It is one of the fe', \"The good news is that there are other crypto-currencies that don't rely on Proof of Work algorithms, so they are much much less power intensive. The bad news, is that they tend to have smaller transactions with lower fees, so miners aren't driving adoption.\", 'Karen Hudes: I did NOT recommend cryptocurrencies.', 'CRYPTO-CURRENCIES:After the creation of bitcoin, the number of cryptocurrencies available over the internet is growing.Being toxic &amp; risk-prone, there are so many now that soon you might buy yours from corner convenience stores', 'Literally a fact. Currencies have popped up all around the world all throughout history in many cultures and many different forms: shells, huge stones, pieces of paper, crypto, etc.', 'Its not for me and I never read paywalled articles...this one should also be as good. Point is there are many articles on the subject easy to find. Instead of following the following that got us into this mess follow and read those getting us out', ': POWELL: CRYPTO CURRENCIES ARE SPECULATION VEHICLES LIKE GOLDI laughed very hard.', \"Coinbase jumps % after Cathie Wood's ARK funds show $246 million investment in the crypto exchange\", \"Coinbase jumps % after Cathie Wood's ARK funds show $246 million investment in the crypto exchange\", ': We are now live on CoinMarketCap', ': $RGP is now available at ! as \"untracked listing\" for nowMore marke', ': Here are the top crypto currencies by weekly txs on I find this very interesting because', ': Here are the top crypto currencies by weekly txs on I find this very interesting because', ': $HYDRO token price, circulating supply, total supply and other data has been updated successfully on .', ': I have talked about this before, but lets talk about it AGAIN! A NEW WORLD is emerging. COVID-19 hit a global RESET button.', 'New CoinMarketCap Listing!Hyper Finance / $HYFIPrice: h Volume: ://', ': POWELL: CRYPTO CURRENCIES ARE SPECULATION VEHICLES LIKE GOLDI laughed very hard.', ': $RGP is now available at ! as \"untracked listing\" for nowMore marke', ': $RGP is now available at ! as \"untracked listing\" for nowMore marke', ': Want more crypto adoption?$HUSD the compliant &amp; secure issued by Stable Universal is NOW available to', 'One reason why I do not get into crypto currencies.', 'New CoinMarketCap Listing: $BID Contract: ://', ': $RGP is now available at ! as \"untracked listing\" for nowMore marke', 'i will admit crypto currency makes no sense to me in general but how many corporations are also ruining the environment for normal money?? i feel like this is just an effect of capitalism and crypto currencies are catching up', ': So the Berlin upgrade is here. How do you think this will impact the price of $ETH? Keep up to date with the', ': POWELL: CRYPTO CURRENCIES ARE SPECULATION VEHICLES LIKE GOLDI laughed very hard.', 'CBDCs will not rival cryptocurrencies: Morgan Stanley Central bank digital currencies (CBDCs) dont pose a threat to crypto, according to a report from the investment bank Morgan StanleyUS', 'Crypto is just what would happen if Forex markets allowed easier exchange in extremely volatile currencies. If \"the man\" wanted to kill crypto overnight they\\'d let us trade in South African Rand or Venezuelan Bolivar.', 'We were founded to eliminate the dirty information found on the crypto exchange. Our aim is to tell the whole world that the crypto exchange and crypto currencies will be more reliable and reputable.This is our manifesto! Our aim is to provide reliable and healthy information.', \"they use bitcoin as a testbed for more crypto currencies. i think it's a bad choice . high fees, btc ppl are hodlers not spenders. but ok. it's a first step to actual adoption.\", 'It is where you save your crypto currencies after you have bought from an exchange. Money as you know it is losing value at great speed.', ': A day of victory for crypto-assets and for bitcoin in particular. It is also a day that establishes these blockchain-bas', 'Its very weird how Bitcoin is valued in fiat dollars, how converting it into fiat dollars is a major problem, how Coinbase shares are sold in fiat dollars, and how Coinbases market capitalization is in fiat dollars. So much for crypto disrupting the fiat currencies, huh?', '$RGP is now available at ! as \"untracked listing\" for nowMore markets will be added gradually together with launch', ': Coinbase, the largest U.S. crypto exchange, went public on the Nasdaq Wednesday, making real American-dollar billionaire', 'UK Tech News: \"With Coinbase IPO, here are top currencies to buy on the crypto platform\" - more on', 'This article pits value against environmental impact. It doesnt seem to exonerate crypto currencies, only suggest that ) the energy used is worth it, and ) its much much worse than other energy-intensive activities. Neither of these excuse environmental harm.', 'This is unsustainable. Ban crypto-currencies now for crying out loud.', '(FPA) and the (RIADAC) have formed a strategic partnership to provide financial planners with education on blockchain and digital assets. to know more!', 'New CoinMarketCap Listing!Lemur Finance / $LEMPrice: h Volume: ://', \": After mining and buying, Bitcoin earning is the next stage of crypto adoption, says Coinbase's early investor Alexis Ohani\", \": After mining and buying, Bitcoin earning is the next stage of crypto adoption, says Coinbase's early investor Alexis Ohani\", ': BREAKING- Crypto industry fears major crackdown from Biden Administration as new currencies emerge. SEC chief Gary Gensler', ': How do the largest cryptocurrencies, such as and , compare to the largest fiat currencies in the world', ': $HYDRO token price, circulating supply, total supply and other data has been updated successfully on .', \"We're on coinmarketcap! $CHORD\", 'I spend and lose quite a bit at the casino... or i used to. Once I discovered crypto, it is more like a savings account and I am not necessarily losing what I used to. The stock market killed me iver the years. Currencies are more fun and Im losing way less!', ': POWELL: CRYPTO CURRENCIES ARE SPECULATION VEHICLES LIKE GOLD3000 years of speculation', 'New CoinMarketCap Listing!Chord Protocol / $CHORDPrice: h Volume: ://', ': What? Coinbase went public yesterday almost valuing the app at $100 Billion! Is really on the way to becom', 'What? Coinbase went public yesterday almost valuing the app at $100 Billion! Is really on the way to becoming a world currency standard?', ': POWELL: CRYPTO CURRENCIES ARE SPECULATION VEHICLES LIKE GOLDI laughed very hard.', ': So the Berlin upgrade is here. How do you think this will impact the price of $ETH? Keep up to date with the', 'Course offered by on crypto currencies is pretty awesome too. Explains the history of money right from pre historic times to bitcoin in a manner which my grandma can understand over short emails.', 'Thinks there will be crypto versions of existing currencies - what a visionary', ': Do you care about your privacy? If you do, then $BC (Bitcoin Confidential) is the solution.', 'BSC Chain is on a rampage and in need of amazing projects like to fuel and service the growthAuction NFTsSwap BEP-20 TokensMine LiquidityBSCS DexAnd a BSCS Wallet with the ability to store many major crypto currencies Thread of', 'New CoinMarketCap Listing!Signata / $SATAPrice: h Volume: ://', ': POWELL: CRYPTO CURRENCIES ARE SPECULATION VEHICLES LIKE GOLD3000 years of speculation', ': New CoinMarketCap Listing: $FOX Twitter: : ://', ': The has the ability to pair with over recognized and global all', ': Join at the event! On -29 April , the Digital Monetary Institute is bringing together', ': So the Berlin upgrade is here. How do you think this will impact the price of $ETH? Keep up to date with the', ': POWELL: CRYPTO CURRENCIES ARE SPECULATION VEHICLES LIKE GOLDMeaning? Buy crypto. And buy the ones that will have the re', 'Is there no time person go see better news for this country. While other countries are posting crypto currencies..Nigeria go Dey post bad luck', ': So the Berlin upgrade is here. How do you think this will impact the price of $ETH? Keep up to date with the', 'Good morning The markets TF weekly chart of $DXY $UUP vs. $BTC Leadership vs bargains', 'Add Sweden and the e-Krona to the list of countries trialling Central Bank Digital Currencies', 'Add Sweden and the e-Krona to the list of countries trialling Central Bank Digital Currencies', ': So the Berlin upgrade is here. How do you think this will impact the price of $ETH? Keep up to date with the', ': POWELL: CRYPTO CURRENCIES ARE SPECULATION VEHICLES LIKE GOLD3000 years of speculation', ': New CoinMarketCap Listing: $FOX Twitter: : ://']\n",
      "------------------------------------------------\n",
      "Sentiment des tweets\n",
      "\n",
      "[0.0, 0.10357142857142858, -0.1, 0.09285714285714286, 0.0, -0.008333333333333331, 0.12708333333333333, 0.05, 0.0, 0.5456845238095238, -0.125, 0.07, 0.16041666666666662, 0.15773809523809523, 0.0, 0.0, 0.08354978354978354, 0.2333333333333333, 0.0, 0.20000000000000004, 0.0, 0.16041666666666662, 0.625, 0.5, 2.7755575615628914e-17, 0.0, 0.0, 0.0, 0.0, -0.058333333333333307, 0.0, 0.45, 0.35000000000000003, 0.1845238095238095, 0.16041666666666662, 0.0, 0.0, 0.13636363636363635, 0.5, 0.575, 0.575, 0.20833333333333334, 0.06818181818181818, 0.13636363636363635, 0.16041666666666662, 0.5, 0.5, 0.325, 0.0, 0.13636363636363635, 0.5, 0.325, 0.0, 0.16041666666666662, 0.0, -0.0625, 0.18125000000000002, 0.11833333333333336, 0.8, 0.16666666666666666, -0.12916666666666668, 0.5, 0.1, 0.5, -0.05500000000000001, -0.05, 0.20833333333333334, 0.13636363636363635, 0.05, 0.05, 0.03295454545454545, 0.0, 0.20833333333333334, 0.0, 0.14861111111111114, 0.0, 0.13636363636363635, 0.1, 0.1625, 0.16041666666666662, 0.0, 0.3071428571428571, 0.0, 0.0, 0.3875, 0.13636363636363635, 0.0, 0.13636363636363635, 0.0, 0.0, 0.0, 0.0, -0.10833333333333328, 0.0, 0.7, 0.0, 0.0, 0.0, 0.0, 0.13636363636363635]\n"
     ]
    }
   ],
   "source": [
    "if __name__ == \"__main__\":\n",
    "    \n",
    "    allInfluence =[\"elonmusk\",\"AngeloBTC\"]\n",
    "    recoverTweets = get_tweets(\"crypto currencies\")\n",
    "    cleanTweets = clean_tweets(recoverTweets)\n",
    "    sentimentTweet = sentiment_tweet(cleanTweets)\n",
    "    \n",
    "    print(\"------------------------------------------------\")\n",
    "    print(\"Les tweets ne sont pas cleans\\n\")\n",
    "    print(recoverTweets)\n",
    "    \n",
    "    print(\"------------------------------------------------\")\n",
    "    print(\"Les Tweets sont clean\\n\")\n",
    "    print(cleanTweets)\n",
    "    \n",
    "    print(\"------------------------------------------------\")\n",
    "    print(\"Sentiment des tweets\\n\")\n",
    "    print(sentimentTweet)\n",
    "    \n",
    "    "
   ]
  }
 ],
 "metadata": {
  "kernelspec": {
   "display_name": "Python 3",
   "language": "python",
   "name": "python3"
  },
  "language_info": {
   "codemirror_mode": {
    "name": "ipython",
    "version": 3
   },
   "file_extension": ".py",
   "mimetype": "text/x-python",
   "name": "python",
   "nbconvert_exporter": "python",
   "pygments_lexer": "ipython3",
   "version": "3.7.4"
  }
 },
 "nbformat": 4,
 "nbformat_minor": 4
}
