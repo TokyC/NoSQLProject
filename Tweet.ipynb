{
 "cells": [
  {
   "cell_type": "markdown",
   "metadata": {},
   "source": [
    "# <center> Twitter </center>"
   ]
  },
  {
   "cell_type": "markdown",
   "metadata": {},
   "source": [
    "Recover tweet about crypto-currency"
   ]
  },
  {
   "cell_type": "markdown",
   "metadata": {},
   "source": [
    "## Import of libraries "
   ]
  },
  {
   "cell_type": "code",
   "execution_count": 1,
   "metadata": {},
   "outputs": [],
   "source": [
    "import tweepy\n",
    "import csv\n",
    "import pandas as pd\n",
    "import csv\n",
    "import re \n",
    "import string\n",
    "import preprocessor as p\n",
    "from textblob import TextBlob"
   ]
  },
  {
   "cell_type": "markdown",
   "metadata": {},
   "source": [
    "## Algorithmes"
   ]
  },
  {
   "cell_type": "code",
   "execution_count": 2,
   "metadata": {},
   "outputs": [],
   "source": [
    "consumer_key = \"sv62m7FUziAOHGtplgNYQ0TEi\"\n",
    "consumer_secret = \"67TMtXeLLSwjxjhRdhZkc7TuAlJRTmSu4q2KOUbuN1oHzlcdZ0\"\n",
    "\n",
    "access_key = \"1358394444429549568-IDbGzN51cUyZnnh0iWacK8vIbKnr2W\" \n",
    "access_secret =  \"6fwj7lLVGSThRax5R6Mrde5xBZHPCpeOjE2AoatIUhIOc\""
   ]
  },
  {
   "cell_type": "code",
   "execution_count": 3,
   "metadata": {},
   "outputs": [],
   "source": [
    "auth = tweepy.OAuthHandler(consumer_key, consumer_secret)\n",
    "auth.set_access_token(access_key, access_secret)\n",
    "api = tweepy.API(auth)"
   ]
  },
  {
   "cell_type": "markdown",
   "metadata": {},
   "source": [
    "result_type : \n",
    "- mixed : include both popular and real time results in the response\n",
    "- recent : return only the most recent results in the response\n",
    "- popular : return only the most popular results in the response"
   ]
  },
  {
   "cell_type": "markdown",
   "metadata": {},
   "source": [
    "### to get several fields in the query  \n",
    "https://developer.twitter.com/en/docs/labs/recent-search/guides/search-queries"
   ]
  },
  {
   "cell_type": "code",
   "execution_count": 4,
   "metadata": {},
   "outputs": [],
   "source": [
    "all_tweets = []\n",
    "likes = []\n",
    "created = []\n",
    "author = []\n",
    "retweet = []\n",
    "url =[]\n",
    "search_terms = \"elonmusk\" and \"AngeloBTC\" and \"crypto currency\"\n",
    "\n",
    "for tweet in tweepy.Cursor(api.search, q=search_terms, tweet_mode='extended' , lang='en', \n",
    "                           result_type='mixed').items(300):\n",
    "    #print(dir(tweet))\n",
    "    author.append(tweet.author.name)\n",
    "    all_tweets.append(tweet.full_text)\n",
    "    likes.append(tweet.favorite_count)\n",
    "    retweet.append(tweet.retweet_count)\n",
    "    url.append(f\"https://twitter.com/{tweet.user.screen_name}/status/{tweet.id}\")\n",
    "    created.append(tweet.created_at)"
   ]
  },
  {
   "cell_type": "code",
   "execution_count": 5,
   "metadata": {
    "scrolled": true
   },
   "outputs": [],
   "source": [
    "df = pd.DataFrame({'author':author ,'tweets':all_tweets ,'likes':likes ,'retweet':retweet\n",
    "                   ,'url':url ,'times':created})"
   ]
  },
  {
   "cell_type": "code",
   "execution_count": 6,
   "metadata": {},
   "outputs": [],
   "source": [
    "df = df[~df.tweets.str.contains(\"RT\")]"
   ]
  },
  {
   "cell_type": "code",
   "execution_count": 7,
   "metadata": {
    "scrolled": true
   },
   "outputs": [],
   "source": [
    "df = df.sort_values(by=['likes'],ascending=False)"
   ]
  },
  {
   "cell_type": "code",
   "execution_count": 8,
   "metadata": {},
   "outputs": [],
   "source": [
    "df = df.reset_index(drop=True)"
   ]
  },
  {
   "cell_type": "raw",
   "metadata": {},
   "source": [
    "df['sentiment'] = df['tweets'].map(lambda txt: TextBlob(txt).sentiment.polarity)"
   ]
  },
  {
   "cell_type": "code",
   "execution_count": 9,
   "metadata": {},
   "outputs": [],
   "source": [
    "def getTextPolarity(txt):\n",
    "    return TextBlob(txt).sentiment.polarity"
   ]
  },
  {
   "cell_type": "code",
   "execution_count": 10,
   "metadata": {},
   "outputs": [],
   "source": [
    "def getTextSubjectivity(txt):\n",
    "    return TextBlob(txt).sentiment.subjectivity"
   ]
  },
  {
   "cell_type": "code",
   "execution_count": 11,
   "metadata": {},
   "outputs": [],
   "source": [
    "df['Polarity'] = df['tweets'].apply(getTextPolarity)\n",
    "df['Subjectivity'] = df['tweets'].apply(getTextSubjectivity)"
   ]
  },
  {
   "cell_type": "code",
   "execution_count": 12,
   "metadata": {},
   "outputs": [
    {
     "data": {
      "text/html": [
       "<div>\n",
       "<style scoped>\n",
       "    .dataframe tbody tr th:only-of-type {\n",
       "        vertical-align: middle;\n",
       "    }\n",
       "\n",
       "    .dataframe tbody tr th {\n",
       "        vertical-align: top;\n",
       "    }\n",
       "\n",
       "    .dataframe thead th {\n",
       "        text-align: right;\n",
       "    }\n",
       "</style>\n",
       "<table border=\"1\" class=\"dataframe\">\n",
       "  <thead>\n",
       "    <tr style=\"text-align: right;\">\n",
       "      <th></th>\n",
       "      <th>author</th>\n",
       "      <th>tweets</th>\n",
       "      <th>likes</th>\n",
       "      <th>retweet</th>\n",
       "      <th>url</th>\n",
       "      <th>times</th>\n",
       "      <th>Polarity</th>\n",
       "      <th>Subjectivity</th>\n",
       "    </tr>\n",
       "  </thead>\n",
       "  <tbody>\n",
       "    <tr>\n",
       "      <th>0</th>\n",
       "      <td>s1l3ntMOON</td>\n",
       "      <td>Not going to lie #SAFEMOON\\nIf we can eventual...</td>\n",
       "      <td>276</td>\n",
       "      <td>56</td>\n",
       "      <td>https://twitter.com/bott_mitch/status/13835595...</td>\n",
       "      <td>2021-04-17 23:14:32</td>\n",
       "      <td>0.000000</td>\n",
       "      <td>0.000000</td>\n",
       "    </tr>\n",
       "    <tr>\n",
       "      <th>1</th>\n",
       "      <td>NPR</td>\n",
       "      <td>Coinbase, a San Francisco startup that allows ...</td>\n",
       "      <td>120</td>\n",
       "      <td>27</td>\n",
       "      <td>https://twitter.com/NPR/status/138356227213659...</td>\n",
       "      <td>2021-04-17 23:25:25</td>\n",
       "      <td>0.062500</td>\n",
       "      <td>0.205000</td>\n",
       "    </tr>\n",
       "    <tr>\n",
       "      <th>2</th>\n",
       "      <td>The Economist</td>\n",
       "      <td>As crypto-marketplace Coinbase prepares to lis...</td>\n",
       "      <td>55</td>\n",
       "      <td>11</td>\n",
       "      <td>https://twitter.com/TheEconomist/status/138378...</td>\n",
       "      <td>2021-04-18 13:52:05</td>\n",
       "      <td>-0.166667</td>\n",
       "      <td>0.333333</td>\n",
       "    </tr>\n",
       "    <tr>\n",
       "      <th>3</th>\n",
       "      <td>Sebastian</td>\n",
       "      <td>Not many people realize the importance of Fung...</td>\n",
       "      <td>32</td>\n",
       "      <td>4</td>\n",
       "      <td>https://twitter.com/cetaphobic297/status/13835...</td>\n",
       "      <td>2021-04-17 21:49:36</td>\n",
       "      <td>0.116667</td>\n",
       "      <td>0.166667</td>\n",
       "    </tr>\n",
       "    <tr>\n",
       "      <th>4</th>\n",
       "      <td>New Civil Liberties Alliance</td>\n",
       "      <td>Hey #crypto hodlers! Are you okay with this? T...</td>\n",
       "      <td>26</td>\n",
       "      <td>15</td>\n",
       "      <td>https://twitter.com/NCLAlegal/status/138357561...</td>\n",
       "      <td>2021-04-18 00:18:26</td>\n",
       "      <td>0.125000</td>\n",
       "      <td>0.343750</td>\n",
       "    </tr>\n",
       "    <tr>\n",
       "      <th>...</th>\n",
       "      <td>...</td>\n",
       "      <td>...</td>\n",
       "      <td>...</td>\n",
       "      <td>...</td>\n",
       "      <td>...</td>\n",
       "      <td>...</td>\n",
       "      <td>...</td>\n",
       "      <td>...</td>\n",
       "    </tr>\n",
       "    <tr>\n",
       "      <th>120</th>\n",
       "      <td>XRPtime [lightning fast⚡borderless👽]</td>\n",
       "      <td>@Nassel11 @Holly07428872 @novogratz @Railroade...</td>\n",
       "      <td>0</td>\n",
       "      <td>0</td>\n",
       "      <td>https://twitter.com/PtimeXr/status/13835604874...</td>\n",
       "      <td>2021-04-17 23:18:20</td>\n",
       "      <td>-0.333333</td>\n",
       "      <td>0.866667</td>\n",
       "    </tr>\n",
       "    <tr>\n",
       "      <th>121</th>\n",
       "      <td>XRPtime [lightning fast⚡borderless👽]</td>\n",
       "      <td>@Nassel11 @Holly07428872 @novogratz @Railroade...</td>\n",
       "      <td>0</td>\n",
       "      <td>0</td>\n",
       "      <td>https://twitter.com/PtimeXr/status/13835524011...</td>\n",
       "      <td>2021-04-17 22:46:12</td>\n",
       "      <td>0.000000</td>\n",
       "      <td>0.000000</td>\n",
       "    </tr>\n",
       "    <tr>\n",
       "      <th>122</th>\n",
       "      <td>Peter Kevin Doyle</td>\n",
       "      <td>Mark Cuban on his cryptocurrency portfolio: 'I...</td>\n",
       "      <td>0</td>\n",
       "      <td>0</td>\n",
       "      <td>https://twitter.com/PeterKevinDoyle/status/138...</td>\n",
       "      <td>2021-04-17 22:47:20</td>\n",
       "      <td>0.475000</td>\n",
       "      <td>0.825000</td>\n",
       "    </tr>\n",
       "    <tr>\n",
       "      <th>123</th>\n",
       "      <td>Mark Vick</td>\n",
       "      <td>@GerberKawasaki Can't we use a crypto currency...</td>\n",
       "      <td>0</td>\n",
       "      <td>0</td>\n",
       "      <td>https://twitter.com/MarkWVick/status/138355307...</td>\n",
       "      <td>2021-04-17 22:48:52</td>\n",
       "      <td>0.500000</td>\n",
       "      <td>0.500000</td>\n",
       "    </tr>\n",
       "    <tr>\n",
       "      <th>124</th>\n",
       "      <td>Richer4Ever</td>\n",
       "      <td>Blog post reveals the actual precise system wh...</td>\n",
       "      <td>0</td>\n",
       "      <td>0</td>\n",
       "      <td>https://twitter.com/Richer4Ever/status/1383551...</td>\n",
       "      <td>2021-04-17 22:41:29</td>\n",
       "      <td>0.340000</td>\n",
       "      <td>0.560000</td>\n",
       "    </tr>\n",
       "  </tbody>\n",
       "</table>\n",
       "<p>125 rows × 8 columns</p>\n",
       "</div>"
      ],
      "text/plain": [
       "                                   author  \\\n",
       "0                              s1l3ntMOON   \n",
       "1                                     NPR   \n",
       "2                           The Economist   \n",
       "3                               Sebastian   \n",
       "4            New Civil Liberties Alliance   \n",
       "..                                    ...   \n",
       "120  XRPtime [lightning fast⚡borderless👽]   \n",
       "121  XRPtime [lightning fast⚡borderless👽]   \n",
       "122                     Peter Kevin Doyle   \n",
       "123                             Mark Vick   \n",
       "124                           Richer4Ever   \n",
       "\n",
       "                                                tweets  likes  retweet  \\\n",
       "0    Not going to lie #SAFEMOON\\nIf we can eventual...    276       56   \n",
       "1    Coinbase, a San Francisco startup that allows ...    120       27   \n",
       "2    As crypto-marketplace Coinbase prepares to lis...     55       11   \n",
       "3    Not many people realize the importance of Fung...     32        4   \n",
       "4    Hey #crypto hodlers! Are you okay with this? T...     26       15   \n",
       "..                                                 ...    ...      ...   \n",
       "120  @Nassel11 @Holly07428872 @novogratz @Railroade...      0        0   \n",
       "121  @Nassel11 @Holly07428872 @novogratz @Railroade...      0        0   \n",
       "122  Mark Cuban on his cryptocurrency portfolio: 'I...      0        0   \n",
       "123  @GerberKawasaki Can't we use a crypto currency...      0        0   \n",
       "124  Blog post reveals the actual precise system wh...      0        0   \n",
       "\n",
       "                                                   url               times  \\\n",
       "0    https://twitter.com/bott_mitch/status/13835595... 2021-04-17 23:14:32   \n",
       "1    https://twitter.com/NPR/status/138356227213659... 2021-04-17 23:25:25   \n",
       "2    https://twitter.com/TheEconomist/status/138378... 2021-04-18 13:52:05   \n",
       "3    https://twitter.com/cetaphobic297/status/13835... 2021-04-17 21:49:36   \n",
       "4    https://twitter.com/NCLAlegal/status/138357561... 2021-04-18 00:18:26   \n",
       "..                                                 ...                 ...   \n",
       "120  https://twitter.com/PtimeXr/status/13835604874... 2021-04-17 23:18:20   \n",
       "121  https://twitter.com/PtimeXr/status/13835524011... 2021-04-17 22:46:12   \n",
       "122  https://twitter.com/PeterKevinDoyle/status/138... 2021-04-17 22:47:20   \n",
       "123  https://twitter.com/MarkWVick/status/138355307... 2021-04-17 22:48:52   \n",
       "124  https://twitter.com/Richer4Ever/status/1383551... 2021-04-17 22:41:29   \n",
       "\n",
       "     Polarity  Subjectivity  \n",
       "0    0.000000      0.000000  \n",
       "1    0.062500      0.205000  \n",
       "2   -0.166667      0.333333  \n",
       "3    0.116667      0.166667  \n",
       "4    0.125000      0.343750  \n",
       "..        ...           ...  \n",
       "120 -0.333333      0.866667  \n",
       "121  0.000000      0.000000  \n",
       "122  0.475000      0.825000  \n",
       "123  0.500000      0.500000  \n",
       "124  0.340000      0.560000  \n",
       "\n",
       "[125 rows x 8 columns]"
      ]
     },
     "execution_count": 12,
     "metadata": {},
     "output_type": "execute_result"
    }
   ],
   "source": [
    "df"
   ]
  },
  {
   "cell_type": "markdown",
   "metadata": {},
   "source": [
    "# Test Algo 2 "
   ]
  },
  {
   "cell_type": "code",
   "execution_count": 13,
   "metadata": {},
   "outputs": [],
   "source": [
    "def get_tweets(keyword):\n",
    "    all_tweets = []\n",
    "    for tweet in tweepy.Cursor(api.search, q=keyword, tweet_mode='extended' , lang='en').items(100):\n",
    "        all_tweets.append(tweet.full_text)\n",
    "    return all_tweets"
   ]
  },
  {
   "cell_type": "code",
   "execution_count": 14,
   "metadata": {},
   "outputs": [],
   "source": [
    "def clean_tweets(all_tweets):\n",
    "    tweets_clean = []\n",
    "    for tweet in all_tweets:\n",
    "        tweets_clean.append(p.clean(tweet))\n",
    "        \n",
    "    return tweets_clean"
   ]
  },
  {
   "cell_type": "code",
   "execution_count": 15,
   "metadata": {},
   "outputs": [],
   "source": [
    "def sentiment_tweet(all_tweets):\n",
    "    sentiment_scores = []\n",
    "    for tweet in all_tweets:\n",
    "        blob = TextBlob(tweet)\n",
    "        sentiment_scores.append(blob.sentiment.polarity)\n",
    "    return sentiment_scores"
   ]
  },
  {
   "cell_type": "markdown",
   "metadata": {},
   "source": [
    "## Main "
   ]
  },
  {
   "cell_type": "raw",
   "metadata": {},
   "source": [
    "if __name__ == \"__main__\":\n",
    "    \n",
    "    allInfluence =[\"elonmusk\",\"AngeloBTC\"]\n",
    "    recoverTweets = get_tweets(\"crypto currencies\")\n",
    "    cleanTweets = clean_tweets(recoverTweets)\n",
    "    sentimentTweet = sentiment_tweet(cleanTweets)\n",
    "    \n",
    "    print(\"------------------------------------------------\")\n",
    "    print(\"Les tweets ne sont pas cleans\\n\")\n",
    "    print(recoverTweets)\n",
    "    \n",
    "    print(\"------------------------------------------------\")\n",
    "    print(\"Les Tweets sont clean\\n\")\n",
    "    print(cleanTweets)\n",
    "    \n",
    "    print(\"------------------------------------------------\")\n",
    "    print(\"Sentiment des tweets\\n\")\n",
    "    print(sentimentTweet)\n",
    "    \n",
    "    "
   ]
  }
 ],
 "metadata": {
  "kernelspec": {
   "display_name": "Python 3",
   "language": "python",
   "name": "python3"
  },
  "language_info": {
   "codemirror_mode": {
    "name": "ipython",
    "version": 3
   },
   "file_extension": ".py",
   "mimetype": "text/x-python",
   "name": "python",
   "nbconvert_exporter": "python",
   "pygments_lexer": "ipython3",
   "version": "3.7.4"
  }
 },
 "nbformat": 4,
 "nbformat_minor": 4
}
