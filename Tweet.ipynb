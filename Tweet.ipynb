{
 "cells": [
  {
   "cell_type": "markdown",
   "metadata": {},
   "source": [
    "# <center> Twitter </center>"
   ]
  },
  {
   "cell_type": "markdown",
   "metadata": {},
   "source": [
    "Recover tweet about crypto-currency"
   ]
  },
  {
   "cell_type": "markdown",
   "metadata": {},
   "source": [
    "## Import of libraries "
   ]
  },
  {
   "cell_type": "code",
   "execution_count": 1,
   "metadata": {},
   "outputs": [],
   "source": [
    "import tweepy\n",
    "import csv\n",
    "import pandas as pd\n",
    "import csv\n",
    "import re \n",
    "import string\n",
    "import preprocessor as p\n",
    "from textblob import TextBlob"
   ]
  },
  {
   "cell_type": "markdown",
   "metadata": {},
   "source": [
    "## Algorithmes"
   ]
  },
  {
   "cell_type": "code",
   "execution_count": 3,
   "metadata": {},
   "outputs": [],
   "source": [
    "auth = tweepy.OAuthHandler(consumer_key, consumer_secret)\n",
    "auth.set_access_token(access_key, access_secret)\n",
    "api = tweepy.API(auth)"
   ]
  },
  {
   "cell_type": "markdown",
   "metadata": {},
   "source": [
    "result_type : \n",
    "- mixed : include both popular and real time results in the response\n",
    "- recent : return only the most recent results in the response\n",
    "- popular : return only the most popular results in the response"
   ]
  },
  {
   "cell_type": "markdown",
   "metadata": {},
   "source": [
    "### to get several fields in the query  \n",
    "https://developer.twitter.com/en/docs/labs/recent-search/guides/search-queries"
   ]
  },
  {
   "cell_type": "code",
   "execution_count": 50,
   "metadata": {},
   "outputs": [],
   "source": [
    "all_tweets = []\n",
    "likes = []\n",
    "created = []\n",
    "author = []\n",
    "retweet = []\n",
    "url =[]\n",
    "search_terms = \"elonmusk\" and \"AngeloBTC\" and \"crypto currency\"\n",
    "\n",
    "for tweet in tweepy.Cursor(api.search, q=search_terms, tweet_mode='extended' , lang='en', \n",
    "                           result_type='mixed').items(300):\n",
    "    #print(dir(tweet))\n",
    "    author.append(tweet.author.name)\n",
    "    all_tweets.append(tweet.full_text)\n",
    "    likes.append(tweet.favorite_count)\n",
    "    retweet.append(tweet.retweet_count)\n",
    "    url.append(f\"https://twitter.com/{tweet.user.screen_name}/status/{tweet.id}\")\n",
    "    created.append(tweet.created_at)"
   ]
  },
  {
   "cell_type": "code",
   "execution_count": 51,
   "metadata": {
    "scrolled": true
   },
   "outputs": [],
   "source": [
    "df = pd.DataFrame({'author':author ,'tweets':all_tweets ,'likes':likes ,'retweet':retweet\n",
    "                   ,'url':url ,'times':created})"
   ]
  },
  {
   "cell_type": "code",
   "execution_count": 52,
   "metadata": {},
   "outputs": [],
   "source": [
    "df = df[~df.tweets.str.contains(\"RT\")]"
   ]
  },
  {
   "cell_type": "code",
   "execution_count": 53,
   "metadata": {
    "scrolled": true
   },
   "outputs": [],
   "source": [
    "df = df.sort_values(by=['likes'],ascending=False)"
   ]
  },
  {
   "cell_type": "code",
   "execution_count": 54,
   "metadata": {},
   "outputs": [],
   "source": [
    "df = df.reset_index(drop=True)"
   ]
  },
  {
   "cell_type": "raw",
   "metadata": {},
   "source": [
    "df['sentiment'] = df['tweets'].map(lambda txt: TextBlob(txt).sentiment.polarity)"
   ]
  },
  {
   "cell_type": "code",
   "execution_count": 55,
   "metadata": {},
   "outputs": [],
   "source": [
    "def getTextPolarity(txt):\n",
    "    return TextBlob(txt).sentiment.polarity"
   ]
  },
  {
   "cell_type": "code",
   "execution_count": 56,
   "metadata": {},
   "outputs": [],
   "source": [
    "def getTextSubjectivity(txt):\n",
    "    return TextBlob(txt).sentiment.subjectivity"
   ]
  },
  {
   "cell_type": "code",
   "execution_count": 57,
   "metadata": {},
   "outputs": [],
   "source": [
    "df['Polarity'] = df['tweets'].apply(getTextPolarity)\n",
    "df['Subjectivity'] = df['tweets'].apply(getTextSubjectivity)"
   ]
  },
  {
   "cell_type": "code",
   "execution_count": 58,
   "metadata": {},
   "outputs": [
    {
     "data": {
      "text/html": [
       "<div>\n",
       "<style scoped>\n",
       "    .dataframe tbody tr th:only-of-type {\n",
       "        vertical-align: middle;\n",
       "    }\n",
       "\n",
       "    .dataframe tbody tr th {\n",
       "        vertical-align: top;\n",
       "    }\n",
       "\n",
       "    .dataframe thead th {\n",
       "        text-align: right;\n",
       "    }\n",
       "</style>\n",
       "<table border=\"1\" class=\"dataframe\">\n",
       "  <thead>\n",
       "    <tr style=\"text-align: right;\">\n",
       "      <th></th>\n",
       "      <th>author</th>\n",
       "      <th>tweets</th>\n",
       "      <th>likes</th>\n",
       "      <th>retweet</th>\n",
       "      <th>url</th>\n",
       "      <th>times</th>\n",
       "      <th>Polarity</th>\n",
       "      <th>Subjectivity</th>\n",
       "    </tr>\n",
       "  </thead>\n",
       "  <tbody>\n",
       "    <tr>\n",
       "      <th>0</th>\n",
       "      <td>Pentoshi 🐧wont DM you ltc to 1000</td>\n",
       "      <td>This community is beautiful. Angelo doesn’t sa...</td>\n",
       "      <td>58</td>\n",
       "      <td>0</td>\n",
       "      <td>https://twitter.com/Pentosh1/status/1381954783...</td>\n",
       "      <td>2021-04-13 12:57:50</td>\n",
       "      <td>0.487500</td>\n",
       "      <td>0.650000</td>\n",
       "    </tr>\n",
       "    <tr>\n",
       "      <th>1</th>\n",
       "      <td>Dennahz</td>\n",
       "      <td>We recently decided to give money to a couple ...</td>\n",
       "      <td>25</td>\n",
       "      <td>0</td>\n",
       "      <td>https://twitter.com/Dennahz/status/13822857512...</td>\n",
       "      <td>2021-04-14 10:52:59</td>\n",
       "      <td>0.300000</td>\n",
       "      <td>0.466667</td>\n",
       "    </tr>\n",
       "    <tr>\n",
       "      <th>2</th>\n",
       "      <td>Nathaniel Whittemore</td>\n",
       "      <td>Epic. https://t.co/chFrYoO9XP</td>\n",
       "      <td>17</td>\n",
       "      <td>1</td>\n",
       "      <td>https://twitter.com/nlw/status/138212946791360...</td>\n",
       "      <td>2021-04-14 00:31:58</td>\n",
       "      <td>0.100000</td>\n",
       "      <td>0.400000</td>\n",
       "    </tr>\n",
       "    <tr>\n",
       "      <th>3</th>\n",
       "      <td>The Crypto Monk ⛩️</td>\n",
       "      <td>@AngeloBTC You dropped this, king 👑</td>\n",
       "      <td>17</td>\n",
       "      <td>0</td>\n",
       "      <td>https://twitter.com/thecryptomonk/status/13819...</td>\n",
       "      <td>2021-04-13 13:01:33</td>\n",
       "      <td>0.000000</td>\n",
       "      <td>0.000000</td>\n",
       "    </tr>\n",
       "    <tr>\n",
       "      <th>4</th>\n",
       "      <td>Alice</td>\n",
       "      <td>@AngeloBTC #1 again</td>\n",
       "      <td>12</td>\n",
       "      <td>0</td>\n",
       "      <td>https://twitter.com/Alice_comfy/status/1381971...</td>\n",
       "      <td>2021-04-13 14:04:44</td>\n",
       "      <td>0.000000</td>\n",
       "      <td>0.000000</td>\n",
       "    </tr>\n",
       "    <tr>\n",
       "      <th>...</th>\n",
       "      <td>...</td>\n",
       "      <td>...</td>\n",
       "      <td>...</td>\n",
       "      <td>...</td>\n",
       "      <td>...</td>\n",
       "      <td>...</td>\n",
       "      <td>...</td>\n",
       "      <td>...</td>\n",
       "    </tr>\n",
       "    <tr>\n",
       "      <th>147</th>\n",
       "      <td>Pseudonym Bacon</td>\n",
       "      <td>And this person in particular...\\n\\nhttps://t....</td>\n",
       "      <td>0</td>\n",
       "      <td>0</td>\n",
       "      <td>https://twitter.com/BaconPDX/status/1382199121...</td>\n",
       "      <td>2021-04-14 05:08:45</td>\n",
       "      <td>0.166667</td>\n",
       "      <td>0.333333</td>\n",
       "    </tr>\n",
       "    <tr>\n",
       "      <th>148</th>\n",
       "      <td>Cryptohero 🌖</td>\n",
       "      <td>We have to celebrate the $BTC all-time-high wi...</td>\n",
       "      <td>0</td>\n",
       "      <td>1</td>\n",
       "      <td>https://twitter.com/Cryptoherooo/status/138221...</td>\n",
       "      <td>2021-04-14 06:24:43</td>\n",
       "      <td>0.000000</td>\n",
       "      <td>0.000000</td>\n",
       "    </tr>\n",
       "    <tr>\n",
       "      <th>149</th>\n",
       "      <td>Elijah</td>\n",
       "      <td>@AngeloBTC I'm always short BTC on FTX, but I'...</td>\n",
       "      <td>0</td>\n",
       "      <td>0</td>\n",
       "      <td>https://twitter.com/Elijah10074018/status/1382...</td>\n",
       "      <td>2021-04-14 06:32:10</td>\n",
       "      <td>-0.125000</td>\n",
       "      <td>0.350000</td>\n",
       "    </tr>\n",
       "    <tr>\n",
       "      <th>150</th>\n",
       "      <td>Trader Fred</td>\n",
       "      <td>@MustacheTommy @AngeloBTC Market cares not abo...</td>\n",
       "      <td>0</td>\n",
       "      <td>0</td>\n",
       "      <td>https://twitter.com/DCA_Cryptoz/status/1382228...</td>\n",
       "      <td>2021-04-14 07:06:03</td>\n",
       "      <td>0.068182</td>\n",
       "      <td>0.727273</td>\n",
       "    </tr>\n",
       "    <tr>\n",
       "      <th>151</th>\n",
       "      <td>smina6. #HODL</td>\n",
       "      <td>@AngeloBTC Respect💚💚🥰</td>\n",
       "      <td>0</td>\n",
       "      <td>0</td>\n",
       "      <td>https://twitter.com/Smina6/status/138195349951...</td>\n",
       "      <td>2021-04-13 12:52:44</td>\n",
       "      <td>0.000000</td>\n",
       "      <td>0.000000</td>\n",
       "    </tr>\n",
       "  </tbody>\n",
       "</table>\n",
       "<p>152 rows × 8 columns</p>\n",
       "</div>"
      ],
      "text/plain": [
       "                                author  \\\n",
       "0    Pentoshi 🐧wont DM you ltc to 1000   \n",
       "1                              Dennahz   \n",
       "2                 Nathaniel Whittemore   \n",
       "3                   The Crypto Monk ⛩️   \n",
       "4                                Alice   \n",
       "..                                 ...   \n",
       "147                    Pseudonym Bacon   \n",
       "148                       Cryptohero 🌖   \n",
       "149                             Elijah   \n",
       "150                        Trader Fred   \n",
       "151                      smina6. #HODL   \n",
       "\n",
       "                                                tweets  likes  retweet  \\\n",
       "0    This community is beautiful. Angelo doesn’t sa...     58        0   \n",
       "1    We recently decided to give money to a couple ...     25        0   \n",
       "2                        Epic. https://t.co/chFrYoO9XP     17        1   \n",
       "3                  @AngeloBTC You dropped this, king 👑     17        0   \n",
       "4                                  @AngeloBTC #1 again     12        0   \n",
       "..                                                 ...    ...      ...   \n",
       "147  And this person in particular...\\n\\nhttps://t....      0        0   \n",
       "148  We have to celebrate the $BTC all-time-high wi...      0        1   \n",
       "149  @AngeloBTC I'm always short BTC on FTX, but I'...      0        0   \n",
       "150  @MustacheTommy @AngeloBTC Market cares not abo...      0        0   \n",
       "151                              @AngeloBTC Respect💚💚🥰      0        0   \n",
       "\n",
       "                                                   url               times  \\\n",
       "0    https://twitter.com/Pentosh1/status/1381954783... 2021-04-13 12:57:50   \n",
       "1    https://twitter.com/Dennahz/status/13822857512... 2021-04-14 10:52:59   \n",
       "2    https://twitter.com/nlw/status/138212946791360... 2021-04-14 00:31:58   \n",
       "3    https://twitter.com/thecryptomonk/status/13819... 2021-04-13 13:01:33   \n",
       "4    https://twitter.com/Alice_comfy/status/1381971... 2021-04-13 14:04:44   \n",
       "..                                                 ...                 ...   \n",
       "147  https://twitter.com/BaconPDX/status/1382199121... 2021-04-14 05:08:45   \n",
       "148  https://twitter.com/Cryptoherooo/status/138221... 2021-04-14 06:24:43   \n",
       "149  https://twitter.com/Elijah10074018/status/1382... 2021-04-14 06:32:10   \n",
       "150  https://twitter.com/DCA_Cryptoz/status/1382228... 2021-04-14 07:06:03   \n",
       "151  https://twitter.com/Smina6/status/138195349951... 2021-04-13 12:52:44   \n",
       "\n",
       "     Polarity  Subjectivity  \n",
       "0    0.487500      0.650000  \n",
       "1    0.300000      0.466667  \n",
       "2    0.100000      0.400000  \n",
       "3    0.000000      0.000000  \n",
       "4    0.000000      0.000000  \n",
       "..        ...           ...  \n",
       "147  0.166667      0.333333  \n",
       "148  0.000000      0.000000  \n",
       "149 -0.125000      0.350000  \n",
       "150  0.068182      0.727273  \n",
       "151  0.000000      0.000000  \n",
       "\n",
       "[152 rows x 8 columns]"
      ]
     },
     "execution_count": 58,
     "metadata": {},
     "output_type": "execute_result"
    }
   ],
   "source": [
    "df"
   ]
  },
  {
   "cell_type": "markdown",
   "metadata": {},
   "source": [
    "# Test Algo 2 "
   ]
  },
  {
   "cell_type": "code",
   "execution_count": 12,
   "metadata": {},
   "outputs": [],
   "source": [
    "def get_tweets(keyword):\n",
    "    all_tweets = []\n",
    "    for tweet in tweepy.Cursor(api.search, q=keyword, tweet_mode='extended' , lang='en').items(100):\n",
    "        all_tweets.append(tweet.full_text)\n",
    "    return all_tweets"
   ]
  },
  {
   "cell_type": "code",
   "execution_count": 13,
   "metadata": {},
   "outputs": [],
   "source": [
    "def clean_tweets(all_tweets):\n",
    "    tweets_clean = []\n",
    "    for tweet in all_tweets:\n",
    "        tweets_clean.append(p.clean(tweet))\n",
    "        \n",
    "    return tweets_clean"
   ]
  },
  {
   "cell_type": "code",
   "execution_count": 14,
   "metadata": {},
   "outputs": [],
   "source": [
    "def sentiment_tweet(all_tweets):\n",
    "    sentiment_scores = []\n",
    "    for tweet in all_tweets:\n",
    "        blob = TextBlob(tweet)\n",
    "        sentiment_scores.append(blob.sentiment.polarity)\n",
    "    return sentiment_scores"
   ]
  },
  {
   "cell_type": "markdown",
   "metadata": {},
   "source": [
    "## Main "
   ]
  },
  {
   "cell_type": "raw",
   "metadata": {},
   "source": [
    "if __name__ == \"__main__\":\n",
    "    \n",
    "    allInfluence =[\"elonmusk\",\"AngeloBTC\"]\n",
    "    recoverTweets = get_tweets(\"crypto currencies\")\n",
    "    cleanTweets = clean_tweets(recoverTweets)\n",
    "    sentimentTweet = sentiment_tweet(cleanTweets)\n",
    "    \n",
    "    print(\"------------------------------------------------\")\n",
    "    print(\"Les tweets ne sont pas cleans\\n\")\n",
    "    print(recoverTweets)\n",
    "    \n",
    "    print(\"------------------------------------------------\")\n",
    "    print(\"Les Tweets sont clean\\n\")\n",
    "    print(cleanTweets)\n",
    "    \n",
    "    print(\"------------------------------------------------\")\n",
    "    print(\"Sentiment des tweets\\n\")\n",
    "    print(sentimentTweet)\n",
    "    \n",
    "    "
   ]
  }
 ],
 "metadata": {
  "kernelspec": {
   "display_name": "Python 3",
   "language": "python",
   "name": "python3"
  },
  "language_info": {
   "codemirror_mode": {
    "name": "ipython",
    "version": 3
   },
   "file_extension": ".py",
   "mimetype": "text/x-python",
   "name": "python",
   "nbconvert_exporter": "python",
   "pygments_lexer": "ipython3",
   "version": "3.7.4"
  }
 },
 "nbformat": 4,
 "nbformat_minor": 4
}
