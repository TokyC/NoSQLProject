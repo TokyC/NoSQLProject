{
 "cells": [
  {
   "cell_type": "code",
   "execution_count": 6,
   "id": "vital-raleigh",
   "metadata": {
    "scrolled": true
   },
   "outputs": [
    {
     "name": "stdout",
     "output_type": "stream",
     "text": [
      "Requirement already satisfied: GoogleNews in c:\\python38\\lib\\site-packages (1.5.7)\n",
      "Requirement already satisfied: python-dateutil in c:\\users\\toky cedric\\appdata\\roaming\\python\\python38\\site-packages (from GoogleNews) (2.8.1)\n",
      "Requirement already satisfied: dateparser in c:\\python38\\lib\\site-packages (from GoogleNews) (1.0.0)\n",
      "Requirement already satisfied: beautifulsoup4 in c:\\users\\toky cedric\\appdata\\roaming\\python\\python38\\site-packages (from GoogleNews) (4.9.3)\n",
      "Requirement already satisfied: soupsieve>1.2 in c:\\users\\toky cedric\\appdata\\roaming\\python\\python38\\site-packages (from beautifulsoup4->GoogleNews) (2.0.1)\n",
      "Requirement already satisfied: pytz in c:\\users\\toky cedric\\appdata\\roaming\\python\\python38\\site-packages (from dateparser->GoogleNews) (2020.4)\n",
      "Requirement already satisfied: regex!=2019.02.19 in c:\\python38\\lib\\site-packages (from dateparser->GoogleNews) (2021.4.4)\n",
      "Requirement already satisfied: tzlocal in c:\\python38\\lib\\site-packages (from dateparser->GoogleNews) (2.1)\n",
      "Requirement already satisfied: six>=1.5 in c:\\python38\\lib\\site-packages (from python-dateutil->GoogleNews) (1.15.0)\n",
      "Collecting newspaper3k\n",
      "  Using cached newspaper3k-0.2.8-py3-none-any.whl (211 kB)\n",
      "Collecting feedfinder2>=0.0.4\n",
      "  Using cached feedfinder2-0.0.4.tar.gz (3.3 kB)\n",
      "Collecting feedparser>=5.2.1\n",
      "  Using cached feedparser-6.0.2-py3-none-any.whl (80 kB)\n",
      "Collecting tinysegmenter==0.3\n",
      "  Using cached tinysegmenter-0.3.tar.gz (16 kB)\n",
      "Collecting jieba3k>=0.35.1\n",
      "  Using cached jieba3k-0.35.1.zip (7.4 MB)\n",
      "Requirement already satisfied: Pillow>=3.3.0 in c:\\users\\toky cedric\\appdata\\roaming\\python\\python38\\site-packages (from newspaper3k) (8.0.1)\n",
      "Requirement already satisfied: lxml>=3.6.0 in c:\\python38\\lib\\site-packages (from newspaper3k) (4.6.1)\n",
      "Collecting tldextract>=2.0.1\n",
      "  Using cached tldextract-3.1.0-py2.py3-none-any.whl (87 kB)\n",
      "Requirement already satisfied: cssselect>=0.9.2 in c:\\python38\\lib\\site-packages (from newspaper3k) (1.1.0)\n",
      "Collecting PyYAML>=3.11\n",
      "  Using cached PyYAML-5.4.1-cp38-cp38-win_amd64.whl (213 kB)\n",
      "Requirement already satisfied: python-dateutil>=2.5.3 in c:\\users\\toky cedric\\appdata\\roaming\\python\\python38\\site-packages (from newspaper3k) (2.8.1)\n",
      "Requirement already satisfied: requests>=2.10.0 in c:\\users\\toky cedric\\appdata\\roaming\\python\\python38\\site-packages (from newspaper3k) (2.24.0)\n",
      "Requirement already satisfied: beautifulsoup4>=4.4.1 in c:\\users\\toky cedric\\appdata\\roaming\\python\\python38\\site-packages (from newspaper3k) (4.9.3)\n",
      "Collecting nltk>=3.2.1\n",
      "  Using cached nltk-3.6.2-py3-none-any.whl (1.5 MB)\n",
      "Requirement already satisfied: soupsieve>1.2 in c:\\users\\toky cedric\\appdata\\roaming\\python\\python38\\site-packages (from beautifulsoup4>=4.4.1->newspaper3k) (2.0.1)\n",
      "Requirement already satisfied: six in c:\\python38\\lib\\site-packages (from feedfinder2>=0.0.4->newspaper3k) (1.15.0)\n",
      "Collecting sgmllib3k\n",
      "  Using cached sgmllib3k-1.0.0.tar.gz (5.8 kB)\n",
      "Collecting joblib\n",
      "  Using cached joblib-1.0.1-py3-none-any.whl (303 kB)\n",
      "Requirement already satisfied: click in c:\\users\\toky cedric\\appdata\\roaming\\python\\python38\\site-packages (from nltk>=3.2.1->newspaper3k) (7.1.2)\n",
      "Requirement already satisfied: regex in c:\\python38\\lib\\site-packages (from nltk>=3.2.1->newspaper3k) (2021.4.4)\n",
      "Collecting tqdm\n",
      "  Using cached tqdm-4.60.0-py2.py3-none-any.whl (75 kB)\n",
      "Requirement already satisfied: chardet<4,>=3.0.2 in c:\\users\\toky cedric\\appdata\\roaming\\python\\python38\\site-packages (from requests>=2.10.0->newspaper3k) (3.0.4)\n",
      "Requirement already satisfied: certifi>=2017.4.17 in c:\\users\\toky cedric\\appdata\\roaming\\python\\python38\\site-packages (from requests>=2.10.0->newspaper3k) (2020.6.20)\n",
      "Requirement already satisfied: urllib3!=1.25.0,!=1.25.1,<1.26,>=1.21.1 in c:\\users\\toky cedric\\appdata\\roaming\\python\\python38\\site-packages (from requests>=2.10.0->newspaper3k) (1.25.11)\n",
      "Requirement already satisfied: idna<3,>=2.5 in c:\\python38\\lib\\site-packages (from requests>=2.10.0->newspaper3k) (2.10)\n",
      "Requirement already satisfied: filelock>=3.0.8 in c:\\python38\\lib\\site-packages (from tldextract>=2.0.1->newspaper3k) (3.0.12)\n",
      "Collecting requests-file>=1.4\n",
      "  Using cached requests_file-1.5.1-py2.py3-none-any.whl (3.7 kB)\n",
      "Using legacy 'setup.py install' for tinysegmenter, since package 'wheel' is not installed.\n",
      "Using legacy 'setup.py install' for feedfinder2, since package 'wheel' is not installed.\n",
      "Using legacy 'setup.py install' for jieba3k, since package 'wheel' is not installed.\n",
      "Using legacy 'setup.py install' for sgmllib3k, since package 'wheel' is not installed.\n",
      "Installing collected packages: tqdm, sgmllib3k, requests-file, joblib, tldextract, tinysegmenter, PyYAML, nltk, jieba3k, feedparser, feedfinder2, newspaper3k\n"
     ]
    },
    {
     "name": "stderr",
     "output_type": "stream",
     "text": [
      "  WARNING: Failed to write executable - trying to use .deleteme logic\n",
      "ERROR: Could not install packages due to an OSError: [WinError 2] Le fichier spécifié est introuvable: 'c:\\\\python38\\\\Scripts\\\\tqdm.exe' -> 'c:\\\\python38\\\\Scripts\\\\tqdm.exe.deleteme'\n",
      "\n"
     ]
    }
   ],
   "source": [
    "# Install a pip package in the current Jupyter kernel\n",
    "import sys\n",
    "!{sys.executable} -m pip install GoogleNews"
   ]
  },
  {
   "cell_type": "markdown",
   "id": "elect-edward",
   "metadata": {},
   "source": [
    "# Récupérer les données de Google News\n",
    "\n",
    "On import donc les packages important : "
   ]
  },
  {
   "cell_type": "code",
   "execution_count": 10,
   "id": "spread-jacket",
   "metadata": {},
   "outputs": [
    {
     "ename": "ModuleNotFoundError",
     "evalue": "No module named 'newspaper'",
     "output_type": "error",
     "traceback": [
      "\u001b[1;31m---------------------------------------------------------------------------\u001b[0m",
      "\u001b[1;31mModuleNotFoundError\u001b[0m                       Traceback (most recent call last)",
      "\u001b[1;32m<ipython-input-10-d787ca1e25d2>\u001b[0m in \u001b[0;36m<module>\u001b[1;34m\u001b[0m\n\u001b[0;32m      1\u001b[0m \u001b[1;32mfrom\u001b[0m \u001b[0mGoogleNews\u001b[0m \u001b[1;32mimport\u001b[0m  \u001b[0mGoogleNews\u001b[0m\u001b[1;33m\u001b[0m\u001b[1;33m\u001b[0m\u001b[0m\n\u001b[1;32m----> 2\u001b[1;33m \u001b[1;32mfrom\u001b[0m \u001b[0mnewspaper\u001b[0m \u001b[1;32mimport\u001b[0m \u001b[0mArticle\u001b[0m\u001b[1;33m\u001b[0m\u001b[1;33m\u001b[0m\u001b[0m\n\u001b[0m\u001b[0;32m      3\u001b[0m \u001b[1;32mimport\u001b[0m \u001b[0mpandas\u001b[0m \u001b[1;32mas\u001b[0m \u001b[0mpd\u001b[0m\u001b[1;33m\u001b[0m\u001b[1;33m\u001b[0m\u001b[0m\n",
      "\u001b[1;31mModuleNotFoundError\u001b[0m: No module named 'newspaper'"
     ]
    }
   ],
   "source": [
    "from GoogleNews import  GoogleNews\n",
    "from newspaper import Article\n",
    "import pandas as pd"
   ]
  },
  {
   "cell_type": "markdown",
   "id": "combined-abuse",
   "metadata": {},
   "source": [
    "On commence donc par récupérer les données pour tester.\n",
    "On prends les données entre le 22 avril 2020 et le 23 avril 2020"
   ]
  },
  {
   "cell_type": "code",
   "execution_count": 1,
   "id": "ahead-problem",
   "metadata": {},
   "outputs": [
    {
     "ename": "NameError",
     "evalue": "name 'GoogleNews' is not defined",
     "output_type": "error",
     "traceback": [
      "\u001b[1;31m---------------------------------------------------------------------------\u001b[0m",
      "\u001b[1;31mNameError\u001b[0m                                 Traceback (most recent call last)",
      "\u001b[1;32m<ipython-input-1-94bdf4e7e39a>\u001b[0m in \u001b[0;36m<module>\u001b[1;34m\u001b[0m\n\u001b[1;32m----> 1\u001b[1;33m \u001b[0mgooglenews\u001b[0m \u001b[1;33m=\u001b[0m \u001b[0mGoogleNews\u001b[0m\u001b[1;33m(\u001b[0m\u001b[0mstart\u001b[0m \u001b[1;33m=\u001b[0m \u001b[1;34m'22/04/2020'\u001b[0m\u001b[1;33m,\u001b[0m \u001b[0mend\u001b[0m \u001b[1;33m=\u001b[0m \u001b[1;34m'23/04/2020'\u001b[0m\u001b[1;33m)\u001b[0m\u001b[1;33m\u001b[0m\u001b[1;33m\u001b[0m\u001b[0m\n\u001b[0m\u001b[0;32m      2\u001b[0m \u001b[0mgooglenews\u001b[0m\u001b[1;33m.\u001b[0m\u001b[0msearch\u001b[0m\u001b[1;33m(\u001b[0m\u001b[1;34m'Bitcoins'\u001b[0m\u001b[1;33m)\u001b[0m\u001b[1;33m\u001b[0m\u001b[1;33m\u001b[0m\u001b[0m\n\u001b[0;32m      3\u001b[0m \u001b[0mresponse\u001b[0m \u001b[1;33m=\u001b[0m \u001b[0mgooglenews\u001b[0m\u001b[1;33m.\u001b[0m\u001b[0mresult\u001b[0m\u001b[1;33m(\u001b[0m\u001b[1;33m)\u001b[0m\u001b[1;33m\u001b[0m\u001b[1;33m\u001b[0m\u001b[0m\n\u001b[0;32m      4\u001b[0m \u001b[0mdf\u001b[0m \u001b[1;33m=\u001b[0m \u001b[0mpd\u001b[0m\u001b[1;33m.\u001b[0m\u001b[0mDataFrame\u001b[0m\u001b[1;33m(\u001b[0m\u001b[0mresponse\u001b[0m\u001b[1;33m)\u001b[0m\u001b[1;33m\u001b[0m\u001b[1;33m\u001b[0m\u001b[0m\n\u001b[0;32m      5\u001b[0m \u001b[0mprint\u001b[0m\u001b[1;33m(\u001b[0m\u001b[0mdf\u001b[0m\u001b[1;33m.\u001b[0m\u001b[0mhead\u001b[0m\u001b[1;33m(\u001b[0m\u001b[1;33m)\u001b[0m\u001b[1;33m)\u001b[0m\u001b[1;33m\u001b[0m\u001b[1;33m\u001b[0m\u001b[0m\n",
      "\u001b[1;31mNameError\u001b[0m: name 'GoogleNews' is not defined"
     ]
    }
   ],
   "source": [
    "googlenews = GoogleNews(start = '22/04/2020', end = '23/04/2020')\n",
    "googlenews.search('Bitcoins')\n",
    "response = googlenews.result()\n",
    "df = pd.DataFrame(response)\n",
    "print(df.head())"
   ]
  }
 ],
 "metadata": {
  "kernelspec": {
   "display_name": "Python 3",
   "language": "python",
   "name": "python3"
  },
  "language_info": {
   "codemirror_mode": {
    "name": "ipython",
    "version": 3
   },
   "file_extension": ".py",
   "mimetype": "text/x-python",
   "name": "python",
   "nbconvert_exporter": "python",
   "pygments_lexer": "ipython3",
   "version": "3.8.6"
  }
 },
 "nbformat": 4,
 "nbformat_minor": 5
}
